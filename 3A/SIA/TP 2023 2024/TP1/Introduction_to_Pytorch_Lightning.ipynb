{
 "cells": [
  {
   "cell_type": "markdown",
   "metadata": {
    "colab_type": "text",
    "id": "view-in-github"
   },
   "source": [
    "<a href=\"https://colab.research.google.com/github/thad75/TP-ENSEA-ELEVE/blob/main/3A/SIA/TP%202023%202024/TP1/Introduction_to_Pytorch_Lightning.ipynb\" target=\"_parent\"><img src=\"https://colab.research.google.com/assets/colab-badge.svg\" alt=\"Open In Colab\"/></a>"
   ]
  },
  {
   "cell_type": "code",
   "execution_count": null,
   "metadata": {
    "id": "CaGntICmaak1"
   },
   "outputs": [],
   "source": [
    "!pip install pytorch-lightning\n",
    "!pip install torch-summary"
   ]
  },
  {
   "cell_type": "code",
   "execution_count": null,
   "metadata": {
    "id": "gK84XoasrgAC"
   },
   "outputs": [],
   "source": [
    "import torch\n",
    "from torch import nn\n",
    "from torch.nn import functional as F\n",
    "from torch.utils.data import DataLoader\n",
    "from torch.utils.data import random_split\n",
    "from torchvision.datasets import FashionMNIST\n",
    "from torchvision import transforms\n",
    "from pytorch_lightning import loggers as pl_loggers\n",
    "import pytorch_lightning as pl\n",
    "import matplotlib.pyplot as plt\n",
    "import torchmetrics"
   ]
  },
  {
   "cell_type": "markdown",
   "metadata": {
    "id": "MO-y36fWCNZr"
   },
   "source": [
    "<a href=\"https://imgflip.com/i/81780o\"><img src=\"https://i.imgflip.com/81780o.jpg\" title=\"made at imgflip.com\"/></div>"
   ]
  },
  {
   "cell_type": "markdown",
   "metadata": {
    "id": "Yu-IgiEnanUm"
   },
   "source": [
    "# Pytorch-Lightning : Training made Easier\n",
    "\n",
    "Time : 4 hours\n",
    "\n",
    "In the Tutorial session, we used PyTorch to train different models for Binary Classification. In the tutorial, few things were done :\n",
    "\n",
    "\n",
    "*   We created a Training/Testing Loop and trained our models\n",
    "*   We created a Trainer Class to gather all loops to perform the Training/Testing.\n",
    "\n",
    "\n",
    "As you have seen, writing the training and testing loop can be quickly indigest. One can get easily lost.\n",
    "\n",
    "Let us introduce you Pytorch Lightning\n",
    "\n",
    "<img src=\"https://pypi-camo.global.ssl.fastly.net/8bfd70b3d9aaf6804f26582374e201ecfff288fe/68747470733a2f2f706c2d7075626c69632d646174612e73332e616d617a6f6e6177732e636f6d2f6173736574735f6c696768746e696e672f7079746f7263682d6c696768746e696e672e706e67\">\n",
    "\n",
    "\n",
    "Pytorch lightning will handle a lot of things for you. It creates a Trainer which is a Code Management trick used by many companies (Meta, Google..) in order to get much more digest code.\n",
    "\n",
    "\n",
    "More Information on : https://www.pytorchlightning.ai/\n",
    "\n",
    "Goal of this lab :\n",
    "\n",
    "* Use Pytorch Lightning for Training\n",
    "* Learn to use Pytorch-Lightning\n",
    "* Do classification on FashionMNIST, CIFAR-10\n"
   ]
  },
  {
   "cell_type": "markdown",
   "metadata": {
    "id": "H_cnXBS7boC7"
   },
   "source": [
    "# I - Classify Numbers using Lightning\n",
    "\n",
    "In this part, we will classify clothes.\n",
    "We will use the Lightning framework for code management. What's interesting about Lightning is that you can plug in your Torch modules without any modification."
   ]
  },
  {
   "cell_type": "markdown",
   "metadata": {
    "id": "2xBCfzUJcJO9"
   },
   "source": [
    "## a - LightningDataModule : FashionMNIST\n",
    "\n",
    "As you have seen in the Tutorial, you need to create your Dataset Class.\n",
    "\n",
    "As a reminder :    \n",
    " The Dataset class returns one sample of your dataset at a time. The main methods of the Dataset class are\n",
    "\n",
    "*   __getitem__ : which fetched a sample at a given index\n",
    "*   __len__ : which returns the len of the total dataset\n",
    "\n",
    "The Dataset is loaded into a DataLoader. That Dataloader is then used to **fetch and send data as batches** for your Model.\n",
    "\n",
    "You will see that using Lightning makes things clearer. LightningDataModule allows you to write cleaner Code and fit easily your data to your model.\n",
    "\n",
    "You can always, use the basic Pytorch Dataloader in a separate code."
   ]
  },
  {
   "cell_type": "markdown",
   "metadata": {
    "id": "xaDUVAFvqp5h"
   },
   "source": [
    "On the opposite of the Tutorial, the Dataset is already written by folks of Torchvision.\n",
    "* Fill in the blanks"
   ]
  },
  {
   "cell_type": "markdown",
   "metadata": {
    "id": "qrxvDv_8r9mU"
   },
   "source": [
    "### Exploratory Data Analysis : Discovering the Data\n",
    "\n",
    "First, when working on a task, we often explore the Data, to understand what it's about.\n",
    "Perform Exploratory Data Analysis on the MNIST Dataset :    \n",
    "\n",
    "1.   What type of Data do you have ? (Images, Texts, Sound..)\n",
    "2.   How many Data do you have ?\n",
    "3.   What's in a sample (1 element of the Dataset)\n",
    "4.   Is the Dataset umbalanced ?\n",
    "5.   What's the shape of any input sample ?\n",
    "6.   ....\n",
    "\n"
   ]
  },
  {
   "cell_type": "code",
   "execution_count": null,
   "metadata": {
    "id": "EDrwvhJAsEz_"
   },
   "outputs": [],
   "source": [
    "# Loading the Training Split of MNIST Dataset\n",
    "dataset_train  = FashionMNIST('', train=True, download=True)\n",
    "dataset_test = FashionMNIST('', train=False, download=True)"
   ]
  },
  {
   "cell_type": "code",
   "execution_count": null,
   "metadata": {
    "colab": {
     "base_uri": "https://localhost:8080/"
    },
    "id": "8vwYTFrhtZ43",
    "outputId": "3ef66830-7bd7-4f96-9dbc-40917fbe3df9"
   },
   "outputs": [],
   "source": [
    "# TODO : What's the length of the train and test split ?\n"
   ]
  },
  {
   "cell_type": "code",
   "execution_count": null,
   "metadata": {
    "colab": {
     "base_uri": "https://localhost:8080/"
    },
    "id": "IF-0t0ETt1Fa",
    "outputId": "d8fbc436-4601-4d53-cee5-e046526f8522"
   },
   "outputs": [],
   "source": [
    "# TODO : Retrieve one sample of the Dataset.\n",
    "sample = dataset[...]\n",
    "\n",
    "# TODO : What is in a sample ? Print the sample to understand\n",
    "print()"
   ]
  },
  {
   "cell_type": "code",
   "execution_count": null,
   "metadata": {
    "id": "pNqZ8DmhuDU0"
   },
   "outputs": [],
   "source": [
    "# TODO : Plot the image in the sample. Does it correspond to the second element of the sample ?\n",
    "\n",
    "plt.plot(...)"
   ]
  },
  {
   "cell_type": "code",
   "execution_count": null,
   "metadata": {
    "id": "QUYEXO0TuZ24"
   },
   "outputs": [],
   "source": [
    "# TODO : What's the shape of the input image.\n",
    "shape = ..."
   ]
  },
  {
   "cell_type": "markdown",
   "metadata": {
    "id": "PBDDrYrKlr8X"
   },
   "source": [
    "### Lightning DataModule : Dataset and DataLoader Embedded\n",
    "\n",
    "In order to perform EDA, we downloaded already downloaded the Datasets.Now we will load everything into a LightningDataModule class.\n",
    "\n",
    "Have a look at : https://pytorch.org/vision/stable/datasets.html"
   ]
  },
  {
   "cell_type": "code",
   "execution_count": null,
   "metadata": {
    "id": "HsUhr7BihqxX"
   },
   "outputs": [],
   "source": [
    "from torchvision.datasets.fakedata import FakeData\n",
    "class MNISTDataModule(pl.LightningDataModule):\n",
    "\n",
    "    def __init__(self):\n",
    "        super().__init__()\n",
    "        self.transform = transforms.Compose([transforms.ToTensor(), transforms.Normalize((0.1307,), (0.3081,))])\n",
    "        self.data_dir = ''\n",
    "        self.batch_size_train, self.batch_size_valid, self.batch_size_test = 32,32,32\n",
    "\n",
    "    def prepare_data(self):\n",
    "        # TODO : load the train and test dataset\n",
    "        FashionMNIST(self.data_dir, train=..., download=...)\n",
    "\n",
    "\n",
    "    def setup(self, stage):\n",
    "        #We need to setup our module. We have a training set that we will be fitting in our model\n",
    "        #and a testing set used to test our models prediction.\n",
    "        #the stage variable corresponds to those two steps :\n",
    "        #         |fit\n",
    "        # stage = <test\n",
    "        #         |None\n",
    "\n",
    "        #First stage is 'fit' (or None)\n",
    "        if stage == \"fit\" or stage is None:\n",
    "            # We create a validation split to watch the training.\n",
    "            # TODO : Which dataset do we load for training ?\n",
    "            mnist_dataset = FashionMNIST(self.data_dir, train=..., transform=self.transform)\n",
    "            train_size = int(0.8 * len(mnist_dataset))\n",
    "            test_size = len(dataset_train) - train_size\n",
    "            mnist_train, mnist_valid =  torch.utils.data.random_split(mnist_dataset, [train_size, test_size])\n",
    "            # TODO : Load the datasets as attributes of the Module. Don't forget you validation split\n",
    "            self.mnist_train, _ =\n",
    "\n",
    "        #Second stage is 'test'\n",
    "        if stage == \"test\" or stage is None:\n",
    "\n",
    "            self.mnist_test = FashionMNIST(self.data_dir, train=False, transform=self.transform)\n",
    "            # Question : What additional set can we create ? Why ?\n",
    "\n",
    "    def train_dataloader(self):\n",
    "        # TODO : Now create your Training DataLoader\n",
    "        return ...\n",
    "\n",
    "    def val_dataloader(self):\n",
    "        # TODO : Now create your Validation DataLoader\n",
    "        return ...\n",
    "\n",
    "    def test_dataloader(self):\n",
    "        # TODO : Now create your Testing DataLoader\n",
    "        return ...\n",
    "\n"
   ]
  },
  {
   "cell_type": "markdown",
   "metadata": {
    "id": "71GzlDYqj5xY"
   },
   "source": [
    "## b - LightningModule :  MNIST Classifier\n",
    "\n",
    "Design a model to perform Classification. Again, ask yourself the following questions:\n",
    "* What task is it ?\n",
    "* What data do I have ?\n",
    "* What learning rate should I use ?\n",
    "* What could be my loss ? Why ?\n",
    "* What non-linearity should I use ?\n",
    "* How do I evaluate my model ? (TorchMetrics is your friend)"
   ]
  },
  {
   "cell_type": "code",
   "execution_count": null,
   "metadata": {
    "id": "XUBuWwX3iypq"
   },
   "outputs": [],
   "source": [
    "class MNISTClassifier(pl.LightningModule):\n",
    "    def __init__(self, output_shape):\n",
    "        super(MNISTClassifier,self).__init__()\n",
    "        # what is the output_shape of your model ?\n",
    "        self.output_shape = output_shape\n",
    "        self.save_hyperparameters()\n",
    "        # TODO : Define your model here, be careful, your model will be an instance of the class. Watch  out for the input data.\n",
    "\n",
    "\n",
    "    def forward(self,x):\n",
    "        # TODO : What would be the forward steps of this classifier ?\n",
    "        ...\n",
    "        return x\n",
    "\n",
    "    def configure_optimizers(self):\n",
    "        # TODO : Choose your optimizer : https://pytorch.org/docs/stable/optim.html\n",
    "        optimizer = ...\n",
    "        return optimizer\n",
    "\n",
    "    def training_step(self, batch, batch_idx):\n",
    "        # TODO : Define your Training Step\n",
    "        # This method is pretty much similar to what your did in the Tutorial to train your model.\n",
    "        x,y = batch\n",
    "        ...\n",
    "        loss =\n",
    "        acc =\n",
    "        # Don't remove the next line, you will understand why later\n",
    "        self.log('train_acc', acc)\n",
    "        self.log('train_loss', loss)\n",
    "        return loss\n",
    "\n",
    "\n",
    "    def validation_step(self, batch, batch_idx):\n",
    "        # TODO : Define your Validation Step\n",
    "        # What is the difference between the Training and the Validation Step ?\n",
    "        x,y = batch\n",
    "        ...\n",
    "        loss = ...\n",
    "        acc = ...\n",
    "        # Don't remove the next line, you will understand why later\n",
    "        self.log('val_acc', acc)\n",
    "        self.log('val_loss', loss)\n",
    "\n",
    "    def test_step(self, batch, batch_idx):\n",
    "        # TODO : Define your Test Step\n",
    "        # What is the difference between the Training, Validation and Test Step ?\n",
    "        x,y = batch\n",
    "        ...\n",
    "        loss = ...\n",
    "        self.acc = ... # We accumulate every accuracy\n",
    "        # Don't remove the next line, you will understand why later\n",
    "        self.log('test_loss', loss)\n",
    "        self.log('test_acc', self.acc)\n",
    "\n",
    "    def test_epoch_start(self):\n",
    "        self.acc = 0\n",
    "\n",
    "    def test_epoch_end(self):\n",
    "        self.acc =\n",
    "        self.log('Final Accuracy', self.acc)"
   ]
  },
  {
   "cell_type": "markdown",
   "metadata": {
    "id": "4TV-SLU6kWV7"
   },
   "source": [
    "## c - Did you say Train ?\n",
    "\n",
    "Let's train the model.\n",
    "\n",
    "We create our so called Trainer that will handle a lot of thing for us. Lightning trainer is full of interesting assets that helps you for your training. The lightning trainer is a much more evolved Trainer than the one in the Tutorial.\n",
    "\n",
    "To get a glance of what Lightning Trainer can give :\n",
    "https://pytorch-lightning.readthedocs.io/en/latest/common/trainer.html\n",
    "\n",
    "We also use TensorBoard"
   ]
  },
  {
   "cell_type": "code",
   "execution_count": null,
   "metadata": {
    "id": "L9wyr4pjj5R-"
   },
   "outputs": [],
   "source": [
    "tb_logger = pl_loggers.TensorBoardLogger(\"introduction to Lightning\")\n",
    "\n",
    "dm = MNISTDataModule()\n",
    "model = MNISTClassifier(10)\n",
    "\n",
    "trainer = pl.Trainer(gpus=-1,max_epochs=10,accelerator='dp',logger=tb_logger)\n",
    "trainer.fit(model, dm)\n"
   ]
  },
  {
   "cell_type": "markdown",
   "metadata": {
    "id": "ej56Kf9Zkefo"
   },
   "source": [
    "Oh it's training ! Happy ? Easy ? Let's test the model"
   ]
  },
  {
   "cell_type": "markdown",
   "metadata": {
    "id": "IaWmGYVTjRz5"
   },
   "source": [
    "## d - Did you say Test ?\n",
    "\n",
    "For testing, well it's pretty easy"
   ]
  },
  {
   "cell_type": "code",
   "execution_count": null,
   "metadata": {
    "id": "idVeeYZKVvSS"
   },
   "outputs": [],
   "source": [
    "trainer.test(model)"
   ]
  },
  {
   "cell_type": "markdown",
   "metadata": {
    "id": "3NiFml0Kj88-"
   },
   "source": []
  },
  {
   "cell_type": "markdown",
   "metadata": {
    "id": "IO_fuzVPMNX5"
   },
   "source": [
    "## e - TensorBoard\n",
    "\n",
    "TensorBoard is a really useful tool. Indeed, it let's you register interesting values during training and plot them INTERACTIVELY. You might have seen a self.log line in the Validation and Training steps.\n",
    "The self.log saves the loss value into a TensorBoard readable file. We can also add images or other values using self.log\n",
    "\n",
    "In fact, look at the checkpoint created by the training. You might see 3 files :\n",
    "* Checkpoint\n",
    "* event.out....\n",
    "* hparam.yaml\n",
    "\n",
    "Let's open tensorboard to see how the training was. Tensorboard is loadable using magic_python commands.\n",
    "More info on TensorBoard : https://www.tensorflow.org/tensorboard/get_started\n",
    "\n",
    "Another Tool : Weight and Biases"
   ]
  },
  {
   "cell_type": "code",
   "execution_count": null,
   "metadata": {
    "id": "JzLzFpFdkdoM"
   },
   "outputs": [],
   "source": [
    "%reload_ext tensorboard\n",
    "%tensorboard --logdir \"/content/introduction to Lightning/default/version_0\""
   ]
  },
  {
   "cell_type": "markdown",
   "metadata": {
    "id": "eCx4XtQojqBf"
   },
   "source": [
    "Pytorch Lightning can be used along PyTorch. We encourage you to use PyTorch Lightning during your Lab Sessions and Career as it simplifies a lot of things for you (MultiGPU, Learning Rate Decay...)\n",
    "\n",
    "<img src='https://c.tenor.com/VyApQ-jWyV0AAAAC/happy-borat.gif'>\n",
    "\n"
   ]
  },
  {
   "cell_type": "markdown",
   "metadata": {
    "id": "rq2vIzXbyXtk"
   },
   "source": [
    "# II - Classify Objects using Lightning\n",
    "\n",
    "We will now change the Dataset. This one is CIFAR-10. This part of the lab will be less restricted and more free. You now should have a sense of how to use the Lightning Framework.\n",
    "Be creative.\n"
   ]
  },
  {
   "cell_type": "markdown",
   "metadata": {
    "id": "WVi6aj84y97g"
   },
   "source": [
    "## a - Baseline : Creating your own Model\n",
    "\n",
    "Create a Simple Model and perform all steps from part 1 with the needed changes.\n",
    "\n",
    "*   **What's your final accuracy ?**\n"
   ]
  },
  {
   "cell_type": "markdown",
   "metadata": {
    "id": "LodackDWzb9k"
   },
   "source": [
    "### i - DataModule"
   ]
  },
  {
   "cell_type": "code",
   "execution_count": null,
   "metadata": {
    "id": "La8kvImxzgaf"
   },
   "outputs": [],
   "source": [
    "transform = transforms.Compose([transforms.ToTensor(),transforms.Normalize((0.5, 0.5, 0.5), (0.5, 0.5, 0.5))])\n",
    "trainset = torchvision.datasets.CIFAR10(root='./data', train=True,\n",
    "                                        download=True, transform=transform)\n",
    "testset = torchvision.datasets.CIFAR10(root='./data', train=False,\n",
    "                                       download=True, transform=transform)"
   ]
  },
  {
   "cell_type": "code",
   "execution_count": null,
   "metadata": {
    "id": "dUes-3TPFhW8"
   },
   "outputs": [],
   "source": [
    "# TODO : EDA"
   ]
  },
  {
   "cell_type": "code",
   "execution_count": null,
   "metadata": {
    "id": "-hJKuGjwFHxE"
   },
   "outputs": [],
   "source": [
    "# TODO : Create your DataModule"
   ]
  },
  {
   "cell_type": "markdown",
   "metadata": {
    "id": "2ykxzmaMzhEr"
   },
   "source": [
    "### ii - Module"
   ]
  },
  {
   "cell_type": "code",
   "execution_count": null,
   "metadata": {
    "id": "iZWj3Qp8zgej"
   },
   "outputs": [],
   "source": [
    "# TODO : Create your Module"
   ]
  },
  {
   "cell_type": "markdown",
   "metadata": {
    "id": "SjDUQJBhzloB"
   },
   "source": [
    "### iii - Train"
   ]
  },
  {
   "cell_type": "code",
   "execution_count": null,
   "metadata": {
    "id": "i1-7v8j9zoAJ"
   },
   "outputs": [],
   "source": [
    "# TODO : Train"
   ]
  },
  {
   "cell_type": "markdown",
   "metadata": {
    "id": "I8RmPe1ozoxq"
   },
   "source": [
    "### iv - Test"
   ]
  },
  {
   "cell_type": "code",
   "execution_count": null,
   "metadata": {
    "id": "zXDiuQOMzoxr"
   },
   "outputs": [],
   "source": [
    "# TODO : Test"
   ]
  },
  {
   "cell_type": "markdown",
   "metadata": {
    "id": "Ls7EK0Az2YFr"
   },
   "source": [
    "\n",
    "**Does your model perform well on the CIFAR Dataset ?**\n",
    "\n",
    "\n"
   ]
  },
  {
   "cell_type": "markdown",
   "metadata": {
    "id": "hfcW6jcizB1I"
   },
   "source": [
    "## b - The OG Model : Finetuning a Model\n",
    "\n",
    "If your model performed well on the CIFAR-10 Dataset, congrats. But let's achieve better results. Often, for industrial works, we pretrain a model on a large dataset (ImageNet or internal Dataset), and then fine-tune the model on a Dataset.\n",
    "\n",
    "* **What's the intuition behind fine-tuning ?**"
   ]
  },
  {
   "cell_type": "markdown",
   "metadata": {
    "id": "0Qxg-fff7Ofw"
   },
   "source": [
    "### i - Importing a Pretrained Model\n",
    "\n",
    "We will import a ConvNext model. Why ? It's said to be a really good backbone that competes with the Transformer models. Let's load the model.\n",
    "We are going to use TorchSummary to print what the size of the inputs and outputs are.\n",
    "\n",
    "* What is the difference between a trainable and a non trainable parameter ?\n",
    "* How to make a parameter trainable ?\n",
    "* How many parameters does the model have ?"
   ]
  },
  {
   "cell_type": "code",
   "execution_count": null,
   "metadata": {
    "id": "DIgUs9Fd7FW7"
   },
   "outputs": [],
   "source": [
    "\n",
    "import torchvision\n",
    "model = torchvision.models.convnext_small(weights='DEFAULT')\n",
    "\n",
    "# TODO : Using torchsummary, print a summary of the model\n",
    "from torchsummary import summary\n",
    "summary(model)\n"
   ]
  },
  {
   "cell_type": "code",
   "execution_count": null,
   "metadata": {
    "id": "x29gjtvd94Jr"
   },
   "outputs": [],
   "source": [
    "# TODO : Using torchsummary, send an image of the same size as a sample of CIFAR-10\n",
    "summary(model, ...) # ... = input shape as a tuple (C,H,W)\n"
   ]
  },
  {
   "cell_type": "markdown",
   "metadata": {
    "id": "vIpoh9qP-Nll"
   },
   "source": [
    "* **What is the output size of the model ?**\n",
    "* **What will be the issue of using this model as is to perform classification on the CIFAR-10 Dataset ?**\n"
   ]
  },
  {
   "cell_type": "code",
   "execution_count": null,
   "metadata": {
    "id": "3XBym9hsB2Z1"
   },
   "outputs": [],
   "source": [
    "# TODO : According to your answer to the previous questions, perform the changes.\n",
    "# You can access each layers using model.name_of_layer"
   ]
  },
  {
   "cell_type": "markdown",
   "metadata": {
    "id": "LcainrOT51rP"
   },
   "source": [
    "### ii - DataModule"
   ]
  },
  {
   "cell_type": "code",
   "execution_count": null,
   "metadata": {
    "id": "x3WlWJvy51rP"
   },
   "outputs": [],
   "source": [
    "# TODO : EDA\n",
    "\n",
    "# TODO : Create your DataModule"
   ]
  },
  {
   "cell_type": "markdown",
   "metadata": {
    "id": "3aUiAPtd51rP"
   },
   "source": [
    "### iii - Module\n",
    "\n"
   ]
  },
  {
   "cell_type": "code",
   "execution_count": null,
   "metadata": {
    "id": "W0zUy7CJ51rP"
   },
   "outputs": [],
   "source": [
    "# TODO : Create your Module\n",
    "\n",
    "# Careful : How should your learning rate be ?"
   ]
  },
  {
   "cell_type": "markdown",
   "metadata": {
    "id": "RwPYkPT551rQ"
   },
   "source": [
    "### iv - Train"
   ]
  },
  {
   "cell_type": "code",
   "execution_count": null,
   "metadata": {
    "id": "2GdvMUH-51rQ"
   },
   "outputs": [],
   "source": [
    "# TODO : Train"
   ]
  },
  {
   "cell_type": "markdown",
   "metadata": {
    "id": "hEJLdQuZ51rQ"
   },
   "source": [
    "### v - Test"
   ]
  },
  {
   "cell_type": "code",
   "execution_count": null,
   "metadata": {
    "id": "DvxjzGdV51rQ"
   },
   "outputs": [],
   "source": [
    "# TODO : Test"
   ]
  },
  {
   "cell_type": "markdown",
   "metadata": {
    "id": "USu9oo2wCV2j"
   },
   "source": [
    "\n",
    "* **What is your final accuracy ?**\n",
    "* **Is Fine Tuning a model better than creating your own model ?**"
   ]
  }
 ],
 "metadata": {
  "accelerator": "GPU",
  "colab": {
   "authorship_tag": "ABX9TyM0flVMh2FoR1OTSsyOXCwL",
   "include_colab_link": true,
   "name": "Introduction to Pytorch Lightning",
   "provenance": []
  },
  "kernelspec": {
   "display_name": "Python 3",
   "name": "python3"
  },
  "language_info": {
   "name": "python"
  }
 },
 "nbformat": 4,
 "nbformat_minor": 0
}
