{
  "nbformat": 4,
  "nbformat_minor": 0,
  "metadata": {
    "colab": {
      "name": "Recreate Google MAP.ipynb",
      "provenance": [],
      "collapsed_sections": [],
      "authorship_tag": "ABX9TyN6ODU4Xh4lq6PFdy9h/LS/",
      "include_colab_link": true
    },
    "kernelspec": {
      "name": "python3",
      "display_name": "Python 3"
    },
    "language_info": {
      "name": "python"
    }
  },
  "cells": [
    {
      "cell_type": "markdown",
      "metadata": {
        "id": "view-in-github",
        "colab_type": "text"
      },
      "source": [
        "<a href=\"https://colab.research.google.com/github/thad75/TP_ENSEA_ELEVE/blob/main/SIA/TP4/Recreate_Google_MAP.ipynb\" target=\"_parent\"><img src=\"https://colab.research.google.com/assets/colab-badge.svg\" alt=\"Open In Colab\"/></a>"
      ]
    },
    {
      "cell_type": "code",
      "execution_count": null,
      "metadata": {
        "id": "MN-7wHR7MaRI"
      },
      "outputs": [],
      "source": [
        "!wget http://efrosgans.eecs.berkeley.edu/pix2pix/datasets/maps.tar.gz\n",
        "!tar xvzf /content/maps.tar.gz"
      ]
    },
    {
      "cell_type": "markdown",
      "source": [
        "# Goal of this Lab\n",
        "\n",
        "* Work like a Deep Learning Engineer\n",
        "* Apply all things you've learned through all the labs\n",
        "* Understand your Datasets\n",
        "* Try models from your knowledge\n",
        "\n",
        "Don't hesitate to discuss with your lab coworkers in order to gather ideas. Feel free to use whatever framework you need. Understand as much possible the dataset before beginning to work on the model. Do your research ...\n",
        "\n",
        "\n",
        "---\n",
        "\n",
        "\n",
        "**You are free of all your decisions. Any unjustified move will not be taken into consideration into your notation. An analysis of your results/model/move is awaited.**\n",
        "\n",
        "\n",
        "\n",
        "---\n",
        "\n",
        "\n",
        "Timing approx :\n",
        "\n",
        "* 2 hours : Data Understanding/Dataset writing\n",
        "* 30min -1h : Model/ Training pipeline writing & training\n",
        "* 1h-1h30 : Results understanding and showcase"
      ],
      "metadata": {
        "id": "SqIatZamMmLv"
      }
    },
    {
      "cell_type": "markdown",
      "source": [
        "# Main Question\n",
        "\n",
        "Build a Model that takes as input a Google Map Satellite view and returns a Google Maps Calque view. \n",
        "\n",
        "For instance : The input data is the image on the left, and the model should return the image on the right.\n",
        "\n",
        "<img src=\"https://eu42.github.io/images/gcgan/aerial_image_map_example.png\">\n",
        "\n",
        "Each image is 1200x600.\n"
      ],
      "metadata": {
        "id": "rxOLggjEM3aV"
      }
    },
    {
      "cell_type": "code",
      "source": [
        ""
      ],
      "metadata": {
        "id": "U8N8LHUHPRBj"
      },
      "execution_count": null,
      "outputs": []
    }
  ]
}