{
  "nbformat": 4,
  "nbformat_minor": 0,
  "metadata": {
    "colab": {
      "name": "Signature Verification Student - Hard.ipynb",
      "provenance": [],
      "authorship_tag": "ABX9TyM2wc6rybEx0CRy9iaTJIlz",
      "include_colab_link": true
    },
    "kernelspec": {
      "name": "python3",
      "display_name": "Python 3"
    },
    "language_info": {
      "name": "python"
    }
  },
  "cells": [
    {
      "cell_type": "markdown",
      "metadata": {
        "id": "view-in-github",
        "colab_type": "text"
      },
      "source": [
        "<a href=\"https://colab.research.google.com/github/thad75/TP_ENSEA_ELEVE/blob/main/SIA/TP4/Signature_Verification.ipynb\" target=\"_parent\"><img src=\"https://colab.research.google.com/assets/colab-badge.svg\" alt=\"Open In Colab\"/></a>"
      ]
    },
    {
      "cell_type": "markdown",
      "metadata": {
        "id": "A4im6UNxy1LS"
      },
      "source": [
        "# Goal of this Lab\n",
        "\n",
        "* Work like a Deep Learning Engineer\n",
        "* Apply all things you've learned through all the labs\n",
        "* Understand your Datasets\n",
        "* Try models from your knowledge\n",
        "\n",
        "Don't hesitate to discuss with your lab coworkers in order to gather ideas. Feel free to use whatever framework you need. Understand as much possible the dataset before beginning to work on the model. Do your research ...\n",
        "\n",
        "\n",
        "---\n",
        "\n",
        "\n",
        "**You are free of all your decisions. Any unjustified move will not be taken into consideration into your notation. An analysis of your results/model/move is awaited.**\n",
        "\n",
        "\n",
        "\n",
        "---\n",
        "\n",
        "\n",
        "Timing approx :\n",
        "\n",
        "* 2 hours : Data Understanding/Dataset writing\n",
        "* 30min -1h : Model/ Training pipeline writing & training\n",
        "* 1h-1h30 : Results understanding and showcase"
      ]
    },
    {
      "cell_type": "markdown",
      "metadata": {
        "id": "2zskBrkOzALs"
      },
      "source": [
        "# Main Question \n",
        "\n",
        "Build a signature verification model.\n",
        "The model should be able to identify Real Signatures from Fake Signatures.\n",
        "You'll be using the CEDAR Dataset"
      ]
    },
    {
      "cell_type": "code",
      "metadata": {
        "id": "DxU9NaaCy_Qd"
      },
      "source": [
        "!wget https://cedar.buffalo.edu/NIJ/data/signatures.rar\n",
        "!unrar e -Y \"/content/signatures.rar\" \"/content/signature/\""
      ],
      "execution_count": null,
      "outputs": []
    },
    {
      "cell_type": "markdown",
      "metadata": {
        "id": "a_TXoUWPBQtq"
      },
      "source": [
        "# Method 1"
      ]
    },
    {
      "cell_type": "code",
      "metadata": {
        "id": "dVjGORE5BXfE"
      },
      "source": [
        ""
      ],
      "execution_count": null,
      "outputs": []
    },
    {
      "cell_type": "markdown",
      "metadata": {
        "id": "q5jaNJaeBTDe"
      },
      "source": [
        "# Method 2 (for the Best)"
      ]
    },
    {
      "cell_type": "code",
      "metadata": {
        "id": "lqMpJIDOBYLP"
      },
      "source": [
        ""
      ],
      "execution_count": null,
      "outputs": []
    },
    {
      "cell_type": "markdown",
      "metadata": {
        "id": "T7oUQH6f0V0m"
      },
      "source": [
        "# HINT 1"
      ]
    },
    {
      "cell_type": "markdown",
      "metadata": {
        "id": "iICE_Psi0XgF"
      },
      "source": [
        "What type of data do you have ? Are you able to recognize fakes from real signature ?"
      ]
    },
    {
      "cell_type": "markdown",
      "metadata": {
        "id": "x9-sue25z2cs"
      },
      "source": [
        "# HINT 2 \n",
        "\n"
      ]
    },
    {
      "cell_type": "markdown",
      "metadata": {
        "id": "119tW-YW0ApN"
      },
      "source": [
        "Siamese networks are great for comparing two input datas"
      ]
    },
    {
      "cell_type": "markdown",
      "metadata": {
        "id": "4Fr1P4da0ELu"
      },
      "source": [
        "# HINT 3\n",
        "\n"
      ]
    },
    {
      "cell_type": "markdown",
      "metadata": {
        "id": "Ge1WWNc10HXt"
      },
      "source": [
        "How should be our feature space ?"
      ]
    }
  ]
}