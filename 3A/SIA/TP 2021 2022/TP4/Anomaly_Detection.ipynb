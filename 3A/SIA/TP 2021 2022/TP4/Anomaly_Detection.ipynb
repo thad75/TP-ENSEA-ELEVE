{
 "cells": [
  {
   "cell_type": "markdown",
   "metadata": {
    "colab_type": "text",
    "id": "view-in-github"
   },
   "source": [
    "<a href=\"https://colab.research.google.com/github/thad75/TP_ENSEA_ELEVE/blob/main/SIA/TP4/Anomaly_Detection.ipynb\" target=\"_parent\"><img src=\"https://colab.research.google.com/assets/colab-badge.svg\" alt=\"Open In Colab\"/></a>"
   ]
  },
  {
   "cell_type": "markdown",
   "metadata": {
    "id": "aXwoW0hYbDs1"
   },
   "source": [
    "# Goal of this Lab\n",
    "\n",
    "* Work like a Deep Learning Engineer\n",
    "* Apply all things you've learned through all the labs\n",
    "* Understand your Datasets\n",
    "* Try models from your knowledge\n",
    "\n",
    "Don't hesitate to discuss with your lab coworkers in order to gather ideas. Feel free to use whatever framework you need. Understand as much possible the dataset before beginning to work on the model. Do your research ...\n",
    "\n",
    "\n",
    "---\n",
    "\n",
    "\n",
    "**You are free of all your decisions. Any unjustified move will not be taken into consideration into your notation. An analysis of your results/model/move is awaited.**\n",
    "\n",
    "\n",
    "\n",
    "---\n",
    "\n",
    "\n",
    "Timing approx :\n",
    "\n",
    "* 2 hours : Data Understanding/Dataset writing\n",
    "* 30min -1h : Model/ Training pipeline writing & training\n",
    "* 1h-1h30 : Results understanding and showcase"
   ]
  },
  {
   "cell_type": "markdown",
   "metadata": {
    "id": "kOYAoVJ7aUHJ"
   },
   "source": [
    "# Anomaly Detection\n",
    "\n",
    "Anomaly Detection is the task of finding Data different from Training Data. For example, imagine you have Dogs as Training Data. A cat appears. The Cat will be considered as an outlier."
   ]
  },
  {
   "cell_type": "markdown",
   "metadata": {
    "id": "K_eBuipRaus2"
   },
   "source": [
    "# Main Question \n",
    "\n",
    "\n",
    "* Using MNIST Dataset, design a Deep Learning Model to perform Anomaly Detection."
   ]
  },
  {
   "cell_type": "code",
   "execution_count": null,
   "metadata": {
    "id": "z8VDQoEvbbvy"
   },
   "outputs": [],
   "source": []
  },
  {
   "cell_type": "markdown",
   "metadata": {
    "id": "KM-UKmN0bfsQ"
   },
   "source": [
    "# Hint 1"
   ]
  },
  {
   "cell_type": "markdown",
   "metadata": {
    "id": "iWV5tdl5b4j5"
   },
   "source": [
    "Have a look at 1vsAll training. Could it be useful ?"
   ]
  },
  {
   "cell_type": "markdown",
   "metadata": {
    "id": "B5UpdvJ4eEEK"
   },
   "source": [
    "#Hint 2 "
   ]
  },
  {
   "cell_type": "markdown",
   "metadata": {
    "id": "aFVdzg1heGp6"
   },
   "source": [
    "An AutoEncoder is a Generative model. How should it behave on unseed data ?"
   ]
  }
 ],
 "metadata": {
  "colab": {
   "authorship_tag": "ABX9TyOvZ7Sa7QM99Yl899+u5Isz",
   "include_colab_link": true,
   "name": "Anomaly Detection - Hard .ipynb",
   "provenance": []
  },
  "kernelspec": {
   "display_name": "Python 3",
   "name": "python3"
  },
  "language_info": {
   "name": "python"
  }
 },
 "nbformat": 4,
 "nbformat_minor": 0
}
