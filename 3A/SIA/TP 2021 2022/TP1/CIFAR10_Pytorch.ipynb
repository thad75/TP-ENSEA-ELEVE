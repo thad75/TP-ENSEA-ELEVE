{
 "cells": [
  {
   "cell_type": "markdown",
   "metadata": {
    "colab_type": "text",
    "id": "view-in-github"
   },
   "source": [
    "<a href=\"https://colab.research.google.com/github/thad75/TP_ENSEA_ELEVE/blob/main/SIA/TP1/CIFAR10_Pytorch.ipynb\" target=\"_parent\"><img src=\"https://colab.research.google.com/assets/colab-badge.svg\" alt=\"Open In Colab\"/></a>"
   ]
  },
  {
   "cell_type": "markdown",
   "metadata": {
    "id": "3eWJc2EV3yLs"
   },
   "source": [
    "# TP1 : CIFAR10 Classification (Part 2)\n",
    "\n",
    "The CIFAR-10 Dataset is a multi class dataset. \n",
    "For more details:\n",
    "https://www.cs.toronto.edu/~kriz/cifar.html\n",
    "\n",
    "\n",
    "What you will learn:\n",
    "  \n",
    "1.   Understanding and Loading a Dataset\n",
    "2.   Creating a Model From Strach)\n",
    "3.   Choose a Loss, Choose an Optimizer, Choose a Learning Rate\n",
    "4.   Train and Test *model*\n",
    "\n"
   ]
  },
  {
   "cell_type": "markdown",
   "metadata": {
    "id": "4ntGxQer4O1t"
   },
   "source": [
    "# Understand The CIFAR10 Dataset"
   ]
  },
  {
   "cell_type": "markdown",
   "metadata": {
    "id": "KaNUChu_4lFA"
   },
   "source": [
    "Pre-Coding Questions : \n",
    "\n",
    "*   What are the number of images in your Dataset ?\n",
    "*   What are the classes of the Dataset ?\n",
    "*   What is the size of one piece of Data ?\n",
    "\n",
    "\n",
    "\n"
   ]
  },
  {
   "cell_type": "markdown",
   "metadata": {
    "id": "AIZG7YUY5RaP"
   },
   "source": [
    "Import the Dataset. Have a look at https://pytorch.org/vision/stable/datasets.html.\n",
    "\n",
    "\n",
    "Compose applies Transformation to the Data. Here, our transformation pipeline proposes to transformation:\n",
    "* Describe each transformation\n",
    "* In the Normalize transformation, why do we have 0.5 as values ?"
   ]
  },
  {
   "cell_type": "code",
   "execution_count": null,
   "metadata": {
    "id": "17EnxAD65nXQ"
   },
   "outputs": [],
   "source": [
    "import torch\n",
    "import torchvision\n",
    "import torchvision.transforms as transforms\n",
    "\n",
    "transform = transforms.Compose([transforms.ToTensor(),\n",
    "                                transforms.Normalize((0.5, 0.5, 0.5), (0.5, 0.5, 0.5))])\n",
    "\n",
    "dataset_train = _\n",
    "dataset_test = _"
   ]
  },
  {
   "cell_type": "markdown",
   "metadata": {
    "id": "GLM47rOB6K8U"
   },
   "source": [
    "\n",
    "*  Is something missing, What ?\n",
    "*  What is the use of creating that ?\n",
    "\n",
    "Create it. \n",
    "Have a look at : https://pytorch.org/docs/stable/data.html\n"
   ]
  },
  {
   "cell_type": "code",
   "execution_count": null,
   "metadata": {
    "id": "b0RY6mCy68Rz"
   },
   "outputs": [],
   "source": [
    "split_value = _\n",
    "train_size = int(split_value * len(dataset_train))\n",
    "test_size = len(dataset_train) - train_size\n",
    "\n",
    "dataset_train, _ =   "
   ]
  },
  {
   "cell_type": "markdown",
   "metadata": {
    "id": "0toOmqG_69ai"
   },
   "source": [
    "A piece of data in the Dataset now returns two elements. However, we need to fetch it and send it using a DataLoader. Dataloader are an iterable over the dataset. They form the batches for you.\n",
    " \n",
    "\n",
    "*   What items are returned from a piece of Dataset ? What type are those items ? Show the items using a certain method.\n",
    "*   What is an iterable ?\n",
    "\n",
    "Look at : https://pytorch.org/vision/stable/_modules/torchvision/datasets/cifar.html#CIFAR10\n",
    "\n"
   ]
  },
  {
   "cell_type": "code",
   "execution_count": null,
   "metadata": {
    "id": "DYRkbespCUCr"
   },
   "outputs": [],
   "source": [
    "import matplotlib.pyplot as plt\n",
    "import numpy as np\n",
    "import random\n",
    "item = random.randint(0, _ )\n",
    "data,label = _\n",
    "print(data.shape)\n",
    "plt.imshow(data.permute(1, 2, 0))"
   ]
  },
  {
   "cell_type": "markdown",
   "metadata": {
    "id": "idqR2Z4l93iD"
   },
   "source": [
    "\n",
    "Load the datasets in Dataloaders, be careful of few things :\n",
    "\n",
    "\n",
    "*   What is a batch ? How would you choose your batch size ?\n",
    "*   Do we need to shuffle the Data ?\n",
    "*   Do we drop the last batch ? If yes, why ? Which layer could pose problem ?\n",
    "\n",
    "\n",
    "\n",
    "\n",
    "\n"
   ]
  },
  {
   "cell_type": "code",
   "execution_count": null,
   "metadata": {
    "id": "5tLGb8iEs7lK"
   },
   "outputs": [],
   "source": [
    "import torch\n",
    "import torchvision\n",
    "import torchvision.transforms as transforms\n",
    "\n",
    "batch_size = _\n",
    "dataloader_train = torch.utils.data.DataLoader()"
   ]
  },
  {
   "cell_type": "markdown",
   "metadata": {
    "id": "J0SK63iFrdMn"
   },
   "source": [
    "# Model"
   ]
  },
  {
   "cell_type": "markdown",
   "metadata": {
    "id": "TXqiTDnZ3vmC"
   },
   "source": [
    "Let's define a model. You'll be using a Class that inherits from nn.Module.\n",
    "nn.Module is the base class for creating a Model in Pytorch. More information on :https://pytorch.org/docs/stable/generated/torch.nn.Module.html\n",
    "\n",
    "Create a model to be trained using CIFAR10, ask yourself the following questions :\n",
    "\n",
    "*   What am I trying to learn ?\n",
    "*   How can learn from the data ?\n",
    "*   Conv, Linear, Sequential model ? \n",
    "*   How many layers ? How many parameters ?\n",
    "*   What activation functions ? Why ?\n",
    "*   Do I need augmentations ? batch normalization ? dropout ?\n",
    "\n",
    "\n"
   ]
  },
  {
   "cell_type": "markdown",
   "metadata": {
    "id": "18YIK6rGuWOp"
   },
   "source": [
    "A model in PyTorch is defined as follows:\n",
    "\n",
    "\n",
    "```\n",
    "class Model(nn.Module):\n",
    "  def __init__(self,...):\n",
    "    \"\"\"\n",
    "    Defines the model. You can put the input size as a parameter if needed..\n",
    "    \"\"\"\"\n",
    "    super().__init__() #to init the main class\n",
    "    self.layers = ... ###defining the model : could be Conv2d, Linear, RNN, LSTM\n",
    "\n",
    "\n",
    "  def forward(self,x):\n",
    "    \"\"\"\n",
    "    The input x is forwarded through the neural net. \n",
    "    \"\"\"\n",
    "    output = self.layers(x)\n",
    "    return output\n",
    "```\n",
    "\n",
    "It is indeed a Class that inherits from nn.Module. More informations : https://pytorch.org/docs/stable/nn.html\n",
    "\n",
    "Define a Neural Net that performs classification on CIFAR10. Be creative"
   ]
  },
  {
   "cell_type": "code",
   "execution_count": null,
   "metadata": {
    "id": "J3j_v_wSCWoY"
   },
   "outputs": [],
   "source": [
    "import torch.nn as nn\n",
    "import torch.nn.functional as F\n",
    "\n",
    "class Net(nn.Module):\n",
    "    def __init__(self):\n",
    "        super().__init__()\n",
    "\n",
    "    def forward(self, x):"
   ]
  },
  {
   "cell_type": "code",
   "execution_count": null,
   "metadata": {
    "id": "jGF9uvw6vxPY"
   },
   "outputs": [],
   "source": [
    "net = Net()"
   ]
  },
  {
   "cell_type": "markdown",
   "metadata": {
    "id": "4z6FcvE1v6TU"
   },
   "source": [
    "Your model is now created but not sent to the GPU for acceleration. To send it you have to define a device as follows:\n",
    "\n",
    "```\n",
    "device = torch.device(\"cuda:0\" if torch.cuda.is_available() else \"cpu\")\n",
    "```\n",
    "To send your model or data to device : \n",
    "\n",
    "\n",
    "\n",
    "```\n",
    "model = model.to(device) or data = data.to(device)\n",
    "```\n",
    "\n",
    "\n"
   ]
  },
  {
   "cell_type": "code",
   "execution_count": null,
   "metadata": {
    "id": "Q3Ch75XMCXs4"
   },
   "outputs": [],
   "source": [
    "device = _\n",
    "net = _"
   ]
  },
  {
   "cell_type": "markdown",
   "metadata": {
    "id": "5WQy5DdjsKZg"
   },
   "source": [
    "# Training"
   ]
  },
  {
   "cell_type": "markdown",
   "metadata": {
    "id": "n3HfW0nxsMZg"
   },
   "source": [
    "Let's understand what should happen ?\n",
    "\n",
    "What kind of learning is it :\n",
    "*   Supervised \n",
    "*   Unsupervised\n",
    "\n",
    "Why ?\n",
    "\n",
    "*   Is my model training ? How do I know that my model is training ?\n",
    "*   What loss am I using ? Why ?\n",
    "*   What optimizer should I use ?\n",
    "\n"
   ]
  },
  {
   "cell_type": "markdown",
   "metadata": {
    "id": "pdWDTPxng_Bq"
   },
   "source": [
    "Define a Criterion and an Optimizer for your training. Explain your choices.\n",
    "Have a look at : \n",
    "* https://pytorch.org/docs/stable/optim.html\n",
    "* https://pytorch.org/docs/stable/nn.html"
   ]
  },
  {
   "cell_type": "code",
   "execution_count": null,
   "metadata": {
    "id": "XXKpj87AxElw"
   },
   "outputs": [],
   "source": [
    "import torch.optim as optim\n",
    "\n",
    "criterion = _\n",
    "optimizer = _"
   ]
  },
  {
   "cell_type": "markdown",
   "metadata": {
    "id": "3Afe-6rzxIzH"
   },
   "source": [
    "The training loop is defined as follows :\n",
    "\n",
    "\n",
    "```\n",
    "for epoch in num_epoch : \n",
    "    running_loss = 0.0\n",
    "    for i, data in enumerate(trainloader, 0):        \n",
    "        data = data.to(device)\n",
    "        optimizer.zero_grad()\n",
    "        outputs = net(data)\n",
    "        loss = criterion(outputs, labels)\n",
    "        loss.backward()\n",
    "        optimizer.step()\n",
    "        running_loss += loss.item()\n",
    "        if i == ??:\n",
    "          running_loss= running_loss/??\n",
    "        \n",
    "```\n",
    "\n"
   ]
  },
  {
   "cell_type": "markdown",
   "metadata": {
    "id": "pbd1_Vjex_FW"
   },
   "source": [
    "Write the training loop to train this model \n",
    "\n",
    "*  What happens in an epoch, how to choose num_epochs ?\n",
    "*  What is a running_loss ?\n",
    "*  When are the model's weights updated ?\n",
    "*  Is something missing in the previous code ? How can we **validate** that something is missing ?\n",
    "\n"
   ]
  },
  {
   "cell_type": "markdown",
   "metadata": {
    "id": "rTpoFltkBQNU"
   },
   "source": [
    "If Validation : \n",
    "\n",
    "\n",
    "\n",
    "```\n",
    "for epoch in num_epoch : \n",
    "    running_loss, running_valid_loss = 0.0,0.0\n",
    "    for i, data in enumerate(trainloader, 0):        \n",
    "       STUFF\n",
    "    with torch.no_grad()   :   \n",
    "      for i, data in enumerate(validloader, 0):        \n",
    "         STUFF\n",
    "```\n",
    "\n"
   ]
  },
  {
   "cell_type": "code",
   "execution_count": null,
   "metadata": {
    "id": "ITL_r4lyyjLs"
   },
   "outputs": [],
   "source": [
    "\n",
    "num_epochs = _\n",
    "\n",
    "for epoch in range(num_epochs):  # loop over the dataset multiple times\n",
    "    running_loss = 0.0\n",
    "    for i, data in enumerate(dataloader_train, 0):\n",
    "        # get the inputs; data is a list of [inputs, labels], don't forget to send them to the GPU\n",
    "        _\n",
    "        # zero the parameter gradients\n",
    "        _\n",
    "\n",
    "        # send the data to your model, get the values and calculate the loss        \n",
    "        optimizer.step()\n",
    "\n",
    "        # print statistics\n",
    "        running_loss += loss.item()\n",
    "        if i % 2000 == 1999:    # print every 2000 mini-batches\n",
    "            print('[%d, %5d] loss: %.3f' %\n",
    "                  (epoch + 1, i + 1, running_loss / 2000))\n",
    "            running_loss = 0.0\n"
   ]
  },
  {
   "cell_type": "markdown",
   "metadata": {
    "id": "yVGU-p07y_X5"
   },
   "source": [
    "# Save the Model"
   ]
  },
  {
   "cell_type": "markdown",
   "metadata": {
    "id": "86ttiVxMzDNj"
   },
   "source": [
    "To save the model give a path and use torch.save to save the models state_dict()\n",
    "More Information : https://pytorch.org/tutorials/beginner/saving_loading_models.html\n",
    "\n"
   ]
  },
  {
   "cell_type": "code",
   "execution_count": null,
   "metadata": {
    "id": "tw8XijAuudsd"
   },
   "outputs": [],
   "source": [
    "PATH = _\n",
    "torch.save(net.state_dict(), PATH)"
   ]
  },
  {
   "cell_type": "markdown",
   "metadata": {
    "id": "AcnqLxO5zVFL"
   },
   "source": [
    "# Test the Model\n",
    "\n",
    "You are going to test the trained model.\n",
    "* What metrics should you calculate to verify your model's Accuracy and Precision ?\n",
    "\n",
    "We provide you a function to plot images \n",
    "\n",
    "\n",
    "\n",
    "\n"
   ]
  },
  {
   "cell_type": "code",
   "execution_count": null,
   "metadata": {
    "id": "KelvLjR_4T4v"
   },
   "outputs": [],
   "source": [
    "dataiter = iter(dataloader_test)\n",
    "images, labels = dataiter.next()\n",
    "classes = ('plane', 'car', 'bird', 'cat',\n",
    "           'deer', 'dog', 'frog', 'horse', 'ship', 'truck')\n",
    "# Plot Images\n",
    "def imshow(img):\n",
    "    img = img / 2 + 0.5     # unnormalize\n",
    "    npimg = img.numpy()\n",
    "    plt.imshow(np.transpose(npimg, (1, 2, 0)))\n",
    "    plt.show()\n",
    "\n",
    "imshow(torchvision.utils.make_grid(images))\n",
    "print('GroundTruth: ', ' '.join('%5s' % classes[labels[j]] for j in range(4)))\n",
    "\n",
    "                  # Load the Net \n",
    "                  # Load model into Net \n",
    "                  # Send images through the Net \n",
    "                  # Check the Predicted Class\n",
    "\n",
    "\n",
    "\n",
    "\n",
    "print('Predicted: ', ' '.join('%5s' % classes[predicted[j]] for j in range(4)))"
   ]
  },
  {
   "cell_type": "markdown",
   "metadata": {
    "id": "sqssbNBb4uyD"
   },
   "source": [
    "\n",
    "Calculate the accuracy of the model. Calculate the accuracy per class.\n",
    "\n",
    "Pseudocode:\n",
    "```\n",
    "With no grad:\n",
    "  for each data in test data:\n",
    "    predict from model\n",
    "    check if prediction is accurate\n",
    "  calculate accuracy \n",
    "```"
   ]
  },
  {
   "cell_type": "code",
   "execution_count": null,
   "metadata": {
    "colab": {
     "base_uri": "https://localhost:8080/"
    },
    "id": "lK0Uac5ouiUD",
    "outputId": "737327a5-8ebb-4085-f567-813afc55cc84"
   },
   "outputs": [],
   "source": [
    "correct = 0\n",
    "total = 0\n",
    "\n",
    "# Do we update the weights ? If no, add the necessary line\n",
    "with _ :\n",
    "    for data in dataloader_test:\n",
    "        images, labels = data\n",
    "        # forward the data\n",
    "\n",
    "\n",
    "        # calculate the total of samples\n",
    "        \n",
    "        # calculate the total of samples that are correctly predicted\n",
    "        \n",
    "\n",
    "print('Accuracy of the network on test images: %d %%' % (100 * correct / total))\n",
    "\n",
    "# We are going to count the accuracy for each labels.\n",
    "# Initialize a dict where each class is at 0 \n",
    "# e.g : {'plane': 0, 'car': 0, 'bird': 0, 'cat': 0, 'deer': 0, 'dog': 0, 'frog': 0, 'horse': 0, 'ship': 0, 'truck': 0}\n",
    "# Plus point if you use Pythonic way of coding (dictionnary comprehension)\n",
    "\n",
    "correct_pred = \n",
    "total_pred = \n",
    "\n",
    "with torch.no_grad():\n",
    "    for data in dataloader_test:\n",
    "        images, labels = data\n",
    "       \n",
    "        # collect the correct predictions for each class\n",
    "        for label, prediction in zip(labels, predictions):\n",
    "            # for each label that are correct, add  1 to its corresponding place in the dict\n",
    "            "
   ]
  },
  {
   "cell_type": "code",
   "execution_count": null,
   "metadata": {
    "id": "s3BAuXur_GfY"
   },
   "outputs": [],
   "source": [
    "\n",
    "# print accuracy for each class\n",
    "for classname, correct_count in correct_pred.items():\n",
    "    accuracy = 100 * float(correct_count) / total_pred[classname]\n",
    "    print(\"Accuracy for class {:5s} is: {:.1f} %\".format(classname,\n",
    "                                                   accuracy))"
   ]
  },
  {
   "cell_type": "markdown",
   "metadata": {
    "id": "4rQYeO9es-RZ"
   },
   "source": [
    "# Discussion"
   ]
  },
  {
   "cell_type": "markdown",
   "metadata": {
    "id": "tHCs87Td_QCN"
   },
   "source": [
    "Present your results and way to get better results.\n",
    "Discuss about the model and how you can change it to get better results ?\n",
    "e.g :\n",
    "\n",
    "* More Layers\n",
    "* BatchNorm  \n",
    "* Dropout \n",
    "* Optimizer\n",
    "*  Learning Rate \n",
    "*  Batch Size \n",
    "* ...\n",
    "\n",
    "If you have time, apply these changes and show us better results.\n",
    "\n",
    "\n",
    "In the next lab we will be introducing a useful framework for PyTorch.\n"
   ]
  }
 ],
 "metadata": {
  "accelerator": "GPU",
  "colab": {
   "collapsed_sections": [],
   "include_colab_link": true,
   "name": "CIFAR10_Pytorch.ipynb",
   "provenance": []
  },
  "kernelspec": {
   "display_name": "Python 3",
   "name": "python3"
  },
  "language_info": {
   "name": "python"
  }
 },
 "nbformat": 4,
 "nbformat_minor": 0
}
