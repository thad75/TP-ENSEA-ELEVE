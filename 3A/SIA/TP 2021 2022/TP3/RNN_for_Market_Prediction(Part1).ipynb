{
 "cells": [
  {
   "cell_type": "markdown",
   "metadata": {
    "id": "nLhU5BSXKyiz"
   },
   "source": [
    "# RNN for Market Prediction\n",
    "\n",
    "Goal of this lab :\n",
    "* Use Vanilla Pytorch/Lightning\n",
    "* Use RNN model\n",
    "* Have a hands on on Time Series\n",
    "* become Rich\n",
    "\n",
    "We are giving you less details as you're neraly engineers. Use your mind. Feel free to use Lightning Framework. Think as a DL Engineer/ Data Scientist/ Data Analyst"
   ]
  },
  {
   "cell_type": "code",
   "execution_count": null,
   "metadata": {
    "id": "O-mWZmp8R2TX"
   },
   "outputs": [],
   "source": [
    "import matplotlib.pyplot as plt\n",
    "import pandas as pd\n",
    "from sklearn.preprocessing import MinMaxScaler\n",
    "from sklearn.model_selection import train_test_split\n",
    "import numpy as  np\n",
    "import torch\n",
    "from torch.utils.data import Dataset\n",
    "from os import listdir\n",
    "from os.path import isfile, join\n",
    "import torch.nn as nn\n",
    "from torch.utils.data import Dataset, DataLoader\n",
    "import numpy as np\n",
    "import torch.optim as optim"
   ]
  },
  {
   "cell_type": "markdown",
   "metadata": {
    "id": "s4IHZ7slLIxS"
   },
   "source": [
    "A stock price is a Time Series of length N. We're going to try to predict the Closing Value of S&P500.\n",
    "here a link toward its current value :https://www.boursorama.com/bourse/indices/cours/%24INX/\n",
    "\n",
    "We will be using an RNN Model to predict the stock market the day after the current one. You have created the RNN module in the previous lab part. \n",
    "Now that you understand how an RNN is applied into a real world application, we're going to be practical with it. First let's do some Data work"
   ]
  },
  {
   "cell_type": "markdown",
   "metadata": {
    "id": "ydMj6DndRwP4"
   },
   "source": [
    "# Some Preprocessing"
   ]
  },
  {
   "cell_type": "markdown",
   "metadata": {
    "id": "AkM_OY7aLMJ9"
   },
   "source": [
    "Load and describe the csv file. If you can show some statistics on the dataset. \n",
    "Use Pandas framework to load the csv file to a Dataframe.\n",
    "* What data are your seeing ?\n",
    "* What are the name of the columns ?\n",
    "* Which one do you think will be useful for us ?\n",
    "\n",
    "We will be focusing on the 'Close' column. \n",
    "\n",
    "*   What issues could be found in the 'Close' column ? How would you handle these values ? Write a preprocess function that handles these outliers.\n",
    "*   Do we need to normalize the Data ? If yes why ?\n",
    "\n",
    "Using what you saw in the previous labs propose a scaling range : \n",
    "\n",
    "*   [0,1]\n",
    "*   [-1,1]\n",
    "*   [0,255]\n",
    "\n",
    "\n",
    "Using MinMaxScaler normalize the data and Isolate the 'Close' column.\n",
    "\n",
    "* Plot some useful data. Remember your Machine Learning classes\n",
    "\n",
    "\n",
    "\n"
   ]
  },
  {
   "cell_type": "code",
   "execution_count": null,
   "metadata": {
    "id": "FDlmieupR35e"
   },
   "outputs": [],
   "source": [
    "df = "
   ]
  },
  {
   "cell_type": "code",
   "execution_count": null,
   "metadata": {
    "id": "crqJzYCyLcWB"
   },
   "outputs": [],
   "source": [
    "def preprocess_df(train):\n",
    "    #TODO : Preprocess the Dataset\n",
    "    return train\n",
    "\n",
    "scaler =\n",
    "df[[_]]= scaler.fit_transform(df[[_]])\n",
    "df = "
   ]
  },
  {
   "cell_type": "markdown",
   "metadata": {
    "id": "JWiIK4I0Mr98"
   },
   "source": [
    "# Train, Validation, Test ?\n",
    "We are going to use part of the data to predict how would S&P indice behaves after it.\n",
    "We need to create a Dataset.  First we are going to split the Dataset into training and testing dataset. \n",
    "* How would you create your dataset ? Use train_test_split\n",
    "* Do we shuffle our Data ?\n",
    "* Are the Data linked ?\n",
    "\n",
    "Propose a Train, Test split value and create the Datasets"
   ]
  },
  {
   "cell_type": "code",
   "execution_count": null,
   "metadata": {
    "id": "wedJM4Z8MrBp"
   },
   "outputs": [],
   "source": [
    "train,  test = "
   ]
  },
  {
   "cell_type": "markdown",
   "metadata": {
    "id": "wstfWmTKNbZw"
   },
   "source": [
    "We are going to create a Dataset that is conform to Pytorch Dataset class.\n",
    "The Dataset should take as input :\n",
    "*    Dataframe(s?)\n",
    "*    $N_{window}$ : length of the sequence \n",
    "*    $num_{steps}$ : number of sequences to eat\n",
    "\n",
    "* How should the training happen ?\n",
    "\n",
    "\n",
    "We're feeding the model Time Series which are sequential datas. Each data $p_{i}$ is part of a sequence of length $N_{window}$. We want to predict what could happen after that data.\n",
    "We are sending the data thanks to a sliding non overlapping window of size $N_{window}$. \n",
    "\n",
    "In fact, we will be sending $num_{steps} *N_{window}$ sequences to the model to the model to learn how to approximate  $f(W_0, W_1, \\dots, W_t) \\approx W_{t+1}$ \\\n",
    "where :\n",
    "\n",
    "$W_0 = (p_0, p_1, \\dots, p_{w-1})$\\\n",
    "$W_1 = (p_w, p_{w+1}, \\dots, p_{2w-1}) $\\\n",
    "$W_t = (p_{tw}, p_{tw+1}, \\dots, p_{(t+1)w-1})$\n",
    "\n"
   ]
  },
  {
   "cell_type": "markdown",
   "metadata": {
    "id": "EBK74CfHQcRy"
   },
   "source": [
    "We want the dataset to return the following:\n",
    "for \n",
    "\n",
    "*    $N_{window}$ =3\n",
    "*    $num_{steps}$ =2\n",
    "\n",
    "$\\text{Input}_1 = [[p_0, p_1, p_2], [p_3, p_4, p_5]], \\text{Label}_1 = [p_6, p_7, p_8]$ \\\n",
    "\n",
    "$\\text{Input}_2 = [[p_3, p_4, p_5], [p_6, p_7, p_8]], \\text{Label}_2 = [p_9, p_{10}, p_{11}] $\n",
    "\n",
    "$\\text{Input}_3 = [[p_6, p_7, p_8], [p_9, p_{10}, p_{11}]], \\text{Label}_3 = [p_{12}, p_{13}, p_{14}]$\n",
    "\n",
    "__getitem__ method should return a dictionnary where : \n",
    "*   dict['input'] : is a list of $num_{steps}$ lists of $N_{window}$ elements\n",
    "* dict['label'] : is a list of $N_{window}$ target value"
   ]
  },
  {
   "cell_type": "code",
   "execution_count": null,
   "metadata": {
    "id": "TNNTOKP5Qby_"
   },
   "outputs": [],
   "source": [
    "N_window = 3\n",
    "num_steps = 2"
   ]
  },
  {
   "cell_type": "code",
   "execution_count": null,
   "metadata": {
    "id": "oKJQ_lZyVxJs"
   },
   "outputs": [],
   "source": [
    "class Stock(Dataset):\n",
    "    def __init__(self,df,N_window,num_steps =2,normalized = True):\n",
    "        self.df = df\n",
    "        self.N_window = N_window\n",
    "        self.num_steps =num_steps\n",
    "        self.normalized = normalized\n",
    "\n",
    "    def process_df(self):\n",
    "        \"\"\"\n",
    "        process method should return X,y: \n",
    "        * X is an array of num_steps*N_windows input values\n",
    "        * y is an array of corresponding target values\n",
    "        \"\"\"\n",
    "        data_raw= self.df.to_numpy()\n",
    "        seq = [np.array(data_raw[i * self.N_window: (i + 1) * self.N_window]) \n",
    "                        for i in range(len(data_raw) //self.N_window)]\n",
    "        #TODO : return what's asked                \n",
    "\n",
    "        return X,y\n",
    "\n",
    "    def __len__(self):\n",
    "        '''\n",
    "        Be careful on your len because of the overlapping issues\n",
    "        '''\n",
    "\n",
    "    def __getitem__(self,idx):\n",
    "        \"\"\"\n",
    "        __getitem__ method should return a dictionnary where : \n",
    "        * dict['input'] : is a list of num_{steps} lists of N_{window} elements\n",
    "        * dict['label'] : is a list of N_{window} target value\n",
    "        \"\"\"\n",
    "\n",
    "        return {'input': X[idx], 'label':y[idx]}"
   ]
  },
  {
   "cell_type": "markdown",
   "metadata": {
    "id": "wKs_0x8QTy1B"
   },
   "source": [
    "Alritghty Right.\n",
    "* What are the next steps ? \n",
    "\n",
    "You should be used to it now..."
   ]
  },
  {
   "cell_type": "code",
   "execution_count": null,
   "metadata": {
    "id": "Z7LW1Djzi6oJ"
   },
   "outputs": [],
   "source": []
  },
  {
   "cell_type": "markdown",
   "metadata": {
    "id": "FfM4oYypSjTg"
   },
   "source": [
    "# RNN in Action\n",
    "\n",
    "Let's get to the core. As engineers, let's use a model someone wrote for us. :D    \n",
    "Have a look at https://pytorch.org/docs/stable/generated/torch.nn.RNN.html\n",
    "\n",
    "\n",
    "* What type of model should you create ? Create a RNN model to predict the values. \n",
    "* At the end of your RNN, plug a FC layer, that has as output_size the N_windows. How should this FC layer behave ?\n",
    "* What is your activation function ? Look at your data..\n",
    "* In fact, what is the usage of the FC layer ?\n",
    "\n",
    "Create your model.\n"
   ]
  },
  {
   "cell_type": "code",
   "execution_count": null,
   "metadata": {
    "id": "03Qkpn3Ce5b_"
   },
   "outputs": [],
   "source": [
    "class Model(nn.Module):\n",
    "    def __init__(self, input_size, output_size, hidden_dim, n_layers):\n",
    "        super(Model, self).__init__()\n",
    "        self.hidden_dim = hidden_dim\n",
    "        self.output_size = output_size\n",
    "        self.n_layers = n_layers\n",
    "        self.input_size = input_size\n",
    "\n",
    "        self.rnn =\n",
    "        self.fc = \n",
    "\n",
    "    def forward(self, x):\n",
    "        \n",
    "        return out, hidden\n",
    "    \n",
    "\n",
    "    \n",
    "N_window = _\n",
    "hidden_dim = _\n",
    "n_layers = _\n",
    "net = _"
   ]
  },
  {
   "cell_type": "markdown",
   "metadata": {
    "id": "GNKS_3c4TTya"
   },
   "source": [
    "Let's define our famous criterion and optimizer\n",
    "* What criterion will we be using ? Why ?\n",
    "* What about the optimizer ?"
   ]
  },
  {
   "cell_type": "code",
   "execution_count": null,
   "metadata": {
    "id": "r4ghhudITfy0"
   },
   "outputs": [],
   "source": [
    "criterion = \n",
    "optimizer = "
   ]
  },
  {
   "cell_type": "markdown",
   "metadata": {
    "id": "z-9EEPWgUcZt"
   },
   "source": [
    "# Train the model\n",
    "\n",
    "Here we go. \n",
    "* Write the training loop.\n",
    "\n",
    "\n",
    "Refer to another lab if you need some help in the loop.\n"
   ]
  },
  {
   "cell_type": "code",
   "execution_count": null,
   "metadata": {
    "id": "gsqEak10UeIT"
   },
   "outputs": [],
   "source": [
    "label = []\n",
    "pred = []\n",
    "losses = []\n",
    "\n",
    "for epoch in range(_):\n",
    "        "
   ]
  },
  {
   "cell_type": "markdown",
   "metadata": {
    "id": "rbSyQxZcVij9"
   },
   "source": [
    "Plot the loss and explain what could be happening.\n",
    "* Did your model learn anything ?\n",
    "* Should we train it more ? "
   ]
  },
  {
   "cell_type": "code",
   "execution_count": null,
   "metadata": {
    "id": "27v59ryc5pjD"
   },
   "outputs": [],
   "source": []
  },
  {
   "cell_type": "markdown",
   "metadata": {
    "id": "4xZVw9NKV39O"
   },
   "source": [
    "# Testing time\n",
    "\n",
    "Now that your model is trained, let's test it on the other part of the data.\n",
    "* Explain your testing pipeline\n",
    "* How can we calculate the accuracy of the model\n",
    "* What parameter could be changed to get better prediction ? \n",
    "* Test it on another market."
   ]
  },
  {
   "cell_type": "code",
   "execution_count": null,
   "metadata": {
    "id": "nu5nfp7NB50x"
   },
   "outputs": [],
   "source": [
    "label = []\n",
    "pred = []\n",
    "losses = []\n",
    "with torch.no_grad():        \n",
    "    "
   ]
  },
  {
   "cell_type": "markdown",
   "metadata": {
    "id": "rp0wPCiHDOve"
   },
   "source": [
    "# What do you think ?\n",
    "\n",
    "This lab should be really quick to finish. So we are asking you to make really USEFUL slides.\n",
    "These slides should contain :\n",
    "* Your model and HyperParameters\n",
    "* Your results\n",
    "* What you forecast for the futur\n",
    "* Can we invest now or not ?\n",
    "\n",
    "Think as a DL Engineer/ Data Scientist/ Data Analyst"
   ]
  }
 ],
 "metadata": {
  "colab": {
   "collapsed_sections": [],
   "name": "Copie de RNN for Market Prediction.ipynb",
   "provenance": []
  },
  "kernelspec": {
   "display_name": "Python 3",
   "name": "python3"
  },
  "language_info": {
   "name": "python"
  }
 },
 "nbformat": 4,
 "nbformat_minor": 0
}
