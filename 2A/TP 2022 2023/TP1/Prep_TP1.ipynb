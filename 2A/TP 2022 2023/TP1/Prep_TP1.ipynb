{
  "nbformat": 4,
  "nbformat_minor": 0,
  "metadata": {
    "colab": {
      "name": "Preparation TP.ipynb",
      "provenance": [],
      "toc_visible": true
    },
    "kernelspec": {
      "name": "python3",
      "display_name": "Python 3"
    },
    "language_info": {
      "name": "python"
    }
  },
  "cells": [
    {
      "cell_type": "markdown",
      "source": [
        "# I - Preparatory Questions\n",
        "\n",
        "In order to help you for the incoming Lab, we've prepared few questions that you must answer before coming.\n",
        "\n",
        "Watch these videos and answer the questions :    \n",
        "https://www.coursera.org/lecture/convolutional-neural-networks/why-convolutions-Xv7B5\n",
        "\n",
        "https://www.youtube.com/watch?v=gAKQOZ5zIWg\n",
        "\n",
        "\n",
        "* What is a Loss Function ?\n",
        "* What is a Multi Layer Perceptron ?\n",
        "* What is a Convolutional Layer ?\n",
        "* What is the difference between MLP and Conv Layers ?\n",
        "* What is the purpose of Gradient Descent ?\n",
        "\n",
        "Watch this : https://www.coursera.org/lecture/convolutional-neural-networks/what-is-neural-style-transfer-SA5H8\n",
        "* What is Neural Style Transfer ?\n",
        "* What is a Gram Matrix ?\n",
        "* What is the difference between a Shallow and a Deep Network ?\n",
        "* What is a feature ? Explain it with an example. \n",
        "* What type of features are detected in the earlier layers of a neural net ? later layers ?\n"
      ],
      "metadata": {
        "id": "t6oG5tDLxj-W"
      }
    },
    {
      "cell_type": "markdown",
      "source": [
        "# II - Some Practice on Python "
      ],
      "metadata": {
        "id": "57lJlFpkm8DN"
      }
    },
    {
      "cell_type": "markdown",
      "source": [
        "Now, let's have a quick run on Python. You might have used it before but let's do a quick refreshment"
      ],
      "metadata": {
        "id": "PDJh15dpnoa7"
      }
    },
    {
      "cell_type": "markdown",
      "source": [
        "## a - Defining a function\n",
        "\n",
        "We are going to define few functions. Let's define the following functions:\n",
        "\n",
        "* add\n",
        "* substract\n",
        "* divide\n",
        "* multiply\n",
        "* power\n",
        "\n",
        "**All your functions must take two input arguments a and b **\n",
        "\n",
        "To define a function, it's like matlab :\n",
        "\n",
        "```\n",
        "def function(**kwargs):\n",
        "      # do stuff\n",
        "\n",
        "```"
      ],
      "metadata": {
        "id": "p5t-OYVRn2Qk"
      }
    },
    {
      "cell_type": "code",
      "source": [
        "def add(a,b):\n",
        "\n",
        "def substract(a,b):\n",
        "\n",
        "def divide(a,b):\n",
        "\n",
        "def multiply(a,b):\n",
        "\n",
        "def power(a, b):\n"
      ],
      "metadata": {
        "id": "C0yp6kXInHlo"
      },
      "execution_count": null,
      "outputs": []
    },
    {
      "cell_type": "markdown",
      "source": [
        "Now test the functions"
      ],
      "metadata": {
        "id": "f6MQWc6VqsIR"
      }
    },
    {
      "cell_type": "code",
      "source": [
        "a = \n",
        "b =\n"
      ],
      "metadata": {
        "id": "VrHHUa4eqrn3"
      },
      "execution_count": null,
      "outputs": []
    },
    {
      "cell_type": "markdown",
      "source": [
        "## b - Defining a class\n",
        "\n",
        "So we basically have defined all the functions, but they are 'independant'. However, as you can see, they all have the same goal : Do some calculations...\n",
        "\n",
        "So let's define a basic object : a Calculator. In fact, we are going to create a **Class** which **Attributes** are a and b, to which calculation **Methods** will be applied. Remember your Java Class :')\n",
        "\n",
        "To define a class\n",
        "```\n",
        "class YourClass():\n",
        "\n",
        "    def __init__(self,*kwargs):\n",
        "        # Here you define the attributes of your model. \n",
        "        self.kwargs = kwargs\n",
        "\n",
        "    def method1(self,..):\n",
        "        #do stuff\n",
        "    \n",
        "    ...\n",
        "    \n",
        "```\n",
        "\n",
        "If you still don't understand, look at the following skeleton"
      ],
      "metadata": {
        "id": "d9PyVLSmqbAN"
      }
    },
    {
      "cell_type": "code",
      "source": [
        "# We consider a and b two numbers that we want to apply calculation on.\n",
        "# Define a class that takes as attributes a and b and gather all the previous functions as method of this class \n",
        "# We use self to refer to something that is inside the class, an attribute or a method for example. Self represents an instance of the Class\n",
        "class Calculator():\n",
        "    \n",
        "    def __init__(self,a,b):\n",
        "        # TODO : Fill the attributes initialisation\n",
        "        self.a = ...\n",
        "\n",
        "    \n",
        "    def add(self):\n",
        "        # Call and return the sum of attributes\n",
        "        sum = self.a...\n",
        "\n",
        "    def substract(self):\n",
        "      ...\n",
        "\n",
        "    def divide(self):\n",
        "      ...\n",
        "\n",
        "    def multiply(self):\n",
        "      ...\n",
        "\n",
        "    def power(self):\n",
        "      ..."
      ],
      "metadata": {
        "id": "8m23-Secq1m8"
      },
      "execution_count": null,
      "outputs": []
    },
    {
      "cell_type": "markdown",
      "source": [
        "Now create a calculator object and do some calculation"
      ],
      "metadata": {
        "id": "a4cqYJRvto4j"
      }
    },
    {
      "cell_type": "code",
      "source": [
        "a = \n",
        "b =\n",
        "calculator = Calculator(a,b)\n",
        "# Call the different methods of your class. To call a method use object.method()"
      ],
      "metadata": {
        "id": "1zlXSiy4t044"
      },
      "execution_count": null,
      "outputs": []
    },
    {
      "cell_type": "code",
      "source": [
        "def assert_equals(a, b, message=None):\n",
        "    if message is None:\n",
        "        message = f\"{a} != {b}\"\n",
        "    assert a == b, message"
      ],
      "metadata": {
        "id": "H6_fJEMdKILh"
      },
      "execution_count": null,
      "outputs": []
    },
    {
      "cell_type": "markdown",
      "source": [
        "The following exercices are there for you to practice Python. These are LeekDuck, CodinGame style exercises. In fact, you can find the solution on the internet but it's not interesting for you. \n",
        "\n",
        "\n",
        "Try to do them alone"
      ],
      "metadata": {
        "id": "YyX7nBc3NS_l"
      }
    },
    {
      "cell_type": "markdown",
      "source": [
        "## c - Direct Application"
      ],
      "metadata": {
        "id": "KErP_9p9NfKs"
      }
    },
    {
      "cell_type": "markdown",
      "source": [
        "### Who has the most money?\n",
        "\n",
        "You're going on a trip with some students and it's up to you to keep track of how much money each Student has. A student is defined like this:\n",
        "\n",
        "```python\n",
        "class Student:\n",
        "    def __init__(self, name, fives, tens, twenties):\n",
        "        self.name = name\n",
        "        self.fives = fives\n",
        "        self.tens = tens\n",
        "        self.twenties = twenties\n",
        "```\n",
        "As you can tell, each Student has some fives, tens, and twenties. Your job is to return the name of the student with the most money. If every student has the same amount, then return \"all\".\n",
        "\n",
        "Notes:\n",
        "* Each student will have a unique name\n",
        "* There will always be a clear winner: either one person has the most, or everyone has the same amount\n",
        "* If there is only one student, then that student has the most money"
      ],
      "metadata": {
        "id": "ScubPtrIHweE"
      }
    },
    {
      "cell_type": "code",
      "source": [
        "class Student:\n",
        "    def __init__(self, name, fives, tens, twenties):\n",
        "        self.name = name\n",
        "        self.fives = fives\n",
        "        self.tens = tens\n",
        "        self.twenties = twenties\n",
        "\n",
        "def most_money(students):\n",
        "    # NOTE: the Student class is preloaded\n",
        "\n",
        "    return name\n",
        "\n"
      ],
      "metadata": {
        "id": "ZDUeW0LFHwx-"
      },
      "execution_count": null,
      "outputs": []
    },
    {
      "cell_type": "code",
      "source": [
        "phil = Student(\"Phil\", 2, 2, 1)\n",
        "cam = Student(\"Cameron\", 2, 2, 0)\n",
        "geoff = Student(\"Geoff\", 0, 3, 0)\n",
        "\n",
        "assert_equals(most_money([cam, geoff, phil]), \"Phil\")\n",
        "assert_equals(most_money([cam, geoff]), \"all\")\n",
        "assert_equals(most_money([geoff]), \"Geoff\")"
      ],
      "metadata": {
        "id": "TNPRbNiqHxIM"
      },
      "execution_count": null,
      "outputs": []
    },
    {
      "cell_type": "markdown",
      "source": [
        "### Sum of all the multiples of 3 or 5\n",
        "\n",
        "If we list all the natural numbers below 10 that are multiples of 3 or 5, we get 3, 5, 6 and 9. The sum of these multiples is 23.\n",
        "\n",
        "Finish the solution so that it returns the sum of all the multiples of 3 or 5 below the number passed in. Additionally, if the number is negative, return 0 (for languages that do have them).\n",
        "\n",
        "Note: If the number is a multiple of both 3 and 5, only count it once.\n",
        "\n",
        "Courtesy of projecteuler.net (Problem 1)"
      ],
      "metadata": {
        "id": "Up9OfqZZH5sg"
      }
    },
    {
      "cell_type": "code",
      "source": [
        "def solution(number):\n",
        "    # TODO\n",
        "   \n",
        "    return sum"
      ],
      "metadata": {
        "id": "FyOoM3XEH1HS"
      },
      "execution_count": null,
      "outputs": []
    },
    {
      "cell_type": "code",
      "source": [
        "assert_equals(solution(4), 3)\n",
        "assert_equals(solution(6), 8)\n",
        "assert_equals(solution(16), 60)\n",
        "assert_equals(solution(3), 0)\n",
        "assert_equals(solution(5), 3)\n",
        "assert_equals(solution(15), 45)\n",
        "assert_equals(solution(0), 0)\n",
        "assert_equals(solution(-1), 0)\n",
        "assert_equals(solution(10), 23)\n",
        "assert_equals(solution(20), 78)\n",
        "assert_equals(solution(200), 9168)"
      ],
      "metadata": {
        "id": "wKQtzYecH02n"
      },
      "execution_count": null,
      "outputs": []
    },
    {
      "cell_type": "markdown",
      "source": [
        "### Testing 1-2-3\n",
        "\n",
        "Your team is writing a fancy new text editor and you've been tasked with implementing the line numbering.\n",
        "\n",
        "Write a function which takes a list of strings and returns each line prepended by the correct number.\n",
        "\n",
        "The numbering starts at 1. The format is n: string. Notice the colon and space in between.\n",
        "\n",
        "Examples:\n",
        "```python\n",
        "number([]) # => []\n",
        "number([\"a\", \"b\", \"c\"]) # => [\"1: a\", \"2: b\", \"3: c\"]\n",
        "```"
      ],
      "metadata": {
        "id": "A1uIhsFEM5X3"
      }
    },
    {
      "cell_type": "code",
      "source": [
        "def number(lines):\n",
        "    # TODO\n",
        "\n",
        "    return out"
      ],
      "metadata": {
        "id": "_mDxanXYM5i3"
      },
      "execution_count": null,
      "outputs": []
    },
    {
      "cell_type": "code",
      "source": [
        "assert_equals(number([]), [])\n",
        "assert_equals(number([\"a\", \"b\", \"c\"]), [\"1: a\", \"2: b\", \"3: c\"])"
      ],
      "metadata": {
        "id": "Se2MncNAM6p2"
      },
      "execution_count": null,
      "outputs": []
    },
    {
      "cell_type": "markdown",
      "source": [
        "### Vowel Count\n",
        "\n",
        "Return the number (count) of vowels in the given string.\n",
        "\n",
        "We will consider `a`, `e`, `i`, `o`, `u` as vowels for this problem (but not `y`).\n",
        "\n",
        "The input string will only consist of lower case letters and/or spaces."
      ],
      "metadata": {
        "id": "BTPHSZ3JTC9T"
      }
    },
    {
      "cell_type": "code",
      "source": [
        "def get_count(sentence):\n",
        "    # TODO\n",
        "    vowels = ('a', 'e', 'i', 'o', 'u')\n",
        "\n",
        "    return count"
      ],
      "metadata": {
        "id": "sU2f7WdZTDMe"
      },
      "execution_count": null,
      "outputs": []
    },
    {
      "cell_type": "code",
      "source": [
        "assert_equals(get_count(\"aeiou\"), 5, f\"Incorrect answer for \\\"aeiou\\\"\")\n",
        "assert_equals(get_count(\"y\"), 0, f\"Incorrect answer for \\\"y\\\"\")        \n",
        "assert_equals(get_count(\"bcdfghjklmnpqrstvwxz y\"), 0, f\"Incorrect answer for \\\"bcdfghjklmnpqrstvwxz y\\\"\")\n",
        "assert_equals(get_count(\"\"), 0, f\"Incorrect answer for empty string\")   \n",
        "assert_equals(get_count(\"abracadabra\"), 5, f\"Incorrect answer for \\\"abracadabra\\\"\")"
      ],
      "metadata": {
        "id": "S1N3sHKGTDJa"
      },
      "execution_count": null,
      "outputs": []
    },
    {
      "cell_type": "markdown",
      "source": [
        "### Create Phone Number\n",
        "\n",
        "Write a function that accepts an array of 10 integers (between 0 and 9), that returns a string of those numbers in the form of a phone number.\n",
        "\n",
        "Example\n",
        "```python\n",
        "create_phone_number([1, 2, 3, 4, 5, 6, 7, 8, 9, 0]) # => returns \"(123) 456-7890\"\n",
        "```\n",
        "\n",
        "NOTE: \n",
        "try to do it with list slices and Python's f strings."
      ],
      "metadata": {
        "id": "1YOVEny7UTrJ"
      }
    },
    {
      "cell_type": "code",
      "source": [
        "def create_phone_number(n):\n",
        "    # TODO\n",
        "\n",
        "    return "
      ],
      "metadata": {
        "id": "X-QCGt6HUUxZ"
      },
      "execution_count": null,
      "outputs": []
    },
    {
      "cell_type": "code",
      "source": [
        "assert_equals(create_phone_number([1, 2, 3, 4, 5, 6, 7, 8, 9, 0]), \"(123) 456-7890\")\n",
        "assert_equals(create_phone_number([1, 1, 1, 1, 1, 1, 1, 1, 1, 1]), \"(111) 111-1111\")\n",
        "assert_equals(create_phone_number([1, 2, 3, 4, 5, 6, 7, 8, 9, 0]), \"(123) 456-7890\")\n",
        "assert_equals(create_phone_number([0, 2, 3, 0, 5, 6, 0, 8, 9, 0]), \"(023) 056-0890\")\n",
        "assert_equals(create_phone_number([0, 0, 0, 0, 0, 0, 0, 0, 0, 0]), \"(000) 000-0000\")"
      ],
      "metadata": {
        "id": "hHmoUaH_UUOk"
      },
      "execution_count": null,
      "outputs": []
    },
    {
      "cell_type": "markdown",
      "source": [
        "### Backronym"
      ],
      "metadata": {
        "id": "3d4XEvLSJwCz"
      }
    },
    {
      "cell_type": "markdown",
      "source": [
        "back·ro·nym\n",
        "> An acronym deliberately formed from a phrase whose initial letters spell out a particular word or words, either to create a memorable name or as a fanciful explanation of a word's origin.\n",
        "> \n",
        "> \"Biodiversity Serving Our Nation\", or BISON \n",
        "*(from https://en.oxforddictionaries.com/definition/backronym)*\n",
        "\n",
        "Complete the function to create backronyms. Transform the given string (without spaces) to a backronym, using the preloaded dictionary and return a string of words, separated with a single space (but no trailing spaces).\n",
        "\n",
        "The keys of the preloaded dictionary are uppercase letters A-Z and the values are predetermined words, for example:\n",
        "```python\n",
        "dictionary[\"P\"] == \"perfect\"\n",
        "```\n",
        "\n",
        "**Examples**\n",
        "```python\n",
        "\"dgm\" ==> \"disturbing gregarious mustache\"\n",
        "\"lkj\" ==> \"literal klingon joke\"\n",
        "```"
      ],
      "metadata": {
        "id": "SMtD5nxxLAkw"
      }
    },
    {
      "cell_type": "code",
      "source": [
        "dictionary = {\n",
        "    'A': 'awesome', \n",
        "    'B': 'beautiful', \n",
        "    'C': 'confident', \n",
        "    'D': 'disturbing', \n",
        "    'E': 'eager', \n",
        "    'F': 'fantastic', \n",
        "    'G': 'gregarious', \n",
        "    'H': 'hippy', \n",
        "    'I': 'ingestable', \n",
        "    'J': 'joke',\n",
        "    'K': 'klingon', \n",
        "    'L': 'literal', \n",
        "    'M': 'mustache', \n",
        "    'N': 'newtonian', \n",
        "    'O': 'oscillating', \n",
        "    'P': 'perfect', \n",
        "    'Q': 'queen', \n",
        "    'R': 'rant', \n",
        "    'S': 'stylish', \n",
        "    'T': 'turn', \n",
        "    'U': 'underlying', \n",
        "    'V': 'volcano', \n",
        "    'W': 'weird', \n",
        "    'X': 'xylophone', \n",
        "    'Y': 'yogic', \n",
        "    'Z': 'zero'\n",
        "}\n",
        "\n",
        "def make_backronym(acronym):\n",
        "    # TODO\n",
        "\n",
        "    return "
      ],
      "metadata": {
        "id": "c38x3aVIJ0eC"
      },
      "execution_count": null,
      "outputs": []
    },
    {
      "cell_type": "code",
      "source": [
        "assert_equals(make_backronym(\"dgm\"), \"disturbing gregarious mustache\")\n",
        "assert_equals(make_backronym(\"lkj\"), \"literal klingon joke\")\n",
        "assert_equals(make_backronym('interesting'), 'ingestable newtonian turn eager rant eager stylish turn ingestable newtonian gregarious')\n",
        "assert_equals(make_backronym('codewars'), 'confident oscillating disturbing eager weird awesome rant stylish')"
      ],
      "metadata": {
        "id": "E_-kVNZ4KFBy"
      },
      "execution_count": null,
      "outputs": []
    },
    {
      "cell_type": "markdown",
      "source": [
        "### Ball objects"
      ],
      "metadata": {
        "id": "WKtPUxghGxPE"
      }
    },
    {
      "cell_type": "markdown",
      "source": [
        "Create a class Ball. Ball objects should accept one argument for \"ball type\" when instantiated.\n",
        "\n",
        "If no arguments are given, ball objects should instantiate with a \"ball type\" of \"regular.\"\n",
        "\n",
        "```python\n",
        "ball1 = Ball()\n",
        "ball2 = Ball(\"super\")\n",
        "ball1.ball_type  #=> \"regular\"\n",
        "ball2.ball_type  #=> \"super\"\n",
        "```"
      ],
      "metadata": {
        "id": "q18ruCSoG10a"
      }
    },
    {
      "cell_type": "code",
      "source": [
        "class Ball:\n",
        "    # TODO\n",
        "    def __init__(self,...):\n",
        "        self.ball_type = ..."
      ],
      "metadata": {
        "id": "ou6lxXLpLo44"
      },
      "execution_count": null,
      "outputs": []
    },
    {
      "cell_type": "code",
      "execution_count": null,
      "metadata": {
        "id": "H9vAchNQGsfV"
      },
      "outputs": [],
      "source": [
        "ball1 = Ball()\n",
        "ball2 = Ball(\"super\")\n",
        "assert_equals(ball1.ball_type, \"regular\")\n",
        "assert_equals(ball2.ball_type, \"super\")"
      ]
    },
    {
      "cell_type": "markdown",
      "source": [
        "## d - Optional : Becoz it's Harder"
      ],
      "metadata": {
        "id": "JHFGZ-8ZOF5M"
      }
    },
    {
      "cell_type": "markdown",
      "source": [
        "### Valid Parentheses\n",
        "\n",
        "Write a function that takes a string of parentheses, and determines if the order of the parentheses is valid. The function should return true if the string is valid, and false if it's invalid.\n",
        "\n",
        "Examples\n",
        "```python\n",
        "\"()\"              =>  True\n",
        "\")(()))\"          =>  False\n",
        "\"(\"               =>  False\n",
        "\"(())((()())())\"  =>  True\n",
        "\"hi())(\"          =>  False\n",
        "\"hi(hi)()\"        =>  True\n",
        "```"
      ],
      "metadata": {
        "id": "20Zizb7tWSpQ"
      }
    },
    {
      "cell_type": "code",
      "source": [
        "def valid_parentheses(string):\n",
        "    # TODO\n",
        "    opened = 0\n",
        "\n",
        "    return valid"
      ],
      "metadata": {
        "id": "JDE0CQRtWVJX"
      },
      "execution_count": null,
      "outputs": []
    },
    {
      "cell_type": "code",
      "source": [
        "assert_equals(valid_parentheses(\"()\"), True)\n",
        "assert_equals(valid_parentheses(\")(()))\"), False)\n",
        "assert_equals(valid_parentheses(\"(\"), False)\n",
        "assert_equals(valid_parentheses(\"(())((()())())\"), True)\n",
        "assert_equals(valid_parentheses(\"  (\"),False, \"should work for '  ('\")\n",
        "assert_equals(valid_parentheses(\")test\"),False, \"should work for ')test'\")\n",
        "assert_equals(valid_parentheses(\"\"),True, \"should work for ''\")\n",
        "assert_equals(valid_parentheses(\"hi())(\"),False, \"should work for 'hi())('\")\n",
        "assert_equals(valid_parentheses(\"hi(hi)()\"),True, \"should work for 'hi(hi)()'\")"
      ],
      "metadata": {
        "id": "AVk3ZREeWS13"
      },
      "execution_count": null,
      "outputs": []
    },
    {
      "cell_type": "markdown",
      "source": [
        "### Bit Counting\n",
        "\n",
        "Write a function that takes an integer as input, and returns the number of bits that are equal to one in the binary representation of that number. You can guarantee that input is non-negative.\n",
        "\n",
        "Example: The binary representation of `1234` is `10011010010`, so the function should return `5` in this case"
      ],
      "metadata": {
        "id": "YCB-9iTJYXrI"
      }
    },
    {
      "cell_type": "code",
      "source": [
        "def count_bits(n):\n",
        "    # TODO\n",
        "\n",
        "\n",
        "    return count\n",
        "    "
      ],
      "metadata": {
        "id": "O3KqJZFVYX_I"
      },
      "execution_count": null,
      "outputs": []
    },
    {
      "cell_type": "code",
      "source": [
        "assert_equals(count_bits(0), 0)\n",
        "assert_equals(count_bits(4), 1)\n",
        "assert_equals(count_bits(7), 3)\n",
        "assert_equals(count_bits(9), 2)\n",
        "assert_equals(count_bits(10), 2)"
      ],
      "metadata": {
        "id": "14W5GCMnYYMZ"
      },
      "execution_count": null,
      "outputs": []
    },
    {
      "cell_type": "markdown",
      "source": [
        "### Robot's visits\n",
        "\n",
        "A robot is moving around a 2D-map by receiving sequences of commands to move north, south, west or east. You are provided with a copy of those commands.\n",
        "<div>\n",
        "<img src=\"https://www.researchgate.net/publication/340411416/figure/fig2/AS:877632606437376@1586255327014/Two-dimensional-grid.ppm\" width=\"500\" />\n",
        "</div>\n",
        "Your objective is to determine the largest number of the robot's visits to the same position on the map (the starting position counts as a visits).\n",
        "\n",
        "Unfortunately, you have no idea how the map looks like, nor how big it is."
      ],
      "metadata": {
        "id": "TtetbcnIQGer"
      }
    },
    {
      "cell_type": "code",
      "source": [
        "def max_visit(route):\n",
        "    # TODO\n",
        "    MOV = {\n",
        "    '>':(+1, 0),\n",
        "    '<':(-1, 0),\n",
        "    '^':(0, +1),\n",
        "    'v':(0, -1)\n",
        "    }\n",
        "\n",
        "    x, y = 0, 0\n",
        "\n",
        "    return solution"
      ],
      "metadata": {
        "id": "WFS7iyc4HGO2"
      },
      "execution_count": null,
      "outputs": []
    },
    {
      "cell_type": "code",
      "source": [
        "assert_equals(max_visit('^><'), 2)\n",
        "assert_equals(max_visit('>'), 1)\n",
        "assert_equals(max_visit('>v<^>v<^>v<^>v<^'), 5)\n",
        "assert_equals(max_visit('^^^^^^^^^^vvvvvvvvvv>>>>>>>>>><<<<<<<<<<vvvvvvvvvv^^^^^^^^^^<<<<<<<<<<>>>>>>>>>>'), 5)\n",
        "assert_equals(max_visit('vvvvvvvvvvvvvvvvvvvvvvvvvvvvvvvvvvvvvvvvvvvvvvvvvvvvvvvvvvvvvvvvvvvvvvvvvvvvvvvvvvvvvvvvvvvvvvvvvvvvvvvvvvvvvvvvvvvvvvvvvvvvvvvvvvvvvvvvvvvvvvvvvvvvvvvvvvvvvvvvvvvvvvvvvvvvvvvvvvvvvvvvvvvvvvvvvvvvvvvvvvvvvvvvvvvvvvvvvvvvvvvvvvvvvvvvvvvvvvvvvvvvvvvvvvvvvvvvvvvvvvvvvvvvvvvvvvvvvvvvvvvvvvvvvvvvvvvvvvvvvvvvvvvvvvvvvvvvvvvvvvvvvvvvvvvvvvvvvvvvvvvvvvvvvvvvvvvvvvvvvvvvvvvvvvvvvvvvvvvvvvvvvvvvvvvvvvvvvvvvvvvvvvvvvvvvvvvvvvvvvvvvvvvvvvvvvvvvvvvvvvvvvvvvvvvvvvvvvvvvvvvvvvvvvvvvvvvvvvvvvvvvvvvvvvvvvvvv^v^'), 3)\n",
        "assert_equals(max_visit('vvv<><v<<^>><^^>>^v^<<^v^v^>>v><>v^vv^<>>v^^v<<^<>v<<^v>>v<^^>^><<<v<>v<>><^vvv>><^><^>>v^>>v<<<>^<^<v<>><<<^v<^><v>><^^^>>v^^^>^>v^>><><^<<^v<<v><<^><v><<<>^>^>>v^<^<>^>><<v^<<^v^<v<>><vvv^>^<^>^><<<<v^><^>^>>^v><<>v<>v><^>>vv<<>>><vv<<vv^><v^^v>>^>>v^^>>>vv^vvv^v>v<v>>^^<<vv<^<v<<^v^>>v<>^vv<^^<<<<>v<vv>>v^<^<v<>><<v><vv^<<<>^>v<vv<>>>><v^>^<^^v><<><^^^><vv>^>>vv>v^<><<<^v^<^><^vvv<<<^^vvv>^v>v<v'), 11)"
      ],
      "metadata": {
        "id": "lkRHprx9RJ7o"
      },
      "execution_count": null,
      "outputs": []
    }
  ]
}