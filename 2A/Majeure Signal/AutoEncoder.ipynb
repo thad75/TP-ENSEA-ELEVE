{
  "cells": [
    {
      "cell_type": "markdown",
      "metadata": {
        "id": "view-in-github",
        "colab_type": "text"
      },
      "source": [
        "<a href=\"https://colab.research.google.com/github/thad75/TP_ENSEA_ELEVE/blob/main/2A/Majeure%20Signal/AutoEncoder.ipynb\" target=\"_parent\"><img src=\"https://colab.research.google.com/assets/colab-badge.svg\" alt=\"Open In Colab\"/></a>"
      ]
    },
    {
      "cell_type": "markdown",
      "metadata": {
        "id": "sUZCOMw1Gem5"
      },
      "source": [
        "# Autoencoders\n",
        "\n",
        "Time : 8h"
      ]
    },
    {
      "cell_type": "markdown",
      "metadata": {
        "id": "qc8OA-MQ6n09"
      },
      "source": [
        "# Disclaimer\n",
        "\n",
        "We will refer to :\n",
        "- AutoEncoder as AE\n",
        "- Multi Layer Perceptron as MLP\n"
      ]
    },
    {
      "cell_type": "markdown",
      "metadata": {
        "id": "fup2OihC7Kkv"
      },
      "source": [
        "# Introduction\n",
        "\n",
        "So basically during the part 1 of this lab, we have seen JPEG Compression. JPEG compression is a general algorithm that can compress any image. Let's first see your understanding of the JPEG algorithm :\n",
        "* What are the component in the Encoding part of the algorithm ?\n",
        "* What are the component in the Decoding part of the algorithm ?\n",
        "* Is the down-sampling phase of JPEG linear ? (i.e : in a y = ax+b form)\n",
        "* Is it a lossless compression algorithm ?"
      ]
    },
    {
      "cell_type": "markdown",
      "metadata": {
        "id": "MmPz4EM86n09"
      },
      "source": [
        "# Your Mission : AI for the Win\n",
        "\n",
        "\n",
        "Hi there, we are a Big Company and we need your help. We have some images that we want to compress. We tried the JPEG algorithm but we want to try some new state of the art methods. Your mission is to help us as a Data Scientist in this task by creating a DL model that compresses image with as less loss as possible.\n",
        "\n",
        "Goal of this lab :\n",
        "* Get to know Deep Learning and PyTorch Framework\n",
        "* Learn how to compress images using AutoEncoders\n",
        "* Understand the differences between JPEG compression and Deep Learning for compression\n",
        "\n",
        "Alright, let's get started.\n",
        "\n",
        "<img src=\"https://i.pinimg.com/originals/16/b2/96/16b296afb78ec57d12c931bc72b42eec.gif\">"
      ]
    },
    {
      "cell_type": "code",
      "execution_count": 83,
      "metadata": {
        "id": "315B4XDj9ln-"
      },
      "outputs": [],
      "source": [
        "import torch\n",
        "from torch import nn\n",
        "from torch.nn import functional as F\n",
        "from torch.utils.data import DataLoader\n",
        "from torch.utils.data import random_split\n",
        "from torchvision.datasets import MNIST, CIFAR10\n",
        "from torchvision import transforms\n",
        "import matplotlib.pyplot as plt\n",
        "import numpy as np\n",
        "import skimage\n",
        "from skimage import io\n",
        "import numpy as np\n",
        "from google.colab.patches import cv2_imshow\n",
        "import cv2"
      ]
    },
    {
      "cell_type": "markdown",
      "source": [
        "# Reading the Docs \n",
        "\n",
        "Welcome to Big Company, as usual when beginning a new project you have some reading to do. Take 5-10 minutes to read the following documentation to understand something"
      ],
      "metadata": {
        "id": "2AKbYlYjUiw8"
      }
    },
    {
      "cell_type": "markdown",
      "metadata": {
        "id": "y1iy5iLS6n0_"
      },
      "source": [
        "## What is Deep Learning ?\n",
        "\n",
        "Deep Learning is a branch of AI where you **teach a Model** a certain **task** using a **Dataset**. The Model is composed of **Layers of Neurons** that are updated using a **Loss**. The Model infers a prediction from an **input**. In fact, a Deep Neural Network can be seen as a complex function ${f}$ that maps the input data to a learned space from the Dataset. Note the bold words. These are the important things you need to understand about Deep Learning. "
      ]
    },
    {
      "cell_type": "markdown",
      "metadata": {
        "id": "awLz7ozJ6n1A"
      },
      "source": [
        "## Generalities on AutoEncoder\n",
        "\n",
        "An autoencoder is a model able to reconstruct an input from a Latent Space.\n",
        "An autoencoder (AE) is composed of 2 models :\n",
        "* an encoder model that encodes input data into a latent space\n",
        "* a decoder model that recreates the input image from the latent space\n",
        "\n",
        "\n",
        "\n",
        "Think of it as the Chinese Whispers (Téléphone Arabe en francais) game :\n",
        "- First player says a sentence\n",
        "- Second player repeats the sentence of First player to Third player\n",
        "- Third player repeats the sentence of Second player to Fourth player\n",
        "- ...\n",
        "- The final player repeats the sentence of Before Last Player, which by recurrence should be what First Player said.\n",
        "\n",
        "This basically is an AutoEncoder :\n",
        "- Player 1 sends a Voice signal that is compressed by all the Players\n",
        "- Last Player must reconstruct perfectly the Voice Signal of Player 1 from the compressed signal of all the previous players.\n",
        "\n",
        "\n",
        "<img src = \"https://journals.openedition.org/marges/docannexe/image/364/img-2.jpg\" width=\"400\" height=\"500\">\n",
        "\n",
        "You will code two types of AE models :\n",
        "* MLP style\n",
        "* Conv style\n"
      ]
    },
    {
      "cell_type": "markdown",
      "source": [
        "## Generalities on Deep Learning\n",
        "\n",
        "In this part, we are going to talk about important stuff in Deep Learning."
      ],
      "metadata": {
        "id": "jXLjegt6hTGa"
      }
    },
    {
      "cell_type": "markdown",
      "source": [
        "### Layers\n",
        "\n",
        "A Layer is an important part of a Model. In fact, it is the key element of a DL Model. A Layer is a structure that takes information from a layer to pass them to the next layer. In a DL Network, each layer extracts features. "
      ],
      "metadata": {
        "id": "qhcd3QvKhXdj"
      }
    },
    {
      "cell_type": "markdown",
      "source": [
        "### Activation Functions\n"
      ],
      "metadata": {
        "id": "Z7pUFCRvhYuE"
      }
    },
    {
      "cell_type": "markdown",
      "metadata": {
        "id": "8DLNHchj6n1B"
      },
      "source": [
        "# Data : Exploring the Unknown"
      ]
    },
    {
      "cell_type": "markdown",
      "source": [
        " 🔊 🔊 🔊 **Message from the Data Engineering Team** 🔊 🔊 🔊\n",
        "\n",
        "Wazzaaaaaaaaa, so we gathered Data from everywhere and labeled them. \n",
        "As you asked, we send you the API for you to load the Data. But have a look at the Data, coz you neva know.\n",
        "Have a good day :D\n",
        "\n",
        "Data Engineering Team"
      ],
      "metadata": {
        "id": "FnHFj5KIaGU6"
      }
    },
    {
      "cell_type": "markdown",
      "metadata": {
        "id": "uqws4UbZ6n1B"
      },
      "source": [
        "## Dataset\n",
        "\n",
        "<img src=\"https://labelyourdata.com/img/article-illustrations/splitting_data.png\" height=300>\n",
        "\n",
        "\n",
        "\n",
        "When training  a DL model, we use a Dataset. The model uses the Dataset to learn something for a task. We usually divide the Dataset into Train, Valid, Test Dataset.\n",
        "- Train Dataset is used to train the Model\n",
        "- Validation Dataset is used to watch the Model's training\n",
        "- Test Dataset is used to test the Model\n",
        "\n",
        "\n",
        "<img src=\"https://i.imgflip.com/653bu2.jpg\" height=400>"
      ]
    },
    {
      "cell_type": "markdown",
      "source": [
        "### Understanding the Data : Data Exploration\n",
        "\n",
        "Ok we can look at what the Data Engineering Team sent us. Let's understand the Dataset. Let's use their API.\n",
        "\n",
        "\n",
        "- What is the size of the train dataset ?\n",
        "- What are the elements available in one piece of data ? (image,label)\n",
        "- What is the shape of one piece of data ?\n",
        "- What is the type of one piece of data ?\n",
        "- Plot few elements of the dataset using Matplotlib."
      ],
      "metadata": {
        "id": "2tqEC77hQ4ob"
      }
    },
    {
      "cell_type": "code",
      "execution_count": 4,
      "metadata": {
        "id": "SOdefqiw6n1B",
        "outputId": "3a47eb18-f708-415a-f59b-d171c7301ea5",
        "colab": {
          "base_uri": "https://localhost:8080/",
          "height": 705,
          "referenced_widgets": [
            "44697051acbf49b993813c6a82ac6cc9",
            "8afe6e1a68644d93bded0d3670bff40c",
            "f0681cc891224a909f1a62d221bba1c9",
            "20caaa46a7d54e01a58e61336e3f9e77",
            "40fbbf102fda4fcfa5c508aeb987c301",
            "a520d341dd664ccfaa5c59ad38b325c5",
            "77dde53fea0d4530b06127aa5ebe9eaa",
            "a9ffc940baaf4deb834ed7e083d46b5e",
            "132a39b20cd742eab2c5cfb57ca33958",
            "e202aea0bfd54e19aa48e50b15fb88a4",
            "c06c56cb4aa446fca5a63ddf8735e118",
            "b05838c8c30a4243bfe60b56851f0669",
            "d3263343495a449584ecadfa68b269d9",
            "ae65964de44d4a1184b5863f76ded146",
            "82a5ff24640d4d0db2d92e5785d96d22",
            "1c6c98baded94cb0a93943e682dfab59",
            "98986fa12ecd4b429afc55142459a11e",
            "e2bf39aa39d74f40a83b3dcade5b9005",
            "e6fb8444fe164f87b7db5f59f4363d78",
            "0557e80bb5cf4482b97973b56a1b41b0",
            "d66bf9f5926448bfb08a305d182f407a",
            "a5d6c59e1c03497f87d0a22605089987",
            "db804a35b31b4bc9a60389628db02ffa",
            "f0dd7651c80349db80667d9db1dfe8aa",
            "118fca33f01f4c279e122d13d5a7a8b3",
            "a29e4cd4a5ea42f2b08d88c0f78dab3f",
            "00cce266f0304507b614fdb3687b3735",
            "61c3dca1a1bf45d9a506c47e4c914afd",
            "3883bd349f2145fe972d1846b48666f8",
            "67db70e15b594b65a2d55b16118c5529",
            "26007ec3a39d4998b9a5017a02637276",
            "6dc01974689841dd867be203aa6c0b81",
            "5d227a69953247cdb59804cf5f42494f",
            "b8bf924970634323acb966bab28d5396",
            "8bbd7a6b00f14505928e02db7f7df971",
            "a7f24834d4ab4afca25f48a39ea77e82",
            "18bb0fdd895440a691a862d417bfd0ff",
            "ea9a907a3c5f4040aae884ffbf50cda8",
            "457b905c26f641a7be5973dddba5a4d0",
            "9754c18ca5294538af6ffc82f6f865a0",
            "903a2720a24c44c4a95af7753a4b1cf0",
            "704c53758ae94c87bb0418cb38d008e6",
            "56b74b96e4114e01905878474a23972f",
            "dd9017be7528459b85a8f328ef4b155a"
          ]
        }
      },
      "outputs": [
        {
          "output_type": "stream",
          "name": "stdout",
          "text": [
            "Downloading http://yann.lecun.com/exdb/mnist/train-images-idx3-ubyte.gz\n",
            "Downloading http://yann.lecun.com/exdb/mnist/train-images-idx3-ubyte.gz to MNIST/raw/train-images-idx3-ubyte.gz\n"
          ]
        },
        {
          "output_type": "display_data",
          "data": {
            "application/vnd.jupyter.widget-view+json": {
              "model_id": "44697051acbf49b993813c6a82ac6cc9",
              "version_minor": 0,
              "version_major": 2
            },
            "text/plain": [
              "  0%|          | 0/9912422 [00:00<?, ?it/s]"
            ]
          },
          "metadata": {}
        },
        {
          "output_type": "stream",
          "name": "stdout",
          "text": [
            "Extracting MNIST/raw/train-images-idx3-ubyte.gz to MNIST/raw\n",
            "\n",
            "Downloading http://yann.lecun.com/exdb/mnist/train-labels-idx1-ubyte.gz\n",
            "Downloading http://yann.lecun.com/exdb/mnist/train-labels-idx1-ubyte.gz to MNIST/raw/train-labels-idx1-ubyte.gz\n"
          ]
        },
        {
          "output_type": "display_data",
          "data": {
            "application/vnd.jupyter.widget-view+json": {
              "model_id": "b05838c8c30a4243bfe60b56851f0669",
              "version_minor": 0,
              "version_major": 2
            },
            "text/plain": [
              "  0%|          | 0/28881 [00:00<?, ?it/s]"
            ]
          },
          "metadata": {}
        },
        {
          "output_type": "stream",
          "name": "stdout",
          "text": [
            "Extracting MNIST/raw/train-labels-idx1-ubyte.gz to MNIST/raw\n",
            "\n",
            "Downloading http://yann.lecun.com/exdb/mnist/t10k-images-idx3-ubyte.gz\n",
            "Downloading http://yann.lecun.com/exdb/mnist/t10k-images-idx3-ubyte.gz to MNIST/raw/t10k-images-idx3-ubyte.gz\n"
          ]
        },
        {
          "output_type": "display_data",
          "data": {
            "application/vnd.jupyter.widget-view+json": {
              "model_id": "db804a35b31b4bc9a60389628db02ffa",
              "version_minor": 0,
              "version_major": 2
            },
            "text/plain": [
              "  0%|          | 0/1648877 [00:00<?, ?it/s]"
            ]
          },
          "metadata": {}
        },
        {
          "output_type": "stream",
          "name": "stdout",
          "text": [
            "Extracting MNIST/raw/t10k-images-idx3-ubyte.gz to MNIST/raw\n",
            "\n",
            "Downloading http://yann.lecun.com/exdb/mnist/t10k-labels-idx1-ubyte.gz\n",
            "Downloading http://yann.lecun.com/exdb/mnist/t10k-labels-idx1-ubyte.gz to MNIST/raw/t10k-labels-idx1-ubyte.gz\n"
          ]
        },
        {
          "output_type": "display_data",
          "data": {
            "application/vnd.jupyter.widget-view+json": {
              "model_id": "b8bf924970634323acb966bab28d5396",
              "version_minor": 0,
              "version_major": 2
            },
            "text/plain": [
              "  0%|          | 0/4542 [00:00<?, ?it/s]"
            ]
          },
          "metadata": {}
        },
        {
          "output_type": "stream",
          "name": "stdout",
          "text": [
            "Extracting MNIST/raw/t10k-labels-idx1-ubyte.gz to MNIST/raw\n",
            "\n",
            "torch.Size([1, 28, 28])\n"
          ]
        },
        {
          "output_type": "execute_result",
          "data": {
            "text/plain": [
              "<matplotlib.image.AxesImage at 0x7fec9d793250>"
            ]
          },
          "metadata": {},
          "execution_count": 4
        },
        {
          "output_type": "display_data",
          "data": {
            "image/png": "[encoded data removed]",
            "text/plain": [
              "<Figure size 432x288 with 1 Axes>"
            ]
          },
          "metadata": {
            "needs_background": "light"
          }
        }
      ],
      "source": [
        "# TODO: Load MNIST Train Dataset from TorchVision\n",
        "\n",
        "dataset = MNIST('', train=True, download=True, transform=transforms.ToTensor())\n",
        "\n",
        "# TODO: What's the size of the Dataset ?\n",
        "# TODO: Retrieve one element of the Dataset ? What is the shape of one piece of Data ? \n",
        "\n",
        "size_of_dataset =  len(dataset)\n",
        "data = dataset[0]\n",
        "print(data[0].shape)\n",
        "\n",
        "# TODO: Plot the retrieved Data\n",
        "\n",
        "plt.imshow(data[0].permute(1, 2, 0)[...,0])"
      ]
    },
    {
      "cell_type": "markdown",
      "metadata": {
        "id": "KsqbBFiz6n1C"
      },
      "source": [
        "As you can see, there's a train attribute to the MNIST Class. When it's set to True, you're loading the train Dataset. Hence, change it to false to load the test Dataset"
      ]
    },
    {
      "cell_type": "code",
      "execution_count": 5,
      "metadata": {
        "id": "YVnRxxaa6n1C"
      },
      "outputs": [],
      "source": [
        "mnist_test =  MNIST('', train=False, download=True, transform=transforms.ToTensor())"
      ]
    },
    {
      "cell_type": "markdown",
      "source": [
        "Let's verify that the Data in the Test dataset are in the same style of the Train Dataset :    \n",
        "- Plot few Data from the Test Dataset with its label."
      ],
      "metadata": {
        "id": "y77InD1eSuQF"
      }
    },
    {
      "cell_type": "code",
      "source": [
        "\n",
        "size_of_dataset =  len(dataset)\n",
        "data = dataset[0]\n",
        "print(data[0].shape)\n",
        "\n",
        "# TODO: Plot the retrieved Data\n",
        "\n",
        "plt.imshow(data[0].permute(1, 2, 0)[...,0])"
      ],
      "metadata": {
        "id": "ZGl0JVb9S75z",
        "outputId": "b24713f7-bb86-40bf-ed32-087c086db483",
        "colab": {
          "base_uri": "https://localhost:8080/",
          "height": 300
        }
      },
      "execution_count": 6,
      "outputs": [
        {
          "output_type": "stream",
          "name": "stdout",
          "text": [
            "torch.Size([1, 28, 28])\n"
          ]
        },
        {
          "output_type": "execute_result",
          "data": {
            "text/plain": [
              "<matplotlib.image.AxesImage at 0x7fec9d25d490>"
            ]
          },
          "metadata": {},
          "execution_count": 6
        },
        {
          "output_type": "display_data",
          "data": {
            "image/png": "[encoded data removed]",
            "text/plain": [
              "<Figure size 432x288 with 1 Axes>"
            ]
          },
          "metadata": {
            "needs_background": "light"
          }
        }
      ]
    },
    {
      "cell_type": "markdown",
      "source": [
        "### The third one : Creating the Validation Dataset"
      ],
      "metadata": {
        "id": "6x4LBC7HUk8S"
      }
    },
    {
      "cell_type": "markdown",
      "metadata": {
        "id": "OSbPGhqP6n1D"
      },
      "source": [
        "At this moment, we have a Train and a Test Dataset. We also like having a Validation Dataset. \n",
        "The Validation Dataset allows us to follow the models training. In fact, the Validation Dataset is sent to the model while training. However, no gradients are computed for the Validation Dataset Data resulting in no update on the weights."
      ]
    },
    {
      "cell_type": "code",
      "execution_count": 7,
      "metadata": {
        "id": "HiGz4sBr6n1D"
      },
      "outputs": [],
      "source": [
        "dataset = MNIST('', train=True, download=True, transform=transforms.ToTensor())\n",
        "mnist_test =  MNIST('', train=False, download=True, transform=transforms.ToTensor())\n",
        "mnist_train, mnist_val = random_split(dataset, [55000, 5000])\n"
      ]
    },
    {
      "cell_type": "markdown",
      "metadata": {
        "id": "Blh2vwZu6n1D"
      },
      "source": [
        "### Creating the Dataloader\n",
        "\n",
        "So the Dataset returns one element at a time. In DL, we like sending many items at the same time to the model. We form BATCH of Data using a DataLoader. Dataloader are an iterable over the dataset. It means that the Dataloader will form BATCH of Data for you and fetch them \n",
        "- Create a DataLoader for your Training, Valid and Testing Dataset"
      ]
    },
    {
      "cell_type": "code",
      "execution_count": 8,
      "metadata": {
        "id": "5EM2xVJQ6n1D"
      },
      "outputs": [],
      "source": [
        "train_loader = DataLoader(mnist_train, batch_size=128,drop_last =True)\n",
        "val_loader = DataLoader(mnist_val, batch_size=128,drop_last =True)\n",
        "test_loader = DataLoader(mnist_test, batch_size= 32,drop_last = True)"
      ]
    },
    {
      "cell_type": "markdown",
      "source": [
        "Did the Data Engineer do a good work ?\n",
        "- Is there enough data ?\n",
        "- Are they easily accessible ?\n",
        "- Are they correctly labeled ?\n",
        "\n"
      ],
      "metadata": {
        "id": "eHI5FPtkbiY_"
      }
    },
    {
      "cell_type": "markdown",
      "metadata": {
        "id": "utu6siUB6n1D"
      },
      "source": [
        "# Creating the Model : The AutoEncoder\n",
        "\n",
        "Now that we saw what the data was and created our datasets, we need to fullfil our mission. We need a model.\n",
        "\n",
        "<img src=\"https://i.imgflip.com/640uob.jpg\" height=300>\n",
        "\n",
        "A Senior Data Scientist said that we should explore the path of AutoEncoders ! Alright let's write some readable codes. Our code must be modulable and easy to read. We should try two types of AutoEncoders :    \n",
        "- MLP Style\n",
        "- Conv Style\n",
        "\n",
        "The Senior Data Scientist gave some instructions for us to follow.\n",
        "\n",
        "- Use PyTorch and Create Modulable and Stackable Models that inherits from nn.Module\n",
        "- Choose wisely our Optimizer and Loss"
      ]
    },
    {
      "cell_type": "markdown",
      "metadata": {
        "id": "vjUHGbOi6n1E"
      },
      "source": [
        "## MLP Style : Exploring the Neurons\n",
        "\n",
        "<img src='https://www.researchgate.net/publication/344394387/figure/fig1/AS:974657746399232@1609387923440/Figure-Computational-Schematics-of-the-MLP-and-the-autoencoder.png'>\n",
        "\n",
        "\n",
        "As per what the Senior Data Scientist said, we will first try a MLP AE.\n",
        "We have to create few nets:\n",
        "- MLPDown : a Linear model and its activation function that compresses the Input\n",
        "- Encoder : a stack of multiples MLPDown to create the compressed version of the Image\n",
        "- MLPUp : a Linear model and its activation function that decompresses the Input\n",
        "- Decoder : a stack of multiple MLPUp to recreate the Input Image from the compression.\n",
        "\n"
      ]
    },
    {
      "cell_type": "markdown",
      "source": [
        "## Some more theory..\n",
        "\n",
        "In fact, we can look at the model as a big function :\n",
        "\n",
        "* The Encoder : This part of the model compresses the input image to a compressed version of it, where $f(x)= z$, where $x$ is the input image, and $z$ the compressed representation of it.\n",
        "* The Decoder : This part of the model decompresses the compressed representation $z$ to the decompressed image $\\tilde{x}$, in other terms we have a function $g$ where, $\\tilde{x} = g(z)$\n",
        "* The AutoEncoder : by stacking the Encoder and the Decoder, and as we want $\\tilde{x} = x$ (a.k.a the reconstructed image as similar as the input image), we can rewrite the AE as $\\tilde{x} = g(z) = g\\circ f(x)=  x$ where $g= f^{-1}$"
      ],
      "metadata": {
        "id": "Bhii1juKHd61"
      }
    },
    {
      "cell_type": "markdown",
      "source": [
        "\n",
        "\n",
        "The bottleneck forces a compressed representation of the original input. "
      ],
      "metadata": {
        "id": "8Xlpn9YjfZ0I"
      }
    },
    {
      "cell_type": "markdown",
      "metadata": {
        "id": "F3pt1m726n1E"
      },
      "source": [
        "Quick Tips : A PyTorch module is usually composed of two methods : \n",
        "\n",
        "- Init to initialize the class\n",
        "- forward to forward the data through your model"
      ]
    },
    {
      "cell_type": "markdown",
      "source": [
        "#### Creating a Model in PyTorch\n",
        "\n",
        "Creating a model in PyTorch is simple. A PyTorch is an object that inherits from nn.Module. The pseudo-code is the following :     \n",
        "\n",
        "A model in PyTorch is defined as follows:\n",
        "\n",
        "```\n",
        "class Model(nn.Module):\n",
        "  def __init__(self,...):\n",
        "    \"\"\"\"\n",
        "    Defines the model. You can put the input size as a parameter if needed..\n",
        "    \"\"\"\"\n",
        "    super().__init__() # to init the main class\n",
        "    self.layers = ... # defining the model : could be Conv2d, Linear, RNN, LSTM\n",
        "\n",
        "\n",
        "  def forward(self,x):\n",
        "    \"\"\"\n",
        "    The input x is forwarded through the neural net. \n",
        "    \"\"\"\n",
        "    output = self.layers(x)\n",
        "    return output\n",
        "\n",
        "  # Other methods go down\n",
        "```\n",
        "\n",
        "More informations : https://pytorch.org/docs/stable/nn.html\n"
      ],
      "metadata": {
        "id": "UvnEBg0ahMa1"
      }
    },
    {
      "cell_type": "markdown",
      "source": [
        "### Correcting the Mistakes\n",
        "\n",
        "First, we will try a really simple model :\n",
        "* an Input Dense Layer\n",
        "* a Latent Space\n",
        "* an Output Dense Layer\n",
        "We have received some codes from the other members of the Deep Learning Engineering Team. Looks like there are some mistakes.. Let's correct them."
      ],
      "metadata": {
        "id": "T730pWdwLRXh"
      }
    },
    {
      "cell_type": "code",
      "source": [
        "class AutoEncoder_MLP(nn.Module):\n",
        "  def __init__(self, input_size, compressed_space_size):\n",
        "    \"\"\"\n",
        "    The model is an Input Layer, a Hidden Layer and an Output layer \n",
        "    \"\"\"\n",
        "    super().__init__() # to init the main class\n",
        "    self.input_size = input_size\n",
        "    self.output_size = input_size\n",
        "    self.compressed_space_size = compressed_space_size\n",
        "    self.input = nn.Sequential(nn.Linear(self.input_size, self.compressed_space_size),\n",
        "                               nn.ReLU()) \n",
        "    self.output = nn.Sequential(nn.Linear(self.compressed_space_size,self.output_size ),\n",
        "                               nn.Sigmoid())\n",
        "\n",
        "\n",
        "  def forward(self,x):\n",
        "    \"\"\"\n",
        "    The input x is forwarded through the neural net. \n",
        "    \"\"\"\n",
        "    compressed_image = self.input(x)\n",
        "    decompressed_image = self.output(compressed_image)\n",
        "    return decompressed_image\n",
        "\n",
        "\n",
        "model = AutoEncoder_MLP(28*28,128)"
      ],
      "metadata": {
        "id": "bxvGXm9rLx2W"
      },
      "execution_count": 94,
      "outputs": []
    },
    {
      "cell_type": "markdown",
      "metadata": {
        "id": "7N8KQNJy6n1F"
      },
      "source": [
        "# Training\n",
        "\n",
        "We sent our code to the Senior Data Scientist and he validated our code. We can train the model. We have a Model and a Dataset. We need few more things..\n",
        "\n"
      ]
    },
    {
      "cell_type": "markdown",
      "source": [
        "## A Loss\n",
        "\n",
        "We need a Loss Function. The Loss function must tell us how far our predictions are from the Reality. It could be by comparing the distribution of two input data, or by directly comparing using distances the data.\n",
        "\n",
        "Let's reason. We are recreating an Image that is compressed. It means that the recreated image must be a similar as the original image. i.e $\\tilde{x} = x$\n",
        "\n",
        "<img src=\"https://i.imgflip.com/653jbl.jpg\" height=400>\n"
      ],
      "metadata": {
        "id": "5MqMXbQw_1Kr"
      }
    },
    {
      "cell_type": "markdown",
      "source": [
        "\n",
        "- How can you calculate the similarity between two vectors ?\n",
        "- What type of loss do you know that calculates the distance between two inputs ?"
      ],
      "metadata": {
        "id": "cjJwaIhlVrWD"
      }
    },
    {
      "cell_type": "code",
      "source": [
        "criterion = nn.MSELoss()"
      ],
      "metadata": {
        "id": "Am2fuauUBoUd"
      },
      "execution_count": 10,
      "outputs": []
    },
    {
      "cell_type": "markdown",
      "source": [
        "## An Optimizer\n",
        "\n",
        "<img src=\"https://i.imgflip.com/640sfs.jpg\" height= 400>\n",
        "\n",
        "We need something to update the weights of the model. In fact, we need to perform Gradient Descent to recalculate the weights of each layers regarding the model's predictions. The optimizer will search for an Optimum. However, it needs a step to perform this research. This step is called the Learning Rate. The learning rate has a huge effect on the learning. \n",
        "\n",
        "<img src=https://miro.medium.com/max/918/0*uIa_Dz3czXO5iWyI. height =300>"
      ],
      "metadata": {
        "id": "vdJa2rgV___i"
      }
    },
    {
      "cell_type": "code",
      "source": [
        "learning_rate = 1e-3\n",
        "optimizer = torch.optim.Adam(model.parameters(), lr=learning_rate )"
      ],
      "metadata": {
        "id": "7lykHsQ-HrMz"
      },
      "execution_count": 11,
      "outputs": []
    },
    {
      "cell_type": "markdown",
      "source": [
        "## Some Hyper Parameters\n",
        "\n",
        "Now we have to define some hyperparameters for the training."
      ],
      "metadata": {
        "id": "ssV_ZjB6Hrpk"
      }
    },
    {
      "cell_type": "markdown",
      "source": [
        "## Training\n",
        "\n",
        "Now that we have everything that is needed for training, we have to create the training loop. The loop consists of :\n",
        "* Sending Data through the model to obtain Predictions\n",
        "* Computing the Loss \n",
        "* Backwarding the Loss using Gradients \n",
        "* Logging the losses and accuracies (if exists)"
      ],
      "metadata": {
        "id": "9sVerRhLIdpI"
      }
    },
    {
      "cell_type": "code",
      "source": [
        "num_epochs = 20\n",
        "device = 'cuda' if torch.cuda.is_available() else 'cpu'\n",
        "net = model.to(device)\n",
        "\n",
        "for epoch in range(num_epochs) : \n",
        "    running_loss_t,running_loss_v = 0.0, 0.0\n",
        "    for i, data in enumerate(train_loader, 0): \n",
        "        # TODO : load the data into two variables\n",
        "        image, label = data\n",
        "        # TODO : reshape the input image so that it fit the input layers neuron numbers. Don't forget the Batch Size, the 1rst dimension must always be the Batch Size\n",
        "        image, label = data[0].view(data[0].shape[0],-1).to(device), data[1]\n",
        "        optimizer.zero_grad()\n",
        "        outputs = net(image)\n",
        "        outputs = outputs.view(data[0].shape)\n",
        "        loss = criterion(outputs, data[0].to(device))\n",
        "        loss.backward()\n",
        "        optimizer.step()\n",
        "        running_loss_t += loss.item()\n",
        "        if i == 50:\n",
        "          running_loss_t= running_loss_t/50\n",
        "          print('training loss is :',loss)\n",
        "    with torch.no_grad():\n",
        "      for i, data in enumerate(val_loader, 0):    \n",
        "        image, label = data[0].view(data[0].shape[0],-1).to(device), data[1]\n",
        "        outputs = net(image)\n",
        "        outputs = outputs.view(data[0].shape)\n",
        "        loss = criterion(outputs, data[0].to(device))\n",
        "        running_loss_v += loss.item()\n",
        "        if i == 50:\n",
        "            running_loss_v= running_loss_v/50\n",
        "            print('validation loss is :',loss)\n"
      ],
      "metadata": {
        "id": "v_9nrxJj7Bj6",
        "outputId": "273b3b98-e747-4686-ab3e-c4dfa69e225f",
        "colab": {
          "base_uri": "https://localhost:8080/"
        }
      },
      "execution_count": 12,
      "outputs": [
        {
          "output_type": "stream",
          "name": "stdout",
          "text": [
            "training loss is : tensor(0.0663, device='cuda:0', grad_fn=<MseLossBackward0>)\n",
            "training loss is : tensor(0.0179, device='cuda:0', grad_fn=<MseLossBackward0>)\n",
            "training loss is : tensor(0.0094, device='cuda:0', grad_fn=<MseLossBackward0>)\n",
            "training loss is : tensor(0.0060, device='cuda:0', grad_fn=<MseLossBackward0>)\n",
            "training loss is : tensor(0.0045, device='cuda:0', grad_fn=<MseLossBackward0>)\n",
            "training loss is : tensor(0.0037, device='cuda:0', grad_fn=<MseLossBackward0>)\n",
            "training loss is : tensor(0.0032, device='cuda:0', grad_fn=<MseLossBackward0>)\n",
            "training loss is : tensor(0.0029, device='cuda:0', grad_fn=<MseLossBackward0>)\n",
            "training loss is : tensor(0.0027, device='cuda:0', grad_fn=<MseLossBackward0>)\n",
            "training loss is : tensor(0.0026, device='cuda:0', grad_fn=<MseLossBackward0>)\n",
            "training loss is : tensor(0.0025, device='cuda:0', grad_fn=<MseLossBackward0>)\n",
            "training loss is : tensor(0.0024, device='cuda:0', grad_fn=<MseLossBackward0>)\n",
            "training loss is : tensor(0.0023, device='cuda:0', grad_fn=<MseLossBackward0>)\n",
            "training loss is : tensor(0.0022, device='cuda:0', grad_fn=<MseLossBackward0>)\n",
            "training loss is : tensor(0.0022, device='cuda:0', grad_fn=<MseLossBackward0>)\n",
            "training loss is : tensor(0.0021, device='cuda:0', grad_fn=<MseLossBackward0>)\n",
            "training loss is : tensor(0.0021, device='cuda:0', grad_fn=<MseLossBackward0>)\n",
            "training loss is : tensor(0.0020, device='cuda:0', grad_fn=<MseLossBackward0>)\n",
            "training loss is : tensor(0.0020, device='cuda:0', grad_fn=<MseLossBackward0>)\n",
            "training loss is : tensor(0.0020, device='cuda:0', grad_fn=<MseLossBackward0>)\n"
          ]
        }
      ]
    },
    {
      "cell_type": "markdown",
      "source": [
        "## Testing the Compression\n",
        "\n",
        "Now that we trained our model, let's test it on the test dataset. What does testing mean ? Wait there's an email from the senior Data Scientist :\n",
        "\n",
        "\n",
        "---\n",
        "\n",
        " 🔊 🔊 🔊 **Message from the Senior Data Scientist** 🔊 🔊 🔊\n",
        "\n",
        "Sup' heard you've trained your model. \n",
        "Ok so let's test it, shall we ?\n",
        "Take the test dataloader, iterate through it and send the test data to the model. We need to check how well the decompressed image is..\n",
        "Don't forget to delete all gradients calculations, it takes time and space for nothing. \n",
        "\n",
        "\n",
        "---\n",
        "\n",
        "\n",
        "\n"
      ],
      "metadata": {
        "id": "6rFLeJkes8Ll"
      }
    },
    {
      "cell_type": "markdown",
      "source": [
        "Interesting, the Senior talked about deleting all gradient calculations \n",
        "* Why must we not compute the gradients for the testing step ?"
      ],
      "metadata": {
        "id": "FISqPpOGuGHC"
      }
    },
    {
      "cell_type": "code",
      "source": [
        "import torch\n",
        "import torchvision\n",
        "import torchvision.transforms as transform\n",
        "import matplotlib.pyplot as plt\n",
        "import numpy as np\n",
        "\n",
        "def imshow(img,name= 'GT'):\n",
        "    npimg = img.numpy()\n",
        "    plt.imshow(np.transpose(npimg, (1, 2, 0)))\n",
        "    plt.title(name)\n",
        "    plt.show()\n",
        "\n",
        "with torch.no_grad():\n",
        "  running_loss = []\n",
        "  for i, data in enumerate(test_loader, 0):    \n",
        "    image, label = data[0].view(data[0].shape[0],-1).to(device), data[1]\n",
        "    outputs = net(image)\n",
        "    outputs = outputs.view(data[0].shape)\n",
        "\n",
        "    loss = criterion(outputs, data[0].to(device))\n",
        "    print(loss)\n",
        "    running_loss.append(loss)\n",
        "\n",
        "# Plot the last batch\n",
        "imshow(torchvision.utils.make_grid(outputs.detach().cpu()),'Pred')\n",
        "imshow(torchvision.utils.make_grid(data[0]),'GT')\n",
        "sum(running_loss)"
      ],
      "metadata": {
        "colab": {
          "base_uri": "https://localhost:8080/",
          "height": 1000
        },
        "id": "1AB-kxbEtIbt",
        "outputId": "8da0c756-606c-41b9-bd55-f325d966a1f5"
      },
      "execution_count": 13,
      "outputs": [
        {
          "output_type": "stream",
          "name": "stdout",
          "text": [
            "tensor(0.0018, device='cuda:0')\n",
            "tensor(0.0021, device='cuda:0')\n",
            "tensor(0.0017, device='cuda:0')\n",
            "tensor(0.0018, device='cuda:0')\n",
            "tensor(0.0021, device='cuda:0')\n",
            "tensor(0.0016, device='cuda:0')\n",
            "tensor(0.0018, device='cuda:0')\n",
            "tensor(0.0019, device='cuda:0')\n",
            "tensor(0.0018, device='cuda:0')\n",
            "tensor(0.0020, device='cuda:0')\n",
            "tensor(0.0018, device='cuda:0')\n",
            "tensor(0.0021, device='cuda:0')\n",
            "tensor(0.0018, device='cuda:0')\n",
            "tensor(0.0022, device='cuda:0')\n",
            "tensor(0.0024, device='cuda:0')\n",
            "tensor(0.0020, device='cuda:0')\n",
            "tensor(0.0023, device='cuda:0')\n",
            "tensor(0.0019, device='cuda:0')\n",
            "tensor(0.0018, device='cuda:0')\n",
            "tensor(0.0019, device='cuda:0')\n",
            "tensor(0.0021, device='cuda:0')\n",
            "tensor(0.0019, device='cuda:0')\n",
            "tensor(0.0018, device='cuda:0')\n",
            "tensor(0.0015, device='cuda:0')\n",
            "tensor(0.0021, device='cuda:0')\n",
            "tensor(0.0021, device='cuda:0')\n",
            "tensor(0.0017, device='cuda:0')\n",
            "tensor(0.0020, device='cuda:0')\n",
            "tensor(0.0020, device='cuda:0')\n",
            "tensor(0.0021, device='cuda:0')\n",
            "tensor(0.0018, device='cuda:0')\n",
            "tensor(0.0020, device='cuda:0')\n",
            "tensor(0.0021, device='cuda:0')\n",
            "tensor(0.0019, device='cuda:0')\n",
            "tensor(0.0019, device='cuda:0')\n",
            "tensor(0.0022, device='cuda:0')\n",
            "tensor(0.0018, device='cuda:0')\n",
            "tensor(0.0020, device='cuda:0')\n",
            "tensor(0.0017, device='cuda:0')\n",
            "tensor(0.0024, device='cuda:0')\n",
            "tensor(0.0018, device='cuda:0')\n",
            "tensor(0.0020, device='cuda:0')\n",
            "tensor(0.0022, device='cuda:0')\n",
            "tensor(0.0023, device='cuda:0')\n",
            "tensor(0.0020, device='cuda:0')\n",
            "tensor(0.0023, device='cuda:0')\n",
            "tensor(0.0018, device='cuda:0')\n",
            "tensor(0.0018, device='cuda:0')\n",
            "tensor(0.0017, device='cuda:0')\n",
            "tensor(0.0021, device='cuda:0')\n",
            "tensor(0.0023, device='cuda:0')\n",
            "tensor(0.0019, device='cuda:0')\n",
            "tensor(0.0019, device='cuda:0')\n",
            "tensor(0.0022, device='cuda:0')\n",
            "tensor(0.0022, device='cuda:0')\n",
            "tensor(0.0019, device='cuda:0')\n",
            "tensor(0.0021, device='cuda:0')\n",
            "tensor(0.0016, device='cuda:0')\n",
            "tensor(0.0020, device='cuda:0')\n",
            "tensor(0.0020, device='cuda:0')\n",
            "tensor(0.0021, device='cuda:0')\n",
            "tensor(0.0023, device='cuda:0')\n",
            "tensor(0.0019, device='cuda:0')\n",
            "tensor(0.0020, device='cuda:0')\n",
            "tensor(0.0021, device='cuda:0')\n",
            "tensor(0.0021, device='cuda:0')\n",
            "tensor(0.0019, device='cuda:0')\n",
            "tensor(0.0018, device='cuda:0')\n",
            "tensor(0.0023, device='cuda:0')\n",
            "tensor(0.0020, device='cuda:0')\n",
            "tensor(0.0018, device='cuda:0')\n",
            "tensor(0.0022, device='cuda:0')\n",
            "tensor(0.0019, device='cuda:0')\n",
            "tensor(0.0025, device='cuda:0')\n",
            "tensor(0.0020, device='cuda:0')\n",
            "tensor(0.0020, device='cuda:0')\n",
            "tensor(0.0018, device='cuda:0')\n",
            "tensor(0.0021, device='cuda:0')\n",
            "tensor(0.0019, device='cuda:0')\n",
            "tensor(0.0019, device='cuda:0')\n",
            "tensor(0.0018, device='cuda:0')\n",
            "tensor(0.0019, device='cuda:0')\n",
            "tensor(0.0022, device='cuda:0')\n",
            "tensor(0.0018, device='cuda:0')\n",
            "tensor(0.0022, device='cuda:0')\n",
            "tensor(0.0020, device='cuda:0')\n",
            "tensor(0.0021, device='cuda:0')\n",
            "tensor(0.0020, device='cuda:0')\n",
            "tensor(0.0023, device='cuda:0')\n",
            "tensor(0.0019, device='cuda:0')\n",
            "tensor(0.0019, device='cuda:0')\n",
            "tensor(0.0022, device='cuda:0')\n",
            "tensor(0.0020, device='cuda:0')\n",
            "tensor(0.0017, device='cuda:0')\n",
            "tensor(0.0023, device='cuda:0')\n",
            "tensor(0.0021, device='cuda:0')\n",
            "tensor(0.0016, device='cuda:0')\n",
            "tensor(0.0018, device='cuda:0')\n",
            "tensor(0.0020, device='cuda:0')\n",
            "tensor(0.0022, device='cuda:0')\n",
            "tensor(0.0020, device='cuda:0')\n",
            "tensor(0.0020, device='cuda:0')\n",
            "tensor(0.0018, device='cuda:0')\n",
            "tensor(0.0020, device='cuda:0')\n",
            "tensor(0.0023, device='cuda:0')\n",
            "tensor(0.0017, device='cuda:0')\n",
            "tensor(0.0019, device='cuda:0')\n",
            "tensor(0.0016, device='cuda:0')\n",
            "tensor(0.0019, device='cuda:0')\n",
            "tensor(0.0018, device='cuda:0')\n",
            "tensor(0.0018, device='cuda:0')\n",
            "tensor(0.0022, device='cuda:0')\n",
            "tensor(0.0019, device='cuda:0')\n",
            "tensor(0.0019, device='cuda:0')\n",
            "tensor(0.0018, device='cuda:0')\n",
            "tensor(0.0021, device='cuda:0')\n",
            "tensor(0.0020, device='cuda:0')\n",
            "tensor(0.0026, device='cuda:0')\n",
            "tensor(0.0018, device='cuda:0')\n",
            "tensor(0.0025, device='cuda:0')\n",
            "tensor(0.0024, device='cuda:0')\n",
            "tensor(0.0020, device='cuda:0')\n",
            "tensor(0.0022, device='cuda:0')\n",
            "tensor(0.0024, device='cuda:0')\n",
            "tensor(0.0016, device='cuda:0')\n",
            "tensor(0.0016, device='cuda:0')\n",
            "tensor(0.0017, device='cuda:0')\n",
            "tensor(0.0020, device='cuda:0')\n",
            "tensor(0.0024, device='cuda:0')\n",
            "tensor(0.0021, device='cuda:0')\n",
            "tensor(0.0016, device='cuda:0')\n",
            "tensor(0.0021, device='cuda:0')\n",
            "tensor(0.0021, device='cuda:0')\n",
            "tensor(0.0020, device='cuda:0')\n",
            "tensor(0.0016, device='cuda:0')\n",
            "tensor(0.0020, device='cuda:0')\n",
            "tensor(0.0021, device='cuda:0')\n",
            "tensor(0.0019, device='cuda:0')\n",
            "tensor(0.0019, device='cuda:0')\n",
            "tensor(0.0021, device='cuda:0')\n",
            "tensor(0.0020, device='cuda:0')\n",
            "tensor(0.0017, device='cuda:0')\n",
            "tensor(0.0020, device='cuda:0')\n",
            "tensor(0.0015, device='cuda:0')\n",
            "tensor(0.0024, device='cuda:0')\n",
            "tensor(0.0018, device='cuda:0')\n",
            "tensor(0.0019, device='cuda:0')\n",
            "tensor(0.0019, device='cuda:0')\n",
            "tensor(0.0019, device='cuda:0')\n",
            "tensor(0.0015, device='cuda:0')\n",
            "tensor(0.0023, device='cuda:0')\n",
            "tensor(0.0017, device='cuda:0')\n",
            "tensor(0.0021, device='cuda:0')\n",
            "tensor(0.0017, device='cuda:0')\n",
            "tensor(0.0019, device='cuda:0')\n",
            "tensor(0.0022, device='cuda:0')\n",
            "tensor(0.0014, device='cuda:0')\n",
            "tensor(0.0015, device='cuda:0')\n",
            "tensor(0.0015, device='cuda:0')\n",
            "tensor(0.0014, device='cuda:0')\n",
            "tensor(0.0018, device='cuda:0')\n",
            "tensor(0.0021, device='cuda:0')\n",
            "tensor(0.0020, device='cuda:0')\n",
            "tensor(0.0020, device='cuda:0')\n",
            "tensor(0.0018, device='cuda:0')\n",
            "tensor(0.0016, device='cuda:0')\n",
            "tensor(0.0013, device='cuda:0')\n",
            "tensor(0.0012, device='cuda:0')\n",
            "tensor(0.0018, device='cuda:0')\n",
            "tensor(0.0023, device='cuda:0')\n",
            "tensor(0.0019, device='cuda:0')\n",
            "tensor(0.0020, device='cuda:0')\n",
            "tensor(0.0013, device='cuda:0')\n",
            "tensor(0.0014, device='cuda:0')\n",
            "tensor(0.0014, device='cuda:0')\n",
            "tensor(0.0018, device='cuda:0')\n",
            "tensor(0.0015, device='cuda:0')\n",
            "tensor(0.0020, device='cuda:0')\n",
            "tensor(0.0014, device='cuda:0')\n",
            "tensor(0.0029, device='cuda:0')\n",
            "tensor(0.0023, device='cuda:0')\n",
            "tensor(0.0020, device='cuda:0')\n",
            "tensor(0.0025, device='cuda:0')\n",
            "tensor(0.0017, device='cuda:0')\n",
            "tensor(0.0017, device='cuda:0')\n",
            "tensor(0.0019, device='cuda:0')\n",
            "tensor(0.0022, device='cuda:0')\n",
            "tensor(0.0022, device='cuda:0')\n",
            "tensor(0.0019, device='cuda:0')\n",
            "tensor(0.0021, device='cuda:0')\n",
            "tensor(0.0020, device='cuda:0')\n",
            "tensor(0.0019, device='cuda:0')\n",
            "tensor(0.0019, device='cuda:0')\n",
            "tensor(0.0016, device='cuda:0')\n",
            "tensor(0.0013, device='cuda:0')\n",
            "tensor(0.0014, device='cuda:0')\n",
            "tensor(0.0018, device='cuda:0')\n",
            "tensor(0.0017, device='cuda:0')\n",
            "tensor(0.0020, device='cuda:0')\n",
            "tensor(0.0020, device='cuda:0')\n",
            "tensor(0.0017, device='cuda:0')\n",
            "tensor(0.0015, device='cuda:0')\n",
            "tensor(0.0018, device='cuda:0')\n",
            "tensor(0.0017, device='cuda:0')\n",
            "tensor(0.0034, device='cuda:0')\n",
            "tensor(0.0033, device='cuda:0')\n",
            "tensor(0.0030, device='cuda:0')\n",
            "tensor(0.0025, device='cuda:0')\n",
            "tensor(0.0026, device='cuda:0')\n",
            "tensor(0.0024, device='cuda:0')\n",
            "tensor(0.0023, device='cuda:0')\n",
            "tensor(0.0024, device='cuda:0')\n",
            "tensor(0.0022, device='cuda:0')\n",
            "tensor(0.0017, device='cuda:0')\n",
            "tensor(0.0014, device='cuda:0')\n",
            "tensor(0.0015, device='cuda:0')\n",
            "tensor(0.0014, device='cuda:0')\n",
            "tensor(0.0017, device='cuda:0')\n",
            "tensor(0.0015, device='cuda:0')\n",
            "tensor(0.0015, device='cuda:0')\n",
            "tensor(0.0017, device='cuda:0')\n",
            "tensor(0.0015, device='cuda:0')\n",
            "tensor(0.0019, device='cuda:0')\n",
            "tensor(0.0013, device='cuda:0')\n",
            "tensor(0.0024, device='cuda:0')\n",
            "tensor(0.0023, device='cuda:0')\n",
            "tensor(0.0022, device='cuda:0')\n",
            "tensor(0.0013, device='cuda:0')\n",
            "tensor(0.0011, device='cuda:0')\n",
            "tensor(0.0011, device='cuda:0')\n",
            "tensor(0.0013, device='cuda:0')\n",
            "tensor(0.0020, device='cuda:0')\n",
            "tensor(0.0022, device='cuda:0')\n",
            "tensor(0.0022, device='cuda:0')\n",
            "tensor(0.0020, device='cuda:0')\n",
            "tensor(0.0019, device='cuda:0')\n",
            "tensor(0.0016, device='cuda:0')\n",
            "tensor(0.0015, device='cuda:0')\n",
            "tensor(0.0017, device='cuda:0')\n",
            "tensor(0.0017, device='cuda:0')\n",
            "tensor(0.0019, device='cuda:0')\n",
            "tensor(0.0019, device='cuda:0')\n",
            "tensor(0.0017, device='cuda:0')\n",
            "tensor(0.0018, device='cuda:0')\n",
            "tensor(0.0014, device='cuda:0')\n",
            "tensor(0.0022, device='cuda:0')\n",
            "tensor(0.0015, device='cuda:0')\n",
            "tensor(0.0018, device='cuda:0')\n",
            "tensor(0.0014, device='cuda:0')\n",
            "tensor(0.0016, device='cuda:0')\n",
            "tensor(0.0019, device='cuda:0')\n",
            "tensor(0.0016, device='cuda:0')\n",
            "tensor(0.0013, device='cuda:0')\n",
            "tensor(0.0023, device='cuda:0')\n",
            "tensor(0.0018, device='cuda:0')\n",
            "tensor(0.0023, device='cuda:0')\n",
            "tensor(0.0020, device='cuda:0')\n",
            "tensor(0.0021, device='cuda:0')\n",
            "tensor(0.0028, device='cuda:0')\n",
            "tensor(0.0021, device='cuda:0')\n",
            "tensor(0.0025, device='cuda:0')\n",
            "tensor(0.0020, device='cuda:0')\n",
            "tensor(0.0023, device='cuda:0')\n",
            "tensor(0.0020, device='cuda:0')\n",
            "tensor(0.0016, device='cuda:0')\n",
            "tensor(0.0015, device='cuda:0')\n",
            "tensor(0.0014, device='cuda:0')\n",
            "tensor(0.0029, device='cuda:0')\n",
            "tensor(0.0020, device='cuda:0')\n",
            "tensor(0.0020, device='cuda:0')\n",
            "tensor(0.0017, device='cuda:0')\n",
            "tensor(0.0010, device='cuda:0')\n",
            "tensor(0.0013, device='cuda:0')\n",
            "tensor(0.0011, device='cuda:0')\n",
            "tensor(0.0011, device='cuda:0')\n",
            "tensor(0.0014, device='cuda:0')\n",
            "tensor(0.0016, device='cuda:0')\n",
            "tensor(0.0013, device='cuda:0')\n",
            "tensor(0.0014, device='cuda:0')\n",
            "tensor(0.0018, device='cuda:0')\n",
            "tensor(0.0025, device='cuda:0')\n",
            "tensor(0.0021, device='cuda:0')\n",
            "tensor(0.0025, device='cuda:0')\n",
            "tensor(0.0023, device='cuda:0')\n",
            "tensor(0.0018, device='cuda:0')\n",
            "tensor(0.0017, device='cuda:0')\n",
            "tensor(0.0016, device='cuda:0')\n",
            "tensor(0.0020, device='cuda:0')\n",
            "tensor(0.0022, device='cuda:0')\n",
            "tensor(0.0017, device='cuda:0')\n",
            "tensor(0.0018, device='cuda:0')\n",
            "tensor(0.0017, device='cuda:0')\n",
            "tensor(0.0016, device='cuda:0')\n",
            "tensor(0.0018, device='cuda:0')\n",
            "tensor(0.0020, device='cuda:0')\n",
            "tensor(0.0018, device='cuda:0')\n",
            "tensor(0.0022, device='cuda:0')\n",
            "tensor(0.0018, device='cuda:0')\n",
            "tensor(0.0017, device='cuda:0')\n",
            "tensor(0.0021, device='cuda:0')\n",
            "tensor(0.0025, device='cuda:0')\n",
            "tensor(0.0028, device='cuda:0')\n",
            "tensor(0.0027, device='cuda:0')\n",
            "tensor(0.0023, device='cuda:0')\n",
            "tensor(0.0028, device='cuda:0')\n",
            "tensor(0.0020, device='cuda:0')\n",
            "tensor(0.0015, device='cuda:0')\n",
            "tensor(0.0015, device='cuda:0')\n",
            "tensor(0.0012, device='cuda:0')\n",
            "tensor(0.0018, device='cuda:0')\n",
            "tensor(0.0023, device='cuda:0')\n",
            "tensor(0.0019, device='cuda:0')\n"
          ]
        },
        {
          "output_type": "display_data",
          "data": {
            "image/png": "[encoded data removed]",
            "text/plain": [
              "<Figure size 432x288 with 1 Axes>"
            ]
          },
          "metadata": {
            "needs_background": "light"
          }
        },
        {
          "output_type": "display_data",
          "data": {
            "image/png": "[encoded data removed]",
            "text/plain": [
              "<Figure size 432x288 with 1 Axes>"
            ]
          },
          "metadata": {
            "needs_background": "light"
          }
        },
        {
          "output_type": "execute_result",
          "data": {
            "text/plain": [
              "tensor(0.5997, device='cuda:0')"
            ]
          },
          "metadata": {},
          "execution_count": 13
        }
      ]
    },
    {
      "cell_type": "markdown",
      "metadata": {
        "id": "jak6Xd8h6n1F"
      },
      "source": [
        "Ok now to see the effect of the compression, change the latent_size to different values. For example try : 512, 128, 16, 1.\n",
        "\n",
        "\n",
        "<img src=\"https://i.imgflip.com/64elyi.jpg\" height=200>"
      ]
    },
    {
      "cell_type": "code",
      "source": [
        "# TODO : Change your model \n",
        "model = AutoEncoder(28*28,2048)\n",
        "# Train it\n",
        "num_epochs = 20\n",
        "device = 'cuda' if torch.cuda.is_available() else 'cpu'\n",
        "net = model.to(device)\n",
        "criterion = nn.MSELoss()\n",
        "learning_rate = 1e-3\n",
        "optimizer = torch.optim.Adam(model.parameters(), lr=learning_rate )\n",
        "for epoch in range(num_epochs) : \n",
        "    running_loss_t,running_loss_v = 0.0, 0.0\n",
        "    for i, data in enumerate(train_loader, 0): \n",
        "        # TODO : load the data into two variables\n",
        "        image, label = data\n",
        "        # TODO : reshape the input image so that it fit the input layers neuron numbers. Don't forget the Batch Size, the 1rst dimension must always be the Batch Size\n",
        "        image, label = data[0].view(data[0].shape[0],-1).to(device), data[1]\n",
        "        optimizer.zero_grad()\n",
        "        outputs = net(image)\n",
        "        outputs = outputs.view(data[0].shape)\n",
        "        loss = criterion(outputs, data[0].to(device))\n",
        "        loss.backward()\n",
        "        optimizer.step()\n",
        "        running_loss_t += loss.item()\n",
        "        if i == 50:\n",
        "          running_loss_t= running_loss_t/50\n",
        "          print('training loss is :',loss)\n",
        "    with torch.no_grad():\n",
        "      for i, data in enumerate(val_loader, 0):    \n",
        "        image, label = data[0].view(data[0].shape[0],-1).to(device), data[1]\n",
        "        outputs = net(image)\n",
        "        outputs = outputs.view(data[0].shape)\n",
        "        loss = criterion(outputs, data[0].to(device))\n",
        "        running_loss_v += loss.item()\n",
        "        if i == 50:\n",
        "            running_loss_v= running_loss_v/50\n",
        "            print('validation loss is :',loss)\n",
        "\n",
        "# Test it\n",
        "\n",
        "import torch\n",
        "import torchvision\n",
        "import torchvision.transforms as transform\n",
        "import matplotlib.pyplot as plt\n",
        "import numpy as np\n",
        "\n",
        "with torch.no_grad():\n",
        "  running_loss = []\n",
        "  for i, data in enumerate(test_loader, 0):    \n",
        "    image, label = data[0].view(data[0].shape[0],-1).to(device), data[1]\n",
        "    outputs = net(image)\n",
        "    outputs = outputs.view(data[0].shape)\n",
        "\n",
        "    loss = criterion(outputs, data[0].to(device))\n",
        "    print(loss)\n",
        "    running_loss.append(loss)\n",
        "\n",
        "# Plot the last batch\n",
        "imshow(torchvision.utils.make_grid(outputs.detach().cpu()),'Pred')\n",
        "imshow(torchvision.utils.make_grid(data[0]),'GT')\n",
        "sum(running_loss)"
      ],
      "metadata": {
        "colab": {
          "base_uri": "https://localhost:8080/",
          "height": 1000
        },
        "id": "wRMKAqZdzrVU",
        "outputId": "d915657e-5288-451e-c0d3-4ad714947734"
      },
      "execution_count": 14,
      "outputs": [
        {
          "output_type": "stream",
          "name": "stdout",
          "text": [
            "training loss is : tensor(0.0361, device='cuda:0', grad_fn=<MseLossBackward0>)\n",
            "training loss is : tensor(0.0111, device='cuda:0', grad_fn=<MseLossBackward0>)\n",
            "training loss is : tensor(0.0084, device='cuda:0', grad_fn=<MseLossBackward0>)\n",
            "training loss is : tensor(0.0065, device='cuda:0', grad_fn=<MseLossBackward0>)\n",
            "training loss is : tensor(0.0055, device='cuda:0', grad_fn=<MseLossBackward0>)\n",
            "training loss is : tensor(0.0048, device='cuda:0', grad_fn=<MseLossBackward0>)\n",
            "training loss is : tensor(0.0044, device='cuda:0', grad_fn=<MseLossBackward0>)\n",
            "training loss is : tensor(0.0037, device='cuda:0', grad_fn=<MseLossBackward0>)\n",
            "training loss is : tensor(0.0034, device='cuda:0', grad_fn=<MseLossBackward0>)\n",
            "training loss is : tensor(0.0031, device='cuda:0', grad_fn=<MseLossBackward0>)\n",
            "training loss is : tensor(0.0029, device='cuda:0', grad_fn=<MseLossBackward0>)\n",
            "training loss is : tensor(0.0027, device='cuda:0', grad_fn=<MseLossBackward0>)\n",
            "training loss is : tensor(0.0026, device='cuda:0', grad_fn=<MseLossBackward0>)\n",
            "training loss is : tensor(0.0025, device='cuda:0', grad_fn=<MseLossBackward0>)\n",
            "training loss is : tensor(0.0024, device='cuda:0', grad_fn=<MseLossBackward0>)\n",
            "training loss is : tensor(0.0024, device='cuda:0', grad_fn=<MseLossBackward0>)\n",
            "training loss is : tensor(0.0023, device='cuda:0', grad_fn=<MseLossBackward0>)\n",
            "training loss is : tensor(0.0023, device='cuda:0', grad_fn=<MseLossBackward0>)\n",
            "training loss is : tensor(0.0021, device='cuda:0', grad_fn=<MseLossBackward0>)\n",
            "training loss is : tensor(0.0019, device='cuda:0', grad_fn=<MseLossBackward0>)\n",
            "tensor(0.0018, device='cuda:0')\n",
            "tensor(0.0018, device='cuda:0')\n",
            "tensor(0.0013, device='cuda:0')\n",
            "tensor(0.0013, device='cuda:0')\n",
            "tensor(0.0017, device='cuda:0')\n",
            "tensor(0.0013, device='cuda:0')\n",
            "tensor(0.0018, device='cuda:0')\n",
            "tensor(0.0013, device='cuda:0')\n",
            "tensor(0.0016, device='cuda:0')\n",
            "tensor(0.0020, device='cuda:0')\n",
            "tensor(0.0013, device='cuda:0')\n",
            "tensor(0.0021, device='cuda:0')\n",
            "tensor(0.0015, device='cuda:0')\n",
            "tensor(0.0014, device='cuda:0')\n",
            "tensor(0.0021, device='cuda:0')\n",
            "tensor(0.0014, device='cuda:0')\n",
            "tensor(0.0021, device='cuda:0')\n",
            "tensor(0.0016, device='cuda:0')\n",
            "tensor(0.0012, device='cuda:0')\n",
            "tensor(0.0016, device='cuda:0')\n",
            "tensor(0.0021, device='cuda:0')\n",
            "tensor(0.0015, device='cuda:0')\n",
            "tensor(0.0020, device='cuda:0')\n",
            "tensor(0.0014, device='cuda:0')\n",
            "tensor(0.0022, device='cuda:0')\n",
            "tensor(0.0018, device='cuda:0')\n",
            "tensor(0.0012, device='cuda:0')\n",
            "tensor(0.0021, device='cuda:0')\n",
            "tensor(0.0018, device='cuda:0')\n",
            "tensor(0.0015, device='cuda:0')\n",
            "tensor(0.0013, device='cuda:0')\n",
            "tensor(0.0016, device='cuda:0')\n",
            "tensor(0.0018, device='cuda:0')\n",
            "tensor(0.0018, device='cuda:0')\n",
            "tensor(0.0019, device='cuda:0')\n",
            "tensor(0.0014, device='cuda:0')\n",
            "tensor(0.0016, device='cuda:0')\n",
            "tensor(0.0012, device='cuda:0')\n",
            "tensor(0.0011, device='cuda:0')\n",
            "tensor(0.0019, device='cuda:0')\n",
            "tensor(0.0014, device='cuda:0')\n",
            "tensor(0.0018, device='cuda:0')\n",
            "tensor(0.0020, device='cuda:0')\n",
            "tensor(0.0021, device='cuda:0')\n",
            "tensor(0.0016, device='cuda:0')\n",
            "tensor(0.0017, device='cuda:0')\n",
            "tensor(0.0015, device='cuda:0')\n",
            "tensor(0.0013, device='cuda:0')\n",
            "tensor(0.0014, device='cuda:0')\n",
            "tensor(0.0013, device='cuda:0')\n",
            "tensor(0.0020, device='cuda:0')\n",
            "tensor(0.0016, device='cuda:0')\n",
            "tensor(0.0012, device='cuda:0')\n",
            "tensor(0.0014, device='cuda:0')\n",
            "tensor(0.0019, device='cuda:0')\n",
            "tensor(0.0015, device='cuda:0')\n",
            "tensor(0.0019, device='cuda:0')\n",
            "tensor(0.0015, device='cuda:0')\n",
            "tensor(0.0016, device='cuda:0')\n",
            "tensor(0.0019, device='cuda:0')\n",
            "tensor(0.0018, device='cuda:0')\n",
            "tensor(0.0014, device='cuda:0')\n",
            "tensor(0.0011, device='cuda:0')\n",
            "tensor(0.0013, device='cuda:0')\n",
            "tensor(0.0016, device='cuda:0')\n",
            "tensor(0.0017, device='cuda:0')\n",
            "tensor(0.0017, device='cuda:0')\n",
            "tensor(0.0015, device='cuda:0')\n",
            "tensor(0.0018, device='cuda:0')\n",
            "tensor(0.0015, device='cuda:0')\n",
            "tensor(0.0016, device='cuda:0')\n",
            "tensor(0.0015, device='cuda:0')\n",
            "tensor(0.0015, device='cuda:0')\n",
            "tensor(0.0022, device='cuda:0')\n",
            "tensor(0.0018, device='cuda:0')\n",
            "tensor(0.0015, device='cuda:0')\n",
            "tensor(0.0019, device='cuda:0')\n",
            "tensor(0.0015, device='cuda:0')\n",
            "tensor(0.0014, device='cuda:0')\n",
            "tensor(0.0016, device='cuda:0')\n",
            "tensor(0.0012, device='cuda:0')\n",
            "tensor(0.0014, device='cuda:0')\n",
            "tensor(0.0016, device='cuda:0')\n",
            "tensor(0.0016, device='cuda:0')\n",
            "tensor(0.0014, device='cuda:0')\n",
            "tensor(0.0017, device='cuda:0')\n",
            "tensor(0.0017, device='cuda:0')\n",
            "tensor(0.0013, device='cuda:0')\n",
            "tensor(0.0020, device='cuda:0')\n",
            "tensor(0.0014, device='cuda:0')\n",
            "tensor(0.0016, device='cuda:0')\n",
            "tensor(0.0018, device='cuda:0')\n",
            "tensor(0.0014, device='cuda:0')\n",
            "tensor(0.0014, device='cuda:0')\n",
            "tensor(0.0020, device='cuda:0')\n",
            "tensor(0.0019, device='cuda:0')\n",
            "tensor(0.0014, device='cuda:0')\n",
            "tensor(0.0016, device='cuda:0')\n",
            "tensor(0.0014, device='cuda:0')\n",
            "tensor(0.0020, device='cuda:0')\n",
            "tensor(0.0018, device='cuda:0')\n",
            "tensor(0.0020, device='cuda:0')\n",
            "tensor(0.0016, device='cuda:0')\n",
            "tensor(0.0018, device='cuda:0')\n",
            "tensor(0.0015, device='cuda:0')\n",
            "tensor(0.0016, device='cuda:0')\n",
            "tensor(0.0013, device='cuda:0')\n",
            "tensor(0.0012, device='cuda:0')\n",
            "tensor(0.0012, device='cuda:0')\n",
            "tensor(0.0019, device='cuda:0')\n",
            "tensor(0.0014, device='cuda:0')\n",
            "tensor(0.0014, device='cuda:0')\n",
            "tensor(0.0020, device='cuda:0')\n",
            "tensor(0.0012, device='cuda:0')\n",
            "tensor(0.0016, device='cuda:0')\n",
            "tensor(0.0013, device='cuda:0')\n",
            "tensor(0.0018, device='cuda:0')\n",
            "tensor(0.0016, device='cuda:0')\n",
            "tensor(0.0016, device='cuda:0')\n",
            "tensor(0.0023, device='cuda:0')\n",
            "tensor(0.0021, device='cuda:0')\n",
            "tensor(0.0015, device='cuda:0')\n",
            "tensor(0.0017, device='cuda:0')\n",
            "tensor(0.0020, device='cuda:0')\n",
            "tensor(0.0012, device='cuda:0')\n",
            "tensor(0.0014, device='cuda:0')\n",
            "tensor(0.0013, device='cuda:0')\n",
            "tensor(0.0021, device='cuda:0')\n",
            "tensor(0.0018, device='cuda:0')\n",
            "tensor(0.0019, device='cuda:0')\n",
            "tensor(0.0012, device='cuda:0')\n",
            "tensor(0.0018, device='cuda:0')\n",
            "tensor(0.0018, device='cuda:0')\n",
            "tensor(0.0021, device='cuda:0')\n",
            "tensor(0.0009, device='cuda:0')\n",
            "tensor(0.0015, device='cuda:0')\n",
            "tensor(0.0012, device='cuda:0')\n",
            "tensor(0.0021, device='cuda:0')\n",
            "tensor(0.0017, device='cuda:0')\n",
            "tensor(0.0014, device='cuda:0')\n",
            "tensor(0.0017, device='cuda:0')\n",
            "tensor(0.0012, device='cuda:0')\n",
            "tensor(0.0021, device='cuda:0')\n",
            "tensor(0.0010, device='cuda:0')\n",
            "tensor(0.0018, device='cuda:0')\n",
            "tensor(0.0015, device='cuda:0')\n",
            "tensor(0.0013, device='cuda:0')\n",
            "tensor(0.0014, device='cuda:0')\n",
            "tensor(0.0013, device='cuda:0')\n",
            "tensor(0.0011, device='cuda:0')\n",
            "tensor(0.0017, device='cuda:0')\n",
            "tensor(0.0014, device='cuda:0')\n",
            "tensor(0.0016, device='cuda:0')\n",
            "tensor(0.0013, device='cuda:0')\n",
            "tensor(0.0013, device='cuda:0')\n",
            "tensor(0.0022, device='cuda:0')\n",
            "tensor(0.0017, device='cuda:0')\n",
            "tensor(0.0017, device='cuda:0')\n",
            "tensor(0.0012, device='cuda:0')\n",
            "tensor(0.0014, device='cuda:0')\n",
            "tensor(0.0020, device='cuda:0')\n",
            "tensor(0.0017, device='cuda:0')\n",
            "tensor(0.0014, device='cuda:0')\n",
            "tensor(0.0015, device='cuda:0')\n",
            "tensor(0.0012, device='cuda:0')\n",
            "tensor(0.0013, device='cuda:0')\n",
            "tensor(0.0010, device='cuda:0')\n",
            "tensor(0.0011, device='cuda:0')\n",
            "tensor(0.0015, device='cuda:0')\n",
            "tensor(0.0017, device='cuda:0')\n",
            "tensor(0.0014, device='cuda:0')\n",
            "tensor(0.0018, device='cuda:0')\n",
            "tensor(0.0016, device='cuda:0')\n",
            "tensor(0.0012, device='cuda:0')\n",
            "tensor(0.0015, device='cuda:0')\n",
            "tensor(0.0023, device='cuda:0')\n",
            "tensor(0.0018, device='cuda:0')\n",
            "tensor(0.0023, device='cuda:0')\n",
            "tensor(0.0017, device='cuda:0')\n",
            "tensor(0.0022, device='cuda:0')\n",
            "tensor(0.0018, device='cuda:0')\n",
            "tensor(0.0015, device='cuda:0')\n",
            "tensor(0.0021, device='cuda:0')\n",
            "tensor(0.0019, device='cuda:0')\n",
            "tensor(0.0014, device='cuda:0')\n",
            "tensor(0.0023, device='cuda:0')\n",
            "tensor(0.0027, device='cuda:0')\n",
            "tensor(0.0026, device='cuda:0')\n",
            "tensor(0.0025, device='cuda:0')\n",
            "tensor(0.0027, device='cuda:0')\n",
            "tensor(0.0021, device='cuda:0')\n",
            "tensor(0.0022, device='cuda:0')\n",
            "tensor(0.0022, device='cuda:0')\n",
            "tensor(0.0015, device='cuda:0')\n",
            "tensor(0.0011, device='cuda:0')\n",
            "tensor(0.0012, device='cuda:0')\n",
            "tensor(0.0014, device='cuda:0')\n",
            "tensor(0.0018, device='cuda:0')\n",
            "tensor(0.0017, device='cuda:0')\n",
            "tensor(0.0016, device='cuda:0')\n",
            "tensor(0.0018, device='cuda:0')\n",
            "tensor(0.0012, device='cuda:0')\n",
            "tensor(0.0015, device='cuda:0')\n",
            "tensor(0.0016, device='cuda:0')\n",
            "tensor(0.0018, device='cuda:0')\n",
            "tensor(0.0017, device='cuda:0')\n",
            "tensor(0.0015, device='cuda:0')\n",
            "tensor(0.0013, device='cuda:0')\n",
            "tensor(0.0020, device='cuda:0')\n",
            "tensor(0.0020, device='cuda:0')\n",
            "tensor(0.0014, device='cuda:0')\n",
            "tensor(0.0019, device='cuda:0')\n",
            "tensor(0.0023, device='cuda:0')\n",
            "tensor(0.0026, device='cuda:0')\n",
            "tensor(0.0018, device='cuda:0')\n",
            "tensor(0.0015, device='cuda:0')\n",
            "tensor(0.0014, device='cuda:0')\n",
            "tensor(0.0011, device='cuda:0')\n",
            "tensor(0.0012, device='cuda:0')\n",
            "tensor(0.0014, device='cuda:0')\n",
            "tensor(0.0015, device='cuda:0')\n",
            "tensor(0.0011, device='cuda:0')\n",
            "tensor(0.0017, device='cuda:0')\n",
            "tensor(0.0016, device='cuda:0')\n",
            "tensor(0.0015, device='cuda:0')\n",
            "tensor(0.0019, device='cuda:0')\n",
            "tensor(0.0015, device='cuda:0')\n",
            "tensor(0.0009, device='cuda:0')\n",
            "tensor(0.0008, device='cuda:0')\n",
            "tensor(0.0008, device='cuda:0')\n",
            "tensor(0.0009, device='cuda:0')\n",
            "tensor(0.0016, device='cuda:0')\n",
            "tensor(0.0017, device='cuda:0')\n",
            "tensor(0.0017, device='cuda:0')\n",
            "tensor(0.0016, device='cuda:0')\n",
            "tensor(0.0015, device='cuda:0')\n",
            "tensor(0.0013, device='cuda:0')\n",
            "tensor(0.0015, device='cuda:0')\n",
            "tensor(0.0014, device='cuda:0')\n",
            "tensor(0.0010, device='cuda:0')\n",
            "tensor(0.0016, device='cuda:0')\n",
            "tensor(0.0020, device='cuda:0')\n",
            "tensor(0.0015, device='cuda:0')\n",
            "tensor(0.0017, device='cuda:0')\n",
            "tensor(0.0016, device='cuda:0')\n",
            "tensor(0.0016, device='cuda:0')\n",
            "tensor(0.0013, device='cuda:0')\n",
            "tensor(0.0014, device='cuda:0')\n",
            "tensor(0.0012, device='cuda:0')\n",
            "tensor(0.0020, device='cuda:0')\n",
            "tensor(0.0019, device='cuda:0')\n",
            "tensor(0.0014, device='cuda:0')\n",
            "tensor(0.0009, device='cuda:0')\n",
            "tensor(0.0014, device='cuda:0')\n",
            "tensor(0.0018, device='cuda:0')\n",
            "tensor(0.0020, device='cuda:0')\n",
            "tensor(0.0019, device='cuda:0')\n",
            "tensor(0.0017, device='cuda:0')\n",
            "tensor(0.0020, device='cuda:0')\n",
            "tensor(0.0018, device='cuda:0')\n",
            "tensor(0.0021, device='cuda:0')\n",
            "tensor(0.0015, device='cuda:0')\n",
            "tensor(0.0014, device='cuda:0')\n",
            "tensor(0.0016, device='cuda:0')\n",
            "tensor(0.0021, device='cuda:0')\n",
            "tensor(0.0017, device='cuda:0')\n",
            "tensor(0.0022, device='cuda:0')\n",
            "tensor(0.0028, device='cuda:0')\n",
            "tensor(0.0016, device='cuda:0')\n",
            "tensor(0.0014, device='cuda:0')\n",
            "tensor(0.0011, device='cuda:0')\n",
            "tensor(0.0009, device='cuda:0')\n",
            "tensor(0.0015, device='cuda:0')\n",
            "tensor(0.0009, device='cuda:0')\n",
            "tensor(0.0012, device='cuda:0')\n",
            "tensor(0.0014, device='cuda:0')\n",
            "tensor(0.0011, device='cuda:0')\n",
            "tensor(0.0010, device='cuda:0')\n",
            "tensor(0.0012, device='cuda:0')\n",
            "tensor(0.0015, device='cuda:0')\n",
            "tensor(0.0017, device='cuda:0')\n",
            "tensor(0.0023, device='cuda:0')\n",
            "tensor(0.0021, device='cuda:0')\n",
            "tensor(0.0027, device='cuda:0')\n",
            "tensor(0.0029, device='cuda:0')\n",
            "tensor(0.0025, device='cuda:0')\n",
            "tensor(0.0024, device='cuda:0')\n",
            "tensor(0.0016, device='cuda:0')\n",
            "tensor(0.0022, device='cuda:0')\n",
            "tensor(0.0013, device='cuda:0')\n",
            "tensor(0.0012, device='cuda:0')\n",
            "tensor(0.0011, device='cuda:0')\n",
            "tensor(0.0014, device='cuda:0')\n",
            "tensor(0.0018, device='cuda:0')\n",
            "tensor(0.0012, device='cuda:0')\n",
            "tensor(0.0014, device='cuda:0')\n",
            "tensor(0.0025, device='cuda:0')\n",
            "tensor(0.0019, device='cuda:0')\n",
            "tensor(0.0012, device='cuda:0')\n",
            "tensor(0.0017, device='cuda:0')\n",
            "tensor(0.0016, device='cuda:0')\n",
            "tensor(0.0016, device='cuda:0')\n",
            "tensor(0.0013, device='cuda:0')\n",
            "tensor(0.0018, device='cuda:0')\n",
            "tensor(0.0019, device='cuda:0')\n",
            "tensor(0.0016, device='cuda:0')\n",
            "tensor(0.0013, device='cuda:0')\n",
            "tensor(0.0009, device='cuda:0')\n",
            "tensor(0.0010, device='cuda:0')\n",
            "tensor(0.0013, device='cuda:0')\n",
            "tensor(0.0015, device='cuda:0')\n",
            "tensor(0.0016, device='cuda:0')\n"
          ]
        },
        {
          "output_type": "display_data",
          "data": {
            "image/png": "[encoded data removed]",
            "text/plain": [
              "<Figure size 432x288 with 1 Axes>"
            ]
          },
          "metadata": {
            "needs_background": "light"
          }
        },
        {
          "output_type": "display_data",
          "data": {
            "image/png": "[encoded data removed]",
            "text/plain": [
              "<Figure size 432x288 with 1 Axes>"
            ]
          },
          "metadata": {
            "needs_background": "light"
          }
        },
        {
          "output_type": "execute_result",
          "data": {
            "text/plain": [
              "tensor(0.5054, device='cuda:0')"
            ]
          },
          "metadata": {},
          "execution_count": 14
        }
      ]
    },
    {
      "cell_type": "markdown",
      "source": [
        "## Testing on unseen Data\n",
        "\n",
        "Alright, we can obsviously say that it works pretty fairly on the Test Data. We should be ok nah ?\n",
        "\n",
        "Let's test it on other Data.\n",
        "\n",
        "* Write the code to test the inference on Images taken from the internet."
      ],
      "metadata": {
        "id": "d4dirY6mE_Sp"
      }
    },
    {
      "cell_type": "code",
      "source": [
        "\n",
        "image_filename = \"https://encrypted-tbn0.gstatic.com/images?q=tbn:ANd9GcQLwsAJaf0m-QmpP056GQMqvY3jTD6cF6FU7Q&usqp=CAU\"\n",
        "image_numpy = cv2.cvtColor(skimage.io.imread(image_filename ),cv2.COLOR_BGR2GRAY)\n",
        "transform=transforms.Compose([transforms.ToTensor(),\n",
        "                              transforms.Resize((28,28))])\n",
        "\n",
        "image = transform(image_numpy).unsqueeze(0)\n",
        "print(image.shape)\n",
        "\n",
        "#pred = model(image.view(1,-1).to(device))\n",
        "print(pred.shape)\n",
        "pred = pred.view(image.shape).squeeze(0).squeeze(0)\n",
        "print(pred.shape)\n",
        "\n",
        "fig,axarr = plt.subplots(1, 2)\n",
        "axarr[0].imshow(pred.detach().cpu().numpy())\n",
        "axarr[1].imshow(image.squeeze(0).squeeze(0))\n"
      ],
      "metadata": {
        "colab": {
          "base_uri": "https://localhost:8080/",
          "height": 270
        },
        "id": "z8GcBFKAFCqZ",
        "outputId": "ee036151-818f-4849-a219-3dca1269bb38"
      },
      "execution_count": 81,
      "outputs": [
        {
          "output_type": "stream",
          "name": "stdout",
          "text": [
            "torch.Size([1, 1, 28, 28])\n",
            "torch.Size([28, 28])\n",
            "torch.Size([28, 28])\n"
          ]
        },
        {
          "output_type": "execute_result",
          "data": {
            "text/plain": [
              "<matplotlib.image.AxesImage at 0x7fec905abe90>"
            ]
          },
          "metadata": {},
          "execution_count": 81
        },
        {
          "output_type": "display_data",
          "data": {
            "image/png": "[encoded data removed]",
            "text/plain": [
              "<Figure size 432x288 with 2 Axes>"
            ]
          },
          "metadata": {
            "needs_background": "light"
          }
        }
      ]
    },
    {
      "cell_type": "markdown",
      "source": [
        "* What can you say ?"
      ],
      "metadata": {
        "id": "0UhnIMewpF5K"
      }
    },
    {
      "cell_type": "markdown",
      "source": [
        "# Write your Research\n",
        "\n",
        "Now we need to present our results to the Senior Data Scientist. \n",
        "* Sum up all your research on this subject in 2 pages.\n",
        "\n",
        "You must explain :\n",
        "* The dataset you used \n",
        "* The tests you did\n",
        "* The models you tested\n",
        "* The results you had\n",
        "* The explanation of the results (why it works, why it doesn't)\n",
        "* How can we compute the compression rate of the model ? \n",
        "* Do we need to consider the model's size ?"
      ],
      "metadata": {
        "id": "J8Ma8YUNE3So"
      }
    },
    {
      "cell_type": "markdown",
      "source": [
        "# Convolutional Layer Style : Seeing a Region\n",
        "\n",
        "<img src=\"https://miro.medium.com/max/1838/1*LSYNW5m3TN7xRX61BZhoZA.png\" height = 300>\n",
        "\n",
        "The first sprint is over. The Senior Data Scientist sent a new message 🇮\n",
        "\n",
        "\n",
        "---\n",
        " 🔊 🔊 🔊 **Message from the Senior Data Scientist** 🔊 🔊 🔊\n",
        "\n",
        "\n",
        "Sup'\n",
        "\n",
        "Good work for your first results. However, we need to try another type of model.\n",
        "Test the same using Conv2d layers. I know that it is new for you but here are some explanations:  Convolutional Layers are filters that \"scans\" the input image in order to extract features. \n",
        "\n",
        "I sent you some classes that you must reuse in your code. Tell me if it has better results.\n",
        "\n",
        "Peace\n",
        "\n",
        "Senior Data Scientist\n",
        "\n",
        "P.S here's a funny image for ya \n",
        "\n",
        "<img src=\"https://i.imgflip.com/65b89l.jpg\" height=400>\n",
        "\n",
        "\n",
        "---\n",
        "\n"
      ],
      "metadata": {
        "id": "i1kpRMLuU9_n"
      }
    },
    {
      "cell_type": "markdown",
      "source": [
        "Take 5 minutes and play with the following link :   \n",
        "\n",
        "* https://ezyang.github.io/convolution-visualizer/\n",
        "\n",
        "Questions :    \n",
        "* What is the stride parameter ?\n",
        "* What is the padding parameter ?\n",
        "* What does it change on the output to increase the Kernel Size ?\n"
      ],
      "metadata": {
        "id": "ibihGUzZ-C00"
      }
    },
    {
      "cell_type": "markdown",
      "source": [
        "## Some Definition\n",
        "\n",
        "Receptive Field : The receptive field are the pixels seen by the kernel layer"
      ],
      "metadata": {
        "id": "CC7RbnN1dKiW"
      }
    },
    {
      "cell_type": "markdown",
      "source": [
        "# Model Definition : The code they sent us\n",
        "\n",
        "Hmmm let's have a look at the model sent by the senior Data Scientist. Looks like there are bunch of submodules   "
      ],
      "metadata": {
        "id": "6v_cYtuufVur"
      }
    },
    {
      "cell_type": "markdown",
      "source": [
        "### SubModules : The stem"
      ],
      "metadata": {
        "id": "FiDIW6xzfURZ"
      }
    },
    {
      "cell_type": "markdown",
      "source": [
        "#### Conv Down\n",
        "\n",
        "ConvDown is used to compress the input image. It applies a convolution between the input image and the kernel. In fact, it is used to extract features. Our ConvDown Model will be composed of two layers :     \n",
        "* Conv2d layer\n",
        "* Non Linearity (ReLU)\n",
        "\n",
        "<img src=\"https://www.jeremyjordan.me/content/images/2017/07/no_padding_no_strides.gif\">"
      ],
      "metadata": {
        "id": "6aR_6-5AfURZ"
      }
    },
    {
      "cell_type": "code",
      "execution_count": 22,
      "metadata": {
        "id": "30AE171_fURZ"
      },
      "outputs": [],
      "source": [
        "class ConvDown(nn.Module):\n",
        "\n",
        "    def __init__(self, input_channel, output_channel, kernel_size = 3):\n",
        "        super().__init__()\n",
        "        self.input_channel = input_channel\n",
        "        self.output_channel = output_channel\n",
        "        self.kernel_size = kernel_size\n",
        "        self.model = nn.Sequential(nn.Conv2d(self.input_channel, self. output_channel, kernel_size =self.kernel_size ),\n",
        "                                    nn.ReLU())\n",
        "                                    \n",
        "    def forward(self,x):\n",
        "        return self.model(x)"
      ]
    },
    {
      "cell_type": "markdown",
      "source": [
        "#### Conv Up\n",
        "\n",
        "ConvUp is used to decompress the input image. In fact, it uses extracted features to propose a reconstructed output feature map.\n",
        "\n",
        "* From what you've seen on the website, is it possible to increase output size map using Conv2d layers ?\n",
        "\n",
        "We introduce ConvTranpose2D layers, that applies Transpose Convolution over an input image. It also means that these layers upsamples the input image. In fact the ConvTranspose layers learns to upsample the images.\n",
        "\n",
        "<img src=\"https://miro.medium.com/max/1400/1*HnxnJDq-IgsSS0q3Lut4xA.gif\" height=300>"
      ],
      "metadata": {
        "id": "RTj9S6BdfURZ"
      }
    },
    {
      "cell_type": "code",
      "execution_count": 49,
      "metadata": {
        "id": "iup_9vP8fURZ"
      },
      "outputs": [],
      "source": [
        "class ConvUp(nn.Module):\n",
        "\n",
        "    def __init__(self, input_channel, output_channel, kernel_size = 3 , output = True):\n",
        "        super().__init__()\n",
        "        self.input_channel = input_channel\n",
        "        self.output_channel = output_channel\n",
        "        self.kernel_size = kernel_size\n",
        "        self.output = output\n",
        "        self.model = nn.Sequential(nn.ConvTranspose2d(self.input_channel, self. output_channel, kernel_size =self.kernel_size ),\n",
        "                                    nn.ReLU()) if output is False else nn.Sequential(nn.ConvTranspose2d(self.input_channel, self. output_channel, kernel_size =self.kernel_size ),\n",
        "                                    nn.Sigmoid())\n",
        "        \n",
        "    def forward(self,x):\n",
        "        return self.model(x)"
      ]
    },
    {
      "cell_type": "markdown",
      "source": [
        "### Modules : The Wrappers"
      ],
      "metadata": {
        "id": "xKSienu_fURZ"
      }
    },
    {
      "cell_type": "markdown",
      "source": [
        "#### Encoder\n",
        "\n",
        "The encoder stacks multiple ConvDown to compress and extract features."
      ],
      "metadata": {
        "id": "add5ul-BfURZ"
      }
    },
    {
      "cell_type": "code",
      "execution_count": 50,
      "metadata": {
        "id": "QJg8gNNPfURZ"
      },
      "outputs": [],
      "source": [
        "class Encoder(nn.Module):\n",
        "\n",
        "    def __init__(self,input_channel, output_channel, kernel_size = 3):\n",
        "        super().__init__()\n",
        "        self.input_channel = input_channel\n",
        "        self.output_channel = output_channel\n",
        "        self.kernel_size = kernel_size\n",
        "        self.model = nn.Sequential( ConvDown(self.input_channel, self.output_channel//2,self.kernel_size),\n",
        "                                   ConvDown(self.output_channel//2, self.output_channel,self.kernel_size))\n",
        "                    \n",
        "    def forward(self,x):\n",
        "        return self.model(x)"
      ]
    },
    {
      "cell_type": "markdown",
      "source": [
        "#### Decoder\n",
        "\n",
        "The decoder stacks multiple ConvUp to decompress and upsample the input."
      ],
      "metadata": {
        "id": "-Ty_eE8ufURa"
      }
    },
    {
      "cell_type": "code",
      "execution_count": 51,
      "metadata": {
        "id": "QOIjpP5JfURa"
      },
      "outputs": [],
      "source": [
        "class Decoder(nn.Module):\n",
        "\n",
        "    def __init__(self,input_channel, output_channel, kernel_size = 3, output = True):\n",
        "        super().__init__()\n",
        "        self.input_channel = input_channel\n",
        "        self.output_channel = output_channel\n",
        "        self.kernel_size = kernel_size\n",
        "        self.output = output\n",
        "        self.model = nn.Sequential( ConvUp(self.input_channel,self.input_channel//2,self.kernel_size, False),\n",
        "                                   ConvUp(self.input_channel//2, self.output_channel,self.kernel_size, self.output))\n",
        "                    \n",
        "    def forward(self,x):\n",
        "        return self.model(x)"
      ]
    },
    {
      "cell_type": "markdown",
      "source": [
        "### The Conv AutoEncoder : Final Model \n",
        "\n",
        "Stack the Encoder and Decoder, we just have to stack them in order to form the AutoEncoder. The stacking is different here as we refer to the input and output channels of each layers.\n"
      ],
      "metadata": {
        "id": "IuUrSK7QfURa"
      }
    },
    {
      "cell_type": "code",
      "execution_count": null,
      "metadata": {
        "id": "ZGslcjwafURa"
      },
      "outputs": [],
      "source": [
        "class AutoEncoder(nn.Module):\n",
        "\n",
        "    def __init__(self,input_size,latent_size):\n",
        "        super().__init__()\n",
        "        self.input_size = input_size\n",
        "        self.latent_size = latent_size\n",
        "        self.model = nn.Sequential(Encoder(self.input_size,self.latent_size),\n",
        "                                   Decoder(self.latent_size, self.input_size, output= True))\n",
        "\n",
        "    def forward(self,x):\n",
        "        return self.model(x)\n",
        "\n"
      ]
    },
    {
      "cell_type": "markdown",
      "metadata": {
        "id": "SxIt_IxgfURa"
      },
      "source": [
        "# Training\n",
        "\n",
        "We can reuse the previously written code. However, we need to make some changes...\n",
        "\n",
        "* What changes must we do ?\n"
      ]
    },
    {
      "cell_type": "code",
      "source": [
        "# TODO : Change your model \n",
        "model = AutoEncoder(1,8)\n",
        "# TODO : Reload your HyperParameters\n",
        "num_epochs = 20\n",
        "device = 'cuda' if torch.cuda.is_available() else 'cpu'\n",
        "net = model.to(device)\n",
        "criterion = nn.MSELoss()\n",
        "learning_rate = 1e-3\n",
        "optimizer = torch.optim.Adam(model.parameters(), lr=learning_rate )\n",
        "\n",
        "# TODO : Rewrite your Training Loop\n",
        "for epoch in range(num_epochs) : \n",
        "    running_loss_t,running_loss_v = 0.0, 0.0\n",
        "    for i, data in enumerate(train_loader, 0): \n",
        "        # TODO : load the data into two variables\n",
        "        image, label = data\n",
        "        # TODO : reshape the input image so that it fit the input layers neuron numbers. Don't forget the Batch Size, the 1rst dimension must always be the Batch Size\n",
        "        image, label = data[0].to(device), data[1]\n",
        "        optimizer.zero_grad()\n",
        "        outputs = net(image)\n",
        "        #outputs = outputs.view(data[0].shape)\n",
        "        loss = criterion(outputs, data[0].to(device))\n",
        "        loss.backward()\n",
        "        optimizer.step()\n",
        "        running_loss_t += loss.item()\n",
        "        if i == 50:\n",
        "          running_loss_t= running_loss_t/50\n",
        "          print('training loss is :',loss)\n",
        "    with torch.no_grad():\n",
        "      for i, data in enumerate(val_loader, 0):    \n",
        "        image, label = data[0].to(device), data[1]\n",
        "        outputs = net(image)\n",
        "        #outputs = outputs.view(data[0].shape)\n",
        "        loss = criterion(outputs, data[0].to(device))\n",
        "        running_loss_v += loss.item()\n",
        "        if i == 50:\n",
        "            running_loss_v= running_loss_v/50\n",
        "            print('validation loss is :',loss)\n",
        "\n",
        "# TODO : Rewrite your Testing Loop\n",
        "\n",
        "import torch\n",
        "import torchvision\n",
        "import torchvision.transforms as transform\n",
        "import matplotlib.pyplot as plt\n",
        "import numpy as np\n",
        "\n",
        "with torch.no_grad():\n",
        "  running_loss = []\n",
        "  for i, data in enumerate(test_loader, 0):    \n",
        "    image, label = data[0].to(device), data[1]\n",
        "    outputs = net(image)\n",
        "    loss = criterion(outputs, data[0].to(device))\n",
        "    print(loss)\n",
        "    running_loss.append(loss)\n",
        "\n",
        "# Plot the last batch\n",
        "imshow(torchvision.utils.make_grid(outputs.detach().cpu()),'Pred')\n",
        "imshow(torchvision.utils.make_grid(data[0]),'GT')\n",
        "sum(running_loss)"
      ],
      "metadata": {
        "id": "wUO71k8zBwCI"
      },
      "execution_count": null,
      "outputs": []
    },
    {
      "cell_type": "markdown",
      "metadata": {
        "id": "NFdBGGd3fURa"
      },
      "source": [
        "Hmm interesting.\n",
        "Let's compare the results :  For the same compressed space size (512, 128, 16, 1) :\n",
        "* What are the reconstruction values on the test set ? \n",
        "* What are the training time ?\n",
        "* Which model would you advice ? "
      ]
    },
    {
      "cell_type": "markdown",
      "source": [
        "# Where's that noise ?\n",
        "\n",
        "The second sprint is over, but we received a mail for the third sprint\n",
        "\n",
        "\n",
        "---\n",
        "\n",
        " 🔊 🔊 🔊 **Message from the Senior Data Scientist** 🔊 🔊 🔊\n",
        "\n",
        "Sup'\n",
        "I read somewhere that AE can denoise image. That means that if you add some noise to the input image, the AE will be able to reconsctruct the image without noise. Can you verify that ?\n",
        "\n",
        "Senior Data Scientist\n",
        "\n",
        "---\n",
        "\n",
        "\n",
        "<img src=\"https://miro.medium.com/max/1400/1*z7SUcHkWp7jT1D_SqvTvgA.png\" height=300>\n",
        "\n",
        "Ok let's verify that, we received a function that add Gaussian Noise to an input image."
      ],
      "metadata": {
        "id": "HHkG7AzeIUNL"
      }
    },
    {
      "cell_type": "code",
      "source": [
        "def add_noise(inputs):\n",
        "     noise = torch.randn_like(inputs)*0.2\n",
        "     return inputs + noise\n",
        "\n",
        "test_image = mnist_test.__getitem__(2)[0]\n",
        "test_image = add_noise(test_image.unsqueeze(0))\n",
        "denoised_image = model(test_image.to(device))\n",
        "fig,axarr = plt.subplots(1, 2)\n",
        "axarr[0].imshow(test_image.squeeze(0).squeeze(0).squeeze(0))\n",
        "axarr[1].imshow(denoised_image.detach().cpu().squeeze(0).squeeze(0).squeeze(0))\n"
      ],
      "metadata": {
        "colab": {
          "base_uri": "https://localhost:8080/",
          "height": 218
        },
        "id": "0FTrNKuaI8s9",
        "outputId": "2740ad78-ed76-4e23-bc40-e8e77400e9c3"
      },
      "execution_count": 79,
      "outputs": [
        {
          "output_type": "execute_result",
          "data": {
            "text/plain": [
              "<matplotlib.image.AxesImage at 0x7fec94581290>"
            ]
          },
          "metadata": {},
          "execution_count": 79
        },
        {
          "output_type": "display_data",
          "data": {
            "image/png": "[encoded data removed]",
            "text/plain": [
              "<Figure size 432x288 with 2 Axes>"
            ]
          },
          "metadata": {
            "needs_background": "light"
          }
        }
      ]
    },
    {
      "cell_type": "markdown",
      "source": [
        "\n",
        "* What can you tell ?\n",
        "* Does it work with lots of noise ?"
      ],
      "metadata": {
        "id": "wKdCjPuwMhxA"
      }
    },
    {
      "cell_type": "markdown",
      "source": [
        "# Getting Some Colors (Optional)"
      ],
      "metadata": {
        "id": "sbc21j0pezi4"
      }
    },
    {
      "cell_type": "markdown",
      "metadata": {
        "id": "iwsvWzvg2kTe"
      },
      "source": [
        "This is the fourth and final sprint. After that we can send the model to production. Let's read Senior Data Scientist email \n",
        "\n",
        "\n",
        "\n",
        "---\n",
        " 🔊 🔊 🔊 **Message from the Senior Data Scientist** 🔊 🔊 🔊\n",
        "\n",
        "Sup'\n",
        "\n",
        "I like colors. We like colors. But do your model work on colors ? I'm asking the Data Engineer Team to send you the API for CIFAR10 so that you can test. Just reapply the same methodology and send me the results asap\n",
        "\n",
        "Kiss kiss XOXO\n",
        "\n",
        "Senior Data Scientist\n",
        "\n",
        "\n",
        "---\n",
        "\n",
        "\n",
        "\n",
        "\n",
        "\n"
      ]
    },
    {
      "cell_type": "markdown",
      "source": [
        "## CIFAR10 : Colors and Classes\n",
        "\n",
        " 🔊 🔊 🔊 **Message from the Data Engineering Team** 🔊 🔊 🔊\n",
        "\n",
        "Wazzaaaaaaaaa, the API is ready.\n",
        "Have a good day :D\n",
        "\n",
        "Data Engineering Team"
      ],
      "metadata": {
        "id": "mbY6LTflOZgg"
      }
    },
    {
      "cell_type": "markdown",
      "source": [
        "### Understanding the Data : Data Exploration\n",
        "\n",
        "Ok so let's do the same thing as befor Let's use their API.\n",
        "\n",
        "\n",
        "- What is the size of the train dataset ?\n",
        "- What are the elements available in one piece of data ? (image,label)\n",
        "- What is the shape of one piece of data ?\n",
        "- What is the type of one piece of data ?\n",
        "- Plot few elements of the dataset using Matplotlib.\n",
        "\n"
      ],
      "metadata": {
        "id": "S34WeEbJPGK7"
      }
    },
    {
      "cell_type": "code",
      "execution_count": null,
      "metadata": {
        "id": "e2WyoXz9PGK7"
      },
      "outputs": [],
      "source": [
        "transform = transforms.Compose([transforms.ToTensor()])\n",
        "dataset_train = CIFAR10(root='./data', train=True,download=True, transform=transform)\n",
        "dataset_test =  CIFAR10(root='./data', train=False,download=True, transform=transform)\n",
        "\n",
        "# TODO : Do all the Data Exploration Things. \n",
        "# Questions : How similar are the data ? Coding Wise ? Data Wise ?\n",
        "\n"
      ]
    },
    {
      "cell_type": "code",
      "source": [
        "# TODO : Create the DataLoaders\n",
        "train_loader = DataLoader(dataset_train, batch_size=128,drop_last =True)\n",
        "test_loader = DataLoader(dataset_test, batch_size= 32,drop_last = True)"
      ],
      "metadata": {
        "id": "9g7qvT8LQC9x"
      },
      "execution_count": 90,
      "outputs": []
    },
    {
      "cell_type": "markdown",
      "metadata": {
        "id": "QcWK-oqlPGK8"
      },
      "source": [
        "### Train your MLP Model"
      ]
    },
    {
      "cell_type": "code",
      "execution_count": 100,
      "metadata": {
        "colab": {
          "base_uri": "https://localhost:8080/",
          "height": 813
        },
        "id": "RkplU-q6PGK8",
        "outputId": "f07f8fe7-a813-497c-ee8f-52e1ac09dd68"
      },
      "outputs": [
        {
          "output_type": "stream",
          "name": "stdout",
          "text": [
            "training loss is : tensor(0.0386, device='cuda:0', grad_fn=<MseLossBackward0>)\n",
            "training loss is : tensor(0.0194, device='cuda:0', grad_fn=<MseLossBackward0>)\n",
            "training loss is : tensor(0.0139, device='cuda:0', grad_fn=<MseLossBackward0>)\n",
            "training loss is : tensor(0.0112, device='cuda:0', grad_fn=<MseLossBackward0>)\n",
            "training loss is : tensor(0.0100, device='cuda:0', grad_fn=<MseLossBackward0>)\n",
            "training loss is : tensor(0.0091, device='cuda:0', grad_fn=<MseLossBackward0>)\n",
            "training loss is : tensor(0.0090, device='cuda:0', grad_fn=<MseLossBackward0>)\n",
            "training loss is : tensor(0.0081, device='cuda:0', grad_fn=<MseLossBackward0>)\n",
            "training loss is : tensor(0.0078, device='cuda:0', grad_fn=<MseLossBackward0>)\n",
            "training loss is : tensor(0.0075, device='cuda:0', grad_fn=<MseLossBackward0>)\n",
            "training loss is : tensor(0.0073, device='cuda:0', grad_fn=<MseLossBackward0>)\n",
            "training loss is : tensor(0.0071, device='cuda:0', grad_fn=<MseLossBackward0>)\n",
            "training loss is : tensor(0.0071, device='cuda:0', grad_fn=<MseLossBackward0>)\n",
            "training loss is : tensor(0.0069, device='cuda:0', grad_fn=<MseLossBackward0>)\n",
            "training loss is : tensor(0.0067, device='cuda:0', grad_fn=<MseLossBackward0>)\n",
            "training loss is : tensor(0.0068, device='cuda:0', grad_fn=<MseLossBackward0>)\n",
            "training loss is : tensor(0.0064, device='cuda:0', grad_fn=<MseLossBackward0>)\n",
            "training loss is : tensor(0.0066, device='cuda:0', grad_fn=<MseLossBackward0>)\n",
            "training loss is : tensor(0.0062, device='cuda:0', grad_fn=<MseLossBackward0>)\n",
            "training loss is : tensor(0.0062, device='cuda:0', grad_fn=<MseLossBackward0>)\n"
          ]
        },
        {
          "output_type": "display_data",
          "data": {
            "image/png": "[encoded data removed]",
            "text/plain": [
              "<Figure size 432x288 with 1 Axes>"
            ]
          },
          "metadata": {
            "needs_background": "light"
          }
        },
        {
          "output_type": "display_data",
          "data": {
            "image/png": "[encoded data removed]",
            "text/plain": [
              "<Figure size 432x288 with 1 Axes>"
            ]
          },
          "metadata": {
            "needs_background": "light"
          }
        },
        {
          "output_type": "execute_result",
          "data": {
            "text/plain": [
              "tensor(0.0065, device='cuda:0')"
            ]
          },
          "metadata": {},
          "execution_count": 100
        }
      ],
      "source": [
        "# TODO : Create you\n",
        "model = AutoEncoder_MLP(32*32*3,1024)\n",
        "# TODO : Reload your HyperParameters\n",
        "num_epochs = 20\n",
        "device = 'cuda' if torch.cuda.is_available() else 'cpu'\n",
        "net = model.to(device)\n",
        "criterion = nn.MSELoss()\n",
        "learning_rate = 1e-3\n",
        "optimizer = torch.optim.Adam(model.parameters(), lr=learning_rate )\n",
        "\n",
        "# TODO : Rewrite your Training Loop\n",
        "for epoch in range(num_epochs) : \n",
        "    running_loss_t,running_loss_v = 0.0, 0.0\n",
        "    for i, data in enumerate(train_loader, 0): \n",
        "        # TODO : load the data into two variables\n",
        "        image, label = data\n",
        "       # print(image.shape)\n",
        "        # TODO : reshape the input image so that it fit the input layers neuron numbers. Don't forget the Batch Size, the 1rst dimension must always be the Batch Size\n",
        "        image, label = data[0].view(data[0].shape[0],-1).to(device), data[1]\n",
        "        optimizer.zero_grad()\n",
        "        outputs = net(image)\n",
        "        outputs = outputs.view(data[0].shape)\n",
        "        loss = criterion(outputs, data[0].to(device))\n",
        "        loss.backward()\n",
        "        optimizer.step()\n",
        "        running_loss_t += loss.item()\n",
        "        if i == 50:\n",
        "          running_loss_t= running_loss_t/50\n",
        "          print('training loss is :',loss)\n",
        "# TODO : Rewrite your Testing Loop\n",
        "\n",
        "import torch\n",
        "import torchvision\n",
        "import torchvision.transforms as transform\n",
        "import matplotlib.pyplot as plt\n",
        "import numpy as np\n",
        "\n",
        "with torch.no_grad():\n",
        "  running_loss = []\n",
        "  for i, data in enumerate(test_loader, 0):    \n",
        "        image, label = data[0].view(data[0].shape[0],-1).to(device), data[1]\n",
        "        outputs = net(image)\n",
        "        outputs = outputs.view(data[0].shape)\n",
        "        loss = criterion(outputs, data[0].to(device))\n",
        "  running_loss.append(loss)\n",
        "\n",
        "# Plot the last batch\n",
        "imshow(torchvision.utils.make_grid(outputs.detach().cpu()),'Pred')\n",
        "imshow(torchvision.utils.make_grid(data[0]),'GT')\n",
        "sum(running_loss)"
      ]
    },
    {
      "cell_type": "markdown",
      "source": [
        "### Train your Conv Model"
      ],
      "metadata": {
        "id": "ed9ilPtLSAQG"
      }
    },
    {
      "cell_type": "code",
      "source": [
        "# TODO : Create you\n",
        "model = AutoEncoder(3,512)\n",
        "# TODO : Reload your HyperParameters\n",
        "num_epochs = 20\n",
        "device = 'cuda' if torch.cuda.is_available() else 'cpu'\n",
        "net = model.to(device)\n",
        "criterion = nn.MSELoss()\n",
        "learning_rate = 1e-3\n",
        "optimizer = torch.optim.Adam(model.parameters(), lr=learning_rate )\n",
        "\n",
        "# TODO : Rewrite your Training Loop\n",
        "for epoch in range(num_epochs) : \n",
        "    running_loss_t,running_loss_v = 0.0, 0.0\n",
        "    for i, data in enumerate(train_loader, 0): \n",
        "        # TODO : load the data into two variables\n",
        "        image, label = data\n",
        "        # TODO : reshape the input image so that it fit the input layers neuron numbers. Don't forget the Batch Size, the 1rst dimension must always be the Batch Size\n",
        "        image, label = data[0].to(device), data[1]\n",
        "        optimizer.zero_grad()\n",
        "        outputs = net(image)\n",
        "        #outputs = outputs.view(data[0].shape)\n",
        "        loss = criterion(outputs, data[0].to(device))\n",
        "        loss.backward()\n",
        "        optimizer.step()\n",
        "        running_loss_t += loss.item()\n",
        "        if i == 50:\n",
        "          running_loss_t= running_loss_t/50\n",
        "          print('training loss is :',loss)\n",
        "\n",
        "# TODO : Rewrite your Testing Loop\n",
        "\n",
        "import torch\n",
        "import torchvision\n",
        "import torchvision.transforms as transform\n",
        "import matplotlib.pyplot as plt\n",
        "import numpy as np\n",
        "\n",
        "with torch.no_grad():\n",
        "  running_loss = []\n",
        "  for i, data in enumerate(test_loader, 0):    \n",
        "    image, label = data[0].to(device), data[1]\n",
        "    outputs = net(image)\n",
        "    loss = criterion(outputs, data[0].to(device))\n",
        "    print(loss)\n",
        "    running_loss.append(loss)\n",
        "\n",
        "# Plot the last batch\n",
        "imshow(torchvision.utils.make_grid(outputs.detach().cpu()),'Pred')\n",
        "imshow(torchvision.utils.make_grid(data[0]),'GT')\n",
        "sum(running_loss)"
      ],
      "metadata": {
        "colab": {
          "base_uri": "https://localhost:8080/"
        },
        "id": "P9pCUMS_SA78",
        "outputId": "aca3779d-30c6-4473-c988-52fc290899f2"
      },
      "execution_count": null,
      "outputs": [
        {
          "output_type": "stream",
          "name": "stdout",
          "text": [
            "training loss is : tensor(0.0042, device='cuda:0', grad_fn=<MseLossBackward0>)\n",
            "training loss is : tensor(0.0007, device='cuda:0', grad_fn=<MseLossBackward0>)\n",
            "training loss is : tensor(0.0003, device='cuda:0', grad_fn=<MseLossBackward0>)\n"
          ]
        }
      ]
    },
    {
      "cell_type": "markdown",
      "source": [
        "# Results\n",
        "\n",
        "Now analyze your results and write your report.\n",
        "\n"
      ],
      "metadata": {
        "id": "aYj-oU52PGK8"
      }
    },
    {
      "cell_type": "code",
      "execution_count": null,
      "metadata": {
        "id": "RqWk5FWrPGK8"
      },
      "outputs": [],
      "source": [
        ""
      ]
    }
  ],
  "metadata": {
    "accelerator": "GPU",
    "colab": {
      "collapsed_sections": [],
      "name": "AutoEncoder.ipynb",
      "provenance": [],
      "include_colab_link": true
    },
    "kernelspec": {
      "display_name": "Python 3",
      "name": "python3"
    },
    "language_info": {
      "name": "python"
    },
    "widgets": {
      "application/vnd.jupyter.widget-state+json": {
        "44697051acbf49b993813c6a82ac6cc9": {
          "model_module": "@jupyter-widgets/controls",
          "model_name": "HBoxModel",
          "model_module_version": "1.5.0",
          "state": {
            "_view_name": "HBoxView",
            "_dom_classes": [],
            "_model_name": "HBoxModel",
            "_view_module": "@jupyter-widgets/controls",
            "_model_module_version": "1.5.0",
            "_view_count": null,
            "_view_module_version": "1.5.0",
            "box_style": "",
            "layout": "IPY_MODEL_8afe6e1a68644d93bded0d3670bff40c",
            "_model_module": "@jupyter-widgets/controls",
            "children": [
              "IPY_MODEL_f0681cc891224a909f1a62d221bba1c9",
              "IPY_MODEL_20caaa46a7d54e01a58e61336e3f9e77",
              "IPY_MODEL_40fbbf102fda4fcfa5c508aeb987c301"
            ]
          }
        },
        "8afe6e1a68644d93bded0d3670bff40c": {
          "model_module": "@jupyter-widgets/base",
          "model_name": "LayoutModel",
          "model_module_version": "1.2.0",
          "state": {
            "_view_name": "LayoutView",
            "grid_template_rows": null,
            "right": null,
            "justify_content": null,
            "_view_module": "@jupyter-widgets/base",
            "overflow": null,
            "_model_module_version": "1.2.0",
            "_view_count": null,
            "flex_flow": null,
            "width": null,
            "min_width": null,
            "border": null,
            "align_items": null,
            "bottom": null,
            "_model_module": "@jupyter-widgets/base",
            "top": null,
            "grid_column": null,
            "overflow_y": null,
            "overflow_x": null,
            "grid_auto_flow": null,
            "grid_area": null,
            "grid_template_columns": null,
            "flex": null,
            "_model_name": "LayoutModel",
            "justify_items": null,
            "grid_row": null,
            "max_height": null,
            "align_content": null,
            "visibility": null,
            "align_self": null,
            "height": null,
            "min_height": null,
            "padding": null,
            "grid_auto_rows": null,
            "grid_gap": null,
            "max_width": null,
            "order": null,
            "_view_module_version": "1.2.0",
            "grid_template_areas": null,
            "object_position": null,
            "object_fit": null,
            "grid_auto_columns": null,
            "margin": null,
            "display": null,
            "left": null
          }
        },
        "f0681cc891224a909f1a62d221bba1c9": {
          "model_module": "@jupyter-widgets/controls",
          "model_name": "HTMLModel",
          "model_module_version": "1.5.0",
          "state": {
            "_view_name": "HTMLView",
            "style": "IPY_MODEL_a520d341dd664ccfaa5c59ad38b325c5",
            "_dom_classes": [],
            "description": "",
            "_model_name": "HTMLModel",
            "placeholder": "​",
            "_view_module": "@jupyter-widgets/controls",
            "_model_module_version": "1.5.0",
            "value": "",
            "_view_count": null,
            "_view_module_version": "1.5.0",
            "description_tooltip": null,
            "_model_module": "@jupyter-widgets/controls",
            "layout": "IPY_MODEL_77dde53fea0d4530b06127aa5ebe9eaa"
          }
        },
        "20caaa46a7d54e01a58e61336e3f9e77": {
          "model_module": "@jupyter-widgets/controls",
          "model_name": "FloatProgressModel",
          "model_module_version": "1.5.0",
          "state": {
            "_view_name": "ProgressView",
            "style": "IPY_MODEL_a9ffc940baaf4deb834ed7e083d46b5e",
            "_dom_classes": [],
            "description": "",
            "_model_name": "FloatProgressModel",
            "bar_style": "success",
            "max": 9912422,
            "_view_module": "@jupyter-widgets/controls",
            "_model_module_version": "1.5.0",
            "value": 9912422,
            "_view_count": null,
            "_view_module_version": "1.5.0",
            "orientation": "horizontal",
            "min": 0,
            "description_tooltip": null,
            "_model_module": "@jupyter-widgets/controls",
            "layout": "IPY_MODEL_132a39b20cd742eab2c5cfb57ca33958"
          }
        },
        "40fbbf102fda4fcfa5c508aeb987c301": {
          "model_module": "@jupyter-widgets/controls",
          "model_name": "HTMLModel",
          "model_module_version": "1.5.0",
          "state": {
            "_view_name": "HTMLView",
            "style": "IPY_MODEL_e202aea0bfd54e19aa48e50b15fb88a4",
            "_dom_classes": [],
            "description": "",
            "_model_name": "HTMLModel",
            "placeholder": "​",
            "_view_module": "@jupyter-widgets/controls",
            "_model_module_version": "1.5.0",
            "value": " 9913344/? [00:00&lt;00:00, 14083072.34it/s]",
            "_view_count": null,
            "_view_module_version": "1.5.0",
            "description_tooltip": null,
            "_model_module": "@jupyter-widgets/controls",
            "layout": "IPY_MODEL_c06c56cb4aa446fca5a63ddf8735e118"
          }
        },
        "a520d341dd664ccfaa5c59ad38b325c5": {
          "model_module": "@jupyter-widgets/controls",
          "model_name": "DescriptionStyleModel",
          "model_module_version": "1.5.0",
          "state": {
            "_view_name": "StyleView",
            "_model_name": "DescriptionStyleModel",
            "description_width": "",
            "_view_module": "@jupyter-widgets/base",
            "_model_module_version": "1.5.0",
            "_view_count": null,
            "_view_module_version": "1.2.0",
            "_model_module": "@jupyter-widgets/controls"
          }
        },
        "77dde53fea0d4530b06127aa5ebe9eaa": {
          "model_module": "@jupyter-widgets/base",
          "model_name": "LayoutModel",
          "model_module_version": "1.2.0",
          "state": {
            "_view_name": "LayoutView",
            "grid_template_rows": null,
            "right": null,
            "justify_content": null,
            "_view_module": "@jupyter-widgets/base",
            "overflow": null,
            "_model_module_version": "1.2.0",
            "_view_count": null,
            "flex_flow": null,
            "width": null,
            "min_width": null,
            "border": null,
            "align_items": null,
            "bottom": null,
            "_model_module": "@jupyter-widgets/base",
            "top": null,
            "grid_column": null,
            "overflow_y": null,
            "overflow_x": null,
            "grid_auto_flow": null,
            "grid_area": null,
            "grid_template_columns": null,
            "flex": null,
            "_model_name": "LayoutModel",
            "justify_items": null,
            "grid_row": null,
            "max_height": null,
            "align_content": null,
            "visibility": null,
            "align_self": null,
            "height": null,
            "min_height": null,
            "padding": null,
            "grid_auto_rows": null,
            "grid_gap": null,
            "max_width": null,
            "order": null,
            "_view_module_version": "1.2.0",
            "grid_template_areas": null,
            "object_position": null,
            "object_fit": null,
            "grid_auto_columns": null,
            "margin": null,
            "display": null,
            "left": null
          }
        },
        "a9ffc940baaf4deb834ed7e083d46b5e": {
          "model_module": "@jupyter-widgets/controls",
          "model_name": "ProgressStyleModel",
          "model_module_version": "1.5.0",
          "state": {
            "_view_name": "StyleView",
            "_model_name": "ProgressStyleModel",
            "description_width": "",
            "_view_module": "@jupyter-widgets/base",
            "_model_module_version": "1.5.0",
            "_view_count": null,
            "_view_module_version": "1.2.0",
            "bar_color": null,
            "_model_module": "@jupyter-widgets/controls"
          }
        },
        "132a39b20cd742eab2c5cfb57ca33958": {
          "model_module": "@jupyter-widgets/base",
          "model_name": "LayoutModel",
          "model_module_version": "1.2.0",
          "state": {
            "_view_name": "LayoutView",
            "grid_template_rows": null,
            "right": null,
            "justify_content": null,
            "_view_module": "@jupyter-widgets/base",
            "overflow": null,
            "_model_module_version": "1.2.0",
            "_view_count": null,
            "flex_flow": null,
            "width": null,
            "min_width": null,
            "border": null,
            "align_items": null,
            "bottom": null,
            "_model_module": "@jupyter-widgets/base",
            "top": null,
            "grid_column": null,
            "overflow_y": null,
            "overflow_x": null,
            "grid_auto_flow": null,
            "grid_area": null,
            "grid_template_columns": null,
            "flex": null,
            "_model_name": "LayoutModel",
            "justify_items": null,
            "grid_row": null,
            "max_height": null,
            "align_content": null,
            "visibility": null,
            "align_self": null,
            "height": null,
            "min_height": null,
            "padding": null,
            "grid_auto_rows": null,
            "grid_gap": null,
            "max_width": null,
            "order": null,
            "_view_module_version": "1.2.0",
            "grid_template_areas": null,
            "object_position": null,
            "object_fit": null,
            "grid_auto_columns": null,
            "margin": null,
            "display": null,
            "left": null
          }
        },
        "e202aea0bfd54e19aa48e50b15fb88a4": {
          "model_module": "@jupyter-widgets/controls",
          "model_name": "DescriptionStyleModel",
          "model_module_version": "1.5.0",
          "state": {
            "_view_name": "StyleView",
            "_model_name": "DescriptionStyleModel",
            "description_width": "",
            "_view_module": "@jupyter-widgets/base",
            "_model_module_version": "1.5.0",
            "_view_count": null,
            "_view_module_version": "1.2.0",
            "_model_module": "@jupyter-widgets/controls"
          }
        },
        "c06c56cb4aa446fca5a63ddf8735e118": {
          "model_module": "@jupyter-widgets/base",
          "model_name": "LayoutModel",
          "model_module_version": "1.2.0",
          "state": {
            "_view_name": "LayoutView",
            "grid_template_rows": null,
            "right": null,
            "justify_content": null,
            "_view_module": "@jupyter-widgets/base",
            "overflow": null,
            "_model_module_version": "1.2.0",
            "_view_count": null,
            "flex_flow": null,
            "width": null,
            "min_width": null,
            "border": null,
            "align_items": null,
            "bottom": null,
            "_model_module": "@jupyter-widgets/base",
            "top": null,
            "grid_column": null,
            "overflow_y": null,
            "overflow_x": null,
            "grid_auto_flow": null,
            "grid_area": null,
            "grid_template_columns": null,
            "flex": null,
            "_model_name": "LayoutModel",
            "justify_items": null,
            "grid_row": null,
            "max_height": null,
            "align_content": null,
            "visibility": null,
            "align_self": null,
            "height": null,
            "min_height": null,
            "padding": null,
            "grid_auto_rows": null,
            "grid_gap": null,
            "max_width": null,
            "order": null,
            "_view_module_version": "1.2.0",
            "grid_template_areas": null,
            "object_position": null,
            "object_fit": null,
            "grid_auto_columns": null,
            "margin": null,
            "display": null,
            "left": null
          }
        },
        "b05838c8c30a4243bfe60b56851f0669": {
          "model_module": "@jupyter-widgets/controls",
          "model_name": "HBoxModel",
          "model_module_version": "1.5.0",
          "state": {
            "_view_name": "HBoxView",
            "_dom_classes": [],
            "_model_name": "HBoxModel",
            "_view_module": "@jupyter-widgets/controls",
            "_model_module_version": "1.5.0",
            "_view_count": null,
            "_view_module_version": "1.5.0",
            "box_style": "",
            "layout": "IPY_MODEL_d3263343495a449584ecadfa68b269d9",
            "_model_module": "@jupyter-widgets/controls",
            "children": [
              "IPY_MODEL_ae65964de44d4a1184b5863f76ded146",
              "IPY_MODEL_82a5ff24640d4d0db2d92e5785d96d22",
              "IPY_MODEL_1c6c98baded94cb0a93943e682dfab59"
            ]
          }
        },
        "d3263343495a449584ecadfa68b269d9": {
          "model_module": "@jupyter-widgets/base",
          "model_name": "LayoutModel",
          "model_module_version": "1.2.0",
          "state": {
            "_view_name": "LayoutView",
            "grid_template_rows": null,
            "right": null,
            "justify_content": null,
            "_view_module": "@jupyter-widgets/base",
            "overflow": null,
            "_model_module_version": "1.2.0",
            "_view_count": null,
            "flex_flow": null,
            "width": null,
            "min_width": null,
            "border": null,
            "align_items": null,
            "bottom": null,
            "_model_module": "@jupyter-widgets/base",
            "top": null,
            "grid_column": null,
            "overflow_y": null,
            "overflow_x": null,
            "grid_auto_flow": null,
            "grid_area": null,
            "grid_template_columns": null,
            "flex": null,
            "_model_name": "LayoutModel",
            "justify_items": null,
            "grid_row": null,
            "max_height": null,
            "align_content": null,
            "visibility": null,
            "align_self": null,
            "height": null,
            "min_height": null,
            "padding": null,
            "grid_auto_rows": null,
            "grid_gap": null,
            "max_width": null,
            "order": null,
            "_view_module_version": "1.2.0",
            "grid_template_areas": null,
            "object_position": null,
            "object_fit": null,
            "grid_auto_columns": null,
            "margin": null,
            "display": null,
            "left": null
          }
        },
        "ae65964de44d4a1184b5863f76ded146": {
          "model_module": "@jupyter-widgets/controls",
          "model_name": "HTMLModel",
          "model_module_version": "1.5.0",
          "state": {
            "_view_name": "HTMLView",
            "style": "IPY_MODEL_98986fa12ecd4b429afc55142459a11e",
            "_dom_classes": [],
            "description": "",
            "_model_name": "HTMLModel",
            "placeholder": "​",
            "_view_module": "@jupyter-widgets/controls",
            "_model_module_version": "1.5.0",
            "value": "",
            "_view_count": null,
            "_view_module_version": "1.5.0",
            "description_tooltip": null,
            "_model_module": "@jupyter-widgets/controls",
            "layout": "IPY_MODEL_e2bf39aa39d74f40a83b3dcade5b9005"
          }
        },
        "82a5ff24640d4d0db2d92e5785d96d22": {
          "model_module": "@jupyter-widgets/controls",
          "model_name": "FloatProgressModel",
          "model_module_version": "1.5.0",
          "state": {
            "_view_name": "ProgressView",
            "style": "IPY_MODEL_e6fb8444fe164f87b7db5f59f4363d78",
            "_dom_classes": [],
            "description": "",
            "_model_name": "FloatProgressModel",
            "bar_style": "success",
            "max": 28881,
            "_view_module": "@jupyter-widgets/controls",
            "_model_module_version": "1.5.0",
            "value": 28881,
            "_view_count": null,
            "_view_module_version": "1.5.0",
            "orientation": "horizontal",
            "min": 0,
            "description_tooltip": null,
            "_model_module": "@jupyter-widgets/controls",
            "layout": "IPY_MODEL_0557e80bb5cf4482b97973b56a1b41b0"
          }
        },
        "1c6c98baded94cb0a93943e682dfab59": {
          "model_module": "@jupyter-widgets/controls",
          "model_name": "HTMLModel",
          "model_module_version": "1.5.0",
          "state": {
            "_view_name": "HTMLView",
            "style": "IPY_MODEL_d66bf9f5926448bfb08a305d182f407a",
            "_dom_classes": [],
            "description": "",
            "_model_name": "HTMLModel",
            "placeholder": "​",
            "_view_module": "@jupyter-widgets/controls",
            "_model_module_version": "1.5.0",
            "value": " 29696/? [00:00&lt;00:00, 678044.44it/s]",
            "_view_count": null,
            "_view_module_version": "1.5.0",
            "description_tooltip": null,
            "_model_module": "@jupyter-widgets/controls",
            "layout": "IPY_MODEL_a5d6c59e1c03497f87d0a22605089987"
          }
        },
        "98986fa12ecd4b429afc55142459a11e": {
          "model_module": "@jupyter-widgets/controls",
          "model_name": "DescriptionStyleModel",
          "model_module_version": "1.5.0",
          "state": {
            "_view_name": "StyleView",
            "_model_name": "DescriptionStyleModel",
            "description_width": "",
            "_view_module": "@jupyter-widgets/base",
            "_model_module_version": "1.5.0",
            "_view_count": null,
            "_view_module_version": "1.2.0",
            "_model_module": "@jupyter-widgets/controls"
          }
        },
        "e2bf39aa39d74f40a83b3dcade5b9005": {
          "model_module": "@jupyter-widgets/base",
          "model_name": "LayoutModel",
          "model_module_version": "1.2.0",
          "state": {
            "_view_name": "LayoutView",
            "grid_template_rows": null,
            "right": null,
            "justify_content": null,
            "_view_module": "@jupyter-widgets/base",
            "overflow": null,
            "_model_module_version": "1.2.0",
            "_view_count": null,
            "flex_flow": null,
            "width": null,
            "min_width": null,
            "border": null,
            "align_items": null,
            "bottom": null,
            "_model_module": "@jupyter-widgets/base",
            "top": null,
            "grid_column": null,
            "overflow_y": null,
            "overflow_x": null,
            "grid_auto_flow": null,
            "grid_area": null,
            "grid_template_columns": null,
            "flex": null,
            "_model_name": "LayoutModel",
            "justify_items": null,
            "grid_row": null,
            "max_height": null,
            "align_content": null,
            "visibility": null,
            "align_self": null,
            "height": null,
            "min_height": null,
            "padding": null,
            "grid_auto_rows": null,
            "grid_gap": null,
            "max_width": null,
            "order": null,
            "_view_module_version": "1.2.0",
            "grid_template_areas": null,
            "object_position": null,
            "object_fit": null,
            "grid_auto_columns": null,
            "margin": null,
            "display": null,
            "left": null
          }
        },
        "e6fb8444fe164f87b7db5f59f4363d78": {
          "model_module": "@jupyter-widgets/controls",
          "model_name": "ProgressStyleModel",
          "model_module_version": "1.5.0",
          "state": {
            "_view_name": "StyleView",
            "_model_name": "ProgressStyleModel",
            "description_width": "",
            "_view_module": "@jupyter-widgets/base",
            "_model_module_version": "1.5.0",
            "_view_count": null,
            "_view_module_version": "1.2.0",
            "bar_color": null,
            "_model_module": "@jupyter-widgets/controls"
          }
        },
        "0557e80bb5cf4482b97973b56a1b41b0": {
          "model_module": "@jupyter-widgets/base",
          "model_name": "LayoutModel",
          "model_module_version": "1.2.0",
          "state": {
            "_view_name": "LayoutView",
            "grid_template_rows": null,
            "right": null,
            "justify_content": null,
            "_view_module": "@jupyter-widgets/base",
            "overflow": null,
            "_model_module_version": "1.2.0",
            "_view_count": null,
            "flex_flow": null,
            "width": null,
            "min_width": null,
            "border": null,
            "align_items": null,
            "bottom": null,
            "_model_module": "@jupyter-widgets/base",
            "top": null,
            "grid_column": null,
            "overflow_y": null,
            "overflow_x": null,
            "grid_auto_flow": null,
            "grid_area": null,
            "grid_template_columns": null,
            "flex": null,
            "_model_name": "LayoutModel",
            "justify_items": null,
            "grid_row": null,
            "max_height": null,
            "align_content": null,
            "visibility": null,
            "align_self": null,
            "height": null,
            "min_height": null,
            "padding": null,
            "grid_auto_rows": null,
            "grid_gap": null,
            "max_width": null,
            "order": null,
            "_view_module_version": "1.2.0",
            "grid_template_areas": null,
            "object_position": null,
            "object_fit": null,
            "grid_auto_columns": null,
            "margin": null,
            "display": null,
            "left": null
          }
        },
        "d66bf9f5926448bfb08a305d182f407a": {
          "model_module": "@jupyter-widgets/controls",
          "model_name": "DescriptionStyleModel",
          "model_module_version": "1.5.0",
          "state": {
            "_view_name": "StyleView",
            "_model_name": "DescriptionStyleModel",
            "description_width": "",
            "_view_module": "@jupyter-widgets/base",
            "_model_module_version": "1.5.0",
            "_view_count": null,
            "_view_module_version": "1.2.0",
            "_model_module": "@jupyter-widgets/controls"
          }
        },
        "a5d6c59e1c03497f87d0a22605089987": {
          "model_module": "@jupyter-widgets/base",
          "model_name": "LayoutModel",
          "model_module_version": "1.2.0",
          "state": {
            "_view_name": "LayoutView",
            "grid_template_rows": null,
            "right": null,
            "justify_content": null,
            "_view_module": "@jupyter-widgets/base",
            "overflow": null,
            "_model_module_version": "1.2.0",
            "_view_count": null,
            "flex_flow": null,
            "width": null,
            "min_width": null,
            "border": null,
            "align_items": null,
            "bottom": null,
            "_model_module": "@jupyter-widgets/base",
            "top": null,
            "grid_column": null,
            "overflow_y": null,
            "overflow_x": null,
            "grid_auto_flow": null,
            "grid_area": null,
            "grid_template_columns": null,
            "flex": null,
            "_model_name": "LayoutModel",
            "justify_items": null,
            "grid_row": null,
            "max_height": null,
            "align_content": null,
            "visibility": null,
            "align_self": null,
            "height": null,
            "min_height": null,
            "padding": null,
            "grid_auto_rows": null,
            "grid_gap": null,
            "max_width": null,
            "order": null,
            "_view_module_version": "1.2.0",
            "grid_template_areas": null,
            "object_position": null,
            "object_fit": null,
            "grid_auto_columns": null,
            "margin": null,
            "display": null,
            "left": null
          }
        },
        "db804a35b31b4bc9a60389628db02ffa": {
          "model_module": "@jupyter-widgets/controls",
          "model_name": "HBoxModel",
          "model_module_version": "1.5.0",
          "state": {
            "_view_name": "HBoxView",
            "_dom_classes": [],
            "_model_name": "HBoxModel",
            "_view_module": "@jupyter-widgets/controls",
            "_model_module_version": "1.5.0",
            "_view_count": null,
            "_view_module_version": "1.5.0",
            "box_style": "",
            "layout": "IPY_MODEL_f0dd7651c80349db80667d9db1dfe8aa",
            "_model_module": "@jupyter-widgets/controls",
            "children": [
              "IPY_MODEL_118fca33f01f4c279e122d13d5a7a8b3",
              "IPY_MODEL_a29e4cd4a5ea42f2b08d88c0f78dab3f",
              "IPY_MODEL_00cce266f0304507b614fdb3687b3735"
            ]
          }
        },
        "f0dd7651c80349db80667d9db1dfe8aa": {
          "model_module": "@jupyter-widgets/base",
          "model_name": "LayoutModel",
          "model_module_version": "1.2.0",
          "state": {
            "_view_name": "LayoutView",
            "grid_template_rows": null,
            "right": null,
            "justify_content": null,
            "_view_module": "@jupyter-widgets/base",
            "overflow": null,
            "_model_module_version": "1.2.0",
            "_view_count": null,
            "flex_flow": null,
            "width": null,
            "min_width": null,
            "border": null,
            "align_items": null,
            "bottom": null,
            "_model_module": "@jupyter-widgets/base",
            "top": null,
            "grid_column": null,
            "overflow_y": null,
            "overflow_x": null,
            "grid_auto_flow": null,
            "grid_area": null,
            "grid_template_columns": null,
            "flex": null,
            "_model_name": "LayoutModel",
            "justify_items": null,
            "grid_row": null,
            "max_height": null,
            "align_content": null,
            "visibility": null,
            "align_self": null,
            "height": null,
            "min_height": null,
            "padding": null,
            "grid_auto_rows": null,
            "grid_gap": null,
            "max_width": null,
            "order": null,
            "_view_module_version": "1.2.0",
            "grid_template_areas": null,
            "object_position": null,
            "object_fit": null,
            "grid_auto_columns": null,
            "margin": null,
            "display": null,
            "left": null
          }
        },
        "118fca33f01f4c279e122d13d5a7a8b3": {
          "model_module": "@jupyter-widgets/controls",
          "model_name": "HTMLModel",
          "model_module_version": "1.5.0",
          "state": {
            "_view_name": "HTMLView",
            "style": "IPY_MODEL_61c3dca1a1bf45d9a506c47e4c914afd",
            "_dom_classes": [],
            "description": "",
            "_model_name": "HTMLModel",
            "placeholder": "​",
            "_view_module": "@jupyter-widgets/controls",
            "_model_module_version": "1.5.0",
            "value": "",
            "_view_count": null,
            "_view_module_version": "1.5.0",
            "description_tooltip": null,
            "_model_module": "@jupyter-widgets/controls",
            "layout": "IPY_MODEL_3883bd349f2145fe972d1846b48666f8"
          }
        },
        "a29e4cd4a5ea42f2b08d88c0f78dab3f": {
          "model_module": "@jupyter-widgets/controls",
          "model_name": "FloatProgressModel",
          "model_module_version": "1.5.0",
          "state": {
            "_view_name": "ProgressView",
            "style": "IPY_MODEL_67db70e15b594b65a2d55b16118c5529",
            "_dom_classes": [],
            "description": "",
            "_model_name": "FloatProgressModel",
            "bar_style": "success",
            "max": 1648877,
            "_view_module": "@jupyter-widgets/controls",
            "_model_module_version": "1.5.0",
            "value": 1648877,
            "_view_count": null,
            "_view_module_version": "1.5.0",
            "orientation": "horizontal",
            "min": 0,
            "description_tooltip": null,
            "_model_module": "@jupyter-widgets/controls",
            "layout": "IPY_MODEL_26007ec3a39d4998b9a5017a02637276"
          }
        },
        "00cce266f0304507b614fdb3687b3735": {
          "model_module": "@jupyter-widgets/controls",
          "model_name": "HTMLModel",
          "model_module_version": "1.5.0",
          "state": {
            "_view_name": "HTMLView",
            "style": "IPY_MODEL_6dc01974689841dd867be203aa6c0b81",
            "_dom_classes": [],
            "description": "",
            "_model_name": "HTMLModel",
            "placeholder": "​",
            "_view_module": "@jupyter-widgets/controls",
            "_model_module_version": "1.5.0",
            "value": " 1649664/? [00:00&lt;00:00, 4501290.20it/s]",
            "_view_count": null,
            "_view_module_version": "1.5.0",
            "description_tooltip": null,
            "_model_module": "@jupyter-widgets/controls",
            "layout": "IPY_MODEL_5d227a69953247cdb59804cf5f42494f"
          }
        },
        "61c3dca1a1bf45d9a506c47e4c914afd": {
          "model_module": "@jupyter-widgets/controls",
          "model_name": "DescriptionStyleModel",
          "model_module_version": "1.5.0",
          "state": {
            "_view_name": "StyleView",
            "_model_name": "DescriptionStyleModel",
            "description_width": "",
            "_view_module": "@jupyter-widgets/base",
            "_model_module_version": "1.5.0",
            "_view_count": null,
            "_view_module_version": "1.2.0",
            "_model_module": "@jupyter-widgets/controls"
          }
        },
        "3883bd349f2145fe972d1846b48666f8": {
          "model_module": "@jupyter-widgets/base",
          "model_name": "LayoutModel",
          "model_module_version": "1.2.0",
          "state": {
            "_view_name": "LayoutView",
            "grid_template_rows": null,
            "right": null,
            "justify_content": null,
            "_view_module": "@jupyter-widgets/base",
            "overflow": null,
            "_model_module_version": "1.2.0",
            "_view_count": null,
            "flex_flow": null,
            "width": null,
            "min_width": null,
            "border": null,
            "align_items": null,
            "bottom": null,
            "_model_module": "@jupyter-widgets/base",
            "top": null,
            "grid_column": null,
            "overflow_y": null,
            "overflow_x": null,
            "grid_auto_flow": null,
            "grid_area": null,
            "grid_template_columns": null,
            "flex": null,
            "_model_name": "LayoutModel",
            "justify_items": null,
            "grid_row": null,
            "max_height": null,
            "align_content": null,
            "visibility": null,
            "align_self": null,
            "height": null,
            "min_height": null,
            "padding": null,
            "grid_auto_rows": null,
            "grid_gap": null,
            "max_width": null,
            "order": null,
            "_view_module_version": "1.2.0",
            "grid_template_areas": null,
            "object_position": null,
            "object_fit": null,
            "grid_auto_columns": null,
            "margin": null,
            "display": null,
            "left": null
          }
        },
        "67db70e15b594b65a2d55b16118c5529": {
          "model_module": "@jupyter-widgets/controls",
          "model_name": "ProgressStyleModel",
          "model_module_version": "1.5.0",
          "state": {
            "_view_name": "StyleView",
            "_model_name": "ProgressStyleModel",
            "description_width": "",
            "_view_module": "@jupyter-widgets/base",
            "_model_module_version": "1.5.0",
            "_view_count": null,
            "_view_module_version": "1.2.0",
            "bar_color": null,
            "_model_module": "@jupyter-widgets/controls"
          }
        },
        "26007ec3a39d4998b9a5017a02637276": {
          "model_module": "@jupyter-widgets/base",
          "model_name": "LayoutModel",
          "model_module_version": "1.2.0",
          "state": {
            "_view_name": "LayoutView",
            "grid_template_rows": null,
            "right": null,
            "justify_content": null,
            "_view_module": "@jupyter-widgets/base",
            "overflow": null,
            "_model_module_version": "1.2.0",
            "_view_count": null,
            "flex_flow": null,
            "width": null,
            "min_width": null,
            "border": null,
            "align_items": null,
            "bottom": null,
            "_model_module": "@jupyter-widgets/base",
            "top": null,
            "grid_column": null,
            "overflow_y": null,
            "overflow_x": null,
            "grid_auto_flow": null,
            "grid_area": null,
            "grid_template_columns": null,
            "flex": null,
            "_model_name": "LayoutModel",
            "justify_items": null,
            "grid_row": null,
            "max_height": null,
            "align_content": null,
            "visibility": null,
            "align_self": null,
            "height": null,
            "min_height": null,
            "padding": null,
            "grid_auto_rows": null,
            "grid_gap": null,
            "max_width": null,
            "order": null,
            "_view_module_version": "1.2.0",
            "grid_template_areas": null,
            "object_position": null,
            "object_fit": null,
            "grid_auto_columns": null,
            "margin": null,
            "display": null,
            "left": null
          }
        },
        "6dc01974689841dd867be203aa6c0b81": {
          "model_module": "@jupyter-widgets/controls",
          "model_name": "DescriptionStyleModel",
          "model_module_version": "1.5.0",
          "state": {
            "_view_name": "StyleView",
            "_model_name": "DescriptionStyleModel",
            "description_width": "",
            "_view_module": "@jupyter-widgets/base",
            "_model_module_version": "1.5.0",
            "_view_count": null,
            "_view_module_version": "1.2.0",
            "_model_module": "@jupyter-widgets/controls"
          }
        },
        "5d227a69953247cdb59804cf5f42494f": {
          "model_module": "@jupyter-widgets/base",
          "model_name": "LayoutModel",
          "model_module_version": "1.2.0",
          "state": {
            "_view_name": "LayoutView",
            "grid_template_rows": null,
            "right": null,
            "justify_content": null,
            "_view_module": "@jupyter-widgets/base",
            "overflow": null,
            "_model_module_version": "1.2.0",
            "_view_count": null,
            "flex_flow": null,
            "width": null,
            "min_width": null,
            "border": null,
            "align_items": null,
            "bottom": null,
            "_model_module": "@jupyter-widgets/base",
            "top": null,
            "grid_column": null,
            "overflow_y": null,
            "overflow_x": null,
            "grid_auto_flow": null,
            "grid_area": null,
            "grid_template_columns": null,
            "flex": null,
            "_model_name": "LayoutModel",
            "justify_items": null,
            "grid_row": null,
            "max_height": null,
            "align_content": null,
            "visibility": null,
            "align_self": null,
            "height": null,
            "min_height": null,
            "padding": null,
            "grid_auto_rows": null,
            "grid_gap": null,
            "max_width": null,
            "order": null,
            "_view_module_version": "1.2.0",
            "grid_template_areas": null,
            "object_position": null,
            "object_fit": null,
            "grid_auto_columns": null,
            "margin": null,
            "display": null,
            "left": null
          }
        },
        "b8bf924970634323acb966bab28d5396": {
          "model_module": "@jupyter-widgets/controls",
          "model_name": "HBoxModel",
          "model_module_version": "1.5.0",
          "state": {
            "_view_name": "HBoxView",
            "_dom_classes": [],
            "_model_name": "HBoxModel",
            "_view_module": "@jupyter-widgets/controls",
            "_model_module_version": "1.5.0",
            "_view_count": null,
            "_view_module_version": "1.5.0",
            "box_style": "",
            "layout": "IPY_MODEL_8bbd7a6b00f14505928e02db7f7df971",
            "_model_module": "@jupyter-widgets/controls",
            "children": [
              "IPY_MODEL_a7f24834d4ab4afca25f48a39ea77e82",
              "IPY_MODEL_18bb0fdd895440a691a862d417bfd0ff",
              "IPY_MODEL_ea9a907a3c5f4040aae884ffbf50cda8"
            ]
          }
        },
        "8bbd7a6b00f14505928e02db7f7df971": {
          "model_module": "@jupyter-widgets/base",
          "model_name": "LayoutModel",
          "model_module_version": "1.2.0",
          "state": {
            "_view_name": "LayoutView",
            "grid_template_rows": null,
            "right": null,
            "justify_content": null,
            "_view_module": "@jupyter-widgets/base",
            "overflow": null,
            "_model_module_version": "1.2.0",
            "_view_count": null,
            "flex_flow": null,
            "width": null,
            "min_width": null,
            "border": null,
            "align_items": null,
            "bottom": null,
            "_model_module": "@jupyter-widgets/base",
            "top": null,
            "grid_column": null,
            "overflow_y": null,
            "overflow_x": null,
            "grid_auto_flow": null,
            "grid_area": null,
            "grid_template_columns": null,
            "flex": null,
            "_model_name": "LayoutModel",
            "justify_items": null,
            "grid_row": null,
            "max_height": null,
            "align_content": null,
            "visibility": null,
            "align_self": null,
            "height": null,
            "min_height": null,
            "padding": null,
            "grid_auto_rows": null,
            "grid_gap": null,
            "max_width": null,
            "order": null,
            "_view_module_version": "1.2.0",
            "grid_template_areas": null,
            "object_position": null,
            "object_fit": null,
            "grid_auto_columns": null,
            "margin": null,
            "display": null,
            "left": null
          }
        },
        "a7f24834d4ab4afca25f48a39ea77e82": {
          "model_module": "@jupyter-widgets/controls",
          "model_name": "HTMLModel",
          "model_module_version": "1.5.0",
          "state": {
            "_view_name": "HTMLView",
            "style": "IPY_MODEL_457b905c26f641a7be5973dddba5a4d0",
            "_dom_classes": [],
            "description": "",
            "_model_name": "HTMLModel",
            "placeholder": "​",
            "_view_module": "@jupyter-widgets/controls",
            "_model_module_version": "1.5.0",
            "value": "",
            "_view_count": null,
            "_view_module_version": "1.5.0",
            "description_tooltip": null,
            "_model_module": "@jupyter-widgets/controls",
            "layout": "IPY_MODEL_9754c18ca5294538af6ffc82f6f865a0"
          }
        },
        "18bb0fdd895440a691a862d417bfd0ff": {
          "model_module": "@jupyter-widgets/controls",
          "model_name": "FloatProgressModel",
          "model_module_version": "1.5.0",
          "state": {
            "_view_name": "ProgressView",
            "style": "IPY_MODEL_903a2720a24c44c4a95af7753a4b1cf0",
            "_dom_classes": [],
            "description": "",
            "_model_name": "FloatProgressModel",
            "bar_style": "success",
            "max": 4542,
            "_view_module": "@jupyter-widgets/controls",
            "_model_module_version": "1.5.0",
            "value": 4542,
            "_view_count": null,
            "_view_module_version": "1.5.0",
            "orientation": "horizontal",
            "min": 0,
            "description_tooltip": null,
            "_model_module": "@jupyter-widgets/controls",
            "layout": "IPY_MODEL_704c53758ae94c87bb0418cb38d008e6"
          }
        },
        "ea9a907a3c5f4040aae884ffbf50cda8": {
          "model_module": "@jupyter-widgets/controls",
          "model_name": "HTMLModel",
          "model_module_version": "1.5.0",
          "state": {
            "_view_name": "HTMLView",
            "style": "IPY_MODEL_56b74b96e4114e01905878474a23972f",
            "_dom_classes": [],
            "description": "",
            "_model_name": "HTMLModel",
            "placeholder": "​",
            "_view_module": "@jupyter-widgets/controls",
            "_model_module_version": "1.5.0",
            "value": " 5120/? [00:00&lt;00:00, 145189.52it/s]",
            "_view_count": null,
            "_view_module_version": "1.5.0",
            "description_tooltip": null,
            "_model_module": "@jupyter-widgets/controls",
            "layout": "IPY_MODEL_dd9017be7528459b85a8f328ef4b155a"
          }
        },
        "457b905c26f641a7be5973dddba5a4d0": {
          "model_module": "@jupyter-widgets/controls",
          "model_name": "DescriptionStyleModel",
          "model_module_version": "1.5.0",
          "state": {
            "_view_name": "StyleView",
            "_model_name": "DescriptionStyleModel",
            "description_width": "",
            "_view_module": "@jupyter-widgets/base",
            "_model_module_version": "1.5.0",
            "_view_count": null,
            "_view_module_version": "1.2.0",
            "_model_module": "@jupyter-widgets/controls"
          }
        },
        "9754c18ca5294538af6ffc82f6f865a0": {
          "model_module": "@jupyter-widgets/base",
          "model_name": "LayoutModel",
          "model_module_version": "1.2.0",
          "state": {
            "_view_name": "LayoutView",
            "grid_template_rows": null,
            "right": null,
            "justify_content": null,
            "_view_module": "@jupyter-widgets/base",
            "overflow": null,
            "_model_module_version": "1.2.0",
            "_view_count": null,
            "flex_flow": null,
            "width": null,
            "min_width": null,
            "border": null,
            "align_items": null,
            "bottom": null,
            "_model_module": "@jupyter-widgets/base",
            "top": null,
            "grid_column": null,
            "overflow_y": null,
            "overflow_x": null,
            "grid_auto_flow": null,
            "grid_area": null,
            "grid_template_columns": null,
            "flex": null,
            "_model_name": "LayoutModel",
            "justify_items": null,
            "grid_row": null,
            "max_height": null,
            "align_content": null,
            "visibility": null,
            "align_self": null,
            "height": null,
            "min_height": null,
            "padding": null,
            "grid_auto_rows": null,
            "grid_gap": null,
            "max_width": null,
            "order": null,
            "_view_module_version": "1.2.0",
            "grid_template_areas": null,
            "object_position": null,
            "object_fit": null,
            "grid_auto_columns": null,
            "margin": null,
            "display": null,
            "left": null
          }
        },
        "903a2720a24c44c4a95af7753a4b1cf0": {
          "model_module": "@jupyter-widgets/controls",
          "model_name": "ProgressStyleModel",
          "model_module_version": "1.5.0",
          "state": {
            "_view_name": "StyleView",
            "_model_name": "ProgressStyleModel",
            "description_width": "",
            "_view_module": "@jupyter-widgets/base",
            "_model_module_version": "1.5.0",
            "_view_count": null,
            "_view_module_version": "1.2.0",
            "bar_color": null,
            "_model_module": "@jupyter-widgets/controls"
          }
        },
        "704c53758ae94c87bb0418cb38d008e6": {
          "model_module": "@jupyter-widgets/base",
          "model_name": "LayoutModel",
          "model_module_version": "1.2.0",
          "state": {
            "_view_name": "LayoutView",
            "grid_template_rows": null,
            "right": null,
            "justify_content": null,
            "_view_module": "@jupyter-widgets/base",
            "overflow": null,
            "_model_module_version": "1.2.0",
            "_view_count": null,
            "flex_flow": null,
            "width": null,
            "min_width": null,
            "border": null,
            "align_items": null,
            "bottom": null,
            "_model_module": "@jupyter-widgets/base",
            "top": null,
            "grid_column": null,
            "overflow_y": null,
            "overflow_x": null,
            "grid_auto_flow": null,
            "grid_area": null,
            "grid_template_columns": null,
            "flex": null,
            "_model_name": "LayoutModel",
            "justify_items": null,
            "grid_row": null,
            "max_height": null,
            "align_content": null,
            "visibility": null,
            "align_self": null,
            "height": null,
            "min_height": null,
            "padding": null,
            "grid_auto_rows": null,
            "grid_gap": null,
            "max_width": null,
            "order": null,
            "_view_module_version": "1.2.0",
            "grid_template_areas": null,
            "object_position": null,
            "object_fit": null,
            "grid_auto_columns": null,
            "margin": null,
            "display": null,
            "left": null
          }
        },
        "56b74b96e4114e01905878474a23972f": {
          "model_module": "@jupyter-widgets/controls",
          "model_name": "DescriptionStyleModel",
          "model_module_version": "1.5.0",
          "state": {
            "_view_name": "StyleView",
            "_model_name": "DescriptionStyleModel",
            "description_width": "",
            "_view_module": "@jupyter-widgets/base",
            "_model_module_version": "1.5.0",
            "_view_count": null,
            "_view_module_version": "1.2.0",
            "_model_module": "@jupyter-widgets/controls"
          }
        },
        "dd9017be7528459b85a8f328ef4b155a": {
          "model_module": "@jupyter-widgets/base",
          "model_name": "LayoutModel",
          "model_module_version": "1.2.0",
          "state": {
            "_view_name": "LayoutView",
            "grid_template_rows": null,
            "right": null,
            "justify_content": null,
            "_view_module": "@jupyter-widgets/base",
            "overflow": null,
            "_model_module_version": "1.2.0",
            "_view_count": null,
            "flex_flow": null,
            "width": null,
            "min_width": null,
            "border": null,
            "align_items": null,
            "bottom": null,
            "_model_module": "@jupyter-widgets/base",
            "top": null,
            "grid_column": null,
            "overflow_y": null,
            "overflow_x": null,
            "grid_auto_flow": null,
            "grid_area": null,
            "grid_template_columns": null,
            "flex": null,
            "_model_name": "LayoutModel",
            "justify_items": null,
            "grid_row": null,
            "max_height": null,
            "align_content": null,
            "visibility": null,
            "align_self": null,
            "height": null,
            "min_height": null,
            "padding": null,
            "grid_auto_rows": null,
            "grid_gap": null,
            "max_width": null,
            "order": null,
            "_view_module_version": "1.2.0",
            "grid_template_areas": null,
            "object_position": null,
            "object_fit": null,
            "grid_auto_columns": null,
            "margin": null,
            "display": null,
            "left": null
          }
        }
      }
    }
  },
  "nbformat": 4,
  "nbformat_minor": 0
}