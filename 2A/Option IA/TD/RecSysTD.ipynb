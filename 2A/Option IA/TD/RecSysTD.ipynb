{
  "nbformat": 4,
  "nbformat_minor": 0,
  "metadata": {
    "colab": {
      "name": "RecSysTD.ipynb",
      "provenance": [],
      "authorship_tag": "ABX9TyO39m4KG5/qIvC0hGfYlVoA",
      "include_colab_link": true
    },
    "kernelspec": {
      "name": "python3",
      "display_name": "Python 3"
    },
    "language_info": {
      "name": "python"
    }
  },
  "cells": [
    {
      "cell_type": "markdown",
      "metadata": {
        "id": "view-in-github",
        "colab_type": "text"
      },
      "source": [
        "<a href=\"https://colab.research.google.com/github/thad75/TP_ENSEA_ELEVE/blob/main/Option%20IA/TD/RecSysTD.ipynb\" target=\"_parent\"><img src=\"https://colab.research.google.com/assets/colab-badge.svg\" alt=\"Open In Colab\"/></a>"
      ]
    },
    {
      "cell_type": "code",
      "execution_count": null,
      "metadata": {
        "id": "puWxHBgcYLyM"
      },
      "outputs": [],
      "source": [
        "!wget https://files.grouplens.org/datasets/movielens/ml-20m.zip\n",
        "!unzip \"/content/ml-20m.zip\"\n",
        "!pip install pytorch-lightning \n",
        "import os\n",
        "import shutil \n",
        "import torch\n",
        "from torch import nn\n",
        "from torch.nn import functional as F\n",
        "from torch.utils.data import DataLoader\n",
        "from torch.utils.data import random_split\n",
        "from torchvision.datasets import MNIST\n",
        "from torchvision import transforms\n",
        "import pytorch_lightning as pl\n",
        "import pycocotools\n",
        "import torchvision.datasets as dset\n",
        "import torchvision.transforms as transforms\n",
        "import torch\n",
        "from torch import nn\n",
        "from torch.nn import functional as F\n",
        "from torch.utils.data import DataLoader\n",
        "from torch.utils.data import random_split\n",
        "from torchvision import transforms\n",
        "from pytorch_lightning import loggers as pl_loggers\n",
        "import pytorch_lightning as pl\n",
        "import os \n",
        "from sklearn.model_selection import train_test_split\n",
        "import pandas as pd\n",
        "import torch\n",
        "import torch.nn as nn\n",
        "from torch.utils.data import Dataset, DataLoader\n"
      ]
    },
    {
      "cell_type": "markdown",
      "source": [
        "# Recommendation Systems\n",
        "\n",
        "Using MovieLens Dataset, build a recommendation system. Feel free for your model. We suggest you to inspire yourself from the NCF Model. This mini lab is **voluntarily sparse**. As future engineers,you'll need to go fetch informations everywhere in order to create and train your model. Don't hesitate to ask questions ! A live correction will be given.\n",
        "\n",
        "Goal of this mini Lab :   \n",
        "*  **Be lost**\n",
        "* Discover new frameworks and read documentation\n",
        "* Explore Datas and think\n",
        "* Create and Train a model using Pytorch Lightning"
      ],
      "metadata": {
        "id": "cSsUwP-oYO6g"
      }
    },
    {
      "cell_type": "markdown",
      "source": [
        "# MovieLens Dataset\n",
        "\n",
        "As a Data Scientist, your work is to understand the data your working with. Using Panda Dataframe have a look at the ratings.csv and movies.csv files and answer the following questions.\n",
        "\n",
        "* What are the features of both csv files ?\n",
        "* To you, what could be the most important csv file ?\n",
        "* How many movies are there ?\n",
        "* How many users rated movies ? \n",
        "* How users did rate the movies ? \n",
        "* What's the span of the ratings ? Using matplotlib or seaborn, plot the ratings for a given movie.\n",
        "* Can we merge both tables ? if yes what key should be used to merge them ?\n",
        "* What are the differents genres of the movies ?\n",
        "* Are there outliers ?\n",
        "\n",
        "Documentation available on : https://pandas.pydata.org/docs/reference/api/pandas.DataFrame.html"
      ],
      "metadata": {
        "id": "k-HveM9ZYieW"
      }
    },
    {
      "cell_type": "code",
      "source": [
        ""
      ],
      "metadata": {
        "id": "ZVIq4szvaj76"
      },
      "execution_count": null,
      "outputs": []
    },
    {
      "cell_type": "markdown",
      "source": [
        "# Some Changes\n",
        "\n",
        "For the rest of the lab, we will only use .05% of the dataset as it it too much for this notebook ( RIP Google ). Run the following cell for the rating dataframe. It will replace the existing rating dataset by a splitted dataset corresponding to 0.05% of the dataset"
      ],
      "metadata": {
        "id": "8Hg8zt9ea1_u"
      }
    },
    {
      "cell_type": "code",
      "source": [
        "ratings, _ = train_test_split(ratings, test_size = 0.95)"
      ],
      "metadata": {
        "id": "sVkJ5S1LbMLq"
      },
      "execution_count": null,
      "outputs": []
    },
    {
      "cell_type": "markdown",
      "source": [
        "# Create your Dataset\n",
        "\n",
        "At this point, you should have a good understanding of the given model. \n",
        "The given Dataset is a csv file. As we work with Tensors and Pytorch, we need to convert the Dataset to something readable by a Pytorch Model. Define a Dataset class that inherits from Dataset that returns a dictionnary {user, item, ratings}. The skeleton is given.\n",
        "Don't forget to create your train, test, validation datasets.\n",
        "\n",
        "Documentation available on : https://pytorch.org/tutorials/beginner/basics/data_tutorial.html"
      ],
      "metadata": {
        "id": "nlIXMBoRbc1Q"
      }
    },
    {
      "cell_type": "code",
      "source": [
        "class MovieLensDataset(Dataset):\n",
        "\n",
        "  def __init__(self,dataframe):\n",
        "      self.dataframe = \n",
        "\n",
        "  def __getitem__(self, idx):\n",
        "\n",
        "\n",
        "      return {'user': torch.tensor(, dtype=torch.long),\n",
        "              'movie':  torch.tensor(, dtype=torch.long),\n",
        "              'rating':  torch.tensor(, dtype=torch.float)}\n",
        "\n",
        "  def __len__(self):\n",
        "    return len()\n"
      ],
      "metadata": {
        "id": "3YW4LI87cAdy"
      },
      "execution_count": null,
      "outputs": []
    },
    {
      "cell_type": "markdown",
      "source": [
        "# Create your DataLoaders\n",
        "\n",
        "Now as in the labs, we want to fetch lot of data at the same time to send it to the model. We use DataLoaders. Define Dataloaders for each of your DataSets"
      ],
      "metadata": {
        "id": "4gi20sLNbfbt"
      }
    },
    {
      "cell_type": "code",
      "source": [
        ""
      ],
      "metadata": {
        "id": "rYvkMJCwcsot"
      },
      "execution_count": null,
      "outputs": []
    },
    {
      "cell_type": "markdown",
      "source": [
        "# Create a Model\n",
        "\n",
        "Create a model that inherits from nn.Module. A skeleton is given. If you don't have any ideas, try to reimplement NCF model.\n",
        "\n",
        "Documenation available on : https://pytorch.org/tutorials/beginner/basics/buildmodel_tutorial.html"
      ],
      "metadata": {
        "id": "7P3EpMnMbiwZ"
      }
    },
    {
      "cell_type": "code",
      "source": [
        "class RecModel(nn.Module):\n",
        "\n",
        "\n",
        "    def __init__(self,..):\n",
        "\n",
        "\n",
        "    def forward(self, ..):"
      ],
      "metadata": {
        "id": "XkCM-u6KcrQi"
      },
      "execution_count": null,
      "outputs": []
    },
    {
      "cell_type": "markdown",
      "source": [
        "# Train\n",
        "\n",
        "Form your training Loop and train your model. Don't forget your optimizer, batch size , number of epochs...\n",
        "\n",
        "Documentation with example on : https://pytorch.org/tutorials/beginner/blitz/cifar10_tutorial.html"
      ],
      "metadata": {
        "id": "UlOXFaW5bnyx"
      }
    },
    {
      "cell_type": "code",
      "source": [
        ""
      ],
      "metadata": {
        "id": "OH61ZalJcuXS"
      },
      "execution_count": null,
      "outputs": []
    },
    {
      "cell_type": "markdown",
      "source": [
        "# Test\n",
        "\n",
        "Test your model on the test set. \n",
        "Do we need a metric ? If yes use the RSME as a metric"
      ],
      "metadata": {
        "id": "X2ID6GmcbpR2"
      }
    },
    {
      "cell_type": "code",
      "source": [
        ""
      ],
      "metadata": {
        "id": "QZgUaa7Ycu0A"
      },
      "execution_count": null,
      "outputs": []
    }
  ]
}