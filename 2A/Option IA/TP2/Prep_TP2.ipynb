{
  "nbformat": 4,
  "nbformat_minor": 0,
  "metadata": {
    "colab": {
      "name": "Prep_TP2.ipynb",
      "provenance": [],
      "authorship_tag": "ABX9TyMMd6sC0P+ImMhPUXEWLX8x",
      "include_colab_link": true
    },
    "kernelspec": {
      "name": "python3",
      "display_name": "Python 3"
    },
    "language_info": {
      "name": "python"
    }
  },
  "cells": [
    {
      "cell_type": "markdown",
      "metadata": {
        "id": "view-in-github",
        "colab_type": "text"
      },
      "source": [
        "<a href=\"https://colab.research.google.com/github/thad75/TP_ENSEA_ELEVE/blob/main/2A/Option%20IA/TP2/Prep_TP2.ipynb\" target=\"_parent\"><img src=\"https://colab.research.google.com/assets/colab-badge.svg\" alt=\"Open In Colab\"/></a>"
      ]
    },
    {
      "cell_type": "markdown",
      "source": [
        "# Preparation 2nd Lab\n",
        "\n",
        "This preparation is mandatory. It will help you code and understand what we will be talking about in the lab."
      ],
      "metadata": {
        "id": "qYN3vV-1GvyP"
      }
    },
    {
      "cell_type": "markdown",
      "source": [
        "## Some Questions\n",
        "\n",
        "* What is a Gram Matrix ?\n",
        "\n",
        "Watch this : https://www.coursera.org/lecture/convolutional-neural-networks/what-is-neural-style-transfer-SA5H8\n",
        "* What is Neural Style Transfer ?\n",
        "* What is the difference between a Shallow and a Deep Network ?\n",
        "* What is a Conv Layer's Filter ?\n",
        "* What is a feature ? Explain it with an example. \n",
        "* What type of features detected in the earlier layers of a neural net ? later layers ?\n"
      ],
      "metadata": {
        "id": "FE8HekLhGtBB"
      }
    },
    {
      "cell_type": "markdown",
      "source": [
        "## Some Coding"
      ],
      "metadata": {
        "id": "QMK-RpMXG9-6"
      }
    },
    {
      "cell_type": "code",
      "source": [
        ""
      ],
      "metadata": {
        "id": "vLHstkolG_dJ"
      },
      "execution_count": null,
      "outputs": []
    }
  ]
}