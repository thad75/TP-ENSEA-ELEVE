{
  "nbformat": 4,
  "nbformat_minor": 0,
  "metadata": {
    "colab": {
      "name": "Introduction to DL.ipynb",
      "provenance": [],
      "authorship_tag": "ABX9TyM55R0cMy3AyQIRW2amPwCy",
      "include_colab_link": true
    },
    "kernelspec": {
      "name": "python3",
      "display_name": "Python 3"
    },
    "language_info": {
      "name": "python"
    },
    "accelerator": "GPU"
  },
  "cells": [
    {
      "cell_type": "markdown",
      "metadata": {
        "id": "view-in-github",
        "colab_type": "text"
      },
      "source": [
        "<a href=\"https://colab.research.google.com/github/thad75/TP_ENSEA_ELEVE/blob/main/2A/Option%20IA/Introduction_to_DL.ipynb\" target=\"_parent\"><img src=\"https://colab.research.google.com/assets/colab-badge.svg\" alt=\"Open In Colab\"/></a>"
      ]
    },
    {
      "cell_type": "code",
      "execution_count": 1,
      "metadata": {
        "id": "CFaa7vpd7PRa",
        "colab": {
          "base_uri": "https://localhost:8080/"
        },
        "outputId": "cc66b7da-4f22-4439-c1d0-9aee57fb9aba"
      },
      "outputs": [
        {
          "output_type": "stream",
          "name": "stdout",
          "text": [
            "Requirement already satisfied: gdown in /usr/local/lib/python3.7/dist-packages (4.2.0)\n",
            "Requirement already satisfied: six in /usr/local/lib/python3.7/dist-packages (from gdown) (1.15.0)\n",
            "Requirement already satisfied: requests[socks] in /usr/local/lib/python3.7/dist-packages (from gdown) (2.23.0)\n",
            "Requirement already satisfied: filelock in /usr/local/lib/python3.7/dist-packages (from gdown) (3.4.2)\n",
            "Requirement already satisfied: tqdm in /usr/local/lib/python3.7/dist-packages (from gdown) (4.62.3)\n",
            "Requirement already satisfied: beautifulsoup4 in /usr/local/lib/python3.7/dist-packages (from gdown) (4.6.3)\n",
            "Requirement already satisfied: urllib3!=1.25.0,!=1.25.1,<1.26,>=1.21.1 in /usr/local/lib/python3.7/dist-packages (from requests[socks]->gdown) (1.24.3)\n",
            "Requirement already satisfied: chardet<4,>=3.0.2 in /usr/local/lib/python3.7/dist-packages (from requests[socks]->gdown) (3.0.4)\n",
            "Requirement already satisfied: idna<3,>=2.5 in /usr/local/lib/python3.7/dist-packages (from requests[socks]->gdown) (2.10)\n",
            "Requirement already satisfied: certifi>=2017.4.17 in /usr/local/lib/python3.7/dist-packages (from requests[socks]->gdown) (2021.10.8)\n",
            "Requirement already satisfied: PySocks!=1.5.7,>=1.5.6 in /usr/local/lib/python3.7/dist-packages (from requests[socks]->gdown) (1.7.1)\n",
            "Downloading...\n",
            "From: https://drive.google.com/uc?id=12PZB5hWpwAyRuSWAgkaFdZdZluGf8_6Z\n",
            "To: /content/test_signs.h5\n",
            "100% 1.48M/1.48M [00:00<00:00, 174MB/s]\n",
            "Downloading...\n",
            "From: https://drive.google.com/uc?id=1g1CEUs8BvSJXSDroHgjUbTa3izGp9WMO\n",
            "To: /content/train_signs.h5\n",
            "100% 13.3M/13.3M [00:00<00:00, 56.7MB/s]\n"
          ]
        }
      ],
      "source": [
        "!pip install gdown\n",
        "!gdown --id 12PZB5hWpwAyRuSWAgkaFdZdZluGf8_6Z\n",
        "!gdown --id 1g1CEUs8BvSJXSDroHgjUbTa3izGp9WMO"
      ]
    },
    {
      "cell_type": "markdown",
      "source": [
        "# Disclaimer \n",
        "\n",
        "Before beginning this lab, please activate a GPU by going into :     \n",
        "- Exécution\n",
        "- Modifier le type d'éxecution\n",
        "- GPU "
      ],
      "metadata": {
        "id": "peN7xMkxh7y6"
      }
    },
    {
      "cell_type": "markdown",
      "source": [
        "# DNNs with TensorFlow\n",
        "\n",
        "Welcome to the Deep Learning Lab sessions. As you had a slight introduction to Deep Learning through the Course, you will now apply it through this izi pizi labs.\n",
        "This lab will be done using TensorFlow from Google. \n",
        "You will learn to do the following in TensorFlow: \n",
        "\n",
        "- Initialize variables\n",
        "- Start your own session\n",
        "- Train algorithms \n",
        "- Implement a Neural Network\n",
        "\n",
        "This part of the lab is splitted in two parts :\n",
        "- Using Tensorflow\n",
        "- Creating and Performing Classification using TF.\n",
        "\n",
        "<img src=\"https://www.memesmonkey.com/images/memesmonkey/3f/3fd47d627866ac3f67bc4a38b0b2941c.jpeg\">\n"
      ],
      "metadata": {
        "id": "dcOlbCv-7P0m"
      }
    },
    {
      "cell_type": "markdown",
      "source": [
        "# First Time Hun ?\n",
        "\n",
        "So this might be your first time using Deep Learning for a certain task. So in this lab we will perform a certain Task : Classification. We will classify hands. Hun.\n",
        "\n",
        "When training a DL Algorithm you need few things : \n",
        "* A Dataset\n",
        "* A Model\n",
        "* A Learning Algorithm\n",
        "* Something more ?\n",
        "\n",
        "So we will navigate through each of these points to train a Model to perform Hand Signs Classification.\n",
        "\n",
        "<img src = \"https://i.kym-cdn.com/photos/images/original/000/123/620/Oh-boy-here-we-go.jpg\">\n",
        "\n"
      ],
      "metadata": {
        "id": "B6t5QBmc7RIw"
      }
    },
    {
      "cell_type": "markdown",
      "source": [
        "# I - Dataset : SIGNS"
      ],
      "metadata": {
        "id": "RVTDKEE9-Lgh"
      }
    },
    {
      "cell_type": "markdown",
      "source": [
        "\n",
        "We wil use SIGNS Dataset. Let's first have some insight look on our Dataset\n",
        "Load the train and test datasets\n"
      ],
      "metadata": {
        "id": "-jEdisCc94vb"
      }
    },
    {
      "cell_type": "code",
      "source": [
        "import h5py\n",
        "import numpy as np\n",
        "import tensorflow as tf\n",
        "import math\n",
        "import matplotlib.pyplot as plt\n",
        "\n",
        "# TODO : load the h5 files in the correct variables\n",
        "train_dataset = h5py.File('/content/train_signs.h5', \"r\")\n",
        "test_dataset = h5py.File('/content/test_signs.h5', \"r\")\n",
        "\n",
        "# TODO : print the keys of each variables. \n",
        "# Questions: Are the keys different ? \n",
        "print(train_dataset.keys())\n",
        "print(test_dataset.keys())\n",
        "\n",
        "# TODO : create x_train, y_train, x_test, y_test and convert them to array using numpy\n",
        "# Questions : What is the length of each Dataset.\n",
        "# Questions : What are the labels, what are our images ?\n",
        "\n",
        "print(len(train_dataset))\n",
        "x_train = np.array(train_dataset['train_set_x'][:])\n",
        "y_train = np.array(train_dataset['train_set_y'][:]).reshape((-1))\n",
        "\n",
        "x_test = np.array(test_dataset['test_set_x'][:])\n",
        "y_test = np.array(test_dataset['test_set_y'][:]).reshape((-1))\n",
        "\n",
        "# TODO : load the classes in an array. \n",
        "# Questions : How many labels should you have ? (Count your fingers)\n",
        "classes = np.array(test_dataset[\"list_classes\"][:])\n",
        "print(classes)\n",
        "print(x_train.shape, y_train.shape, type(x_train))"
      ],
      "metadata": {
        "colab": {
          "base_uri": "https://localhost:8080/"
        },
        "id": "4Zv5idtSAyaF",
        "outputId": "66b906cd-2a91-4736-d17b-668834600d6a"
      },
      "execution_count": 74,
      "outputs": [
        {
          "output_type": "stream",
          "name": "stdout",
          "text": [
            "<KeysViewHDF5 ['list_classes', 'train_set_x', 'train_set_y']>\n",
            "<KeysViewHDF5 ['list_classes', 'test_set_x', 'test_set_y']>\n",
            "3\n",
            "[0 1 2 3 4 5]\n",
            "(1080, 64, 64, 3) (1080,) <class 'numpy.ndarray'>\n"
          ]
        }
      ]
    },
    {
      "cell_type": "code",
      "source": [
        "train_dataset = tf.data.Dataset.from_tensor_slices((x_train, y_train))\n",
        "test_dataset = tf.data.Dataset.from_tensor_slices((x_test, y_test))"
      ],
      "metadata": {
        "id": "cdzZlgq8L1av"
      },
      "execution_count": 75,
      "outputs": []
    },
    {
      "cell_type": "code",
      "source": [
        "BATCH_SIZE = 64\n",
        "SHUFFLE_BUFFER_SIZE = 100\n",
        "\n",
        "train_dataset = train_dataset.shuffle(SHUFFLE_BUFFER_SIZE).batch(BATCH_SIZE)\n",
        "test_dataset = test_dataset.batch(BATCH_SIZE)"
      ],
      "metadata": {
        "id": "HBPUUn4ZL_bb"
      },
      "execution_count": 76,
      "outputs": []
    },
    {
      "cell_type": "markdown",
      "source": [
        "Few questions on the Dataset: \n",
        "* How many elements do you have in your Train and Test Datasets ? Explain the shape of the Train Dataset\n",
        "* What is the size of one element of the Dataset ?\n",
        "* Are the images RGB images ?\n",
        "\n",
        "Plot some images from the train Dataset with their labels along using Matplotlib"
      ],
      "metadata": {
        "id": "4sViFgkcAgJv"
      }
    },
    {
      "cell_type": "code",
      "source": [
        "index = 1070\n",
        "plt.title(\"Label is\" + str(np.squeeze(y_train[ index])))\n",
        "plt.imshow(x_train[index])\n"
      ],
      "metadata": {
        "colab": {
          "base_uri": "https://localhost:8080/",
          "height": 298
        },
        "id": "t8HqOI_TAkCH",
        "outputId": "f8479bba-78e9-4f13-8aaf-10a1b9a93e5f"
      },
      "execution_count": 51,
      "outputs": [
        {
          "output_type": "execute_result",
          "data": {
            "text/plain": [
              "<matplotlib.image.AxesImage at 0x7f81f9264710>"
            ]
          },
          "metadata": {},
          "execution_count": 51
        },
        {
          "output_type": "display_data",
          "data": {
            "image/png": "[encoded data removed]",
            "text/plain": [
              "<Figure size 432x288 with 1 Axes>"
            ]
          },
          "metadata": {
            "needs_background": "light"
          }
        }
      ]
    },
    {
      "cell_type": "markdown",
      "source": [
        "So now you have some understanding of the Dataset. Let's try things"
      ],
      "metadata": {
        "id": "NBXOWo8ZAzE5"
      }
    },
    {
      "cell_type": "markdown",
      "source": [
        "II- The Model : Your Choice\n",
        "\n",
        "We are going to guide you a lil bit for this. In fact, you can create whatever model you want. However, they might not be as effective as some other networks.\n",
        "In this part, we will try Dense Layers.\n",
        "\n",
        "<img src = \"https://cdn.analyticsvidhya.com/wp-content/uploads/2020/02/ANN-Graph.gif\" height=300 >\n",
        "\n",
        "\n",
        "* What is the other name of a Dense Layer ?\n",
        "\n",
        "\n",
        "To create this FC model, you have to understand few things :\n",
        "* The input Layer will have a Fixed number of Neurons that must correspond to the image's size.\n",
        "* Between the Layers, you must apply some non-linearity so that the model learns complex features.\n",
        "* You have to compromise between the Shallowness or Depth of your Model. You'll understand why in the next lab.\n",
        "\n",
        "<img src=\"https://miro.medium.com/max/1400/1*E4_pTJctmAofSRpZCZbv-g.jpeg\" height=300>\n",
        "\n",
        "\n",
        "Let's create a simple Sequential Model :    \n",
        "* an Input Layer\n",
        "* a Hidden Layer\n",
        "* an Output Layer\n",
        "\n",
        "(Like the picture above Andrew)"
      ],
      "metadata": {
        "id": "nCynSEY9H7BA"
      }
    },
    {
      "cell_type": "code",
      "source": [
        "# TODO : Create a Simple 3 layer model.\n",
        "# Question : What is the input shape ?\n",
        "# Question : What is the output shape ?\n",
        "# Question : What non linearity must we add ?\n",
        "\n",
        "model = tf.keras.models.Sequential([\n",
        "  tf.keras.layers.Flatten(input_shape=(64,64,3)),\n",
        "  tf.keras.layers.Dense(64*64*3, activation='relu'),\n",
        "  tf.keras.layers.Dropout(0.2),\n",
        "  tf.keras.layers.Dense(5)\n",
        "])"
      ],
      "metadata": {
        "id": "l8f_9xapH42z"
      },
      "execution_count": 77,
      "outputs": []
    },
    {
      "cell_type": "markdown",
      "source": [
        "Some questions related to Memes on Activation Functions :\n",
        "\n",
        "<img src=\"https://2.bp.blogspot.com/-IdxHoo3lTrU/XHXNi8HM4_I/AAAAAAAAOhY/xTrp-Z8yYjY6NVBs-PXHw2Gho53vU90DgCLcBGAs/s1600/52386901_10157143758983669_1120348777576660992_o.jpg\" height = 400>\n",
        "\n",
        "*  How do you understand the ReLU function as an activation of a layer ?\n",
        "\n",
        "<img src=\"https://encrypted-tbn0.gstatic.com/images?q=tbn:ANd9GcQGVkqoa4YitmdIj-pCt88odvoscPbgocSPDQ&usqp=CAU\" >\n",
        "\n",
        "* Can we use any activation functions ? Take the example of multiclass classification, can we use the same activation function in the last layer than in the earlier layers ?"
      ],
      "metadata": {
        "id": "QsKmzR598Hzq"
      }
    },
    {
      "cell_type": "markdown",
      "source": [
        "III- The Loss \n",
        "\n",
        "Now we need something to tell our model if it does well or no. Let's say your model predicts something. We need to compute how far the prediction is compared to the real label. \n",
        "\n",
        "\n",
        "We will use the cross entropy. As some of you might see in Information Theory, Cross Entropy measures the difference between two Probabilty Distributions.\n"
      ],
      "metadata": {
        "id": "DfsGRDejIMMc"
      }
    },
    {
      "cell_type": "markdown",
      "source": [
        "In fact, Tensorflow already has coded a bunch of Loss for us. You can have a look at all the existing loss here :\n",
        "* https://www.tensorflow.org/api_docs/python/tf/keras/losses/Loss\n"
      ],
      "metadata": {
        "id": "U_W5LW-v0vYY"
      }
    },
    {
      "cell_type": "markdown",
      "source": [
        "* What loss will we be using here ?\n",
        "\n",
        "If you don't know how to answer the previous question, ask yourself these things :\n",
        "\n",
        "* Do we have labels ?\n",
        "* What task are we performing ? Regression or Classification ?\n",
        "* What must be the output of our model ?\n"
      ],
      "metadata": {
        "id": "pJFhbQaBBtPU"
      }
    },
    {
      "cell_type": "code",
      "source": [
        "loss = tf.keras.losses.CategoricalCrossentropy(from_logits=True)"
      ],
      "metadata": {
        "id": "mRGTfxuSJ35g"
      },
      "execution_count": 78,
      "outputs": []
    },
    {
      "cell_type": "code",
      "source": [
        "loss2 = tf.keras.losses.SparseCategoricalCrossentropy(from_logits=True)"
      ],
      "metadata": {
        "id": "64M_u1Op1ZSf"
      },
      "execution_count": 62,
      "outputs": []
    },
    {
      "cell_type": "markdown",
      "source": [
        "IV - The Optimizer\n",
        "\n",
        "So at the end of the Model, we can compute a loss. We need to back-propagate the loss to all the layers so that it sees and understands the end result of a prediction and search for a Local-Global Optimum. You have plenty of optimizers available, the simplest is Gradient Descent. We pratically use Stochastic Gradient Descent in order to find a Global Minimum where the model should be performing 'well'.\n",
        "\n",
        "<img src=\"https://www.memecreator.org/static/images/memes/5296549.jpg\" height = 300>\n",
        "\n",
        "\n",
        "Have a look at the existing optimizers in TensorFlow :    \n",
        "* https://www.tensorflow.org/api_docs/python/tf/keras/optimizers\n",
        "\n",
        "We will use ADAM. In fact, we can use SGD or any other Optimizer. However, ADAM\n",
        "for Adaptive Moment Estimation\n",
        "\n",
        "We will use ADAM optimizer here. Why ? ADAM is more robust than SGD. (and it has more things such as per parameter learning rate adaptation that improves performance on sparse gradient and other things (To quote Andrew NG : Don't worry about it if you don't understand it) \n",
        "\n",
        "<img src=\"https://i.pinimg.com/474x/7b/58/bb/7b58bb3b853ff61ed8873aeb711cb3b6.jpg\">"
      ],
      "metadata": {
        "id": "cZ0j9m8bISOL"
      }
    },
    {
      "cell_type": "code",
      "source": [
        "# TODO : Load Adam optimizer and set a learning rate.\n",
        "optimizer = tf.keras.optimizers.Adam(learning_rate=0.1)"
      ],
      "metadata": {
        "id": "rZt9Lv11J4PZ"
      },
      "execution_count": 79,
      "outputs": []
    },
    {
      "cell_type": "markdown",
      "source": [
        "V - The Compilation\n",
        "\n",
        "Now that we have all we need, we have to compile the model with all the preceding stuff. \n",
        "\n",
        "That's where TensorFlow is cool. It has a compile method that compiles everything for you."
      ],
      "metadata": {
        "id": "q7DxtlUdIUfT"
      }
    },
    {
      "cell_type": "code",
      "source": [
        "model.compile(optimizer=optimizer,\n",
        "              loss=loss,\n",
        "              metrics=[tf.keras.metrics.CategoricalAccuracy(name='categorical_accuracy', dtype=None)])"
      ],
      "metadata": {
        "id": "ajW5ebUEDwuH"
      },
      "execution_count": 86,
      "outputs": []
    },
    {
      "cell_type": "markdown",
      "source": [
        "VI- The Training \n",
        "\n",
        "When you train, you become fit. In Deep Learning, we fit a distribution of Data to the model so that it learns a specific task.\n",
        "\n",
        "Again, TensorFlow has a great method that fits data for you."
      ],
      "metadata": {
        "id": "7tjgUzaTIWU8"
      }
    },
    {
      "cell_type": "code",
      "source": [
        "print(train_dataset.batch(1))"
      ],
      "metadata": {
        "colab": {
          "base_uri": "https://localhost:8080/"
        },
        "id": "xySoRwmVLP9W",
        "outputId": "704efd7b-1d0f-4823-c2ef-c35e6f9d777b"
      },
      "execution_count": 11,
      "outputs": [
        {
          "output_type": "stream",
          "name": "stdout",
          "text": [
            "<BatchDataset shapes: ((None, None, 64, 64, 3), (None, None)), types: (tf.uint8, tf.int64)>\n"
          ]
        }
      ]
    },
    {
      "cell_type": "code",
      "source": [
        "model.fit(train_dataset,epochs=5)"
      ],
      "metadata": {
        "id": "o6hQFAbXKRzj",
        "colab": {
          "base_uri": "https://localhost:8080/",
          "height": 692
        },
        "outputId": "d1d6fe67-b385-42fd-d935-d04cc8698955"
      },
      "execution_count": 82,
      "outputs": [
        {
          "output_type": "stream",
          "name": "stdout",
          "text": [
            "Epoch 1/5\n"
          ]
        },
        {
          "output_type": "error",
          "ename": "ValueError",
          "evalue": "ignored",
          "traceback": [
            "\u001b[0;31m---------------------------------------------------------------------------\u001b[0m",
            "\u001b[0;31mValueError\u001b[0m                                Traceback (most recent call last)",
            "\u001b[0;32m<ipython-input-82-c2b885053732>\u001b[0m in \u001b[0;36m<module>\u001b[0;34m()\u001b[0m\n\u001b[0;32m----> 1\u001b[0;31m \u001b[0mmodel\u001b[0m\u001b[0;34m.\u001b[0m\u001b[0mfit\u001b[0m\u001b[0;34m(\u001b[0m\u001b[0mtrain_dataset\u001b[0m\u001b[0;34m,\u001b[0m\u001b[0mepochs\u001b[0m\u001b[0;34m=\u001b[0m\u001b[0;36m5\u001b[0m\u001b[0;34m)\u001b[0m\u001b[0;34m\u001b[0m\u001b[0;34m\u001b[0m\u001b[0m\n\u001b[0m",
            "\u001b[0;32m/usr/local/lib/python3.7/dist-packages/keras/utils/traceback_utils.py\u001b[0m in \u001b[0;36merror_handler\u001b[0;34m(*args, **kwargs)\u001b[0m\n\u001b[1;32m     65\u001b[0m     \u001b[0;32mexcept\u001b[0m \u001b[0mException\u001b[0m \u001b[0;32mas\u001b[0m \u001b[0me\u001b[0m\u001b[0;34m:\u001b[0m  \u001b[0;31m# pylint: disable=broad-except\u001b[0m\u001b[0;34m\u001b[0m\u001b[0;34m\u001b[0m\u001b[0m\n\u001b[1;32m     66\u001b[0m       \u001b[0mfiltered_tb\u001b[0m \u001b[0;34m=\u001b[0m \u001b[0m_process_traceback_frames\u001b[0m\u001b[0;34m(\u001b[0m\u001b[0me\u001b[0m\u001b[0;34m.\u001b[0m\u001b[0m__traceback__\u001b[0m\u001b[0;34m)\u001b[0m\u001b[0;34m\u001b[0m\u001b[0;34m\u001b[0m\u001b[0m\n\u001b[0;32m---> 67\u001b[0;31m       \u001b[0;32mraise\u001b[0m \u001b[0me\u001b[0m\u001b[0;34m.\u001b[0m\u001b[0mwith_traceback\u001b[0m\u001b[0;34m(\u001b[0m\u001b[0mfiltered_tb\u001b[0m\u001b[0;34m)\u001b[0m \u001b[0;32mfrom\u001b[0m \u001b[0;32mNone\u001b[0m\u001b[0;34m\u001b[0m\u001b[0;34m\u001b[0m\u001b[0m\n\u001b[0m\u001b[1;32m     68\u001b[0m     \u001b[0;32mfinally\u001b[0m\u001b[0;34m:\u001b[0m\u001b[0;34m\u001b[0m\u001b[0;34m\u001b[0m\u001b[0m\n\u001b[1;32m     69\u001b[0m       \u001b[0;32mdel\u001b[0m \u001b[0mfiltered_tb\u001b[0m\u001b[0;34m\u001b[0m\u001b[0;34m\u001b[0m\u001b[0m\n",
            "\u001b[0;32m/usr/local/lib/python3.7/dist-packages/tensorflow/python/framework/func_graph.py\u001b[0m in \u001b[0;36mautograph_handler\u001b[0;34m(*args, **kwargs)\u001b[0m\n\u001b[1;32m   1127\u001b[0m           \u001b[0;32mexcept\u001b[0m \u001b[0mException\u001b[0m \u001b[0;32mas\u001b[0m \u001b[0me\u001b[0m\u001b[0;34m:\u001b[0m  \u001b[0;31m# pylint:disable=broad-except\u001b[0m\u001b[0;34m\u001b[0m\u001b[0;34m\u001b[0m\u001b[0m\n\u001b[1;32m   1128\u001b[0m             \u001b[0;32mif\u001b[0m \u001b[0mhasattr\u001b[0m\u001b[0;34m(\u001b[0m\u001b[0me\u001b[0m\u001b[0;34m,\u001b[0m \u001b[0;34m\"ag_error_metadata\"\u001b[0m\u001b[0;34m)\u001b[0m\u001b[0;34m:\u001b[0m\u001b[0;34m\u001b[0m\u001b[0;34m\u001b[0m\u001b[0m\n\u001b[0;32m-> 1129\u001b[0;31m               \u001b[0;32mraise\u001b[0m \u001b[0me\u001b[0m\u001b[0;34m.\u001b[0m\u001b[0mag_error_metadata\u001b[0m\u001b[0;34m.\u001b[0m\u001b[0mto_exception\u001b[0m\u001b[0;34m(\u001b[0m\u001b[0me\u001b[0m\u001b[0;34m)\u001b[0m\u001b[0;34m\u001b[0m\u001b[0;34m\u001b[0m\u001b[0m\n\u001b[0m\u001b[1;32m   1130\u001b[0m             \u001b[0;32melse\u001b[0m\u001b[0;34m:\u001b[0m\u001b[0;34m\u001b[0m\u001b[0;34m\u001b[0m\u001b[0m\n\u001b[1;32m   1131\u001b[0m               \u001b[0;32mraise\u001b[0m\u001b[0;34m\u001b[0m\u001b[0;34m\u001b[0m\u001b[0m\n",
            "\u001b[0;31mValueError\u001b[0m: in user code:\n\n    File \"/usr/local/lib/python3.7/dist-packages/keras/engine/training.py\", line 878, in train_function  *\n        return step_function(self, iterator)\n    File \"/usr/local/lib/python3.7/dist-packages/keras/engine/training.py\", line 867, in step_function  **\n        outputs = model.distribute_strategy.run(run_step, args=(data,))\n    File \"/usr/local/lib/python3.7/dist-packages/keras/engine/training.py\", line 860, in run_step  **\n        outputs = model.train_step(data)\n    File \"/usr/local/lib/python3.7/dist-packages/keras/engine/training.py\", line 810, in train_step\n        y, y_pred, sample_weight, regularization_losses=self.losses)\n    File \"/usr/local/lib/python3.7/dist-packages/keras/engine/compile_utils.py\", line 201, in __call__\n        loss_value = loss_obj(y_t, y_p, sample_weight=sw)\n    File \"/usr/local/lib/python3.7/dist-packages/keras/losses.py\", line 141, in __call__\n        losses = call_fn(y_true, y_pred)\n    File \"/usr/local/lib/python3.7/dist-packages/keras/losses.py\", line 245, in call  **\n        return ag_fn(y_true, y_pred, **self._fn_kwargs)\n    File \"/usr/local/lib/python3.7/dist-packages/keras/losses.py\", line 1665, in categorical_crossentropy\n        y_true, y_pred, from_logits=from_logits, axis=axis)\n    File \"/usr/local/lib/python3.7/dist-packages/keras/backend.py\", line 4994, in categorical_crossentropy\n        target.shape.assert_is_compatible_with(output.shape)\n\n    ValueError: Shapes (None, 1) and (None, 5) are incompatible\n"
          ]
        }
      ]
    },
    {
      "cell_type": "markdown",
      "source": [
        "AW.. It doesn't work ....\n",
        "\n",
        "\n",
        "<img src=\"https://media.npr.org/assets/img/2016/03/29/ap_090911089838_sq-3271237f28995f6530d9634ff27228cae88e3440-s900-c85.webp\" height = 200>\n",
        "\n",
        "In fact, it is normal. Let's have a closer look on our Dataset and our Model. Especially the last layer.\n",
        "\n",
        "let's have a look at the Dataset labels first."
      ],
      "metadata": {
        "id": "mk4qWRGsAROH"
      }
    },
    {
      "cell_type": "code",
      "source": [
        "print(y_train)"
      ],
      "metadata": {
        "colab": {
          "base_uri": "https://localhost:8080/"
        },
        "id": "KzcI2iwZOXrV",
        "outputId": "f5c896e3-3a17-4fb9-90d3-a336a67387a3"
      },
      "execution_count": 57,
      "outputs": [
        {
          "output_type": "stream",
          "name": "stdout",
          "text": [
            "[[5]\n",
            " [0]\n",
            " [2]\n",
            " ...\n",
            " [2]\n",
            " [4]\n",
            " [5]]\n"
          ]
        }
      ]
    },
    {
      "cell_type": "markdown",
      "source": [
        "As you might see these are numbers between 0,5. The model will have issues to predict these numbers. In fact, we put a SoftMax activation layer at the end. The SoftMax makes the model behaves as follows : \n",
        "\n",
        "Let's say that the Last Layer has 6 Neurons. We want to train the model so that \n",
        "when the model sees an image of 0 the 1rst neuron has the highest value. When it sees an image of 1 the 2nd neurons has the highest value.. and so on.\n",
        "\n",
        "That means that we need to change our label to something that helps us to learn to activate the wanted neuron for an image.\n",
        "\n",
        "Let's do some 1-Hot Encoding.\n",
        "\n",
        "<img src= \"https://image.slidesharecdn.com/cnn-tsopnang-180418232518/95/demo3-convolutional-neural-network-22-638.jpg?cb=1524094111\">\n",
        "\n",
        "\n",
        "\n",
        "\n",
        "\n"
      ],
      "metadata": {
        "id": "5IdPwIY4O7CI"
      }
    },
    {
      "cell_type": "code",
      "source": [
        "# TODO : Create a function that 1-Hot encodes a number into a given size vector. Or have a look at this : https://www.tensorflow.org/api_docs/python/tf/one_hot\n",
        "\n",
        "y_train_oh = tf.one_hot(y_train, 5)\n",
        "y_test_oh = tf.one_hot(y_test, 5)\n",
        "print(y_train_oh)\n",
        "train_dataset = tf.data.Dataset.from_tensor_slices((x_train, y_train_oh))\n",
        "test_dataset = tf.data.Dataset.from_tensor_slices((x_test, y_test_oh))\n",
        "\n",
        "BATCH_SIZE = 32\n",
        "SHUFFLE_BUFFER_SIZE = 100\n",
        "\n",
        "train_dataset = train_dataset.shuffle(SHUFFLE_BUFFER_SIZE).batch(BATCH_SIZE)\n",
        "test_dataset = test_dataset.batch(BATCH_SIZE)"
      ],
      "metadata": {
        "colab": {
          "base_uri": "https://localhost:8080/"
        },
        "id": "srSx1hy9SjlK",
        "outputId": "ae2bcaa3-8a27-4b59-af13-1b7f7e931ff2"
      },
      "execution_count": 83,
      "outputs": [
        {
          "output_type": "stream",
          "name": "stdout",
          "text": [
            "tf.Tensor(\n",
            "[[0. 0. 0. 0. 0.]\n",
            " [1. 0. 0. 0. 0.]\n",
            " [0. 0. 1. 0. 0.]\n",
            " ...\n",
            " [0. 0. 1. 0. 0.]\n",
            " [0. 0. 0. 0. 1.]\n",
            " [0. 0. 0. 0. 0.]], shape=(1080, 5), dtype=float32)\n"
          ]
        }
      ]
    },
    {
      "cell_type": "code",
      "source": [
        "print(train_dataset)"
      ],
      "metadata": {
        "id": "u0AuKpc1e26M",
        "outputId": "321b0f9b-969d-454d-af88-b13134f8f7df",
        "colab": {
          "base_uri": "https://localhost:8080/"
        }
      },
      "execution_count": 67,
      "outputs": [
        {
          "output_type": "stream",
          "name": "stdout",
          "text": [
            "<BatchDataset shapes: ((None, 64, 64, 3), (None, 1, 5)), types: (tf.uint8, tf.float32)>\n"
          ]
        }
      ]
    },
    {
      "cell_type": "markdown",
      "source": [
        "Ok let's try again"
      ],
      "metadata": {
        "id": "pkhXKvVofHfA"
      }
    },
    {
      "cell_type": "code",
      "source": [
        "model.fit(train_dataset,epochs=15)"
      ],
      "metadata": {
        "id": "dSWXqkl7fHvB",
        "outputId": "50bb7874-bba7-40df-9a23-d30958bf5a1f",
        "colab": {
          "base_uri": "https://localhost:8080/"
        }
      },
      "execution_count": 87,
      "outputs": [
        {
          "output_type": "stream",
          "name": "stdout",
          "text": [
            "Epoch 1/15\n",
            "34/34 [==============================] - 1s 34ms/step - loss: 3124170.7500 - categorical_accuracy: 0.1926\n",
            "Epoch 2/15\n",
            "34/34 [==============================] - 1s 35ms/step - loss: 12409.0010 - categorical_accuracy: 0.2093\n",
            "Epoch 3/15\n",
            "34/34 [==============================] - 1s 34ms/step - loss: 8246.6846 - categorical_accuracy: 0.2000\n",
            "Epoch 4/15\n",
            "34/34 [==============================] - 1s 33ms/step - loss: 1.3502 - categorical_accuracy: 0.1676\n",
            "Epoch 5/15\n",
            "34/34 [==============================] - 1s 33ms/step - loss: 1019.1524 - categorical_accuracy: 0.1685\n",
            "Epoch 6/15\n",
            "34/34 [==============================] - 1s 33ms/step - loss: 1.3409 - categorical_accuracy: 0.1926\n",
            "Epoch 7/15\n",
            "34/34 [==============================] - 1s 32ms/step - loss: 1.3413 - categorical_accuracy: 0.1944\n",
            "Epoch 8/15\n",
            "34/34 [==============================] - 1s 33ms/step - loss: 1.3434 - categorical_accuracy: 0.1491\n",
            "Epoch 9/15\n",
            "34/34 [==============================] - 1s 33ms/step - loss: 1.3442 - categorical_accuracy: 0.1833\n",
            "Epoch 10/15\n",
            "34/34 [==============================] - 1s 33ms/step - loss: 1.3431 - categorical_accuracy: 0.2148\n",
            "Epoch 11/15\n",
            "34/34 [==============================] - 1s 32ms/step - loss: 1.3425 - categorical_accuracy: 0.1954\n",
            "Epoch 12/15\n",
            "34/34 [==============================] - 1s 33ms/step - loss: 1.3410 - categorical_accuracy: 0.1537\n",
            "Epoch 13/15\n",
            "34/34 [==============================] - 1s 33ms/step - loss: 1.3427 - categorical_accuracy: 0.1926\n",
            "Epoch 14/15\n",
            "34/34 [==============================] - 1s 33ms/step - loss: 1.3422 - categorical_accuracy: 0.2028\n",
            "Epoch 15/15\n",
            "34/34 [==============================] - 1s 33ms/step - loss: 1.3427 - categorical_accuracy: 0.1546\n"
          ]
        },
        {
          "output_type": "execute_result",
          "data": {
            "text/plain": [
              "<keras.callbacks.History at 0x7f81f9093350>"
            ]
          },
          "metadata": {},
          "execution_count": 87
        }
      ]
    },
    {
      "cell_type": "code",
      "source": [
        "import tensorflow as tf\n",
        "mnist = tf.keras.datasets.mnist\n",
        "\n",
        "(x_train, y_train),(x_test, y_test) = mnist.load_data()\n",
        "x_train, x_test = x_train / 255.0, x_test / 255.0\n",
        "\n",
        "print(x_train.shape)"
      ],
      "metadata": {
        "id": "_C8HhaECt3Dh",
        "outputId": "0df6433c-cd63-44f4-b396-ca1a274399f1",
        "colab": {
          "base_uri": "https://localhost:8080/"
        }
      },
      "execution_count": 24,
      "outputs": [
        {
          "output_type": "stream",
          "name": "stdout",
          "text": [
            "(60000, 28, 28)\n"
          ]
        }
      ]
    },
    {
      "cell_type": "markdown",
      "source": [
        "VII- The Evalutation"
      ],
      "metadata": {
        "id": "fYvRK1IOIdkU"
      }
    },
    {
      "cell_type": "markdown",
      "source": [
        "Nonw that we trained the model, let's evaluate it on the test dataset. Again, TensforFlow has this great .evaluate() method that evaluates your model to the test dataset.\n",
        "\n",
        "* Evaluate your trained model to the Test Dataset."
      ],
      "metadata": {
        "id": "i2i4gJOFxIUY"
      }
    },
    {
      "cell_type": "code",
      "source": [
        "model.evaluate(test_dataset)"
      ],
      "metadata": {
        "id": "3c2J-281u96p",
        "outputId": "2d8461b1-f1de-4aea-95fe-d721be4acb7e",
        "colab": {
          "base_uri": "https://localhost:8080/"
        }
      },
      "execution_count": 88,
      "outputs": [
        {
          "output_type": "stream",
          "name": "stdout",
          "text": [
            "4/4 [==============================] - 0s 8ms/step - loss: 1.3412 - categorical_accuracy: 0.1833\n"
          ]
        },
        {
          "output_type": "execute_result",
          "data": {
            "text/plain": [
              "[1.341188907623291, 0.18333333730697632]"
            ]
          },
          "metadata": {},
          "execution_count": 88
        }
      ]
    }
  ]
}