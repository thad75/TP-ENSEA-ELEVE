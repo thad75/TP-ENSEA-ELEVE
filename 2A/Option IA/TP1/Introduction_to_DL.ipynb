{
  "nbformat": 4,
  "nbformat_minor": 0,
  "metadata": {
    "colab": {
      "name": "Introduction to DL.ipynb",
      "provenance": [],
      "authorship_tag": "ABX9TyM80SHySiBRxhL6v6tI00xv",
      "include_colab_link": true
    },
    "kernelspec": {
      "name": "python3",
      "display_name": "Python 3"
    },
    "language_info": {
      "name": "python"
    },
    "accelerator": "GPU"
  },
  "cells": [
    {
      "cell_type": "markdown",
      "metadata": {
        "id": "view-in-github",
        "colab_type": "text"
      },
      "source": [
        "<a href=\"https://colab.research.google.com/github/thad75/TP_ENSEA_ELEVE/blob/main/2A/Option%20IA/TP1/Introduction_to_DL.ipynb\" target=\"_parent\"><img src=\"https://colab.research.google.com/assets/colab-badge.svg\" alt=\"Open In Colab\"/></a>"
      ]
    },
    {
      "cell_type": "code",
      "execution_count": null,
      "metadata": {
        "id": "CFaa7vpd7PRa"
      },
      "outputs": [],
      "source": [
        "!pip install gdown\n",
        "!gdown --id 12PZB5hWpwAyRuSWAgkaFdZdZluGf8_6Z\n",
        "!gdown --id 1g1CEUs8BvSJXSDroHgjUbTa3izGp9WMO"
      ]
    },
    {
      "cell_type": "markdown",
      "source": [
        "# Disclaimer \n",
        "\n",
        "Before beginning this lab, please activate a GPU by going into :     \n",
        "- Exécution\n",
        "- Modifier le type d'éxecution\n",
        "- GPU "
      ],
      "metadata": {
        "id": "peN7xMkxh7y6"
      }
    },
    {
      "cell_type": "markdown",
      "source": [
        "# DNNs with TensorFlow\n",
        "\n",
        "Welcome to the Deep Learning Lab sessions. As you had a slight introduction to Deep Learning through the Course, you will now apply it through this izi pizi labs.\n",
        "This lab will be done using TensorFlow from Google. \n",
        "You will learn to do the following in TensorFlow: \n",
        "\n",
        "- Initialize variables\n",
        "- Start your own session\n",
        "- Train algorithms \n",
        "- Implement a Neural Network\n",
        "\n",
        "This part of the lab is splitted in two parts :\n",
        "- Using Tensorflow\n",
        "- Creating and Performing Classification using TF.\n",
        "\n",
        "<img src=\"https://www.memesmonkey.com/images/memesmonkey/3f/3fd47d627866ac3f67bc4a38b0b2941c.jpeg\">\n"
      ],
      "metadata": {
        "id": "dcOlbCv-7P0m"
      }
    },
    {
      "cell_type": "markdown",
      "source": [
        "# First Time Hun ?\n",
        "\n",
        "So this might be your first time using Deep Learning for a certain task. So in this lab we will perform a certain Task : Classification. We will classify hands. Hun.\n",
        "\n",
        "When training a DL Algorithm you need few things : \n",
        "* A Dataset\n",
        "* A Model\n",
        "* A Learning Algorithm\n",
        "* Something more ?\n",
        "\n",
        "So we will navigate through each of these points to train a Model to perform Hand Signs Classification.\n",
        "\n",
        "<img src = \"https://i.kym-cdn.com/photos/images/original/000/123/620/Oh-boy-here-we-go.jpg\">\n",
        "\n"
      ],
      "metadata": {
        "id": "B6t5QBmc7RIw"
      }
    },
    {
      "cell_type": "markdown",
      "source": [
        "# I - Dataset : SIGNS"
      ],
      "metadata": {
        "id": "RVTDKEE9-Lgh"
      }
    },
    {
      "cell_type": "markdown",
      "source": [
        "\n",
        "We wil use SIGNS Dataset. Let's first have some insight look on our Dataset\n",
        "Load the train and test datasets\n"
      ],
      "metadata": {
        "id": "-jEdisCc94vb"
      }
    },
    {
      "cell_type": "code",
      "source": [
        "import h5py\n",
        "import numpy as np\n",
        "import tensorflow as tf\n",
        "import math\n",
        "import matplotlib.pyplot as plt\n",
        "\n",
        "# TODO : load the h5 files in the correct variables\n",
        "train_dataset = h5py.File('/content/train_signs.h5', \"r\")\n",
        "test_dataset = h5py.File('/content/test_signs.h5', \"r\")\n",
        "\n",
        "# TODO : print the keys of each variables. \n",
        "# Questions: Are the keys different ? \n",
        "print(train_dataset.keys())\n",
        "print(test_dataset.keys())\n",
        "\n",
        "# TODO : create x_train, y_train, x_test, y_test and convert them to array using numpy\n",
        "# Questions : What is the length of each Dataset.\n",
        "# Questions : What are the labels, what are our images ?\n",
        "\n",
        "print(len(train_dataset))\n",
        "x_train = np.array(train_dataset['train_set_x'][:])/255\n",
        "y_train = np.array(train_dataset['train_set_y'][:])\n",
        "x_test = np.array(test_dataset['test_set_x'][:])/255\n",
        "y_test = np.array(test_dataset['test_set_y'][:])\n",
        "\n",
        "y_train = np.array(train_dataset['train_set_y'][:]).reshape((y_train.shape[0]))\n",
        "y_test = np.array(test_dataset['test_set_y'][:]).reshape((y_test.shape[0]))\n",
        "\n",
        "# TODO : load the classes in an array. \n",
        "# Questions : How many labels should you have ? (Count your fingers)\n",
        "classes = np.array(test_dataset[\"list_classes\"][:])\n",
        "print(classes)\n",
        "print(y_train)\n",
        "print(x_train.shape, y_train.shape, type(x_train))"
      ],
      "metadata": {
        "colab": {
          "base_uri": "https://localhost:8080/"
        },
        "id": "4Zv5idtSAyaF",
        "outputId": "1707e866-c09a-468d-db74-e227a178ff63"
      },
      "execution_count": null,
      "outputs": [
        {
          "output_type": "stream",
          "name": "stdout",
          "text": [
            "<KeysViewHDF5 ['list_classes', 'train_set_x', 'train_set_y']>\n",
            "<KeysViewHDF5 ['list_classes', 'test_set_x', 'test_set_y']>\n",
            "3\n",
            "[0 1 2 3 4 5]\n",
            "[5 0 2 ... 2 4 5]\n",
            "(1080, 64, 64, 3) (1080,) <class 'numpy.ndarray'>\n"
          ]
        }
      ]
    },
    {
      "cell_type": "code",
      "source": [
        "train_dataset = tf.data.Dataset.from_tensor_slices((x_train, y_train))\n",
        "test_dataset = tf.data.Dataset.from_tensor_slices((x_test, y_test))"
      ],
      "metadata": {
        "id": "cdzZlgq8L1av"
      },
      "execution_count": null,
      "outputs": []
    },
    {
      "cell_type": "code",
      "source": [
        "BATCH_SIZE = 32\n",
        "SHUFFLE_BUFFER_SIZE = 100\n",
        "\n",
        "train_dataset = train_dataset.shuffle(SHUFFLE_BUFFER_SIZE).batch(BATCH_SIZE)\n",
        "test_dataset = test_dataset.batch(BATCH_SIZE)"
      ],
      "metadata": {
        "id": "HBPUUn4ZL_bb"
      },
      "execution_count": null,
      "outputs": []
    },
    {
      "cell_type": "markdown",
      "source": [
        "Few questions on the Dataset: \n",
        "* How many elements do you have in your Train and Test Datasets ? Explain the shape of the Train Dataset\n",
        "* What is the size of one element of the Dataset ?\n",
        "* Are the images RGB images ?\n",
        "\n",
        "Plot some images from the train Dataset with their labels along using Matplotlib"
      ],
      "metadata": {
        "id": "4sViFgkcAgJv"
      }
    },
    {
      "cell_type": "code",
      "source": [
        "index = 1070\n",
        "plt.title(\"Label is: \" + str(np.squeeze(y_train[ index])))\n",
        "plt.imshow(x_train[index])\n"
      ],
      "metadata": {
        "colab": {
          "base_uri": "https://localhost:8080/",
          "height": 298
        },
        "id": "t8HqOI_TAkCH",
        "outputId": "92470f48-fa24-47dc-9b1f-a1bf865098c4"
      },
      "execution_count": null,
      "outputs": [
        {
          "output_type": "execute_result",
          "data": {
            "text/plain": [
              "<matplotlib.image.AxesImage at 0x7f508a052510>"
            ]
          },
          "metadata": {},
          "execution_count": 33
        },
        {
          "output_type": "display_data",
          "data": {
            "image/png": "[encoded data removed]",
            "text/plain": [
              "<Figure size 432x288 with 1 Axes>"
            ]
          },
          "metadata": {
            "needs_background": "light"
          }
        }
      ]
    },
    {
      "cell_type": "markdown",
      "source": [
        "So now you have some understanding of the Dataset. Let's try things"
      ],
      "metadata": {
        "id": "NBXOWo8ZAzE5"
      }
    },
    {
      "cell_type": "markdown",
      "source": [
        "II- The Model : Your Choice\n",
        "\n",
        "We are going to guide you a lil bit for this. In fact, you can create whatever model you want. However, they might not be as effective as some other networks.\n",
        "In this part, we will try Dense Layers.\n",
        "\n",
        "<img src = \"https://cdn.analyticsvidhya.com/wp-content/uploads/2020/02/ANN-Graph.gif\" height=300 >\n",
        "\n",
        "\n",
        "* What is the other name of a Dense Layer ?\n",
        "\n",
        "\n",
        "To create this FC model, you have to understand few things :\n",
        "* The input Layer will have a Fixed number of Neurons that must correspond to the image's size.\n",
        "* Between the Layers, you must apply some non-linearity so that the model learns complex features.\n",
        "* You have to compromise between the Shallowness or Depth of your Model. You'll understand why in the next lab.\n",
        "\n",
        "<img src=\"https://miro.medium.com/max/1400/1*E4_pTJctmAofSRpZCZbv-g.jpeg\" height=300>\n",
        "\n",
        "\n",
        "Let's create a simple Sequential Model :    \n",
        "* an Input Layer\n",
        "* a Hidden Layer\n",
        "* an Output Layer\n",
        "\n",
        "(Like the picture above Andrew)"
      ],
      "metadata": {
        "id": "nCynSEY9H7BA"
      }
    },
    {
      "cell_type": "code",
      "source": [
        "# TODO : Create a Simple 3 layer model.\n",
        "# Question : What is the input shape ?\n",
        "# Question : What is the output shape ?\n",
        "# Question : What non linearity must we add ?\n",
        "\n",
        "model = tf.keras.models.Sequential([\n",
        "  tf.keras.layers.Flatten(input_shape=(64,64,3)),\n",
        "  tf.keras.layers.Dense(64*64*3, activation='relu'),\n",
        "  tf.keras.layers.Dense(128, activation='relu'),\n",
        "  tf.keras.layers.Dense(6, activation='softmax')\n",
        "])"
      ],
      "metadata": {
        "id": "l8f_9xapH42z"
      },
      "execution_count": null,
      "outputs": []
    },
    {
      "cell_type": "markdown",
      "source": [
        "Some questions related to Memes on Activation Functions :\n",
        "\n",
        "<img src=\"https://2.bp.blogspot.com/-IdxHoo3lTrU/XHXNi8HM4_I/AAAAAAAAOhY/xTrp-Z8yYjY6NVBs-PXHw2Gho53vU90DgCLcBGAs/s1600/52386901_10157143758983669_1120348777576660992_o.jpg\" height = 400>\n",
        "\n",
        "*  How do you understand the ReLU function as an activation of a layer ?\n",
        "\n",
        "<img src=\"https://encrypted-tbn0.gstatic.com/images?q=tbn:ANd9GcQGVkqoa4YitmdIj-pCt88odvoscPbgocSPDQ&usqp=CAU\" >\n",
        "\n",
        "* Can we use any activation functions ? Take the example of multiclass classification, can we use the same activation function in the last layer than in the earlier layers ?"
      ],
      "metadata": {
        "id": "QsKmzR598Hzq"
      }
    },
    {
      "cell_type": "markdown",
      "source": [
        "III- The Loss \n",
        "\n",
        "Now we need something to tell our model if it does well or no. Let's say your model predicts something. We need to compute how far the prediction is compared to the real label. \n",
        "\n",
        "\n",
        "We will use the cross entropy. As some of you might see in Information Theory, Cross Entropy measures the difference between two Probabilty Distributions.\n"
      ],
      "metadata": {
        "id": "DfsGRDejIMMc"
      }
    },
    {
      "cell_type": "markdown",
      "source": [
        "In fact, Tensorflow already has coded a bunch of Loss for us. You can have a look at all the existing loss here :\n",
        "* https://www.tensorflow.org/api_docs/python/tf/keras/losses/Loss\n"
      ],
      "metadata": {
        "id": "U_W5LW-v0vYY"
      }
    },
    {
      "cell_type": "markdown",
      "source": [
        "* What loss will we be using here ?\n",
        "\n",
        "If you don't know how to answer the previous question, ask yourself these things :\n",
        "\n",
        "* Do we have labels ?\n",
        "* What task are we performing ? Regression or Classification ?\n",
        "* What must be the output of our model ?\n"
      ],
      "metadata": {
        "id": "pJFhbQaBBtPU"
      }
    },
    {
      "cell_type": "code",
      "source": [
        "loss = tf.keras.losses.CategoricalCrossentropy(from_logits=False)"
      ],
      "metadata": {
        "id": "mRGTfxuSJ35g"
      },
      "execution_count": null,
      "outputs": []
    },
    {
      "cell_type": "markdown",
      "source": [
        "IV - The Optimizer\n",
        "\n",
        "So at the end of the Model, we can compute a loss. We need to back-propagate the loss to all the layers so that it sees and understands the end result of a prediction and search for a Local-Global Optimum. You have plenty of optimizers available, the simplest is Gradient Descent. We pratically use Stochastic Gradient Descent in order to find a Global Minimum where the model should be performing 'well'.\n",
        "\n",
        "<img src=\"https://www.memecreator.org/static/images/memes/5296549.jpg\" height = 300>\n",
        "\n",
        "\n",
        "Have a look at the existing optimizers in TensorFlow :    \n",
        "* https://www.tensorflow.org/api_docs/python/tf/keras/optimizers\n",
        "\n",
        "We will use ADAM. In fact, we can use SGD or any other Optimizer. However, ADAM\n",
        "for Adaptive Moment Estimation\n",
        "\n",
        "We will use ADAM optimizer here. Why ? ADAM is more robust than SGD. (and it has more things such as per parameter learning rate adaptation that improves performance on sparse gradient and other things (To quote Andrew NG : Don't worry about it if you don't understand it) \n",
        "\n",
        "<img src=\"https://i.pinimg.com/474x/7b/58/bb/7b58bb3b853ff61ed8873aeb711cb3b6.jpg\">"
      ],
      "metadata": {
        "id": "cZ0j9m8bISOL"
      }
    },
    {
      "cell_type": "code",
      "source": [
        "# TODO : Load Adam optimizer and set a learning rate.\n",
        "optimizer = tf.keras.optimizers.Adam(learning_rate=0.0001)"
      ],
      "metadata": {
        "id": "rZt9Lv11J4PZ"
      },
      "execution_count": null,
      "outputs": []
    },
    {
      "cell_type": "markdown",
      "source": [
        "V - The Compilation\n",
        "\n",
        "Now that we have all we need, we have to compile the model with all the preceding stuff. \n",
        "\n",
        "That's where TensorFlow is cool. It has a compile method that compiles everything for you."
      ],
      "metadata": {
        "id": "q7DxtlUdIUfT"
      }
    },
    {
      "cell_type": "code",
      "source": [
        "model.compile(optimizer=optimizer,\n",
        "              loss=loss,\n",
        "              metrics=['categorical_accuracy'])"
      ],
      "metadata": {
        "id": "ajW5ebUEDwuH"
      },
      "execution_count": null,
      "outputs": []
    },
    {
      "cell_type": "code",
      "source": [
        ""
      ],
      "metadata": {
        "id": "lOr2cnNA4SGi"
      },
      "execution_count": null,
      "outputs": []
    },
    {
      "cell_type": "markdown",
      "source": [
        "VI- The Training \n",
        "\n",
        "When you train, you become fit. In Deep Learning, we fit a distribution of Data to the model so that it learns a specific task.\n",
        "\n",
        "Again, TensorFlow has a great method that fits data for you."
      ],
      "metadata": {
        "id": "7tjgUzaTIWU8"
      }
    },
    {
      "cell_type": "code",
      "source": [
        "print(train_dataset.enumerate)\n",
        "for element in train_dataset.as_numpy_iterator():\n",
        "  print(element)\n",
        "  break"
      ],
      "metadata": {
        "id": "xySoRwmVLP9W"
      },
      "execution_count": null,
      "outputs": []
    },
    {
      "cell_type": "code",
      "source": [
        "model.fit(train_dataset,epochs=1500)"
      ],
      "metadata": {
        "id": "o6hQFAbXKRzj"
      },
      "execution_count": null,
      "outputs": []
    },
    {
      "cell_type": "markdown",
      "source": [
        "AW.. It doesn't work ....\n",
        "\n",
        "\n",
        "<img src=\"https://media.npr.org/assets/img/2016/03/29/ap_090911089838_sq-3271237f28995f6530d9634ff27228cae88e3440-s900-c85.webp\" height = 200>\n",
        "\n",
        "In fact, it is normal. Let's have a closer look on our Dataset and our Model. "
      ],
      "metadata": {
        "id": "mk4qWRGsAROH"
      }
    },
    {
      "cell_type": "markdown",
      "source": [
        "VII - Investigating \n",
        "\n",
        "<img src=\"https://www.meme-arsenal.com/memes/aab2bd04fcd6bc0642f0ab60718bac0d.jpg\" height=200>"
      ],
      "metadata": {
        "id": "X2I3gC1gReDR"
      }
    },
    {
      "cell_type": "code",
      "source": [
        "print(y_train)"
      ],
      "metadata": {
        "colab": {
          "base_uri": "https://localhost:8080/"
        },
        "id": "KzcI2iwZOXrV",
        "outputId": "939d0eff-9fe4-49c9-a694-33c19afd60f9"
      },
      "execution_count": null,
      "outputs": [
        {
          "output_type": "stream",
          "name": "stdout",
          "text": [
            "[5 0 2 ... 2 4 5]\n"
          ]
        }
      ]
    },
    {
      "cell_type": "markdown",
      "source": [
        "As you might see these are numbers between 0,5. The model will have issues to predict these numbers. In fact, we put a SoftMax activation layer at the end. The SoftMax makes the model behaves as follows : \n",
        "\n",
        "Let's say that the Last Layer has 6 Neurons. We want to train the model so that \n",
        "when the model sees an image of 0 the 1rst neuron has the highest value. When it sees an image of 1 the 2nd neurons has the highest value.. and so on.\n",
        "\n",
        "That means that we need to change our label to something that helps us to learn to activate the wanted neuron for an image.\n",
        "\n",
        "Let's do some 1-Hot Encoding.\n",
        "\n",
        "<img src= \"https://image.slidesharecdn.com/cnn-tsopnang-180418232518/95/demo3-convolutional-neural-network-22-638.jpg?cb=1524094111\">\n",
        "\n",
        "\n",
        "\n",
        "\n",
        "\n"
      ],
      "metadata": {
        "id": "5IdPwIY4O7CI"
      }
    },
    {
      "cell_type": "code",
      "source": [
        "# TODO : Create a function that 1-Hot encodes a number into a given size vector. Or have a look at this : https://www.tensorflow.org/api_docs/python/tf/one_hot\n",
        "\n",
        "y_train_oh = tf.one_hot(y_train, 6)\n",
        "y_test_oh = tf.one_hot(y_test, 6)\n",
        "print(y_train_oh)\n",
        "print(y_train)\n",
        "train_dataset_oh = tf.data.Dataset.from_tensor_slices((x_train, y_train_oh))\n",
        "test_dataset_oh = tf.data.Dataset.from_tensor_slices((x_test, y_test_oh))\n",
        "\n",
        "BATCH_SIZE = 32\n",
        "SHUFFLE_BUFFER_SIZE = 100\n",
        "train_dataset_oh  = train_dataset_oh.shuffle(SHUFFLE_BUFFER_SIZE).batch(BATCH_SIZE)\n",
        "test_dataset_oh = test_dataset_oh.batch(BATCH_SIZE)"
      ],
      "metadata": {
        "colab": {
          "base_uri": "https://localhost:8080/"
        },
        "id": "srSx1hy9SjlK",
        "outputId": "184f3757-41df-4b17-c0b2-ef975ed7675c"
      },
      "execution_count": null,
      "outputs": [
        {
          "output_type": "stream",
          "name": "stdout",
          "text": [
            "tf.Tensor(\n",
            "[[0. 0. 0. 0. 0. 1.]\n",
            " [1. 0. 0. 0. 0. 0.]\n",
            " [0. 0. 1. 0. 0. 0.]\n",
            " ...\n",
            " [0. 0. 1. 0. 0. 0.]\n",
            " [0. 0. 0. 0. 1. 0.]\n",
            " [0. 0. 0. 0. 0. 1.]], shape=(1080, 6), dtype=float32)\n",
            "[5 0 2 ... 2 4 5]\n"
          ]
        }
      ]
    },
    {
      "cell_type": "code",
      "source": [
        "print(test_dataset_oh.enumerate)\n",
        "for element in train_dataset_oh.as_numpy_iterator():\n",
        "  print(element[0].shape, element[1].shape)\n",
        "  break"
      ],
      "metadata": {
        "colab": {
          "base_uri": "https://localhost:8080/"
        },
        "id": "u0AuKpc1e26M",
        "outputId": "f5e8d313-2ae3-4854-8d05-586b005c3ed2"
      },
      "execution_count": null,
      "outputs": [
        {
          "output_type": "stream",
          "name": "stdout",
          "text": [
            "<bound method DatasetV2.enumerate of <BatchDataset shapes: ((None, 64, 64, 3), (None, 6)), types: (tf.float64, tf.float32)>>\n",
            "(32, 64, 64, 3) (32, 6)\n"
          ]
        }
      ]
    },
    {
      "cell_type": "markdown",
      "source": [
        "Ok let's try again"
      ],
      "metadata": {
        "id": "pkhXKvVofHfA"
      }
    },
    {
      "cell_type": "code",
      "source": [
        "model.compile(optimizer=optimizer,\n",
        "              loss=loss,\n",
        "              metrics=['categorical_accuracy'])\n",
        "model.fit(train_dataset_oh,epochs=200)"
      ],
      "metadata": {
        "id": "dSWXqkl7fHvB"
      },
      "execution_count": null,
      "outputs": []
    },
    {
      "cell_type": "markdown",
      "source": [
        "VII- The Evalutation"
      ],
      "metadata": {
        "id": "fYvRK1IOIdkU"
      }
    },
    {
      "cell_type": "markdown",
      "source": [
        "Nonw that we trained the model, let's evaluate it on the test dataset. Again, TensforFlow has this great .evaluate() method that evaluates your model to the test dataset.\n",
        "\n",
        "* Evaluate your trained model to the Test Dataset."
      ],
      "metadata": {
        "id": "i2i4gJOFxIUY"
      }
    },
    {
      "cell_type": "code",
      "source": [
        "model.evaluate(test_dataset_oh)"
      ],
      "metadata": {
        "colab": {
          "base_uri": "https://localhost:8080/"
        },
        "id": "3c2J-281u96p",
        "outputId": "96525d17-7799-49ee-cd20-afd234b26063"
      },
      "execution_count": null,
      "outputs": [
        {
          "output_type": "stream",
          "name": "stdout",
          "text": [
            "4/4 [==============================] - 0s 9ms/step - loss: 0.3720 - categorical_accuracy: 0.8750\n"
          ]
        },
        {
          "output_type": "execute_result",
          "data": {
            "text/plain": [
              "[0.3720059394836426, 0.875]"
            ]
          },
          "metadata": {},
          "execution_count": 125
        }
      ]
    },
    {
      "cell_type": "markdown",
      "source": [
        "Hun. Some values that we don't really understand ? Ok let's plot some images to see the mistakes made by the model.\n",
        "\n",
        "<img src=\"https://i.imgflip.com/63vr6e.jpg\" height=200>"
      ],
      "metadata": {
        "id": "8PRpbw0bOl2L"
      }
    },
    {
      "cell_type": "code",
      "source": [
        "import skimage\n",
        "from skimage import io\n",
        "import numpy as np\n",
        "from google.colab.patches import cv2_imshow\n",
        "import cv2\n",
        "\n",
        "image_filename = r\"https://media.istockphoto.com/photos/woman-hand-making-sign-number-4-picture-id520544542\" #URL of image\n",
        "image_numpy = cv2.cvtColor(skimage.io.imread( image_filename ),cv2.COLOR_BGR2RGB)\n",
        "img_array = tf.keras.utils.img_to_array(image_numpy/255)\n",
        "\n",
        "\n",
        "\n",
        "for element in train_dataset_oh.as_numpy_iterator():\n",
        "  for image in range(element[0].shape[0]):\n",
        "    #print(element[0].shape, type(element[0]),element[1].shape)\n",
        "    img_array = tf.keras.utils.img_to_array(element[0][image])\n",
        "    img_array.resize((64, 64,3))\n",
        "    img_array = tf.expand_dims(img_array, 0)\n",
        "    my_image_prediction = model(img_array)\n",
        "    if np.argmax(np.squeeze(my_image_prediction))!= np.argmax(element[1][image]):\n",
        "      print(\"Your algorithm predicts: y = \" + str(np.argmax(np.squeeze(my_image_prediction))))\n",
        "      print(\"GT Label is: y = \" + str(np.argmax(element[1][image])))\n",
        "      plt.imshow(np.squeeze(img_array))\n",
        "      plt.show()\n",
        "\n",
        " \n"
      ],
      "metadata": {
        "id": "FUUy0MZA1VA7"
      },
      "execution_count": null,
      "outputs": []
    },
    {
      "cell_type": "markdown",
      "source": [
        "Oh it works. As you can see, the model still makes some mistakes and it is totally normal. Nothing can be perfect. We want to minimize these mistakes as much as possible. This is were creating specific models is useful. \n",
        "\n",
        "<img src=\"https://static.toiimg.com/thumb/msid-62318428,width-400,resizemode-4/62318428.jpg\">\n",
        "\n"
      ],
      "metadata": {
        "id": "ILKM8zU2OC7-"
      }
    },
    {
      "cell_type": "markdown",
      "source": [
        "# To go further (optional)\n",
        "\n",
        "Let's try it on images taken from the internet."
      ],
      "metadata": {
        "id": "HdMn0T6FREQU"
      }
    },
    {
      "cell_type": "code",
      "source": [
        "import skimage\n",
        "from skimage import io\n",
        "import numpy as np\n",
        "from google.colab.patches import cv2_imshow\n",
        "import cv2\n",
        "\n",
        "image_filename = r\"https://media.istockphoto.com/photos/woman-hand-making-sign-number-4-picture-id520544542\" #URL of image\n",
        "image_numpy = cv2.cvtColor(skimage.io.imread( image_filename ),cv2.COLOR_BGR2RGB)\n",
        "cv2_imshow(image_numpy)\n",
        "img_array = tf.keras.utils.img_to_array(image_numpy/255)\n",
        "img_array.resize((64, 64,3))\n",
        "img_array = tf.expand_dims(img_array, 0)\n",
        "my_image_prediction = model(img_array)\n",
        "\n",
        "print(\"Your algorithm predicts: y = \" + str(np.argmax(np.squeeze(my_image_prediction))))"
      ],
      "metadata": {
        "id": "AwWyYlHsQGsQ"
      },
      "execution_count": null,
      "outputs": []
    },
    {
      "cell_type": "markdown",
      "source": [
        "\n",
        "\n",
        "Hmm. Not Working ? Working ? See the following meme to understand : \n",
        "\n",
        "<img src=\"https://i.imgflip.com/63vsoc.jpg\" height= 400>\n",
        "\n",
        "* Explain what overfitting is ? Why could overfitting occur in this model ?\n",
        "* How can we verify that the model overfits or not ?\n",
        "* How could we remedy overfitting ?"
      ],
      "metadata": {
        "id": "UMr8YIvSQWJx"
      }
    }
  ]
}