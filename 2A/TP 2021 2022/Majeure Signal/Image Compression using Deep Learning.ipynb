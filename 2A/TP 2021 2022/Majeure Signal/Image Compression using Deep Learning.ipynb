{
 "cells": [
  {
   "cell_type": "markdown",
   "metadata": {
    "colab_type": "text",
    "id": "view-in-github"
   },
   "source": [
    "<a href=\"https://colab.research.google.com/github/thad75/TP_ENSEA_ELEVE/blob/main/2A/Majeure%20Signal/Image%20Compression%20using%20Deep%20Learning.ipynb\" target=\"_parent\"><img src=\"https://colab.research.google.com/assets/colab-badge.svg\" alt=\"Open In Colab\"/></a>"
   ]
  },
  {
   "cell_type": "markdown",
   "metadata": {
    "id": "sUZCOMw1Gem5"
   },
   "source": [
    "# Image Compression using AutoEncoders: a deep learning task\n",
    "\n",
    "Time : 8h"
   ]
  },
  {
   "cell_type": "markdown",
   "metadata": {
    "id": "mL9lLUJmpab6"
   },
   "source": [
    "# Goal of this lab\n",
    "\n",
    "* Get to know Deep Learning and PyTorch framework\n",
    "* Learn how to compress images using AutoEncoders\n",
    "* Understand the differences between JPEG compression and deep learning-based compression\n",
    "* Know how to read and use code given by someone else\n"
   ]
  },
  {
   "cell_type": "markdown",
   "metadata": {
    "id": "NN6NsODyqGEw"
   },
   "source": [
    "# Outline\n",
    "* 0 - Introduction and documents reading\n",
    "* 1 - Discovering a dataset\n",
    "* 2 - Creating a Model\n",
    "* 3 - Training the Model\n",
    "* 4 - Testing the Model\n",
    "* 5 - Reporting the findings"
   ]
  },
  {
   "cell_type": "markdown",
   "metadata": {
    "id": "qc8OA-MQ6n09"
   },
   "source": [
    "# Disclaimer\n",
    "\n",
    "We will refer to :\n",
    "- AutoEncoder as AE\n",
    "- Multi Layer Perceptron as MLP\n",
    "\n",
    "Please make sure that your environment has a GPU. For that, go to: \n",
    "* Execution\n",
    "* Modifier le type d'execution\n",
    "* Accelerateur matériel: GPU\n",
    "\n",
    "\n",
    "We advice you to keep in an Excel Sheet or somewhere else the important values, for different parameters, that you will compute during this lab (accuracies, losses...)"
   ]
  },
  {
   "cell_type": "markdown",
   "metadata": {
    "id": "fup2OihC7Kkv"
   },
   "source": [
    "# 0 - Introduction\n",
    "\n",
    "We have seen JPEG compression, a general algorithm that can compress any image. Let's first see your understanding of the JPEG algorithm :\n",
    "* What are the component in the encoding part of the algorithm ?\n",
    "* What are the component in the decoding part of the algorithm ?\n",
    "* Is the down-sampling phase of JPEG linear ? (i.e : in a y = ax+b form)\n",
    "* Is it a lossless compression algorithm ?"
   ]
  },
  {
   "cell_type": "markdown",
   "metadata": {
    "id": "MmPz4EM86n09"
   },
   "source": [
    "## a- Your mission: AI for the Win\n",
    "\n",
    "Hi there, we are a Big Company and we need your help as a data scientist. We have some images to compress. We tried the JPEG algorithm but we also want to try some modern methods based on deep learning (DL). \n"
   ]
  },
  {
   "cell_type": "code",
   "execution_count": null,
   "metadata": {
    "id": "315B4XDj9ln-"
   },
   "outputs": [],
   "source": [
    "%matplotlib inline\n",
    "import torch\n",
    "from torch import nn\n",
    "from torch.nn import functional as F\n",
    "from torch.utils.data import DataLoader\n",
    "from torch.utils.data import random_split\n",
    "from torchvision.datasets import MNIST, CIFAR10\n",
    "from torchvision import transforms\n",
    "import matplotlib.pyplot as plt\n",
    "import numpy as np\n",
    "import skimage\n",
    "from skimage import io\n",
    "import numpy as np\n",
    "from google.colab.patches import cv2_imshow\n",
    "import cv2\n",
    "import torchvision\n",
    "import torchvision.transforms as transform"
   ]
  },
  {
   "cell_type": "markdown",
   "metadata": {
    "id": "2AKbYlYjUiw8"
   },
   "source": [
    "## b - Reading the documents \n",
    "\n",
    "**Very important: take 20-25 minutes to read the following documentation to understand the basic.**\n",
    "\n"
   ]
  },
  {
   "cell_type": "markdown",
   "metadata": {
    "id": "y1iy5iLS6n0_"
   },
   "source": [
    "### i - What is deep learning ?\n",
    "\n",
    "Deep Learning is a branch of AI where you **teach a Model** a certain **task** using a **Dataset**. The model or a neural network is built by multiple consecutive **layers** of neuron-like units, remotely based on neurons in the human brain. Typically, many consecutive layers are used, that is why it is referred to as deep learning. In those layers, each neuron has several **parameters** (**weights**) that are updated during **training** by minimizing a **loss** (error) function, using **Stochastic Gradient Descent**. Besides the model parameters, to be found using a dataset, there are also **hyperparameters** that you have to tune by yourself, for example, how many layers used in your model, how many neurons per layer,.... The Model infers a prediction from an **input**. In fact, a Deep Neural Network can be seen as a complex function ${f}$ that maps the input data to a learned space from the Dataset. \n",
    "\n",
    "Note the bold words. These are the important things you need to understand about Deep Learning. "
   ]
  },
  {
   "cell_type": "markdown",
   "metadata": {
    "id": "awLz7ozJ6n1A"
   },
   "source": [
    "### ii- Generalities on AutoEncoder\n",
    "\n",
    "<img src = \"https://blog.keras.io/img/ae/autoencoder_schema.jpg\">\n",
    "\n",
    "\"Autoencoding\" is a data compression algorithm where the compression and decompression functions are 1) **data-specific**, 2) **lossy**, and 3) **learned** automatically from examples rather than engineered by a human. In almost all contexts where the term \"autoencoder\" is used, the compression and decompression functions are implemented with neural networks.\n",
    "\n",
    "1) Autoencoders are data-specific, which means that they will only be able to compress data similar to what they have been trained on. \n",
    "\n",
    "2) Autoencoders are lossy.\n",
    "\n",
    "3) Autoencoders are learned automatically from data examples.\n",
    "\n",
    "To build an autoencoder, you need three things: an encoding function, a decoding function, and a distance function between the amount of information loss between the compressed representation of your data and the decompressed representation. In fact, we can look at the model as a big function :\n",
    "\n",
    "* Encoder : This part compresses the input image to a compressed version of it, where $f(x)= z$, where $x$ is the input image, and $z$ the compressed representation of it.\n",
    "* Decoder : This part of the model decompresses the compressed representation $z$ to the decompressed image $\\tilde{x}$, in other terms we have a function $g$ where, $\\tilde{x} = g(z)$\n",
    "* AutoEncoder : by stacking the Encoder and the Decoder, and as we want $\\tilde{x} = x$ (a.k.a the reconstructed image as similar as the input image), we can rewrite the AE as $\\tilde{x} = g(z) = g\\circ f(x)=  x$ where $g= f^{-1}$\n",
    "\n"
   ]
  },
  {
   "cell_type": "markdown",
   "metadata": {
    "id": "qhcd3QvKhXdj"
   },
   "source": [
    "### iii - Layers\n",
    "\n",
    "A Layer is an important part of a model. In fact, it is the key element of a DL model. A Layer is a structure that takes information from one layer to pass them to the next layer. In a DL network, each layer extracts some kinds of features. "
   ]
  },
  {
   "cell_type": "markdown",
   "metadata": {
    "id": "Z7pUFCRvhYuE"
   },
   "source": [
    "### iv -  Activation functions\n",
    "\n",
    "An (non-linear) activation function decides the output of a neuron. It is the equivalent of the excitation threshold for which a neuron reacts or not.\n",
    "\n",
    "**Hint**: ReLU is often used as activation function in hidden layers.\n",
    "\n",
    "<img src = \"https://miro.medium.com/max/1200/1*ZafDv3VUm60Eh10OeJu1vw.png\" height = 200>"
   ]
  },
  {
   "cell_type": "markdown",
   "metadata": {
    "id": "_cQgt2SkteEw"
   },
   "source": [
    "# 1- Exploring the data"
   ]
  },
  {
   "cell_type": "markdown",
   "metadata": {
    "id": "uqws4UbZ6n1B"
   },
   "source": [
    "## Dataset\n",
    "\n",
    "<img src=\"https://labelyourdata.com/img/article-illustrations/splitting_data.png\" height=200>\n",
    "\n",
    "\n",
    "When training  a DL model, we use a Dataset. The model uses the data to learn something for a task. We usually divide the data into Training, Validation, Test sets.\n",
    "- Training set is used to train the Model (i.e., to find the parameters of Model).\n",
    "- Validation set is used to watch the Model's training (to verify whether the training procedure goes well).\n",
    "- Test set is used to evaluate the performance of the Model (in our case, to measure if the model compresses and decompresses well new images).\n",
    "\n",
    "<img src=\"https://i.imgflip.com/653bu2.jpg\" height=400>\n",
    "\n",
    "**In our case of AE, we do not need the label of image. Our method is an unsupervised algorithm.**"
   ]
  },
  {
   "cell_type": "markdown",
   "metadata": {
    "id": "TRKH2GO8PPKS"
   },
   "source": [
    "### a - The first one : the training set\n",
    "\n",
    "- What is the size of the training dataset?\n",
    "- What are the elements available in one piece of data? (image, label)\n",
    "- What is the shape of one piece of data?\n",
    "- What is the type of one piece of data?\n",
    "- Plot few elements of the dataset using Matplotlib."
   ]
  },
  {
   "cell_type": "code",
   "execution_count": null,
   "metadata": {
    "id": "SOdefqiw6n1B"
   },
   "outputs": [],
   "source": [
    "# TODO: Load MNIST Train Dataset from TorchVision\n",
    "\n",
    "dataset = MNIST('', train=..., download=True, transform=transforms.ToTensor())\n",
    "\n",
    "# TODO: What's the size of the Dataset ?\n",
    "# TODO: Retrieve one element of the Dataset ? What is the shape of one piece of Data ? \n",
    "\n",
    "size_of_dataset =  ...\n",
    "data = ...\n",
    "print(data[0].shape) # Question : Why is there [0] ?\n",
    "# end TODO\n",
    "\n",
    "# TODO: Plot the retrieved Data\n",
    "...\n",
    "# end TODO\n"
   ]
  },
  {
   "cell_type": "markdown",
   "metadata": {
    "id": "IU_I7BipPEto"
   },
   "source": [
    "### b - The second one: the test dataset"
   ]
  },
  {
   "cell_type": "markdown",
   "metadata": {
    "id": "KsqbBFiz6n1C"
   },
   "source": [
    "As you can see in the above code, there's a \"train\" attribute of the MNIST class. When it is set to True, you are loading the training dataset. Therefore, in the following code, change it to false to load the test dataset."
   ]
  },
  {
   "cell_type": "code",
   "execution_count": null,
   "metadata": {
    "id": "YVnRxxaa6n1C"
   },
   "outputs": [],
   "source": [
    "# TODO : Load the test dataset. Inspire yourself from the mnist_train dataset loading\n",
    "\n",
    "mnist_test = ..."
   ]
  },
  {
   "cell_type": "markdown",
   "metadata": {
    "id": "y77InD1eSuQF"
   },
   "source": [
    "Let's verify that the data in the test dataset are in the same style of the train Dataset :    \n",
    "- Plot few data from the test dataset with its label.\n",
    "- Are the data similar? Are the labels similar?"
   ]
  },
  {
   "cell_type": "code",
   "execution_count": null,
   "metadata": {
    "id": "ZGl0JVb9S75z"
   },
   "outputs": [],
   "source": [
    "# TODO: What's the size of the Dataset ?\n",
    "# TODO: Retrieve one element of the Dataset ? What is the shape of one piece of Data ? \n",
    "# TODO: Plot the retrieved Data\n",
    "\n",
    "size_of_dataset = ...\n",
    "data = ...\n",
    "\n",
    "plt.imshow"
   ]
  },
  {
   "cell_type": "markdown",
   "metadata": {
    "id": "6x4LBC7HUk8S"
   },
   "source": [
    "### c - The third one: creating the Validation dataset"
   ]
  },
  {
   "cell_type": "markdown",
   "metadata": {
    "id": "OSbPGhqP6n1D"
   },
   "source": [
    "Besides the training and testing sets, we would have a validation set. The validation set allows us to follow the training of model or in other words verify whether the training procedure goes well or not. \n",
    "\n",
    "In the next codes,\n",
    "- What do 55000 and 5000 mean ?\n",
    "- Determine the split value of the training set to create the validation dataset"
   ]
  },
  {
   "cell_type": "code",
   "execution_count": null,
   "metadata": {
    "id": "HiGz4sBr6n1D"
   },
   "outputs": [],
   "source": [
    "# Questions : what does 55000 and 5000 mean ? Hint: look at the Dataset length and determine the split value\n",
    "mnist_train, mnist_val = random_split(dataset, [55000, 5000])"
   ]
  },
  {
   "cell_type": "markdown",
   "metadata": {
    "id": "Blh2vwZu6n1D"
   },
   "source": [
    "### d - Creating the Dataloaders\n",
    "\n",
    "The dataset returns one element or item at a time. In DL, we prefer sending many items at the same time to the model. We form BATCH of Data using a DataLoader. Dataloader is an iterable over the dataset. It means that the Dataloader will form batches of Data for you and fetch them when you loop through it.\n",
    "\n",
    "- Create a DataLoader for your Training, Validation and Test Dataset\n",
    "- What is the drop_last attribute ?\n",
    "\n",
    "More information on dataloader : https://pytorch.org/docs/stable/data.html#torch.utils.data.DataLoader"
   ]
  },
  {
   "cell_type": "code",
   "execution_count": null,
   "metadata": {
    "id": "5EM2xVJQ6n1D"
   },
   "outputs": [],
   "source": [
    "train_loader = DataLoader(mnist_train, batch_size=128,drop_last =True)\n",
    "val_loader = ...\n",
    "test_loader = ..."
   ]
  },
  {
   "cell_type": "markdown",
   "metadata": {
    "id": "eHI5FPtkbiY_"
   },
   "source": [
    "- Is there enough data?\n",
    "- Are they easily accessible?\n",
    "- Are they correctly labeled?\n",
    "\n",
    "\n"
   ]
  },
  {
   "cell_type": "markdown",
   "metadata": {
    "id": "utu6siUB6n1D"
   },
   "source": [
    "# 2 - Creating and training the model: AutoEncoder\n",
    "\n",
    "We saw what the data was and created our datasets. We need now to fullfil our mission and we need a model.\n",
    "\n",
    "<img src=\"https://i.imgflip.com/640uob.jpg\" height=300>\n",
    "\n",
    "We are going to explore the path of AutoEncoder! Let's write some readable codes. Our code must be modulable and easy to read. We should try two types of AutoEncoders :    \n",
    "- MLP Style\n",
    "- Conv Style\n",
    "\n",
    "\n",
    "Use PyTorch and Create Modulable and Stackable Models that inherits from nn.Module.\n",
    "\n",
    "\n"
   ]
  },
  {
   "cell_type": "markdown",
   "metadata": {
    "id": "vjUHGbOi6n1E"
   },
   "source": [
    "## a - MLP Style : Exploring the Neurons\n",
    "\n",
    "<img src='https://www.researchgate.net/publication/344394387/figure/fig1/AS:974657746399232@1609387923440/Figure-Computational-Schematics-of-the-MLP-and-the-autoencoder.png'>\n",
    "\n",
    "We will first try a MLP AE.\n",
    "\n",
    "\n"
   ]
  },
  {
   "cell_type": "markdown",
   "metadata": {
    "id": "UvnEBg0ahMa1"
   },
   "source": [
    "#### Creating a Model in PyTorch\n",
    "\n",
    "Creating a model in PyTorch is simple. A PyTorch is an object that inherits from nn.Module. The pseudo-code is the following :     \n",
    "\n",
    "```\n",
    "class Model(nn.Module):\n",
    "  def __init__(self,...):\n",
    "    \"\"\"\"\n",
    "    Define the model. You can put the input size as a parameter if needed..\n",
    "    \"\"\"\"\n",
    "    super().__init__() # to init the main class\n",
    "    self.layers = ... # defining the model : could be Conv2d, Linear, RNN, LSTM\n",
    "\n",
    "\n",
    "  def forward(self,x):\n",
    "    \"\"\"\n",
    "    The input x is forwarded through the neural net. \n",
    "    \"\"\"\n",
    "    output = self.layers(x)\n",
    "    return output\n",
    "\n",
    "  # Other methods go down\n",
    "```\n",
    "\n",
    "More informations : https://pytorch.org/docs/stable/nn.html\n"
   ]
  },
  {
   "cell_type": "markdown",
   "metadata": {
    "id": "T730pWdwLRXh"
   },
   "source": [
    "### i - Correcting the Mistakes\n",
    "\n",
    "First, we will try a really simple model :\n",
    "* an Input Dense layer\n",
    "* a latent space\n",
    "* an Output Dense layer\n",
    "\n",
    "\n",
    "We have received some codes from the other members of the Deep Learning Engineering Team. There are lots of mistakes... Let's correct them."
   ]
  },
  {
   "cell_type": "code",
   "execution_count": null,
   "metadata": {
    "id": "bxvGXm9rLx2W"
   },
   "outputs": [],
   "source": [
    "# TODO : Correct the Following Class. \n",
    "# Hint : Look at the input, output size, the activations, how the data is forwarded ...\n",
    "\n",
    "class AutoEncoder_MLP(nn.Module):\n",
    "  def __init__(self, input_size, compressed_space_size):\n",
    "    \"\"\"\n",
    "    The model is an Input Layer, a Hidden Layer and an Output layer \n",
    "    \"\"\"\n",
    "    super().__init__() \n",
    "    # TODO : Init the class attributes thanks to the arguments of the init methods\n",
    "    self.input_size = 42\n",
    "    self.output_size = 'ouioui le sens de la vie'\n",
    "    self.compressed_space_size = -1\n",
    "    # TODO : Correct the mistakes from the model\n",
    "    self.input = nn.Sequential(nn.Linear(self.input_size, self.compressed_space_size),\n",
    "                               nn.Sigmoid())\n",
    "    self.output = nn.Sequential(nn.Linear(self.output_size,self.compressed_space_size ),\n",
    "                               nn.ReLU())\n",
    "    # end TODO: there are mistakes in all these 5 above lines\n",
    "\n",
    "  def forward(self,x):\n",
    "    \"\"\"\n",
    "    The input x is forwarded through the neural net. \n",
    "    \"\"\"\n",
    "    # TODO : Correct the mistakes\n",
    "    compressed_image = self.input(x)\n",
    "    decompressed_image = ...\n",
    "    return decompressed_image"
   ]
  },
  {
   "cell_type": "code",
   "execution_count": null,
   "metadata": {
    "id": "YSb86xStr3gK"
   },
   "outputs": [],
   "source": [
    "# TODO : Create an Instance of the Model by calling the Class with the correct values\n",
    "\n",
    "model = AutoEncoder_MLP(input_size = ...,\n",
    "                        compressed_space_size= ...)\n",
    "\n",
    "# TODO : Print the model.\n",
    "..."
   ]
  },
  {
   "cell_type": "markdown",
   "metadata": {
    "id": "7N8KQNJy6n1F"
   },
   "source": [
    "## b - Training\n",
    "\n",
    "We can train the model. We have a Model and a Dataset. We need few more things..\n",
    "\n"
   ]
  },
  {
   "cell_type": "markdown",
   "metadata": {
    "id": "5MqMXbQw_1Kr"
   },
   "source": [
    "### i - Loss function\n",
    "\n",
    "The loss function must tell us how far our predictions are from the true labels. \n",
    "This could be done by comparing the distributions of two input data, or by directly comparing the data using some distance metrics.\n",
    "\n",
    "We are reconstructing an image from its compressed version and we want the reconstructed image as similar as possible to the original image. i.e $\\tilde{x} = x$\n",
    "\n",
    "<img src=\"https://i.imgflip.com/6946oe.jpg\" height=400>\n"
   ]
  },
  {
   "cell_type": "markdown",
   "metadata": {
    "id": "cjJwaIhlVrWD"
   },
   "source": [
    "\n",
    "- How can you calculate the similarity between two vectors?\n",
    "- What type(s) of loss function do you know that calculates the **distance** between two inputs?\n",
    "\n",
    "More information: https://pytorch.org/docs/stable/nn.html#loss-functions"
   ]
  },
  {
   "cell_type": "code",
   "execution_count": null,
   "metadata": {
    "id": "Am2fuauUBoUd"
   },
   "outputs": [],
   "source": [
    "# TODO : Delete the uncorrect loss \n",
    "criterion = nn.MSELoss() or nn.BCELoss() "
   ]
  },
  {
   "cell_type": "markdown",
   "metadata": {
    "id": "vdJa2rgV___i"
   },
   "source": [
    "### ii - An Optimizer\n",
    "\n",
    "<img src=\"https://i.imgflip.com/640sfs.jpg\" height= 400>\n",
    "\n",
    "We need to gradually update the weights of the model. In fact, we perform the **gradient descent** to recalculate the weights of each layer regarding the model's predictions. The optimizer will search for an Optimum. It needs a step to perform this research. This step is called the **learning rate**. The learning rate has an important effect on the learning phase (duration, convergence,...).\n",
    "Think of the **gradient descent** as you trying to answer an exercise : the first time you won't understand, the second time you'll suceed more, and so on...\n",
    "\n",
    "<img src=https://miro.medium.com/max/918/0*uIa_Dz3czXO5iWyI. height =300>\n",
    "\n",
    "In this case, we will use Adam Optimizer (it is efficient). Don't hesitate to have a look at the other optimizers. \n",
    "\n",
    "More information: https://pytorch.org/docs/stable/optim.html"
   ]
  },
  {
   "cell_type": "code",
   "execution_count": null,
   "metadata": {
    "id": "7lykHsQ-HrMz"
   },
   "outputs": [],
   "source": [
    "# TODO : define a small learning rate\n",
    "learning_rate =  \n",
    "# TODO : load the Adam optimizer in the optimizer variable\n",
    "optimizer = torch.optim.Adam(model.parameters(), lr=....)\n"
   ]
  },
  {
   "cell_type": "markdown",
   "metadata": {
    "id": "9sVerRhLIdpI"
   },
   "source": [
    "### iii - Training\n",
    "\n",
    "Please use GPU to accelerate this phase.\n",
    "\n",
    "Training a model consists of the following loop :\n",
    "* Sending Data through the model to obtain Predictions\n",
    "* Computing the Loss \n",
    "* Backwarding the Loss using Gradients \n",
    "* Logging the losses and accuracies (if exists) (Optional)\n",
    "\n",
    "The number of epochs is a hyperparameter that defines the number of time the learning algorithm will work through the entire training dataset.\n",
    "\n",
    "\n",
    "\n",
    "* Create your training and validation loop to train your model."
   ]
  },
  {
   "cell_type": "code",
   "execution_count": null,
   "metadata": {
    "id": "v_9nrxJj7Bj6"
   },
   "outputs": [],
   "source": [
    "# Pre Defined and Useful variables\n",
    "device = 'cuda' if torch.cuda.is_available() else 'cpu' # To send to the gpu\n",
    "mini_batches_print = 10 # To print every 10 mini batches\n",
    "\n",
    "# TODO : Send the model to the device using .to\n",
    "net = \n",
    "\n",
    "# TODO : Define your number of epochs\n",
    "\n",
    "num_epochs = ...\n",
    "\n",
    "loss_train , loss_val = [], []\n",
    "for epoch in range(num_epochs) : \n",
    "    running_loss_t,running_loss_v = 0.0, 0.0\n",
    "    # TODO : Create your Training Loop\n",
    "    for i, data in enumerate(train_loader, 0): \n",
    "        # TODO : load the data into two variables\n",
    "        image, label = ...\n",
    "\n",
    "        # TODO : reshape the input image using .view() so that it fits the input layers neuron numbers.\n",
    "        # Don't forget the Batch Size, the 1rst dimension must always be the Batch Size\n",
    "        image_reshaped, label = ...\n",
    "        optimizer.zero_grad()\n",
    "\n",
    "        # TODO : send the image to the model\n",
    "        outputs = net(...)\n",
    "\n",
    "        # TODO/Questions : Do we need to reshape the input image ? If yes, reshape the image\n",
    "        outputs = ...\n",
    "\n",
    "        # TODO : Compute the loss. Don't forget to send the image to the device\n",
    "        loss = criterion(... ,... )\n",
    "\n",
    "        loss.backward()\n",
    "        optimizer.step()\n",
    "        running_loss_t += loss.item()\n",
    "        if i == mini_batches_print :\n",
    "          running_loss_t= running_loss_t/mini_batches_print  \n",
    "          print('training loss is :',running_loss_t)\n",
    "          loss_train.append(running_loss_t)  \n",
    "\n",
    "    # TODO : Create your Validation Loop\n",
    "    with torch.no_grad():\n",
    "      for i, data in enumerate(val_loader, 0):    \n",
    "        # TODO : Do the same as the Train loop but delete everything related to weight update (optimizer, loss backwards ...)\n",
    "        image, label = data[0].view(data[0].shape[0],-1).to(device), data[1]\n",
    "        outputs = ...\n",
    "        outputs = ...\n",
    "        loss = ...\n",
    "        optimizer.zero_grad() # Keep or not ?\n",
    "        loss.backward() # Keep or not ?\n",
    "\n",
    "        running_loss_v += loss.item()\n",
    "        if i == mini_batches_print :\n",
    "            running_loss_v= running_loss_v/mini_batches_print \n",
    "            print('validation loss is :',running_loss_v)\n",
    "            loss_val.append(running_loss_v)\n",
    "      "
   ]
  },
  {
   "cell_type": "markdown",
   "metadata": {
    "id": "KP7wfVDTVNn0"
   },
   "source": [
    "### iv - Did it learn something ?\n",
    "\n",
    "As you might see, we logged into two lists (train_loss, val_loss) losses computed during training. Let's plot them (do not forget to put titles and axis)\n",
    "- How can you tell that the training is over?"
   ]
  },
  {
   "cell_type": "code",
   "execution_count": null,
   "metadata": {
    "id": "myd0mSIkVc7v"
   },
   "outputs": [],
   "source": [
    "# TODO : plot the train and val loss on the same graph using matplotlib.pyplot.\n",
    "# Always put legend on your graphs\n",
    "\n",
    "plt.plot(...)\n",
    "plt.plot(...)\n",
    "plt.show()\n"
   ]
  },
  {
   "cell_type": "markdown",
   "metadata": {
    "id": "6rFLeJkes8Ll"
   },
   "source": [
    "## c - Testing the compression\n",
    "\n",
    "We already trained our model, let's test it on the testing set. We received an email from the senior Data Scientist :\n",
    "\n",
    "\n",
    "---\n",
    "\n",
    " 🔊 🔊 🔊 **Message from the Senior Data Scientist** 🔊 🔊 🔊\n",
    "\n",
    "Hi, this is C. the Senior Data Scientist\n",
    "\n",
    "I heard that you've trained your model. Let's test it.\n",
    "Take the test dataloader, iterate through it and send the test data to the model. We need to check how similar to the original image the decompressed image is..\n",
    "Do not forget to delete all gradient calculation, it takes time and space for nothing. \n",
    "\n",
    "\n",
    "---\n",
    "\n",
    "\n",
    "\n"
   ]
  },
  {
   "cell_type": "markdown",
   "metadata": {
    "id": "FISqPpOGuGHC"
   },
   "source": [
    "* Why must we not compute the gradients for the testing step?\n",
    "\n"
   ]
  },
  {
   "cell_type": "code",
   "execution_count": null,
   "metadata": {
    "id": "1AB-kxbEtIbt"
   },
   "outputs": [],
   "source": [
    "def imshow(img,name= 'GT'):\n",
    "    npimg = img.numpy()\n",
    "    plt.imshow(np.transpose(npimg, (1, 2, 0)))\n",
    "    plt.title(name)\n",
    "    plt.show()\n",
    "\n",
    "# TODO : form your testing loop. Is it different than the validation loop?\n",
    "with torch.no_grad():\n",
    "  losses = 0\n",
    "  for i, data in enumerate(test_loader, 0):\n",
    "    image, label = .....\n",
    "    .... \n",
    "    .... \n",
    "    ....\n",
    "\n",
    "# Plot the last batch\n",
    "imshow(torchvision.utils.make_grid(outputs.detach().cpu()),'Pred')\n",
    "imshow(torchvision.utils.make_grid(data[0]),'GT')\n",
    "\n",
    "# TODO : Print the difference in decompression and write it somewhere\n",
    "print('The difference between the Real Images and the Decompressed Images is: ',...)"
   ]
  },
  {
   "cell_type": "markdown",
   "metadata": {
    "id": "jak6Xd8h6n1F"
   },
   "source": [
    "<img src=\"https://i.imgflip.com/64elyi.jpg\" height=200>\n",
    "\n",
    "Let's see the effect of the compression: \n",
    "* Change the latent_size to different values and compare the compression differences. \n",
    "\n",
    "For example, try 512, 128, 16, 1.\n",
    "\n"
   ]
  },
  {
   "cell_type": "code",
   "execution_count": null,
   "metadata": {
    "id": "wRMKAqZdzrVU"
   },
   "outputs": [],
   "source": [
    "# TODO : Change your model, Test for differents size of Compressed Space Size. We advice you to try 1, 128, 512\n",
    "model = AutoEncoder_MLP(28*28,...)\n",
    "\n",
    "# TODO : Train it. Can we copy paste previous things ?\n",
    "device = 'cuda' if torch.cuda.is_available() else 'cpu'\n",
    "net = model.to(device)\n",
    "criterion = ...\n",
    "learning_rate = ...\n",
    "optimizer = ...\n",
    "num_epochs = ...\n",
    "\n",
    "# TODO : Train it. Can we copy paste previous things ?\n",
    "for epoch in range(num_epochs) : \n",
    "    running_loss_t,running_loss_v = 0.0, 0.0\n",
    "    # Train Loop\n",
    "    for i, data in enumerate(train_loader, 0): \n",
    "      ....\n",
    "\n",
    "\n",
    "    # Validation Loop\n",
    "    with torch.no_grad():\n",
    "      for i, data in enumerate(val_loader, 0):  \n",
    "        ...\n",
    "\n",
    "# TODO : Test the Trained Model. Can we copy paste previous stuff ?\n",
    "\n",
    "with torch.no_grad():\n",
    "  running_loss = []\n",
    "  for i, data in enumerate(test_loader, 0):  \n",
    "    ...  \n",
    "\n",
    "# Plot the last batch\n",
    "imshow(torchvision.utils.make_grid(outputs.detach().cpu()),'Pred')\n",
    "imshow(torchvision.utils.make_grid(data[0]),'GT')\n",
    "\n",
    "# TODO : Print the reconstruction error over the test dataset\n",
    "\n",
    "print( 'The decompression of the Encoded Test Dataset has an reconstruction error of: ', ....)\n"
   ]
  },
  {
   "cell_type": "markdown",
   "metadata": {
    "id": "d4dirY6mE_Sp"
   },
   "source": [
    "## d - Testing on other type of data\n",
    "\n",
    "We can say that the model works pretty well on the test data. Let's test it on other kind of images.\n",
    "\n",
    "* Write the code to test the compression on **images** taken from the internet."
   ]
  },
  {
   "cell_type": "code",
   "execution_count": null,
   "metadata": {
    "id": "z8GcBFKAFCqZ"
   },
   "outputs": [],
   "source": [
    "# TODO : Test some images from the internet to see the compression effect \n",
    "image_filename = # TODO: give a URL's image \n",
    "image_numpy = cv2.cvtColor(skimage.io.imread(image_filename ),cv2.COLOR_BGR2GRAY)\n",
    "transform=transforms.Compose([transforms.ToTensor(),\n",
    "                              transforms.Resize((28,28))])\n",
    "\n",
    "# TODO : Transform the images and add a dimension for the batch size using unsqueeze\n",
    "image = transform(...).unsqueeze(0)\n",
    "\n",
    "# TODO : Send the model to the model and process the prediction. Don't forget \n",
    "# the resizes\n",
    "pred = model(...)\n",
    "pred = ...\n",
    "\n",
    "# TODO : Plot dem results'. Don't forget to detach and send to the gpu the data\n",
    "# using .detach().cpu()\n",
    "\n",
    "fig,axarr = plt.subplots(1, 2)\n",
    "axarr[0].imshow(...)\n",
    "...\n"
   ]
  },
  {
   "cell_type": "markdown",
   "metadata": {
    "id": "0UhnIMewpF5K"
   },
   "source": [
    "* What can you say ?"
   ]
  },
  {
   "cell_type": "markdown",
   "metadata": {
    "id": "J8Ma8YUNE3So"
   },
   "source": [
    "# 3- Write your report\n",
    "\n",
    "* Sum up all your understanding on this subject in your report.\n",
    "\n",
    "You should explain:\n",
    "* The dataset you used for training,\n",
    "* The tests you did,\n",
    "* The models you tested,\n",
    "* The results you had,\n",
    "* The explanation of the results (why it works, why it doesn't),\n",
    "* How can we compute the compression rate of the model? \n",
    "* Do we need to consider the model's size?"
   ]
  },
  {
   "cell_type": "markdown",
   "metadata": {
    "id": "i1kpRMLuU9_n"
   },
   "source": [
    "# 4 - Convolutional layer style : seeing a region\n",
    "\n",
    "<img src=\"https://miro.medium.com/max/1838/1*LSYNW5m3TN7xRX61BZhoZA.png\" height = 300>\n",
    "\n",
    "---\n",
    " 🔊 🔊 🔊 **Message from the senior data scientist** 🔊 🔊 🔊\n",
    "\n",
    "Hello,\n",
    "\n",
    "Good work! We need now to try another type of model.\n",
    "Please consider Conv2d layers. \n",
    "\n",
    "Here you are some explanations: Convolutional Layers are filters that \"scans\" the input image in order to extract features. These filters extract features by looking at the region they're on.\n",
    "\n",
    "I sent you some classes that you should use in your code. \n",
    "\n",
    "C.\n",
    "\n",
    "<img src=\"https://i.imgflip.com/65b89l.jpg\" height=300>\n",
    "\n",
    "---\n",
    "\n"
   ]
  },
  {
   "cell_type": "markdown",
   "metadata": {
    "id": "ibihGUzZ-C00"
   },
   "source": [
    "**Take 5 minutes to learn more about convolution with the following link:**\n",
    "\n",
    "* https://ezyang.github.io/convolution-visualizer/\n",
    "\n",
    "Questions:    \n",
    "* What is the stride parameter?\n",
    "* What is the padding parameter?\n",
    "* What will change on the output when increasing the Kernel Size?\n",
    "\n",
    "**Receptive field: are the pixels seen by filter kernel.**\n"
   ]
  },
  {
   "cell_type": "markdown",
   "metadata": {
    "id": "6v_cYtuufVur"
   },
   "source": [
    "## a - Model definition\n",
    "\n",
    "Have a look at the model sent by the senior data scientist."
   ]
  },
  {
   "cell_type": "markdown",
   "metadata": {
    "id": "FiDIW6xzfURZ"
   },
   "source": [
    "### i - Submodules"
   ]
  },
  {
   "cell_type": "markdown",
   "metadata": {
    "id": "6aR_6-5AfURZ"
   },
   "source": [
    "#### Conv Down\n",
    "\n",
    "ConvDown is used to reduce the image size. A convolution on the input image is done using a kernel (the coefficients of kernel are weights to be found). In fact, it is used to extract interesting features of image. Our ConvDown Model will be composed of two layers:     \n",
    "* Conv2d layer\n",
    "* Non linearity (ReLU)\n",
    "\n",
    "<img src=\"https://www.jeremyjordan.me/content/images/2017/07/no_padding_no_strides.gif\">"
   ]
  },
  {
   "cell_type": "code",
   "execution_count": null,
   "metadata": {
    "id": "30AE171_fURZ"
   },
   "outputs": [],
   "source": [
    "class ConvDown(nn.Module):\n",
    "    \"\"\"\n",
    "    This class takes as input the channels and returns a feature map \n",
    "    for the given output channel. \n",
    "    It indeed applies ReLU to it\n",
    "    ConvDown stacks a Conv2d layer with an ReLU Activation \n",
    "\n",
    "    \"\"\"\n",
    "    def __init__(self, input_channel, output_channel, kernel_size = 3):\n",
    "        super().__init__()\n",
    "        self.input_channel = input_channel\n",
    "        self.output_channel = output_channel\n",
    "        self.kernel_size = kernel_size\n",
    "        self.model = nn.Sequential(nn.Conv2d(self.input_channel, self. output_channel, kernel_size =self.kernel_size ),\n",
    "                                    nn.ReLU())\n",
    "                                    \n",
    "    def forward(self,x):\n",
    "        # TODO :  Send the data through the model and return the output\n",
    "        output = ...\n",
    "        return"
   ]
  },
  {
   "cell_type": "markdown",
   "metadata": {
    "id": "RTj9S6BdfURZ"
   },
   "source": [
    "#### Conv Up\n",
    "\n",
    "ConvUp is used to decompress the input image. In fact, it uses extracted features to reconstruct output feature map.\n",
    "\n",
    "* Is it possible to increase output size map using Conv2d layers?\n",
    "\n",
    "We can use also ConvTranpose2D layers, that use **transpose convolution** over an input image. These ConvTranspose layers learn to upsample the input images.\n",
    "\n",
    "<img src=\"https://miro.medium.com/max/1400/1*HnxnJDq-IgsSS0q3Lut4xA.gif\" height=200>"
   ]
  },
  {
   "cell_type": "code",
   "execution_count": null,
   "metadata": {
    "id": "iup_9vP8fURZ"
   },
   "outputs": [],
   "source": [
    "class ConvUp(nn.Module):\n",
    "    \"\"\"\n",
    "    ConvUp stacks a Conv2d layer with an Activation \n",
    "    If output is True : the Activation is Sigmoid\n",
    "    If output is False : the Activation is ReLU\n",
    "    \"\"\"\n",
    "    def __init__(self, input_channel, output_channel, kernel_size = 3 , output = True):\n",
    "        super().__init__()\n",
    "        self.input_channel = input_channel\n",
    "        self.output_channel = output_channel\n",
    "        self.kernel_size = kernel_size\n",
    "        self.output = output\n",
    "        self.model = nn.Sequential(nn.ConvTranspose2d(self.input_channel, self. output_channel, kernel_size =self.kernel_size ),\n",
    "                                    nn.ReLU()) if output is False else nn.Sequential(nn.ConvTranspose2d(self.input_channel, self. output_channel, kernel_size =self.kernel_size ),\n",
    "                                    nn.Sigmoid())\n",
    "        \n",
    "    def forward(self,x):        \n",
    "      # TODO :  Send the data through the model and return the output\n",
    "      output = ...\n",
    "      return"
   ]
  },
  {
   "cell_type": "markdown",
   "metadata": {
    "id": "xKSienu_fURZ"
   },
   "source": [
    "### ii - Modules : the wrappers"
   ]
  },
  {
   "cell_type": "markdown",
   "metadata": {
    "id": "add5ul-BfURZ"
   },
   "source": [
    "#### Encoder\n",
    "\n",
    "The encoder stacks multiple ConvDown to compress and extract features.\n",
    "\n",
    "<img src=\"https://i.imgflip.com/65bqe0.jpg\" height=300>"
   ]
  },
  {
   "cell_type": "code",
   "execution_count": null,
   "metadata": {
    "id": "QJg8gNNPfURZ"
   },
   "outputs": [],
   "source": [
    "class Encoder(nn.Module):\n",
    "    \"\"\"\n",
    "    The encoder stacks multiple ConvDown to compress and extract features\n",
    "    For the moment, we just keep one ConvDown layer\n",
    "\n",
    "    \"\"\"\n",
    "    def __init__(self,input_channel, output_channel, kernel_size = 3):\n",
    "        super().__init__()\n",
    "        self.input_channel = input_channel\n",
    "        self.output_channel = output_channel\n",
    "        self.kernel_size = kernel_size\n",
    "        self.model = nn.Sequential( ConvDown(self.input_channel, self.output_channel,self.kernel_size))\n",
    "                    \n",
    "    def forward(self,x):\n",
    "      # TODO :  Send the data through the model and return the output\n",
    "      output = ..."
   ]
  },
  {
   "cell_type": "markdown",
   "metadata": {
    "id": "-Ty_eE8ufURa"
   },
   "source": [
    "#### Decoder\n",
    "\n",
    "The decoder stacks multiple ConvUp to decompress and upsamples the input.\n",
    "\n",
    "<img src=\"https://i.imgflip.com/65br5o.jpg\" height=300>"
   ]
  },
  {
   "cell_type": "code",
   "execution_count": null,
   "metadata": {
    "id": "QOIjpP5JfURa"
   },
   "outputs": [],
   "source": [
    "# TODO : Find the error in the initialization and correct it\n",
    "class Decoder(nn.Module):\n",
    "    \"\"\"\n",
    "    The Decoder stacks multiple ConvUp to upsample and reconstruct from the input\n",
    "    another feature map\n",
    "    For the moment, we just keep one ConvDown layer\n",
    "    NEEDS TO BE CORRECTED\n",
    "\n",
    "    \"\"\"\n",
    "    def __init__(self,input_channel, output_channel, kernel_size = 3, output = True):\n",
    "        super().__init__()\n",
    "        self.input_channel = input_channel\n",
    "        self.output_channel = output_channel\n",
    "        self.kernel_size = kernel_size\n",
    "        self.output = output\n",
    "        self.model = nn.Sequential( ConvUp(self.input_channel,self.input_channel,self.kernel_size, output))\n",
    "        \n",
    "    def forward(self,x):\n",
    "        # TODO :  Send the data through the model and return the output\n",
    "        output = ...\n",
    "        return"
   ]
  },
  {
   "cell_type": "markdown",
   "metadata": {
    "id": "IuUrSK7QfURa"
   },
   "source": [
    "### iii - The Conv AutoEncoder: final model \n",
    "\n",
    "We stack encoder and decoder in order to form the autoencoder.\n"
   ]
  },
  {
   "cell_type": "code",
   "execution_count": null,
   "metadata": {
    "id": "ZGslcjwafURa"
   },
   "outputs": [],
   "source": [
    "# TODO : Stack the Encoder and the Decoder to Create the AE\n",
    "# TODO : Initialize the class attributes\n",
    "# TODO : In the forward method, send the input x through the layers. \n",
    "# Be careful to respect the init attributes of the called class\n",
    "\n",
    "class AutoEncoder_Conv(nn.Module):\n",
    "\n",
    "    def __init__(self,input_size,latent_size, output= True):\n",
    "        super().__init__()\n",
    "        self.input_size = \n",
    "        self.latent_size = \n",
    "        self.output = \n",
    "        self.model = \n",
    "\n",
    "    def forward(self,x):\n",
    "        return \n"
   ]
  },
  {
   "cell_type": "markdown",
   "metadata": {
    "id": "SxIt_IxgfURa"
   },
   "source": [
    "## b - Training and Testing\n",
    "\n",
    "We can reuse the previously written code. However, we need to make some changes...\n",
    "\n",
    "\n",
    "* What changes must we do?\n",
    "* After making these changes, train your model for a latent size of 128.\n",
    "* Test your model."
   ]
  },
  {
   "cell_type": "code",
   "execution_count": null,
   "metadata": {
    "id": "wUO71k8zBwCI"
   },
   "outputs": [],
   "source": [
    "# TODO : Change your model \n",
    "model = AutoEncoder_Conv(input_size = ,\n",
    "                         latent_size =)\n",
    "\n",
    "# TODO : Reload your HyperParameters\n",
    "\n",
    "device = 'cuda' if torch.cuda.is_available() else 'cpu'\n",
    "net = model.to(device)\n",
    "criterion = ...\n",
    "learning_rate = ...\n",
    "optimizer = ...\n",
    "num_epochs = ...\n",
    "\n",
    "# TODO : Rewrite your Training and Validation Loop\n",
    "for epoch in range(num_epochs) : \n",
    "    running_loss_t,running_loss_v = 0.0, 0.0\n",
    "    for i, data in enumerate(train_loader, 0):\n",
    "\n",
    "    with torch.no_grad():\n",
    "      for i, data in enumerate(val_loader, 0):\n",
    "\n",
    "\n",
    "# TODO : Rewrite your Testing Loop\n",
    "with torch.no_grad():\n",
    "  running_loss = []\n",
    "  for i, data in enumerate(test_loader, 0):  \n",
    "\n",
    "\n",
    "# TODO :  Plot the last batch and the Reconstruction Errors"
   ]
  },
  {
   "cell_type": "markdown",
   "metadata": {
    "id": "NFdBGGd3fURa"
   },
   "source": [
    "Let's compare the results with different sizes (512, 128, 16, 1):\n",
    "* What are the reconstruction values on the test set? \n",
    "* What is the training time?\n",
    "* Which model would you advice? "
   ]
  },
  {
   "cell_type": "markdown",
   "metadata": {
    "id": "QODNCGtvbvGc"
   },
   "source": [
    "## c - Deeper Models\n",
    "\n",
    "All the models we've created are only composed of 3 layers (not really deep): \n",
    "\n",
    "      input layer => hidden layer => output layer\n",
    "\n",
    "We can obviously stack more layers :    \n",
    "* Modify the Convolutional Encoder and the Decoder so that the AE becomes :     \n",
    "      input layer => hidden layer => hidden layer => hidden layer => output layer\n",
    "\n",
    "\n",
    "We want the first and last hidden layer to have the same size"
   ]
  },
  {
   "cell_type": "code",
   "execution_count": null,
   "metadata": {
    "id": "e_qBhpBxcjsp"
   },
   "outputs": [],
   "source": [
    "# TODO : Modify the Encoder and the Decoder by adding one additional hidden layer. The size of the additionnal hidden layer can be greater than the previous one\n",
    "\n",
    "class Encoder(nn.Module):\n",
    "    \"\"\"\n",
    "    Conv Encoder Class\n",
    "    \"\"\"\n",
    "    def __init__(self,input_channel, output_channel, kernel_size = 3):\n",
    "        super().__init__()\n",
    "        self.input_channel = input_channel\n",
    "        self.output_channel = output_channel\n",
    "        self.kernel_size = kernel_size\n",
    "        self.model = ...\n",
    "\n",
    "    def forward(self,x):\n",
    "        # TODO :  Send the data through the model and return the output\n",
    "        output = ...\n",
    "        return\n",
    " \n",
    "class Decoder(nn.Module):\n",
    "    \"\"\"\n",
    "    Conv Decoder Class\n",
    "    Be careful with the output attribute \n",
    "    \"\"\"\n",
    "    def __init__(self,input_channel, output_channel, kernel_size = 3, output = True):\n",
    "        super().__init__()\n",
    "        self.input_channel = input_channel\n",
    "        self.output_channel = output_channel\n",
    "        self.kernel_size = kernel_size\n",
    "        self.output = output\n",
    "        self.model= ...\n",
    "\n",
    "                    \n",
    "    def forward(self,x):\n",
    "        # TODO :  Send the data through the model and return the output\n",
    "        output = ...\n",
    "        return\n",
    "\n",
    "\n",
    "\n",
    "# TODO : Recreate the AutoEncoder using the Encoder and Decoder \n",
    "class AutoEncoder_Conv(nn.Module):\n",
    "\n",
    "    def __init__(self,input_size,latent_size, output= True):\n",
    "        super().__init__()\n",
    "        self.input_size = input_size\n",
    "        self.latent_size = latent_size\n",
    "        self.output = output\n",
    "        self.model = ...\n",
    "\n",
    "\n",
    "    def forward(self,x):\n",
    "        # TODO :  Send the data through the model and return the output\n",
    "        output = ...\n",
    "        return\n",
    "\n",
    "\n",
    "\n",
    "# TODO : Print the new model\n",
    "print(AutoEncoder_Conv(input_size= ,\n",
    "                       latent_size=))\n"
   ]
  },
  {
   "cell_type": "markdown",
   "metadata": {
    "id": "_fgaTc96eSA7"
   },
   "source": [
    "Retrain your Model for a Compressed Space of :       \n",
    "* 128 \n",
    "* 64 \n",
    "\n",
    "Compare the results"
   ]
  },
  {
   "cell_type": "code",
   "execution_count": null,
   "metadata": {
    "id": "kr48TkqhArJx"
   },
   "outputs": [],
   "source": [
    "# TODO : Change your model \n",
    "model = \n",
    "\n",
    "# TODO : Reload your HyperParameters\n",
    "\n",
    "device = 'cuda' if torch.cuda.is_available() else 'cpu'\n",
    "net = model.to(device)\n",
    "criterion = ...\n",
    "learning_rate = ....\n",
    "optimizer = ....\n",
    "num_epochs =...\n",
    "# TODO : Rewrite your Training  and Validation Loop\n",
    "for epoch in range(num_epochs) : \n",
    "    running_loss_t,running_loss_v = 0.0, 0.0\n",
    "    for i, data in enumerate(train_loader, 0):\n",
    "\n",
    "    with torch.no_grad():\n",
    "      for i, data in enumerate(val_loader, 0):\n",
    "\n",
    "# TODO : Rewrite your Testing Loop\n",
    "with torch.no_grad():\n",
    "  running_loss = []\n",
    "  for i, data in enumerate(test_loader, 0):  \n",
    "\n",
    "# TODO :  Plot the last batch and the Reconstruction Errors\n"
   ]
  },
  {
   "cell_type": "markdown",
   "metadata": {
    "id": "HHkG7AzeIUNL"
   },
   "source": [
    "# 5 - Where's that noise?\n",
    "\n",
    "AE can be used to denoise image. It means that if there are some noise in the input image, the AE will be able to reconstruct the image without noise.\n",
    "\n",
    "<img src=\"https://miro.medium.com/max/1400/1*z7SUcHkWp7jT1D_SqvTvgA.png\" height=300>\n"
   ]
  },
  {
   "cell_type": "code",
   "execution_count": null,
   "metadata": {
    "id": "0FTrNKuaI8s9"
   },
   "outputs": [],
   "source": [
    "# TODO : Using torch.randn_like, create some noise and return a noisy input\n",
    "def add_noise(inputs, noise_factor):\n",
    "     noise = \n",
    "     return  noise + ....\n",
    "\n",
    "\n",
    "# TODO : Pick an image from the test set and add noise to it \n",
    "test_image = ... # Pick an image from test dataset\n",
    "test_image = ... # Add noise\n",
    "\n",
    "# TODO : Send the Image through your model and plot the original image and the infered image\n",
    "denoised_image = model(...)\n",
    "fig,axarr = plt.subplots(1, 2)\n",
    "axarr[0].imshow(test_image.squeeze(0).squeeze(0).squeeze(0))\n",
    "axarr[1].imshow(denoised_image.detach().cpu().squeeze(0).squeeze(0).squeeze(0))\n"
   ]
  },
  {
   "cell_type": "markdown",
   "metadata": {
    "id": "wKdCjPuwMhxA"
   },
   "source": [
    "\n",
    "* Can you explain why the AE is efficient for denoising images ? \n",
    "* Does it work with lots of noise ?"
   ]
  },
  {
   "cell_type": "markdown",
   "metadata": {
    "id": "sbc21j0pezi4"
   },
   "source": [
    "# 6 - Getting some colors (optional)\n",
    "\n",
    "In this part, you will try all the things you've seen previously on a new Dataset. Instead of black and white images, here we have RGB colored images.\n",
    "\n",
    "You must :    \n",
    "* Check your Data\n",
    "* Create the Dataloaders\n",
    "* Create your Models\n",
    "* Train your model for different parameters\n",
    "* Test the model\n",
    "* Provide some quantitative results on the behavior of your models.\n"
   ]
  },
  {
   "cell_type": "markdown",
   "metadata": {
    "id": "mbY6LTflOZgg"
   },
   "source": [
    "## CIFAR10 : Colors and Classes\n",
    "\n",
    "\n",
    "Do the similar steps as before. \n",
    "\n",
    "- What is the size of the train dataset?\n",
    "- What are the elements available in one piece of data? (image,label)\n",
    "- What is the shape of one piece of data?\n",
    "- What is the type of one piece of data?\n",
    "- Plot few elements of the dataset using Matplotlib.\n",
    "\n"
   ]
  },
  {
   "cell_type": "code",
   "execution_count": null,
   "metadata": {
    "id": "fBRmB5DUD3wB"
   },
   "outputs": [],
   "source": [
    "transform = transforms.Compose([transforms.ToTensor()])\n",
    "dataset_train = CIFAR10(root='./data', train=True,download=True, transform=transform)\n",
    "dataset_test =  CIFAR10(root='./data', train=False,download=True, transform=transform)\n",
    "# TODO : Do all the things related to DATA here"
   ]
  },
  {
   "cell_type": "code",
   "execution_count": null,
   "metadata": {
    "id": "jYBJkBudD9S8"
   },
   "outputs": [],
   "source": [
    "# TODO : Do all the things related to MLP MODELs here"
   ]
  },
  {
   "cell_type": "code",
   "execution_count": null,
   "metadata": {
    "id": "x68ewYEUEBBF"
   },
   "outputs": [],
   "source": [
    "# TODO : Do all the things related to TRAINING here"
   ]
  },
  {
   "cell_type": "code",
   "execution_count": null,
   "metadata": {
    "id": "htf5ZZsWdoOg"
   },
   "outputs": [],
   "source": [
    "# TODO : Do all the things related to TESTING here"
   ]
  },
  {
   "cell_type": "markdown",
   "metadata": {
    "id": "RXFXKZZQEJSe"
   },
   "source": [
    "Don't forget to write your results and explanation in your report"
   ]
  },
  {
   "cell_type": "code",
   "execution_count": null,
   "metadata": {
    "id": "iLeYUiRsEGCd"
   },
   "outputs": [],
   "source": [
    "# TODO : Do all the things related to Conv MODELs here"
   ]
  },
  {
   "cell_type": "code",
   "execution_count": null,
   "metadata": {
    "id": "7zbLOzXCEGCd"
   },
   "outputs": [],
   "source": [
    "# TODO : Do all the things related to TRAINING here"
   ]
  },
  {
   "cell_type": "code",
   "execution_count": null,
   "metadata": {
    "id": "qL59wDFkdoOh"
   },
   "outputs": [],
   "source": [
    "# TODO : Do all the things related to TESTING here"
   ]
  },
  {
   "cell_type": "markdown",
   "metadata": {
    "id": "_274sHzHETsk"
   },
   "source": [
    "Don't forget to write your results and explanation in your report"
   ]
  },
  {
   "cell_type": "markdown",
   "metadata": {
    "id": "aYj-oU52PGK8"
   },
   "source": [
    "# 7 - Results\n",
    "\n",
    "Now analyze your results on the coloured Dataset.\n",
    "* Is it much harder than the B&W Dataset ?\n",
    "* Is the model efficient ?\n",
    "\n"
   ]
  },
  {
   "cell_type": "markdown",
   "metadata": {
    "id": "D64B12YFdoOh"
   },
   "source": [
    "* Sum up all your understanding on this subject your report.\n",
    "\n",
    "You should explain:\n",
    "* The dataset you used for training,\n",
    "* The tests you did,\n",
    "* The models you tested,\n",
    "* The results you had,\n",
    "* The explanation of the results (why it works, why it doesn't),\n",
    "* How can we compute the compression rate of the model? \n",
    "* Do we need to consider the model's size?"
   ]
  }
 ],
 "metadata": {
  "accelerator": "GPU",
  "colab": {
   "collapsed_sections": [],
   "include_colab_link": true,
   "name": "AE_Eleve.ipynb",
   "provenance": [],
   "toc_visible": true
  },
  "kernelspec": {
   "display_name": "Python 3",
   "name": "python3"
  },
  "language_info": {
   "name": "python"
  }
 },
 "nbformat": 4,
 "nbformat_minor": 0
}
