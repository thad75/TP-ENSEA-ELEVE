{
 "cells": [
  {
   "cell_type": "markdown",
   "metadata": {
    "colab_type": "text",
    "id": "view-in-github"
   },
   "source": [
    "<a href=\"https://colab.research.google.com/github/thad75/TP-ENSEA-ELEVE/blob/main/2A/TP%202021%202022/Option%20IA/TD/RecSysTD.ipynb\" target=\"_parent\"><img src=\"https://colab.research.google.com/assets/colab-badge.svg\" alt=\"Open In Colab\"/></a>"
   ]
  },
  {
   "cell_type": "code",
   "execution_count": null,
   "metadata": {
    "colab": {
     "base_uri": "https://localhost:8080/"
    },
    "id": "puWxHBgcYLyM",
    "outputId": "eca9f464-dcbb-4d00-af44-c5e622d494c5"
   },
   "outputs": [],
   "source": [
    "!wget https://files.grouplens.org/datasets/movielens/ml-20m.zip\n",
    "!unzip \"/content/ml-20m.zip\"\n",
    "!pip install pytorch-lightning\n",
    "import os\n",
    "import shutil\n",
    "\n",
    "import pandas as pd\n",
    "import pycocotools\n",
    "import pytorch_lightning as pl\n",
    "import torch\n",
    "import torch.nn as nn\n",
    "import torchvision.datasets as dset\n",
    "import torchvision.transforms as transforms\n",
    "from IPython.display import clear_output, display\n",
    "from pytorch_lightning import loggers as pl_loggers\n",
    "from sklearn.model_selection import train_test_split\n",
    "from torch import nn\n",
    "from torch.nn import functional as F\n",
    "from torch.utils.data import DataLoader, Dataset, random_split\n",
    "from torchvision import transforms\n",
    "from torchvision.datasets import MNIST\n",
    "\n",
    "pd.set_option(\"expand_frame_repr\", False)\n"
   ]
  },
  {
   "cell_type": "markdown",
   "metadata": {
    "id": "z5mobf2WMiey"
   },
   "source": [
    "# Hands-On : Recommending an artist\n",
    "\n",
    "Given the following data, we want to recommend a list of artists from our existing database to the listener. Using similarity computation, recommend in the decreasing order the artists that suits listerners' taste"
   ]
  },
  {
   "cell_type": "code",
   "execution_count": null,
   "metadata": {
    "colab": {
     "base_uri": "https://localhost:8080/"
    },
    "id": "Is2l__NFM6bb",
    "outputId": "2ef1a35a-921b-4530-9b17-c50095f16418"
   },
   "outputs": [],
   "source": [
    "data = {\n",
    "    'Artist': ['Celine Dion', 'Fred Again', 'Elton John', 'Black Eyed Peas', 'BTS', 'Anirudh', 'A.R Rahman', 'User'],\n",
    "    'International': [1, 1, 1, 1, 1, 1, 1, 1],\n",
    "    'Sings in French': [1, 0, 0, 0, 0, 0, 0, 0],\n",
    "    'Versatility': [0, 0, 0, 0, 0, 1, 1, 1],\n",
    "    'Danceability': [0, 1, 0, 1, 1, 1, 1, 0],\n",
    "    'Makes Film Music (BGM)': [0, 0, 1, 0, 0, 1, 1, 1],\n",
    "    'Won Awards': [1, 1, 1, 1, 1, 1, 1, 1],\n",
    "    'Recent Hit': [0, 1, 0, 0, 1, 1, 1, 0]\n",
    "}\n",
    "\n",
    "df = pd.DataFrame(data)\n",
    "df = df.set_index('Artist')\n",
    "\n",
    "# TODO : Print the datafmale\n",
    "print(df)"
   ]
  },
  {
   "cell_type": "code",
   "execution_count": null,
   "metadata": {
    "colab": {
     "base_uri": "https://localhost:8080/"
    },
    "id": "s8WfvAvmNLp7",
    "outputId": "619ec02e-51b9-4d26-b3c2-c1a8ad759273"
   },
   "outputs": [],
   "source": [
    "from sklearn.metrics.pairwise import manhattan_distances\n",
    "\n",
    "\n",
    "# TODO : Extract users' likings (check loc method from df)\n",
    "user= df.loc[['User']]\n",
    "other_line = df.loc[['Celine Dion']]\n",
    "keys = [key for key in df.index if 'User' not in key]\n",
    "\n",
    "# TODO : Define a Similarity Function (Cosine or Distance will be enough)\n",
    "def similarity_function(l1, l2):\n",
    "  return manhattan_distances(l1,l2)\n",
    "# TODO : Compare each artists to the user's taste and print the list of recommendable artist.\n",
    "values = []\n",
    "\n",
    "for key in keys: \n",
    "\n",
    "  value = similarity_function(user, df.loc[[key]])\n",
    "  values.append((key, value))\n",
    "distance_df = pd.DataFrame(values, columns=[\"key\", \"similarity\"])\n",
    "distance_df.set_index('key')\n",
    "print(distance_df)"
   ]
  },
  {
   "cell_type": "markdown",
   "metadata": {
    "id": "FFnCrRfoarHc"
   },
   "source": [
    "# Hands-on: Feature Extraction and Hashing Tricks"
   ]
  },
  {
   "cell_type": "code",
   "execution_count": null,
   "metadata": {
    "colab": {
     "base_uri": "https://localhost:8080/"
    },
    "id": "7BbJFP_hbeqO",
    "outputId": "7830f1d5-8c35-4b21-b362-f284bb1c68ad"
   },
   "outputs": [],
   "source": [
    "from sklearn.feature_extraction import FeatureHasher\n",
    "\n",
    "# Creating array of dicts\n",
    "data = [\n",
    "    {'dog': -1, 'cat': 2, 'elephant': 4},\n",
    "    {'dog': 2, 'run': 5, 'cat':-7}\n",
    "]\n",
    "\n",
    "h = FeatureHasher(n_features=150)\n",
    "h.transform(data).toarray()"
   ]
  },
  {
   "cell_type": "markdown",
   "metadata": {
    "id": "cSsUwP-oYO6g"
   },
   "source": [
    "# Recommendation Systems\n",
    "\n",
    "Using MovieLens Dataset, build a recommendation system. Feel free for your model. We suggest you to inspire yourself from the NCF Model. This mini lab is **voluntarily sparse**. As future engineers,you'll need to go fetch informations everywhere in order to create and train your model. Don't hesitate to ask questions ! A live correction will be given.\n",
    "\n",
    "Goal of this mini Lab :   \n",
    "*  **Be lost**\n",
    "* Discover new frameworks and read documentation\n",
    "* Explore Datas and think\n",
    "* Create and Train a model using Pytorch Lightning"
   ]
  },
  {
   "cell_type": "markdown",
   "metadata": {
    "id": "k-HveM9ZYieW"
   },
   "source": [
    "# MovieLens Dataset\n",
    "\n",
    "As a Data Scientist, your work is to understand the data your working with. Using Panda Dataframe have a look at the ratings.csv and movies.csv files and answer the following questions.\n",
    "\n",
    "* What are the features of both csv files ?\n",
    "* To you, what could be the most important csv file ?\n",
    "* How many movies are there ?\n",
    "* How many users rated movies ? \n",
    "* How users did rate the movies ? \n",
    "* What's the span of the ratings ? Using matplotlib or seaborn, plot the ratings for a given movie.\n",
    "* Can we merge both tables ? if yes what key should be used to merge them ?\n",
    "* What are the differents genres of the movies ?\n",
    "* Are there outliers ?\n",
    "\n",
    "Documentation available on : https://pandas.pydata.org/docs/reference/api/pandas.DataFrame.html"
   ]
  },
  {
   "cell_type": "code",
   "execution_count": null,
   "metadata": {
    "id": "ZVIq4szvaj76"
   },
   "outputs": [],
   "source": []
  },
  {
   "cell_type": "markdown",
   "metadata": {
    "id": "8Hg8zt9ea1_u"
   },
   "source": [
    "# Some Changes\n",
    "\n",
    "For the rest of the lab, we will only use .05% of the dataset as it it too much for this notebook ( RIP Google ). Run the following cell for the rating dataframe. It will replace the existing rating dataset by a splitted dataset corresponding to 0.05% of the dataset"
   ]
  },
  {
   "cell_type": "code",
   "execution_count": null,
   "metadata": {
    "id": "sVkJ5S1LbMLq"
   },
   "outputs": [],
   "source": [
    "ratings, _ = train_test_split(ratings, test_size = 0.95)"
   ]
  },
  {
   "cell_type": "markdown",
   "metadata": {
    "id": "nlIXMBoRbc1Q"
   },
   "source": [
    "# Create your Dataset\n",
    "\n",
    "At this point, you should have a good understanding of the given model. \n",
    "The given Dataset is a csv file. As we work with Tensors and Pytorch, we need to convert the Dataset to something readable by a Pytorch Model. Define a Dataset class that inherits from Dataset that returns a dictionnary {user, item, ratings}. The skeleton is given.\n",
    "Don't forget to create your train, test, validation datasets.\n",
    "\n",
    "Documentation available on : https://pytorch.org/tutorials/beginner/basics/data_tutorial.html"
   ]
  },
  {
   "cell_type": "code",
   "execution_count": null,
   "metadata": {
    "id": "3YW4LI87cAdy"
   },
   "outputs": [],
   "source": [
    "class MovieLensDataset(Dataset):\n",
    "\n",
    "  def __init__(self,dataframe):\n",
    "      self.dataframe = \n",
    "\n",
    "  def __getitem__(self, idx):\n",
    "\n",
    "\n",
    "      return {'user': torch.tensor(, dtype=torch.long),\n",
    "              'movie':  torch.tensor(, dtype=torch.long),\n",
    "              'rating':  torch.tensor(, dtype=torch.float)}\n",
    "\n",
    "  def __len__(self):\n",
    "    return len()\n"
   ]
  },
  {
   "cell_type": "markdown",
   "metadata": {
    "id": "4gi20sLNbfbt"
   },
   "source": [
    "# Create your DataLoaders\n",
    "\n",
    "Now as in the labs, we want to fetch lot of data at the same time to send it to the model. We use DataLoaders. Define Dataloaders for each of your DataSets"
   ]
  },
  {
   "cell_type": "code",
   "execution_count": null,
   "metadata": {
    "id": "rYvkMJCwcsot"
   },
   "outputs": [],
   "source": []
  },
  {
   "cell_type": "markdown",
   "metadata": {
    "id": "7P3EpMnMbiwZ"
   },
   "source": [
    "# Create a Model\n",
    "\n",
    "Create a model that inherits from nn.Module. A skeleton is given. If you don't have any ideas, try to reimplement NCF model.\n",
    "\n",
    "Documenation available on : https://pytorch.org/tutorials/beginner/basics/buildmodel_tutorial.html"
   ]
  },
  {
   "cell_type": "code",
   "execution_count": null,
   "metadata": {
    "id": "XkCM-u6KcrQi"
   },
   "outputs": [],
   "source": [
    "class RecModel(nn.Module):\n",
    "\n",
    "\n",
    "    def __init__(self,..):\n",
    "\n",
    "\n",
    "    def forward(self, ..):"
   ]
  },
  {
   "cell_type": "markdown",
   "metadata": {
    "id": "UlOXFaW5bnyx"
   },
   "source": [
    "# Train\n",
    "\n",
    "Form your training Loop and train your model. Don't forget your optimizer, batch size , number of epochs...\n",
    "\n",
    "Documentation with example on : https://pytorch.org/tutorials/beginner/blitz/cifar10_tutorial.html"
   ]
  },
  {
   "cell_type": "code",
   "execution_count": null,
   "metadata": {
    "id": "OH61ZalJcuXS"
   },
   "outputs": [],
   "source": []
  },
  {
   "cell_type": "markdown",
   "metadata": {
    "id": "X2ID6GmcbpR2"
   },
   "source": [
    "# Test\n",
    "\n",
    "Test your model on the test set. \n",
    "Do we need a metric ? If yes use the RSME as a metric"
   ]
  },
  {
   "cell_type": "code",
   "execution_count": null,
   "metadata": {
    "id": "QZgUaa7Ycu0A"
   },
   "outputs": [],
   "source": []
  }
 ],
 "metadata": {
  "colab": {
   "authorship_tag": "ABX9TyN7qdi1TWKNZN7pooHkTi8h",
   "include_colab_link": true,
   "name": "RecSysTD.ipynb",
   "provenance": []
  },
  "kernelspec": {
   "display_name": "Python 3",
   "name": "python3"
  },
  "language_info": {
   "name": "python"
  }
 },
 "nbformat": 4,
 "nbformat_minor": 0
}
