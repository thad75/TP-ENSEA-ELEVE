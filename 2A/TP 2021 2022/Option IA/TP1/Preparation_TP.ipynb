{
  "nbformat": 4,
  "nbformat_minor": 0,
  "metadata": {
    "colab": {
      "name": "Preparation TP.ipynb",
      "provenance": []
    },
    "kernelspec": {
      "name": "python3",
      "display_name": "Python 3"
    },
    "language_info": {
      "name": "python"
    }
  },
  "cells": [
    {
      "cell_type": "markdown",
      "source": [
        "# I - Preparatory Questions\n",
        "\n",
        "In order to help you for the incoming Lab, we've prepared few questions that you must answer before coming.\n",
        "\n",
        "Watch these videos and answer the questions :    \n",
        "https://www.coursera.org/lecture/convolutional-neural-networks/why-convolutions-Xv7B5\n",
        "\n",
        "https://www.youtube.com/watch?v=gAKQOZ5zIWg\n",
        "\n",
        "\n",
        "* What is a Loss Function ?\n",
        "* What is a Multi Layer Perceptron ?\n",
        "* What is a Convolutional Layer ?\n",
        "* What is the difference between MLP and Conv Layers ?\n",
        "* What is the purpose of Gradient Descent ?"
      ],
      "metadata": {
        "id": "t6oG5tDLxj-W"
      }
    },
    {
      "cell_type": "markdown",
      "source": [
        "# II - Some Practice on Python "
      ],
      "metadata": {
        "id": "57lJlFpkm8DN"
      }
    },
    {
      "cell_type": "markdown",
      "source": [
        "Now, let's have a quick run on Python. You might have used it before but let's do a quick refreshment"
      ],
      "metadata": {
        "id": "PDJh15dpnoa7"
      }
    },
    {
      "cell_type": "markdown",
      "source": [
        "## a - Defining a function\n",
        "\n",
        "We are going to define few functions. Let's define the following functions:\n",
        "\n",
        "* add\n",
        "* substract\n",
        "* divide\n",
        "* multiply\n",
        "* power\n",
        "\n",
        "**All your functions must take two input arguments a and b **\n",
        "\n",
        "To define a function, it's like matlab :\n",
        "\n",
        "```\n",
        "def function(**kwargs):\n",
        "      # do stuff\n",
        "\n",
        "```"
      ],
      "metadata": {
        "id": "p5t-OYVRn2Qk"
      }
    },
    {
      "cell_type": "code",
      "source": [
        "def add(a,b):\n",
        "\n",
        "def substract(a,b):\n",
        "\n",
        "def divide(a,b):\n",
        "\n",
        "def multiply(a,b):\n",
        "\n",
        "def power(a, b):\n"
      ],
      "metadata": {
        "id": "C0yp6kXInHlo"
      },
      "execution_count": null,
      "outputs": []
    },
    {
      "cell_type": "markdown",
      "source": [
        "Now test the functions"
      ],
      "metadata": {
        "id": "f6MQWc6VqsIR"
      }
    },
    {
      "cell_type": "code",
      "source": [
        "a = \n",
        "b =\n"
      ],
      "metadata": {
        "id": "VrHHUa4eqrn3"
      },
      "execution_count": null,
      "outputs": []
    },
    {
      "cell_type": "markdown",
      "source": [
        "## b - Defining a class\n",
        "\n",
        "So we basically have defined all the functions, but they are 'independant'. However, as you can see, they all have the same goal : Do some calculations...\n",
        "\n",
        "So let's define a basic object : a Calculator. In fact, we are going to create a **Class** which **Attributes** are a and b, to which calculation **Methods** will be applied. Remember your Java Class :')\n",
        "\n",
        "To define a class\n",
        "```\n",
        "class YourClass():\n",
        "\n",
        "    def __init__(self,*kwargs):\n",
        "        # Here you define the attributes of your model. \n",
        "        self.kwargs = kwargs\n",
        "\n",
        "    def method1(self,..):\n",
        "        #do stuff\n",
        "    \n",
        "    ...\n",
        "    \n",
        "```\n",
        "\n",
        "If you still don't understand, look at the following skeleton"
      ],
      "metadata": {
        "id": "d9PyVLSmqbAN"
      }
    },
    {
      "cell_type": "code",
      "source": [
        "# We consider a and b two numbers that we want to apply calculation on.\n",
        "# Define a class that takes as attributes a and b and gather all the previous functions as method of this class \n",
        "# We use self to refer to something that is inside the class, an attribute or a method for example. Self represents an instance of the Class\n",
        "class Calculator():\n",
        "    \n",
        "    def __init__(self,a,b):\n",
        "        # TODO : Fill the attributes initialisation\n",
        "        self.a = ...\n",
        "\n",
        "    \n",
        "    def add(self):\n",
        "        # Call and return the sum of attributes\n",
        "        sum = self.a...\n",
        "\n",
        "    def substract(self):\n",
        "      ...\n",
        "\n",
        "    def divide(self):\n",
        "      ...\n",
        "\n",
        "    def multiply(self):\n",
        "      ...\n",
        "\n",
        "    def power(self):\n",
        "      ..."
      ],
      "metadata": {
        "id": "8m23-Secq1m8"
      },
      "execution_count": null,
      "outputs": []
    },
    {
      "cell_type": "markdown",
      "source": [
        "Now create a calculator object and do some calculation"
      ],
      "metadata": {
        "id": "a4cqYJRvto4j"
      }
    },
    {
      "cell_type": "code",
      "source": [
        "a = \n",
        "b =\n",
        "calculator = Calculator(a,b)\n",
        "# Call the different methods of your class. To call a method use object.method()"
      ],
      "metadata": {
        "id": "1zlXSiy4t044"
      },
      "execution_count": null,
      "outputs": []
    }
  ]
}