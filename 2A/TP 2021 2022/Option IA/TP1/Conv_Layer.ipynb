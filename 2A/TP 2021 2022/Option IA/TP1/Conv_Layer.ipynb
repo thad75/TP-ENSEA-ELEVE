{
 "cells": [
  {
   "cell_type": "markdown",
   "metadata": {
    "id": "DSPCom-KmApV"
   },
   "source": [
    "# Convolutional Neural Network (CNN)"
   ]
  },
  {
   "cell_type": "markdown",
   "metadata": {
    "id": "qLGkt5qiyz4E"
   },
   "source": [
    "In this lab, you will be training a simple [Convolutional Neural Network](https://developers.google.com/machine-learning/glossary/#convolutional_neural_network) (CNN) to classify [CIFAR images](https://www.cs.toronto.edu/~kriz/cifar.html). \n",
    "\n",
    "The [Keras Sequential API](https://www.tensorflow.org/guide/keras/overview) will allow you to do this very easily. \n",
    "\n",
    "Creating and training a model will take just a few lines of code.\n",
    "\n",
    "<img src=\"https://pics.me.me/the-maths-dehhddeepleihing-import-keras-say-hello-to-keras-56785635.png\">\n",
    "\n",
    "\n"
   ]
  },
  {
   "cell_type": "markdown",
   "metadata": {
    "id": "m7KBpffWzlxH"
   },
   "source": [
    "### Import Libraries"
   ]
  },
  {
   "cell_type": "code",
   "execution_count": null,
   "metadata": {
    "id": "iAve6DCL4JH4"
   },
   "outputs": [],
   "source": [
    "import matplotlib.pyplot as plt\n",
    "import numpy as np\n",
    "import tensorflow as tf\n",
    "\n",
    "from IPython.display import display, Markdown, Latex\n",
    "\n",
    "from tensorflow.keras import datasets, layers, models"
   ]
  },
  {
   "cell_type": "markdown",
   "metadata": {
    "id": "tIVM0t8tteyT"
   },
   "source": [
    "Load the dataset and normalize it"
   ]
  },
  {
   "cell_type": "markdown",
   "metadata": {
    "id": "EbqkrnavQ1lJ"
   },
   "source": [
    "## Dataset\n",
    "\n",
    "CIFAR-10 consists of 60000 32x32 color images in 10 classes, with 6000 images per class. There are 50000 training images and 10000 test images. Here are the classes in the dataset, as well as 10 random images from each:\n",
    "\n",
    "<table>\n",
    "    <tbody><tr>\n",
    "        <td class=\"cifar-class-name\">airplane</td>\n",
    "        <td><img src=\"https://www.cs.toronto.edu/~kriz/cifar-10-sample/airplane1.png\" class=\"cifar-sample\"></td>\n",
    "        <td><img src=\"https://www.cs.toronto.edu/~kriz/cifar-10-sample/airplane2.png\" class=\"cifar-sample\"></td>\n",
    "        <td><img src=\"https://www.cs.toronto.edu/~kriz/cifar-10-sample/airplane3.png\" class=\"cifar-sample\"></td>\n",
    "        <td><img src=\"https://www.cs.toronto.edu/~kriz/cifar-10-sample/airplane4.png\" class=\"cifar-sample\"></td>\n",
    "        <td><img src=\"https://www.cs.toronto.edu/~kriz/cifar-10-sample/airplane5.png\" class=\"cifar-sample\"></td>\n",
    "        <td><img src=\"https://www.cs.toronto.edu/~kriz/cifar-10-sample/airplane6.png\" class=\"cifar-sample\"></td>\n",
    "        <td><img src=\"https://www.cs.toronto.edu/~kriz/cifar-10-sample/airplane7.png\" class=\"cifar-sample\"></td>\n",
    "        <td><img src=\"https://www.cs.toronto.edu/~kriz/cifar-10-sample/airplane8.png\" class=\"cifar-sample\"></td>\n",
    "        <td><img src=\"https://www.cs.toronto.edu/~kriz/cifar-10-sample/airplane9.png\" class=\"cifar-sample\"></td>\n",
    "        <td><img src=\"https://www.cs.toronto.edu/~kriz/cifar-10-sample/airplane10.png\" class=\"cifar-sample\"></td>\n",
    "    </tr>\n",
    "    <tr>\n",
    "        <td class=\"cifar-class-name\">automobile</td>\n",
    "        <td><img src=\"https://www.cs.toronto.edu/~kriz/cifar-10-sample/automobile1.png\" class=\"cifar-sample\"></td>\n",
    "        <td><img src=\"https://www.cs.toronto.edu/~kriz/cifar-10-sample/automobile2.png\" class=\"cifar-sample\"></td>\n",
    "        <td><img src=\"https://www.cs.toronto.edu/~kriz/cifar-10-sample/automobile3.png\" class=\"cifar-sample\"></td>\n",
    "        <td><img src=\"https://www.cs.toronto.edu/~kriz/cifar-10-sample/automobile4.png\" class=\"cifar-sample\"></td>\n",
    "        <td><img src=\"https://www.cs.toronto.edu/~kriz/cifar-10-sample/automobile5.png\" class=\"cifar-sample\"></td>\n",
    "        <td><img src=\"https://www.cs.toronto.edu/~kriz/cifar-10-sample/automobile6.png\" class=\"cifar-sample\"></td>\n",
    "        <td><img src=\"https://www.cs.toronto.edu/~kriz/cifar-10-sample/automobile7.png\" class=\"cifar-sample\"></td>\n",
    "        <td><img src=\"https://www.cs.toronto.edu/~kriz/cifar-10-sample/automobile8.png\" class=\"cifar-sample\"></td>\n",
    "        <td><img src=\"https://www.cs.toronto.edu/~kriz/cifar-10-sample/automobile9.png\" class=\"cifar-sample\"></td>\n",
    "        <td><img src=\"https://www.cs.toronto.edu/~kriz/cifar-10-sample/automobile10.png\" class=\"cifar-sample\"></td>\n",
    "    </tr>\n",
    "    <tr>\n",
    "        <td class=\"cifar-class-name\">bird</td>\n",
    "        <td><img src=\"https://www.cs.toronto.edu/~kriz/cifar-10-sample/bird1.png\" class=\"cifar-sample\"></td>\n",
    "        <td><img src=\"https://www.cs.toronto.edu/~kriz/cifar-10-sample/bird2.png\" class=\"cifar-sample\"></td>\n",
    "        <td><img src=\"https://www.cs.toronto.edu/~kriz/cifar-10-sample/bird3.png\" class=\"cifar-sample\"></td>\n",
    "        <td><img src=\"https://www.cs.toronto.edu/~kriz/cifar-10-sample/bird4.png\" class=\"cifar-sample\"></td>\n",
    "        <td><img src=\"https://www.cs.toronto.edu/~kriz/cifar-10-sample/bird5.png\" class=\"cifar-sample\"></td>\n",
    "        <td><img src=\"https://www.cs.toronto.edu/~kriz/cifar-10-sample/bird6.png\" class=\"cifar-sample\"></td>\n",
    "        <td><img src=\"https://www.cs.toronto.edu/~kriz/cifar-10-sample/bird7.png\" class=\"cifar-sample\"></td>\n",
    "        <td><img src=\"https://www.cs.toronto.edu/~kriz/cifar-10-sample/bird8.png\" class=\"cifar-sample\"></td>\n",
    "        <td><img src=\"https://www.cs.toronto.edu/~kriz/cifar-10-sample/bird9.png\" class=\"cifar-sample\"></td>\n",
    "        <td><img src=\"https://www.cs.toronto.edu/~kriz/cifar-10-sample/bird10.png\" class=\"cifar-sample\"></td>\n",
    "    </tr>\n",
    "    <tr>\n",
    "        <td class=\"cifar-class-name\">cat</td>\n",
    "        <td><img src=\"https://www.cs.toronto.edu/~kriz/cifar-10-sample/cat1.png\" class=\"cifar-sample\"></td>\n",
    "        <td><img src=\"https://www.cs.toronto.edu/~kriz/cifar-10-sample/cat2.png\" class=\"cifar-sample\"></td>\n",
    "        <td><img src=\"https://www.cs.toronto.edu/~kriz/cifar-10-sample/cat3.png\" class=\"cifar-sample\"></td>\n",
    "        <td><img src=\"https://www.cs.toronto.edu/~kriz/cifar-10-sample/cat4.png\" class=\"cifar-sample\"></td>\n",
    "        <td><img src=\"https://www.cs.toronto.edu/~kriz/cifar-10-sample/cat5.png\" class=\"cifar-sample\"></td>\n",
    "        <td><img src=\"https://www.cs.toronto.edu/~kriz/cifar-10-sample/cat6.png\" class=\"cifar-sample\"></td>\n",
    "        <td><img src=\"https://www.cs.toronto.edu/~kriz/cifar-10-sample/cat7.png\" class=\"cifar-sample\"></td>\n",
    "        <td><img src=\"https://www.cs.toronto.edu/~kriz/cifar-10-sample/cat8.png\" class=\"cifar-sample\"></td>\n",
    "        <td><img src=\"https://www.cs.toronto.edu/~kriz/cifar-10-sample/cat9.png\" class=\"cifar-sample\"></td>\n",
    "        <td><img src=\"https://www.cs.toronto.edu/~kriz/cifar-10-sample/cat10.png\" class=\"cifar-sample\"></td>\n",
    "    </tr>\n",
    "    <tr>\n",
    "        <td class=\"cifar-class-name\">deer</td>\n",
    "        <td><img src=\"https://www.cs.toronto.edu/~kriz/cifar-10-sample/deer1.png\" class=\"cifar-sample\"></td>\n",
    "        <td><img src=\"https://www.cs.toronto.edu/~kriz/cifar-10-sample/deer2.png\" class=\"cifar-sample\"></td>\n",
    "        <td><img src=\"https://www.cs.toronto.edu/~kriz/cifar-10-sample/deer3.png\" class=\"cifar-sample\"></td>\n",
    "        <td><img src=\"https://www.cs.toronto.edu/~kriz/cifar-10-sample/deer4.png\" class=\"cifar-sample\"></td>\n",
    "        <td><img src=\"https://www.cs.toronto.edu/~kriz/cifar-10-sample/deer5.png\" class=\"cifar-sample\"></td>\n",
    "        <td><img src=\"https://www.cs.toronto.edu/~kriz/cifar-10-sample/deer6.png\" class=\"cifar-sample\"></td>\n",
    "        <td><img src=\"https://www.cs.toronto.edu/~kriz/cifar-10-sample/deer7.png\" class=\"cifar-sample\"></td>\n",
    "        <td><img src=\"https://www.cs.toronto.edu/~kriz/cifar-10-sample/deer8.png\" class=\"cifar-sample\"></td>\n",
    "        <td><img src=\"https://www.cs.toronto.edu/~kriz/cifar-10-sample/deer9.png\" class=\"cifar-sample\"></td>\n",
    "        <td><img src=\"https://www.cs.toronto.edu/~kriz/cifar-10-sample/deer10.png\" class=\"cifar-sample\"></td>\n",
    "    </tr>\n",
    "    <tr>\n",
    "        <td class=\"cifar-class-name\">dog</td>\n",
    "        <td><img src=\"https://www.cs.toronto.edu/~kriz/cifar-10-sample/dog1.png\" class=\"cifar-sample\"></td>\n",
    "        <td><img src=\"https://www.cs.toronto.edu/~kriz/cifar-10-sample/dog2.png\" class=\"cifar-sample\"></td>\n",
    "        <td><img src=\"https://www.cs.toronto.edu/~kriz/cifar-10-sample/dog3.png\" class=\"cifar-sample\"></td>\n",
    "        <td><img src=\"https://www.cs.toronto.edu/~kriz/cifar-10-sample/dog4.png\" class=\"cifar-sample\"></td>\n",
    "        <td><img src=\"https://www.cs.toronto.edu/~kriz/cifar-10-sample/dog5.png\" class=\"cifar-sample\"></td>\n",
    "        <td><img src=\"https://www.cs.toronto.edu/~kriz/cifar-10-sample/dog6.png\" class=\"cifar-sample\"></td>\n",
    "        <td><img src=\"https://www.cs.toronto.edu/~kriz/cifar-10-sample/dog7.png\" class=\"cifar-sample\"></td>\n",
    "        <td><img src=\"https://www.cs.toronto.edu/~kriz/cifar-10-sample/dog8.png\" class=\"cifar-sample\"></td>\n",
    "        <td><img src=\"https://www.cs.toronto.edu/~kriz/cifar-10-sample/dog9.png\" class=\"cifar-sample\"></td>\n",
    "        <td><img src=\"https://www.cs.toronto.edu/~kriz/cifar-10-sample/dog10.png\" class=\"cifar-sample\"></td>\n",
    "    </tr>\n",
    "    <tr>\n",
    "        <td class=\"cifar-class-name\">frog</td>\n",
    "        <td><img src=\"https://www.cs.toronto.edu/~kriz/cifar-10-sample/frog1.png\" class=\"cifar-sample\"></td>\n",
    "        <td><img src=\"https://www.cs.toronto.edu/~kriz/cifar-10-sample/frog2.png\" class=\"cifar-sample\"></td>\n",
    "        <td><img src=\"https://www.cs.toronto.edu/~kriz/cifar-10-sample/frog3.png\" class=\"cifar-sample\"></td>\n",
    "        <td><img src=\"https://www.cs.toronto.edu/~kriz/cifar-10-sample/frog4.png\" class=\"cifar-sample\"></td>\n",
    "        <td><img src=\"https://www.cs.toronto.edu/~kriz/cifar-10-sample/frog5.png\" class=\"cifar-sample\"></td>\n",
    "        <td><img src=\"https://www.cs.toronto.edu/~kriz/cifar-10-sample/frog6.png\" class=\"cifar-sample\"></td>\n",
    "        <td><img src=\"https://www.cs.toronto.edu/~kriz/cifar-10-sample/frog7.png\" class=\"cifar-sample\"></td>\n",
    "        <td><img src=\"https://www.cs.toronto.edu/~kriz/cifar-10-sample/frog8.png\" class=\"cifar-sample\"></td>\n",
    "        <td><img src=\"https://www.cs.toronto.edu/~kriz/cifar-10-sample/frog9.png\" class=\"cifar-sample\"></td>\n",
    "        <td><img src=\"https://www.cs.toronto.edu/~kriz/cifar-10-sample/frog10.png\" class=\"cifar-sample\"></td>\n",
    "    </tr>\n",
    "    <tr>\n",
    "        <td class=\"cifar-class-name\">horse</td>\n",
    "        <td><img src=\"https://www.cs.toronto.edu/~kriz/cifar-10-sample/horse1.png\" class=\"cifar-sample\"></td>\n",
    "        <td><img src=\"https://www.cs.toronto.edu/~kriz/cifar-10-sample/horse2.png\" class=\"cifar-sample\"></td>\n",
    "        <td><img src=\"https://www.cs.toronto.edu/~kriz/cifar-10-sample/horse3.png\" class=\"cifar-sample\"></td>\n",
    "        <td><img src=\"https://www.cs.toronto.edu/~kriz/cifar-10-sample/horse4.png\" class=\"cifar-sample\"></td>\n",
    "        <td><img src=\"https://www.cs.toronto.edu/~kriz/cifar-10-sample/horse5.png\" class=\"cifar-sample\"></td>\n",
    "        <td><img src=\"https://www.cs.toronto.edu/~kriz/cifar-10-sample/horse6.png\" class=\"cifar-sample\"></td>\n",
    "        <td><img src=\"https://www.cs.toronto.edu/~kriz/cifar-10-sample/horse7.png\" class=\"cifar-sample\"></td>\n",
    "        <td><img src=\"https://www.cs.toronto.edu/~kriz/cifar-10-sample/horse8.png\" class=\"cifar-sample\"></td>\n",
    "        <td><img src=\"https://www.cs.toronto.edu/~kriz/cifar-10-sample/horse9.png\" class=\"cifar-sample\"></td>\n",
    "        <td><img src=\"https://www.cs.toronto.edu/~kriz/cifar-10-sample/horse10.png\" class=\"cifar-sample\"></td>\n",
    "    </tr>\n",
    "    <tr>\n",
    "        <td class=\"cifar-class-name\">ship</td>\n",
    "        <td><img src=\"https://www.cs.toronto.edu/~kriz/cifar-10-sample/ship1.png\" class=\"cifar-sample\"></td>\n",
    "        <td><img src=\"https://www.cs.toronto.edu/~kriz/cifar-10-sample/ship2.png\" class=\"cifar-sample\"></td>\n",
    "        <td><img src=\"https://www.cs.toronto.edu/~kriz/cifar-10-sample/ship3.png\" class=\"cifar-sample\"></td>\n",
    "        <td><img src=\"https://www.cs.toronto.edu/~kriz/cifar-10-sample/ship4.png\" class=\"cifar-sample\"></td>\n",
    "        <td><img src=\"https://www.cs.toronto.edu/~kriz/cifar-10-sample/ship5.png\" class=\"cifar-sample\"></td>\n",
    "        <td><img src=\"https://www.cs.toronto.edu/~kriz/cifar-10-sample/ship6.png\" class=\"cifar-sample\"></td>\n",
    "        <td><img src=\"https://www.cs.toronto.edu/~kriz/cifar-10-sample/ship7.png\" class=\"cifar-sample\"></td>\n",
    "        <td><img src=\"https://www.cs.toronto.edu/~kriz/cifar-10-sample/ship8.png\" class=\"cifar-sample\"></td>\n",
    "        <td><img src=\"https://www.cs.toronto.edu/~kriz/cifar-10-sample/ship9.png\" class=\"cifar-sample\"></td>\n",
    "        <td><img src=\"https://www.cs.toronto.edu/~kriz/cifar-10-sample/ship10.png\" class=\"cifar-sample\"></td>\n",
    "    </tr>\n",
    "    <tr>\n",
    "        <td class=\"cifar-class-name\">truck</td>\n",
    "        <td><img src=\"https://www.cs.toronto.edu/~kriz/cifar-10-sample/truck1.png\" class=\"cifar-sample\"></td>\n",
    "        <td><img src=\"https://www.cs.toronto.edu/~kriz/cifar-10-sample/truck2.png\" class=\"cifar-sample\"></td>\n",
    "        <td><img src=\"https://www.cs.toronto.edu/~kriz/cifar-10-sample/truck3.png\" class=\"cifar-sample\"></td>\n",
    "        <td><img src=\"https://www.cs.toronto.edu/~kriz/cifar-10-sample/truck4.png\" class=\"cifar-sample\"></td>\n",
    "        <td><img src=\"https://www.cs.toronto.edu/~kriz/cifar-10-sample/truck5.png\" class=\"cifar-sample\"></td>\n",
    "        <td><img src=\"https://www.cs.toronto.edu/~kriz/cifar-10-sample/truck6.png\" class=\"cifar-sample\"></td>\n",
    "        <td><img src=\"https://www.cs.toronto.edu/~kriz/cifar-10-sample/truck7.png\" class=\"cifar-sample\"></td>\n",
    "        <td><img src=\"https://www.cs.toronto.edu/~kriz/cifar-10-sample/truck8.png\" class=\"cifar-sample\"></td>\n",
    "        <td><img src=\"https://www.cs.toronto.edu/~kriz/cifar-10-sample/truck9.png\" class=\"cifar-sample\"></td>\n",
    "        <td><img src=\"https://www.cs.toronto.edu/~kriz/cifar-10-sample/truck10.png\" class=\"cifar-sample\"></td>\n",
    "    </tr>\n",
    "</tbody></table>"
   ]
  },
  {
   "cell_type": "code",
   "execution_count": null,
   "metadata": {
    "id": "JWoEqyMuXFF4"
   },
   "outputs": [],
   "source": [
    "(train_images, train_labels), (test_images, test_labels) = datasets.cifar10.load_data()\n",
    "\n",
    "# Normalize pixel values to be between 0 and 1\n",
    "train_images = train_images / ?\n",
    "test_images  = test_images / ?"
   ]
  },
  {
   "cell_type": "markdown",
   "metadata": {
    "id": "7wArwCTJJlUa"
   },
   "source": [
    "### Verify the data\n",
    "\n",
    "To verify that the dataset looks correct, let's plot the first 25 images from the training set and display the class name below each image:\n"
   ]
  },
  {
   "cell_type": "code",
   "execution_count": null,
   "metadata": {
    "id": "K3PAELE2eSU9"
   },
   "outputs": [],
   "source": [
    "class_names = ['airplane', 'automobile', 'bird', 'cat', 'deer', 'dog', 'frog', 'horse', 'ship', 'truck']\n",
    "\n",
    "# grid of size N x N\n",
    "N = ? \n",
    "\n",
    "plt.figure(figsize=(10, 10))\n",
    "for i in range(N*N):\n",
    "    # The CIFAR labels happen to be arrays, \n",
    "    # which is why you need the extra index\n",
    "    image, label_index = train_images[i], train_labels[i][0]\n",
    "    label_name = class_names[label_index]\n",
    "\n",
    "    plt.subplot(N,N,i+1)\n",
    "    plt.xticks([])\n",
    "    plt.yticks([])\n",
    "    plt.grid(False)\n",
    "    plt.imshow(image)\n",
    "    plt.xlabel(label_name)\n",
    "    \n",
    "plt.show()"
   ]
  },
  {
   "cell_type": "markdown",
   "metadata": {
    "id": "Oewp-wYg31t9"
   },
   "source": [
    "### Create the convolutional base"
   ]
  },
  {
   "cell_type": "markdown",
   "metadata": {
    "id": "HJ21COVClONO"
   },
   "source": [
    "## Mathematical aspect\n",
    "\n",
    "Here a simplified depiction of a 32x32x3 image\n",
    "\n",
    "<img src=\"https://raw.githubusercontent.com/mingruimingrui/Convolution-neural-networks-made-easy-with-keras/master/imgs/input-image-dimension.JPG\" width=\"240\" >\n",
    "\n",
    "A typical input image will be broken down into its individual pixel components. In the picture above, we have a 32x32 pixel image which has a R, G, and B value attached to each pixel, therefore a 32x32x3 input, also known as an input with 32 height, 32 width, and 3 depth.\n",
    "\n",
    "<img src=\"https://raw.githubusercontent.com/mingruimingrui/Convolution-neural-networks-made-easy-with-keras/master/imgs/filtering.JPG\" width=\"360\" style=\"max-width: 100%;\">\n",
    "\n",
    "A 3x3 filter applyed to a 3x3(x1) input\n",
    "\n",
    "<img src=\"https://raw.githubusercontent.com/mingruimingrui/Convolution-neural-networks-made-easy-with-keras/master/imgs/filtering-math.JPG\">\n",
    "\n",
    "Since we are dealing with an image of depth 3 (number of colors), we need to imagine a 3x3x3 sized mini image being multiplied and summed up with another 3x3x3 filter. Then by adding another constant term, we will receive a single number result from this transformation.\n",
    "\n",
    "<img src=https://raw.githubusercontent.com/mingruimingrui/Convolution-neural-networks-made-easy-with-keras/master/imgs/filtering-many-to-one.gif>\n",
    "\n",
    "\n",
    "### Pooling Layers\n",
    "\n",
    "After some ReLU layers, it is customary to apply a pooling layer (aka downsampling layer).\n",
    "\n",
    "In this category, there are also several layer options, with maxpooling being the most popular.\n",
    "\n",
    "<img width=\"80%\" src=\"https://raw.githubusercontent.com/leriomaggio/deep-learning-keras-tensorflow/b996ea1faba3ee7d01ea7bd733d2e7cd71be6bb5/imgs/MaxPool.png\">"
   ]
  },
  {
   "cell_type": "markdown",
   "metadata": {
    "id": "3hQvqXpNyN3x"
   },
   "source": [
    "The 6 lines of code below define the convolutional base using a common pattern: a stack of [Conv2D](https://www.tensorflow.org/api_docs/python/tf/keras/layers/Conv2D) and [MaxPooling2D](https://www.tensorflow.org/api_docs/python/tf/keras/layers/MaxPool2D) layers.\n",
    "\n",
    "As input, a CNN takes tensors of shape (image_height, image_width, color_channels), ignoring the batch size. If you are new to these dimensions, color_channels refers to (R,G,B). In this example, you will configure your CNN to process inputs of shape (32, 32, 3), which is the format of CIFAR images. You can do this by passing the argument `input_shape` to your first layer.\n",
    "\n",
    "**layer 1**\n",
    "- 32 x [Conv2D](https://www.tensorflow.org/api_docs/python/tf/keras/layers/Conv2D) (3, 3)\n",
    "- relu\n",
    "- MaxPooling2D (2, 2)\n",
    "\n",
    "**layer 2**\n",
    "- 64 x [Conv2D](https://www.tensorflow.org/api_docs/python/tf/keras/layers/Conv2D) (3, 3)\n",
    "- relu\n",
    "- MaxPooling2D (2, 2)\n",
    "\n",
    "**layer 3**\n",
    "- 64 x [Conv2D](https://www.tensorflow.org/api_docs/python/tf/keras/layers/Conv2D) (3, 3)\n",
    "\n",
    "note that you can pass a `activation` parameter to Conv2D\n"
   ]
  },
  {
   "cell_type": "code",
   "execution_count": null,
   "metadata": {
    "id": "L9YmGQBQPrdn"
   },
   "outputs": [],
   "source": [
    "input_shape = (?, ?, ?)\n",
    "\n",
    "model = models.Sequential()\n",
    "model.add(layers.InputLayer(input_shape=input_shape))\n",
    "\n",
    "# layer 1\n",
    "model.add(layers.Conv2D(?, (?, ?), activation=?))\n",
    "model.add(layers.MaxPooling2D((?, ?)))\n",
    "\n",
    "# layer 2\n",
    "model.add(layers.Conv2D(?, (?, ?), activation=?))\n",
    "model.add(layers.MaxPooling2D((?, ?)))\n",
    "\n",
    "# layer 3\n",
    "model.add(layers.Conv2D(?, (?, ?), activation=?))"
   ]
  },
  {
   "cell_type": "markdown",
   "metadata": {
    "id": "lvDVFkg-2DPm"
   },
   "source": [
    "Let's display the architecture of your model so far:"
   ]
  },
  {
   "cell_type": "code",
   "execution_count": null,
   "metadata": {
    "id": "8-C4XBg4UTJy"
   },
   "outputs": [],
   "source": [
    "model.summary()"
   ]
  },
  {
   "cell_type": "markdown",
   "metadata": {
    "id": "_j-AXYeZ2GO5"
   },
   "source": [
    "Above, you can see that the output of every Conv2D and MaxPooling2D layer is a 3D tensor of shape (height, width, channels). The width and height dimensions tend to shrink as you go deeper in the network. The number of output channels for each Conv2D layer is controlled by the first argument (e.g., 32 or 64). Typically,  as the width and height shrink, you can afford (computationally) to add more output channels in each Conv2D layer."
   ]
  },
  {
   "cell_type": "markdown",
   "metadata": {
    "id": "_v8sVOtG37bT"
   },
   "source": [
    "### Add Dense layers on top\n",
    "\n",
    "To complete the model, you will feed the last output tensor from the convolutional base (of shape (4, 4, 64)) into one or more Dense layers to perform classification. Dense layers take vectors as input (which are 1D), while the current output is a 3D tensor. First, you will flatten (or unroll) the 3D output to 1D,  then add one or more Dense layers on top. CIFAR has 10 output classes, so you use a final Dense layer with 10 outputs.\n",
    "\n",
    "**layer 4**\n",
    "- Flatten\n",
    "- Dense (64) + relu\n",
    "- Dense (n_classes)\n",
    "\n"
   ]
  },
  {
   "cell_type": "code",
   "execution_count": null,
   "metadata": {
    "id": "mRs95d6LUVEi"
   },
   "outputs": [],
   "source": [
    "n_classes = ?\n",
    "\n",
    "# layer 4\n",
    "model.add(layers.Flatten())\n",
    "model.add(layers.Dense(?, activation=?))\n",
    "model.add(layers.Dense(n_classes))"
   ]
  },
  {
   "cell_type": "markdown",
   "metadata": {
    "id": "ipGiQMcR4Gtq"
   },
   "source": [
    "Here's the complete architecture of your model:"
   ]
  },
  {
   "cell_type": "code",
   "execution_count": null,
   "metadata": {
    "id": "8Yu_m-TZUWGX"
   },
   "outputs": [],
   "source": [
    "model.summary()"
   ]
  },
  {
   "cell_type": "markdown",
   "metadata": {
    "id": "xNKXi-Gy3RO-"
   },
   "source": [
    "The network summary shows that (4, 4, 64) outputs were flattened into vectors of shape (1024) before going through two Dense layers."
   ]
  },
  {
   "cell_type": "markdown",
   "metadata": {
    "id": "P3odqfHP4M67"
   },
   "source": [
    "### Compile and train the model\n",
    "\n"
   ]
  },
  {
   "cell_type": "code",
   "execution_count": null,
   "metadata": {
    "id": "MdDzI75PUXrG"
   },
   "outputs": [],
   "source": [
    "model.compile(\n",
    "    optimizer='adam',\n",
    "    loss=tf.keras.losses.SparseCategoricalCrossentropy(from_logits=True),\n",
    "    metrics=['accuracy']\n",
    ")\n",
    "\n",
    "history = model.fit(\n",
    "    train_images, train_labels, \n",
    "    epochs=10, \n",
    "    validation_data=(test_images, test_labels)\n",
    ")"
   ]
  },
  {
   "cell_type": "markdown",
   "metadata": {
    "id": "Rcy3FsupyxAi"
   },
   "source": [
    "### Plot the metrics"
   ]
  },
  {
   "cell_type": "code",
   "execution_count": null,
   "metadata": {
    "id": "gtyDF0MKUcM7"
   },
   "outputs": [],
   "source": [
    "fig, axes = plt.subplots(nrows=1, ncols=2, figsize=(16, 9))\n",
    "\n",
    "# plot loss\n",
    "axes[0].plot(history.history['loss'], 'x--', label='loss')\n",
    "axes[0].plot(history.history['val_loss'], 'x--', label='val_loss')\n",
    "axes[0].set_xlabel('Epoch')\n",
    "axes[0].set_ylabel('Loss')\n",
    "axes[0].legend(loc='lower right')\n",
    "axes[0].grid(True)\n",
    "\n",
    "# plot accuracy\n",
    "axes[1].plot(history.history['accuracy'], 'x--', label='accuracy')\n",
    "axes[1].plot(history.history['val_accuracy'], 'x--', label='val_accuracy')\n",
    "axes[1].set_xlabel('Epoch')\n",
    "axes[1].set_ylabel('Accuracy')\n",
    "axes[1].legend(loc='lower right')\n",
    "axes[1].grid(True)"
   ]
  },
  {
   "cell_type": "markdown",
   "metadata": {
    "id": "jKgyC5K_4O0d"
   },
   "source": [
    "### Evaluate your model"
   ]
  },
  {
   "cell_type": "code",
   "execution_count": null,
   "metadata": {
    "id": "-2o83oX20ADK"
   },
   "outputs": [],
   "source": [
    "test_loss, test_acc = model.evaluate(?,  ?, verbose=2)\n",
    "\n",
    "display(Markdown(f\"Your model achieved **{round(100 * test_acc, 2)} %** on the test set !\"))"
   ]
  },
  {
   "cell_type": "markdown",
   "metadata": {
    "id": "8cfJ8AR03gT5"
   },
   "source": [
    "Your simple CNN should has achieved a test accuracy of over 70%.\n",
    "Not bad for a few lines of code !"
   ]
  },
  {
   "cell_type": "markdown",
   "metadata": {
    "id": "xPNzVbuLr6vT"
   },
   "source": [
    "# Computing the representation of an image"
   ]
  },
  {
   "cell_type": "markdown",
   "metadata": {
    "id": "IK1Hbm-OsZ4c"
   },
   "source": [
    "Lets keep only the representation (just after the Flatten layer !)\n",
    "Discard the last two layers of the previous Model"
   ]
  },
  {
   "cell_type": "code",
   "execution_count": null,
   "metadata": {
    "id": "AO8diT5QsXBC"
   },
   "outputs": [],
   "source": [
    "input_layer = model.layers[0].input\n",
    "output_layer = model.layers[-2].output\n",
    "\n",
    "model_repr = models.Model(input_layer, output_layer)"
   ]
  },
  {
   "cell_type": "code",
   "execution_count": null,
   "metadata": {
    "id": "21h4e_hJtGun"
   },
   "outputs": [],
   "source": [
    "representation = model_repr.predict(test_images)\n",
    "\n",
    "print(\"shape of representation:\", representation.shape)\n",
    "\n",
    "# sparse\n",
    "print(\"proportion of zero valued axis: %0.3f\" % np.mean(representation[0]==0))"
   ]
  },
  {
   "cell_type": "code",
   "execution_count": null,
   "metadata": {
    "id": "uJ5AG2_asDOj"
   },
   "outputs": [],
   "source": []
  },
  {
   "cell_type": "markdown",
   "metadata": {
    "id": "4XKbjgpEsE3B"
   },
   "source": [
    "## Visual Search: finding similar images\n",
    "\n",
    "find the `top_n` similar representation's indexs "
   ]
  },
  {
   "cell_type": "code",
   "execution_count": null,
   "metadata": {
    "id": "h5zpy7XBsDV5"
   },
   "outputs": [],
   "source": [
    "def most_similar(tensor, idx, top_n=5):\n",
    "    dists = np.linalg.norm(tensor - tensor[idx], axis=1)\n",
    "    sorted_dists = np.argsort(dists)\n",
    "    return sorted_dists[:top_n]\n",
    "\n",
    "idx = 57 # choose an index (anchor)\n",
    "top_n = 5\n",
    "\n",
    "sim_indexs = most_similar(representation, idx, top_n=top_n)\n",
    "print(sim_indexs)"
   ]
  },
  {
   "cell_type": "code",
   "execution_count": null,
   "metadata": {
    "id": "E_QAxI4wwwSy"
   },
   "outputs": [],
   "source": [
    "# anchor\n",
    "image, label_index = test_images[idx], test_labels[idx][0]\n",
    "label_name = class_names[label_index]\n",
    "plt.imshow(image)\n",
    "plt.xlabel(label_name)\n",
    "\n",
    "\n",
    "# most similar images\n",
    "plt.figure()\n",
    "for i, sim_index in enumerate(sim_indexs):\n",
    "    image, label_index = test_images[sim_index], test_labels[sim_index][0]\n",
    "    label_name = class_names[label_index]\n",
    "\n",
    "    plt.subplot(1, top_n, i+1)\n",
    "    plt.xticks([])\n",
    "    plt.yticks([])\n",
    "    plt.grid(False)\n",
    "    plt.imshow(image)\n",
    "    plt.xlabel(label_name)\n",
    "\n",
    "plt.show()"
   ]
  },
  {
   "cell_type": "markdown",
   "metadata": {
    "id": "gWujH_U-x07s"
   },
   "source": [
    "# TSNE "
   ]
  },
  {
   "cell_type": "code",
   "execution_count": null,
   "metadata": {
    "id": "94H8fwD2x-GG"
   },
   "outputs": [],
   "source": [
    "from sklearn.manifold import TSNE\n",
    "import matplotlib.pyplot as plt\n",
    "\n",
    "\n",
    "tsne = TSNE(n_components=2, perplexity=30)\n",
    "img_emb_tsne = tsne.fit_transform(representation)\n",
    "\n",
    "plt.figure(figsize=(10, 10))\n",
    "plt.scatter(img_emb_tsne[:, 0], img_emb_tsne[:, 1]);\n",
    "plt.xticks(())\n",
    "plt.yticks(())\n",
    "plt.show()"
   ]
  },
  {
   "cell_type": "code",
   "execution_count": null,
   "metadata": {
    "id": "TOPM6OhrsDXN"
   },
   "outputs": [],
   "source": [
    "import torch\n",
    "import numpy as np\n",
    "\n",
    "from sklearn.manifold import TSNE\n",
    "from sklearn.decomposition import PCA\n",
    "\n",
    "%matplotlib inline\n",
    "import matplotlib.pyplot as plt\n",
    "\n",
    "def dimension_reduction_2D(X, method='tsne'):\n",
    "    ''' unsupervised linear dimensionality reduction and scale to [0, 1] '''\n",
    "\n",
    "    fitter = {\n",
    "        'tsne': TSNE(n_components=2).fit_transform,\n",
    "        'pca': PCA(n_components=2).fit_transform\n",
    "    }.get(method, None)\n",
    "    if fitter is None:\n",
    "       raise Exception('unkown dimensionality reduction technique')\n",
    "    \n",
    "    Xs = fitter(X)\n",
    "    Xmin, Xmax = np.amin(Xs), np.amax(Xs)\n",
    "    Xs = (Xs - Xmax) / (Xmax - Xmin)\n",
    "    #Xs[:, 0] = scale_0_1(Xs[:, 0]) # scale x to [0, 1]\n",
    "    #Xs[:, 1] = scale_0_1(Xs[:, 1]) # scale y to [0, 1]\n",
    "    return Xs\n",
    "\n",
    "def plot_tsne(X_list, label, n_classes, titles=None):\n",
    "    # color map\n",
    "    cmap_tsne = cm.get_cmap('hsv', n_classes) \n",
    "\n",
    "    n = len(X_list)\n",
    "    if n == 1:\n",
    "        fig, ax = plt.subplots(figsize=(5, 5))\n",
    "        x, y = X_list[0].T\n",
    "        ax.scatter(x, y, c=label, cmap=cmap_tsne, s=50, edgecolors='w')\n",
    "        ax.axis('off')\n",
    "    else:\n",
    "        fig, axs = plt.subplots(1, n, figsize=(5*n, 5))\n",
    "        for i, X_2D in enumerate(X_list):\n",
    "            x, y = X_2D.T\n",
    "\n",
    "            axs[i].scatter(x, y, c=label, cmap=cmap_tsne, s=50, edgecolors='w')\n",
    "            axs[i].axis('off')\n",
    "            if titles: axs[i].title.set_text(titles[i])\n",
    "\n",
    "            # set 1:1 ratio\n",
    "            (x_left, x_right), (y_bot, y_top) = axs[i].get_xlim(), axs[i].get_ylim()\n",
    "            ratio = abs((x_right-x_left) / (y_bot-y_top))\n",
    "            axs[i].set_aspect(ratio)\n",
    "\n",
    "    #ax.legend(loc='best')\n",
    "    plt.show()\n",
    "\n",
    "\n"
   ]
  }
 ],
 "metadata": {
  "accelerator": "GPU",
  "colab": {
   "collapsed_sections": [],
   "name": "part_2_conv.ipynb",
   "provenance": [],
   "toc_visible": true
  },
  "kernelspec": {
   "display_name": "Python 3",
   "name": "python3"
  }
 },
 "nbformat": 4,
 "nbformat_minor": 0
}
